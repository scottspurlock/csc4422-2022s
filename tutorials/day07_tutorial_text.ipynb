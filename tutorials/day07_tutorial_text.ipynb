{
  "nbformat": 4,
  "nbformat_minor": 0,
  "metadata": {
    "colab": {
      "name": "day07_tutorial_text.ipynb",
      "provenance": [],
      "authorship_tag": "ABX9TyNU3y/sNSPn/ex+r1/kG+o6",
      "include_colab_link": true
    },
    "kernelspec": {
      "name": "python3",
      "display_name": "Python 3"
    }
  },
  "cells": [
    {
      "cell_type": "markdown",
      "metadata": {
        "id": "view-in-github",
        "colab_type": "text"
      },
      "source": [
        "<a href=\"https://colab.research.google.com/github/scottspurlock/csc4422-2022s/blob/main/tutorials/day07_tutorial_text.ipynb\" target=\"_parent\"><img src=\"https://colab.research.google.com/assets/colab-badge.svg\" alt=\"Open In Colab\"/></a>"
      ]
    },
    {
      "cell_type": "markdown",
      "metadata": {
        "id": "JzWO9zd6akCv"
      },
      "source": [
        "# Day 7 Tutorial: Text Mining\n",
        "- Cosine distance\n",
        "- Preprocessing\n",
        "- Feature extraction (TF-IDF)\n",
        "- Finding similar documents\n"
      ]
    },
    {
      "cell_type": "code",
      "metadata": {
        "id": "X-QN9j3gbcsu"
      },
      "source": [
        "import numpy as np\n",
        "import matplotlib.pyplot as plt\n",
        "import pandas as pd\n",
        "\n",
        "import seaborn as sns\n",
        "from sklearn.model_selection import train_test_split\n",
        "from sklearn.neighbors import KNeighborsClassifier\n",
        "from sklearn.metrics import confusion_matrix\n"
      ],
      "execution_count": 1,
      "outputs": []
    },
    {
      "cell_type": "markdown",
      "metadata": {
        "id": "IOllp3fKJyy_"
      },
      "source": [
        "## Cosine Distance\n",
        "Euclidean or manhattan distance may not be as effective with sparse data (i.e., lots of zeros). Because text feature vectors are generally sparse (most documents contain only a small subset of the possible words), cosine distance is often used."
      ]
    },
    {
      "cell_type": "code",
      "metadata": {
        "colab": {
          "base_uri": "https://localhost:8080/"
        },
        "id": "H0Fn4X94a9oD",
        "outputId": "0a6a0e6f-0d27-4b91-ee8c-577ff5a14ccf"
      },
      "source": [
        "doc1 = np.array([1, 1, 0, 0, 0, 0, 0])\n",
        "doc2 = np.array([1, 0, 0, 0, 0, 0, 0])\n",
        "doc3 = np.array([0, 0, 1, 1, 1, 1, 1])\n",
        "print(doc1)\n",
        "print(doc2)\n",
        "print(doc3)"
      ],
      "execution_count": 2,
      "outputs": [
        {
          "output_type": "stream",
          "name": "stdout",
          "text": [
            "[1 1 0 0 0 0 0]\n",
            "[1 0 0 0 0 0 0]\n",
            "[0 0 1 1 1 1 1]\n"
          ]
        }
      ]
    },
    {
      "cell_type": "code",
      "metadata": {
        "colab": {
          "base_uri": "https://localhost:8080/"
        },
        "id": "cdP9M6PeIxZX",
        "outputId": "13a43f8d-e872-43a1-f109-6dad5c9c945e"
      },
      "source": [
        "from scipy.spatial import distance\n",
        "\n",
        "print('Cosine Distance:')\n",
        "print(distance.cosine(doc1, doc1))\n",
        "print(distance.cosine(doc1, doc2))\n",
        "print(distance.cosine(doc1, doc3))\n"
      ],
      "execution_count": 3,
      "outputs": [
        {
          "output_type": "stream",
          "name": "stdout",
          "text": [
            "Cosine Distance:\n",
            "0.0\n",
            "0.2928932188134524\n",
            "1.0\n"
          ]
        }
      ]
    },
    {
      "cell_type": "markdown",
      "metadata": {
        "id": "ICwk0o6SeDZm"
      },
      "source": [
        "## Data"
      ]
    },
    {
      "cell_type": "code",
      "metadata": {
        "colab": {
          "base_uri": "https://localhost:8080/",
          "height": 143
        },
        "id": "iI8qDKY6rwHC",
        "outputId": "b211fe0e-5329-4b26-f549-add7ae921412"
      },
      "source": [
        "# Create a corpus (collection of documents) with some simple text data.\n",
        "data = [\n",
        "        [\"Mr. Green killed Colonel Mustard in the study with the candlestick. Mr. Green is not a very nice fellow.\"], \n",
        "        [\"Professor Plum has a green plant in his study.\"], \n",
        "        [\"Miss Scarlett watered Professor Plum's green plant while he was away from his office last week.\"]\n",
        "       ] \n",
        "  \n",
        "df = pd.DataFrame(data, columns=['doc_text'])\n",
        "\n",
        "# Force Pandas to show the full column of text\n",
        "pd.set_option('display.max_colwidth', None)\n",
        "\n",
        "df"
      ],
      "execution_count": 4,
      "outputs": [
        {
          "output_type": "execute_result",
          "data": {
            "text/plain": [
              "                                                                                                   doc_text\n",
              "0  Mr. Green killed Colonel Mustard in the study with the candlestick. Mr. Green is not a very nice fellow.\n",
              "1                                                            Professor Plum has a green plant in his study.\n",
              "2           Miss Scarlett watered Professor Plum's green plant while he was away from his office last week."
            ],
            "text/html": [
              "\n",
              "  <div id=\"df-28c46892-3664-4f23-8c4d-4e7cffe2fb73\">\n",
              "    <div class=\"colab-df-container\">\n",
              "      <div>\n",
              "<style scoped>\n",
              "    .dataframe tbody tr th:only-of-type {\n",
              "        vertical-align: middle;\n",
              "    }\n",
              "\n",
              "    .dataframe tbody tr th {\n",
              "        vertical-align: top;\n",
              "    }\n",
              "\n",
              "    .dataframe thead th {\n",
              "        text-align: right;\n",
              "    }\n",
              "</style>\n",
              "<table border=\"1\" class=\"dataframe\">\n",
              "  <thead>\n",
              "    <tr style=\"text-align: right;\">\n",
              "      <th></th>\n",
              "      <th>doc_text</th>\n",
              "    </tr>\n",
              "  </thead>\n",
              "  <tbody>\n",
              "    <tr>\n",
              "      <th>0</th>\n",
              "      <td>Mr. Green killed Colonel Mustard in the study with the candlestick. Mr. Green is not a very nice fellow.</td>\n",
              "    </tr>\n",
              "    <tr>\n",
              "      <th>1</th>\n",
              "      <td>Professor Plum has a green plant in his study.</td>\n",
              "    </tr>\n",
              "    <tr>\n",
              "      <th>2</th>\n",
              "      <td>Miss Scarlett watered Professor Plum's green plant while he was away from his office last week.</td>\n",
              "    </tr>\n",
              "  </tbody>\n",
              "</table>\n",
              "</div>\n",
              "      <button class=\"colab-df-convert\" onclick=\"convertToInteractive('df-28c46892-3664-4f23-8c4d-4e7cffe2fb73')\"\n",
              "              title=\"Convert this dataframe to an interactive table.\"\n",
              "              style=\"display:none;\">\n",
              "        \n",
              "  <svg xmlns=\"http://www.w3.org/2000/svg\" height=\"24px\"viewBox=\"0 0 24 24\"\n",
              "       width=\"24px\">\n",
              "    <path d=\"M0 0h24v24H0V0z\" fill=\"none\"/>\n",
              "    <path d=\"M18.56 5.44l.94 2.06.94-2.06 2.06-.94-2.06-.94-.94-2.06-.94 2.06-2.06.94zm-11 1L8.5 8.5l.94-2.06 2.06-.94-2.06-.94L8.5 2.5l-.94 2.06-2.06.94zm10 10l.94 2.06.94-2.06 2.06-.94-2.06-.94-.94-2.06-.94 2.06-2.06.94z\"/><path d=\"M17.41 7.96l-1.37-1.37c-.4-.4-.92-.59-1.43-.59-.52 0-1.04.2-1.43.59L10.3 9.45l-7.72 7.72c-.78.78-.78 2.05 0 2.83L4 21.41c.39.39.9.59 1.41.59.51 0 1.02-.2 1.41-.59l7.78-7.78 2.81-2.81c.8-.78.8-2.07 0-2.86zM5.41 20L4 18.59l7.72-7.72 1.47 1.35L5.41 20z\"/>\n",
              "  </svg>\n",
              "      </button>\n",
              "      \n",
              "  <style>\n",
              "    .colab-df-container {\n",
              "      display:flex;\n",
              "      flex-wrap:wrap;\n",
              "      gap: 12px;\n",
              "    }\n",
              "\n",
              "    .colab-df-convert {\n",
              "      background-color: #E8F0FE;\n",
              "      border: none;\n",
              "      border-radius: 50%;\n",
              "      cursor: pointer;\n",
              "      display: none;\n",
              "      fill: #1967D2;\n",
              "      height: 32px;\n",
              "      padding: 0 0 0 0;\n",
              "      width: 32px;\n",
              "    }\n",
              "\n",
              "    .colab-df-convert:hover {\n",
              "      background-color: #E2EBFA;\n",
              "      box-shadow: 0px 1px 2px rgba(60, 64, 67, 0.3), 0px 1px 3px 1px rgba(60, 64, 67, 0.15);\n",
              "      fill: #174EA6;\n",
              "    }\n",
              "\n",
              "    [theme=dark] .colab-df-convert {\n",
              "      background-color: #3B4455;\n",
              "      fill: #D2E3FC;\n",
              "    }\n",
              "\n",
              "    [theme=dark] .colab-df-convert:hover {\n",
              "      background-color: #434B5C;\n",
              "      box-shadow: 0px 1px 3px 1px rgba(0, 0, 0, 0.15);\n",
              "      filter: drop-shadow(0px 1px 2px rgba(0, 0, 0, 0.3));\n",
              "      fill: #FFFFFF;\n",
              "    }\n",
              "  </style>\n",
              "\n",
              "      <script>\n",
              "        const buttonEl =\n",
              "          document.querySelector('#df-28c46892-3664-4f23-8c4d-4e7cffe2fb73 button.colab-df-convert');\n",
              "        buttonEl.style.display =\n",
              "          google.colab.kernel.accessAllowed ? 'block' : 'none';\n",
              "\n",
              "        async function convertToInteractive(key) {\n",
              "          const element = document.querySelector('#df-28c46892-3664-4f23-8c4d-4e7cffe2fb73');\n",
              "          const dataTable =\n",
              "            await google.colab.kernel.invokeFunction('convertToInteractive',\n",
              "                                                     [key], {});\n",
              "          if (!dataTable) return;\n",
              "\n",
              "          const docLinkHtml = 'Like what you see? Visit the ' +\n",
              "            '<a target=\"_blank\" href=https://colab.research.google.com/notebooks/data_table.ipynb>data table notebook</a>'\n",
              "            + ' to learn more about interactive tables.';\n",
              "          element.innerHTML = '';\n",
              "          dataTable['output_type'] = 'display_data';\n",
              "          await google.colab.output.renderOutput(dataTable, element);\n",
              "          const docLink = document.createElement('div');\n",
              "          docLink.innerHTML = docLinkHtml;\n",
              "          element.appendChild(docLink);\n",
              "        }\n",
              "      </script>\n",
              "    </div>\n",
              "  </div>\n",
              "  "
            ]
          },
          "metadata": {},
          "execution_count": 4
        }
      ]
    },
    {
      "cell_type": "markdown",
      "metadata": {
        "id": "Gz8_IrEILwPx"
      },
      "source": [
        "## Pre-processing and feature extraction"
      ]
    },
    {
      "cell_type": "markdown",
      "metadata": {
        "id": "EfOyCwUfNgPZ"
      },
      "source": [
        "### Extract terms and count occurrences"
      ]
    },
    {
      "cell_type": "code",
      "metadata": {
        "colab": {
          "base_uri": "https://localhost:8080/"
        },
        "id": "KjZ2SJb7MquH",
        "outputId": "172b65a7-a370-4c7d-b617-dc93838b10c3"
      },
      "source": [
        "from sklearn.feature_extraction.text import CountVectorizer\n",
        "\n",
        "# Specify stop words that should be ignored.\n",
        "stop_list = ['a', 'an', 'the']\n",
        "\n",
        "# The next 2 lines accomplish several steps:\n",
        "# - makes everything lowercase (optional)\n",
        "# - removes stop words\n",
        "# - removes punctuation\n",
        "# - tokenization\n",
        "# Note that there is no easy way to do stemming without another library, nltk.\n",
        "count_vect = CountVectorizer(lowercase=True, stop_words=stop_list)\n",
        "sparse_counts = count_vect.fit_transform(df['doc_text'])\n",
        "\n",
        "count_vect.get_feature_names_out()"
      ],
      "execution_count": 5,
      "outputs": [
        {
          "output_type": "execute_result",
          "data": {
            "text/plain": [
              "array(['away', 'candlestick', 'colonel', 'fellow', 'from', 'green', 'has',\n",
              "       'he', 'his', 'in', 'is', 'killed', 'last', 'miss', 'mr', 'mustard',\n",
              "       'nice', 'not', 'office', 'plant', 'plum', 'professor', 'scarlett',\n",
              "       'study', 'very', 'was', 'watered', 'week', 'while', 'with'],\n",
              "      dtype=object)"
            ]
          },
          "metadata": {},
          "execution_count": 5
        }
      ]
    },
    {
      "cell_type": "code",
      "metadata": {
        "colab": {
          "base_uri": "https://localhost:8080/"
        },
        "id": "qRHccH4SPayE",
        "outputId": "52e32d4b-5c5b-4aab-8ed4-1732e95d0d71"
      },
      "source": [
        "sparse_counts"
      ],
      "execution_count": 6,
      "outputs": [
        {
          "output_type": "execute_result",
          "data": {
            "text/plain": [
              "<3x30 sparse matrix of type '<class 'numpy.int64'>'\n",
              "\twith 38 stored elements in Compressed Sparse Row format>"
            ]
          },
          "metadata": {},
          "execution_count": 6
        }
      ]
    },
    {
      "cell_type": "markdown",
      "metadata": {
        "id": "yR8O5x8_O62M"
      },
      "source": [
        "The CountVectorizer returns a sparse matrix, a specialized data structure that is more efficient than a regular matrix for sparse data. We can convert it for ease of use."
      ]
    },
    {
      "cell_type": "code",
      "metadata": {
        "colab": {
          "base_uri": "https://localhost:8080/"
        },
        "id": "nSmJEjmGO1lt",
        "outputId": "fc0f00ac-8313-40ad-aa0c-d20eb5832652"
      },
      "source": [
        "counts = np.asarray(sparse_counts.todense())\n",
        "counts"
      ],
      "execution_count": 7,
      "outputs": [
        {
          "output_type": "execute_result",
          "data": {
            "text/plain": [
              "array([[0, 1, 1, 1, 0, 2, 0, 0, 0, 1, 1, 1, 0, 0, 2, 1, 1, 1, 0, 0, 0, 0,\n",
              "        0, 1, 1, 0, 0, 0, 0, 1],\n",
              "       [0, 0, 0, 0, 0, 1, 1, 0, 1, 1, 0, 0, 0, 0, 0, 0, 0, 0, 0, 1, 1, 1,\n",
              "        0, 1, 0, 0, 0, 0, 0, 0],\n",
              "       [1, 0, 0, 0, 1, 1, 0, 1, 1, 0, 0, 0, 1, 1, 0, 0, 0, 0, 1, 1, 1, 1,\n",
              "        1, 0, 0, 1, 1, 1, 1, 0]])"
            ]
          },
          "metadata": {},
          "execution_count": 7
        }
      ]
    },
    {
      "cell_type": "code",
      "metadata": {
        "colab": {
          "base_uri": "https://localhost:8080/"
        },
        "id": "LPq9omg7Pkjc",
        "outputId": "4a25de78-5e8a-4121-fec5-a72889d8ee73"
      },
      "source": [
        "feat_idx = 5\n",
        "feat_name = count_vect.get_feature_names_out()[feat_idx]\n",
        "print('Counts for feature:', feat_name)\n",
        "\n",
        "counts[:, feat_idx]"
      ],
      "execution_count": 8,
      "outputs": [
        {
          "output_type": "stream",
          "name": "stdout",
          "text": [
            "Counts for feature: green\n"
          ]
        },
        {
          "output_type": "execute_result",
          "data": {
            "text/plain": [
              "array([2, 1, 1])"
            ]
          },
          "metadata": {},
          "execution_count": 8
        }
      ]
    },
    {
      "cell_type": "markdown",
      "source": [
        "## Finding the most common terms\n",
        "To find the most common terms, we need to sort the counts descending. The trick is that we need to sort the actual terms according to the counts. One way to do this is to make a dataframe with a column for terms and another for counts, and then sort that."
      ],
      "metadata": {
        "id": "5AyqfnwOUfGG"
      }
    },
    {
      "cell_type": "code",
      "source": [
        "terms = count_vect.get_feature_names_out()\n",
        "total_counts = counts.sum(axis=0)\n",
        "\n",
        "df_counts = pd.DataFrame()\n",
        "df_counts['term'] = terms\n",
        "df_counts['count'] = total_counts\n",
        "df_counts = df_counts.sort_values(by='count', ascending=False)\n",
        "\n",
        "# Just keep the top 10\n",
        "df_counts = df_counts.iloc[:10]\n",
        "\n",
        "df_counts.plot(y='count', x='term', kind='barh', legend=None, figsize=(10, 5))\n",
        "plt.xlabel('Count')\n",
        "plt.ylabel('Term')\n",
        "plt.title('Most frequently used terms')\n",
        "plt.show()\n"
      ],
      "metadata": {
        "colab": {
          "base_uri": "https://localhost:8080/",
          "height": 350
        },
        "id": "B2ikoX_gUtna",
        "outputId": "9b2f357f-4133-4304-e2a6-e4713fdede1e"
      },
      "execution_count": 9,
      "outputs": [
        {
          "output_type": "display_data",
          "data": {
            "text/plain": [
              "<Figure size 720x360 with 1 Axes>"
            ],
            "image/png": "[encoded data removed]"
          },
          "metadata": {
            "needs_background": "light"
          }
        }
      ]
    },
    {
      "cell_type": "markdown",
      "metadata": {
        "id": "AzvEjKphQwyB"
      },
      "source": [
        "### TF-IDF Scores\n",
        "We generally get better results using TF-IDF scores than using simple counts as features."
      ]
    },
    {
      "cell_type": "code",
      "metadata": {
        "colab": {
          "base_uri": "https://localhost:8080/"
        },
        "id": "d-MZrd5wQVHt",
        "outputId": "15fb8d1c-6be2-4f5c-bee9-448a15219120"
      },
      "source": [
        "from sklearn.feature_extraction.text import TfidfTransformer\n",
        "\n",
        "tfidf_transformer = TfidfTransformer()\n",
        "sparse_tfidf = tfidf_transformer.fit_transform(counts)\n",
        "tfidf = np.asarray(sparse_tfidf.todense())\n",
        "tfidf"
      ],
      "execution_count": 10,
      "outputs": [
        {
          "output_type": "execute_result",
          "data": {
            "text/plain": [
              "array([[0.        , 0.24579517, 0.24579517, 0.24579517, 0.        ,\n",
              "        0.29034117, 0.        , 0.        , 0.        , 0.18693356,\n",
              "        0.24579517, 0.24579517, 0.        , 0.        , 0.49159033,\n",
              "        0.24579517, 0.24579517, 0.24579517, 0.        , 0.        ,\n",
              "        0.        , 0.        , 0.        , 0.18693356, 0.24579517,\n",
              "        0.        , 0.        , 0.        , 0.        , 0.24579517],\n",
              "       [0.        , 0.        , 0.        , 0.        , 0.        ,\n",
              "        0.26903992, 0.45552418, 0.        , 0.34643788, 0.34643788,\n",
              "        0.        , 0.        , 0.        , 0.        , 0.        ,\n",
              "        0.        , 0.        , 0.        , 0.        , 0.34643788,\n",
              "        0.34643788, 0.34643788, 0.        , 0.34643788, 0.        ,\n",
              "        0.        , 0.        , 0.        , 0.        , 0.        ],\n",
              "       [0.27054288, 0.        , 0.        , 0.        , 0.27054288,\n",
              "        0.15978698, 0.        , 0.27054288, 0.20575483, 0.        ,\n",
              "        0.        , 0.        , 0.27054288, 0.27054288, 0.        ,\n",
              "        0.        , 0.        , 0.        , 0.27054288, 0.20575483,\n",
              "        0.20575483, 0.20575483, 0.27054288, 0.        , 0.        ,\n",
              "        0.27054288, 0.27054288, 0.27054288, 0.27054288, 0.        ]])"
            ]
          },
          "metadata": {},
          "execution_count": 10
        }
      ]
    },
    {
      "cell_type": "code",
      "metadata": {
        "colab": {
          "base_uri": "https://localhost:8080/"
        },
        "id": "Izl2RM6sRaTJ",
        "outputId": "110022b5-e6f5-492c-d0c9-d6427f434088"
      },
      "source": [
        "feat_idx = 5\n",
        "feat_name = count_vect.get_feature_names_out()[feat_idx]\n",
        "print('TFIDF for feature:', feat_name)\n",
        "\n",
        "tfidf[:, feat_idx]"
      ],
      "execution_count": 11,
      "outputs": [
        {
          "output_type": "stream",
          "name": "stdout",
          "text": [
            "TFIDF for feature: green\n"
          ]
        },
        {
          "output_type": "execute_result",
          "data": {
            "text/plain": [
              "array([0.29034117, 0.26903992, 0.15978698])"
            ]
          },
          "metadata": {},
          "execution_count": 11
        }
      ]
    },
    {
      "cell_type": "markdown",
      "metadata": {
        "id": "QFpjdNA0SnI7"
      },
      "source": [
        "We can display the TF-IDF feature vectors as a heatmap to get a feel for patterns in the data."
      ]
    },
    {
      "cell_type": "code",
      "metadata": {
        "colab": {
          "base_uri": "https://localhost:8080/",
          "height": 179
        },
        "id": "utKmoQYyRymo",
        "outputId": "d96038bc-0d7c-4d22-e317-f977be636c60"
      },
      "source": [
        "# Display feature vectors as a heatmap\n",
        "plt.figure(figsize=(10, 1))\n",
        "sns.heatmap(tfidf, square=False, annot=False, cbar=True, cmap=\"Purples\",\n",
        "            xticklabels=count_vect.get_feature_names_out())\n",
        "\n",
        "plt.xticks(rotation=90) \n",
        "plt.xlabel('Features')\n",
        "plt.ylabel('Examples')\n",
        "plt.title('TF-IDF Feature Vectors')\n",
        "plt.show()"
      ],
      "execution_count": 12,
      "outputs": [
        {
          "output_type": "display_data",
          "data": {
            "text/plain": [
              "<Figure size 720x72 with 2 Axes>"
            ],
            "image/png": "[encoded data removed]"
          },
          "metadata": {
            "needs_background": "light"
          }
        }
      ]
    },
    {
      "cell_type": "markdown",
      "metadata": {
        "id": "5mjRpf5WUOeJ"
      },
      "source": [
        "## Finding similar documents\n",
        "We can build a nearest neighbors model (NOT a classifier) to find similar documents among the training examples for a given new example."
      ]
    },
    {
      "cell_type": "code",
      "metadata": {
        "colab": {
          "base_uri": "https://localhost:8080/"
        },
        "id": "vCyHoJJ7UtwK",
        "outputId": "03088112-7572-4d7b-8ed3-649f3fd01f67"
      },
      "source": [
        "# Let's make up a new example. (Note that wrapping the string in square brackets\n",
        "# makes it a Python list of size 1.)\n",
        "new_example = [\"Miss Scarlett and Colonel Mustard have a son named Mr. Orange. He likes to study in the study.\"]\n",
        "new_example"
      ],
      "execution_count": 13,
      "outputs": [
        {
          "output_type": "execute_result",
          "data": {
            "text/plain": [
              "['Miss Scarlett and Colonel Mustard have a son named Mr. Orange. He likes to study in the study.']"
            ]
          },
          "metadata": {},
          "execution_count": 13
        }
      ]
    },
    {
      "cell_type": "code",
      "metadata": {
        "colab": {
          "base_uri": "https://localhost:8080/"
        },
        "id": "2RczxLILVhAu",
        "outputId": "039d3633-1ef8-4319-dda0-9668354fbffc"
      },
      "source": [
        "# We use our same transformers that have been fit to the data.\n",
        "# This is important because the tfidf scores in a feature vector need to refer\n",
        "# to the same terms in order to compare two vectors (documents).\n",
        "new_counts = count_vect.transform(new_example)\n",
        "print('New feature counts:\\n', new_counts.todense())\n",
        "new_tfidf = tfidf_transformer.transform(new_counts)\n",
        "new_tfidf = np.asarray(new_tfidf.todense())\n",
        "print('\\nNew TF-IDF scores:')\n",
        "new_tfidf"
      ],
      "execution_count": 14,
      "outputs": [
        {
          "output_type": "stream",
          "name": "stdout",
          "text": [
            "New feature counts:\n",
            " [[0 0 1 0 0 0 0 1 0 1 0 0 0 1 1 1 0 0 0 0 0 0 1 2 0 0 0 0 0 0]]\n",
            "\n",
            "New TF-IDF scores:\n"
          ]
        },
        {
          "output_type": "execute_result",
          "data": {
            "text/plain": [
              "array([[0.        , 0.        , 0.33535157, 0.        , 0.        ,\n",
              "        0.        , 0.        , 0.33535157, 0.        , 0.25504351,\n",
              "        0.        , 0.        , 0.        , 0.33535157, 0.33535157,\n",
              "        0.33535157, 0.        , 0.        , 0.        , 0.        ,\n",
              "        0.        , 0.        , 0.33535157, 0.51008702, 0.        ,\n",
              "        0.        , 0.        , 0.        , 0.        , 0.        ]])"
            ]
          },
          "metadata": {},
          "execution_count": 14
        }
      ]
    },
    {
      "cell_type": "code",
      "metadata": {
        "colab": {
          "base_uri": "https://localhost:8080/"
        },
        "id": "c7GWHudQWjvV",
        "outputId": "f0bdc6cd-94d9-4546-cd63-34c56ad54e7a"
      },
      "source": [
        "# Find the highest valued feature\n",
        "idx = np.argmax(new_tfidf)\n",
        "feat = count_vect.get_feature_names_out()[idx]\n",
        "print('Highest valued feature: {}, TF-IDF score: {:.2f}'.format(feat, new_tfidf[0, idx]))"
      ],
      "execution_count": 15,
      "outputs": [
        {
          "output_type": "stream",
          "name": "stdout",
          "text": [
            "Highest valued feature: study, TF-IDF score: 0.51\n"
          ]
        }
      ]
    },
    {
      "cell_type": "code",
      "metadata": {
        "colab": {
          "base_uri": "https://localhost:8080/"
        },
        "id": "M9tT7xS_TuS1",
        "outputId": "47e29f86-ba16-4edd-dc45-126a47f2eff3"
      },
      "source": [
        "# Build model to return nearest neighbors\n",
        "# (Not a classifier)\n",
        "from sklearn.neighbors import NearestNeighbors\n",
        "\n",
        "# Create the KNN model\n",
        "# Since we want to compare sparse feature vectors, we use cosine distance.\n",
        "knn = NearestNeighbors(n_neighbors=3, algorithm='brute', metric='cosine')\n",
        "\n",
        "# Fit the model to the TF-IDF feature vectors\n",
        "model = knn.fit(tfidf)\n",
        "model"
      ],
      "execution_count": 16,
      "outputs": [
        {
          "output_type": "execute_result",
          "data": {
            "text/plain": [
              "NearestNeighbors(algorithm='brute', metric='cosine', n_neighbors=3)"
            ]
          },
          "metadata": {},
          "execution_count": 16
        }
      ]
    },
    {
      "cell_type": "code",
      "metadata": {
        "colab": {
          "base_uri": "https://localhost:8080/"
        },
        "id": "lJnm3RKRXwQx",
        "outputId": "41c37fbf-d29f-4e16-80af-906c00de92df"
      },
      "source": [
        "distance, neighbor_idx = model.kneighbors(new_tfidf)\n",
        "\n",
        "print('Distances to neighbors:\\n', distance)\n",
        "\n",
        "print('\\nNeighbor index:')\n",
        "neighbor_idx"
      ],
      "execution_count": 17,
      "outputs": [
        {
          "output_type": "stream",
          "name": "stdout",
          "text": [
            "Distances to neighbors:\n",
            " [[0.52726025 0.72781907 0.7349298 ]]\n",
            "\n",
            "Neighbor index:\n"
          ]
        },
        {
          "output_type": "execute_result",
          "data": {
            "text/plain": [
              "array([[0, 2, 1]])"
            ]
          },
          "metadata": {},
          "execution_count": 17
        }
      ]
    },
    {
      "cell_type": "code",
      "metadata": {
        "colab": {
          "base_uri": "https://localhost:8080/"
        },
        "id": "sZybBFE1YnT8",
        "outputId": "1e7b9072-8d8b-4061-ce13-2b6a04ab4e46"
      },
      "source": [
        "# Notice that the distances are a list of lists (two sets of square brackets).\n",
        "# We can iterate through the neighbors like this (using [0] to get rid of the \n",
        "# outer set of brackets):\n",
        "print(f'Showing documents in order of similarity to \\n{new_example}:\\n')\n",
        "for i in neighbor_idx[0]:\n",
        "  print(i, df['doc_text'].iloc[i])"
      ],
      "execution_count": 18,
      "outputs": [
        {
          "output_type": "stream",
          "name": "stdout",
          "text": [
            "Showing documents in order of similarity to \n",
            "['Miss Scarlett and Colonel Mustard have a son named Mr. Orange. He likes to study in the study.']:\n",
            "\n",
            "0 Mr. Green killed Colonel Mustard in the study with the candlestick. Mr. Green is not a very nice fellow.\n",
            "2 Miss Scarlett watered Professor Plum's green plant while he was away from his office last week.\n",
            "1 Professor Plum has a green plant in his study.\n"
          ]
        }
      ]
    },
    {
      "cell_type": "code",
      "metadata": {
        "id": "EHW87kUwY18Z"
      },
      "source": [
        ""
      ],
      "execution_count": 18,
      "outputs": []
    }
  ]
}