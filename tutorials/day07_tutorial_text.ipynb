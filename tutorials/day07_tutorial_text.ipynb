{
  "nbformat": 4,
  "nbformat_minor": 0,
  "metadata": {
    "colab": {
      "name": "day07_tutorial_text.ipynb",
      "provenance": [],
      "authorship_tag": "ABX9TyN+XXBB3BVRKiaWBtayVhyN",
      "include_colab_link": true
    },
    "kernelspec": {
      "name": "python3",
      "display_name": "Python 3"
    }
  },
  "cells": [
    {
      "cell_type": "markdown",
      "metadata": {
        "id": "view-in-github",
        "colab_type": "text"
      },
      "source": [
        "<a href=\"https://colab.research.google.com/github/scottspurlock/csc4422-2022s/blob/main/tutorials/day07_tutorial_text.ipynb\" target=\"_parent\"><img src=\"https://colab.research.google.com/assets/colab-badge.svg\" alt=\"Open In Colab\"/></a>"
      ]
    },
    {
      "cell_type": "markdown",
      "metadata": {
        "id": "JzWO9zd6akCv"
      },
      "source": [
        "# Day 7 Tutorial: Text Mining\n",
        "- Cosine distance\n",
        "- Preprocessing\n",
        "- Feature extraction (TF-IDF)\n",
        "- Finding similar documents\n"
      ]
    },
    {
      "cell_type": "code",
      "metadata": {
        "id": "X-QN9j3gbcsu"
      },
      "source": [
        "import numpy as np\n",
        "import matplotlib.pyplot as plt\n",
        "import pandas as pd\n",
        "\n",
        "import seaborn as sns\n",
        "from sklearn.model_selection import train_test_split\n",
        "from sklearn.neighbors import KNeighborsClassifier\n",
        "from sklearn.metrics import confusion_matrix\n"
      ],
      "execution_count": 1,
      "outputs": []
    },
    {
      "cell_type": "markdown",
      "metadata": {
        "id": "IOllp3fKJyy_"
      },
      "source": [
        "## Cosine Distance\n",
        "Euclidean or manhattan distance may not be as effective with sparse data (i.e., lots of zeros). Because text feature vectors are generally sparse (most documents contain only a small subset of the possible words), cosine distance is often used."
      ]
    },
    {
      "cell_type": "code",
      "metadata": {
        "colab": {
          "base_uri": "https://localhost:8080/"
        },
        "id": "H0Fn4X94a9oD",
        "outputId": "a94a6648-65c0-4fb6-b581-d51dd759555d"
      },
      "source": [
        "doc1 = np.array([1, 1, 0, 0, 0, 0, 0])\n",
        "doc2 = np.array([1, 0, 0, 0, 0, 0, 0])\n",
        "doc3 = np.array([0, 0, 1, 1, 1, 1, 1])\n",
        "print(doc1)\n",
        "print(doc2)\n",
        "print(doc3)"
      ],
      "execution_count": 2,
      "outputs": [
        {
          "output_type": "stream",
          "name": "stdout",
          "text": [
            "[1 1 0 0 0 0 0]\n",
            "[1 0 0 0 0 0 0]\n",
            "[0 0 1 1 1 1 1]\n"
          ]
        }
      ]
    },
    {
      "cell_type": "code",
      "metadata": {
        "colab": {
          "base_uri": "https://localhost:8080/"
        },
        "id": "cdP9M6PeIxZX",
        "outputId": "5385c08d-5f4c-40d4-fb73-9fe8c403c0de"
      },
      "source": [
        "from scipy.spatial import distance\n",
        "\n",
        "print('Cosine Distance:')\n",
        "print(distance.cosine(doc1, doc1))\n",
        "print(distance.cosine(doc1, doc2))\n",
        "print(distance.cosine(doc1, doc3))\n"
      ],
      "execution_count": 3,
      "outputs": [
        {
          "output_type": "stream",
          "name": "stdout",
          "text": [
            "Cosine Distance:\n",
            "0.0\n",
            "0.2928932188134524\n",
            "1.0\n"
          ]
        }
      ]
    },
    {
      "cell_type": "markdown",
      "metadata": {
        "id": "ICwk0o6SeDZm"
      },
      "source": [
        "## Data"
      ]
    },
    {
      "cell_type": "code",
      "metadata": {
        "colab": {
          "base_uri": "https://localhost:8080/",
          "height": 143
        },
        "id": "iI8qDKY6rwHC",
        "outputId": "39533a68-7fe2-473a-e732-03c5f81e0f24"
      },
      "source": [
        "# Create a corpus (collection of documents) with some simple text data.\n",
        "data = [\n",
        "        [\"Mr. Green killed Colonel Mustard in the study with the candlestick. Mr. Green is not a very nice fellow.\"], \n",
        "        [\"Professor Plum has a green plant in his study.\"], \n",
        "        [\"Miss Scarlett watered Professor Plum's green plant while he was away from his office last week.\"]\n",
        "       ] \n",
        "  \n",
        "df = pd.DataFrame(data, columns=['doc_text'])\n",
        "\n",
        "# Force Pandas to show the full column of text\n",
        "pd.set_option('display.max_colwidth', None)\n",
        "\n",
        "df"
      ],
      "execution_count": 4,
      "outputs": [
        {
          "output_type": "execute_result",
          "data": {
            "text/html": [
              "\n",
              "  <div id=\"df-c7ab7ef2-f2f6-4e43-a653-da2fde1ee795\">\n",
              "    <div class=\"colab-df-container\">\n",
              "      <div>\n",
              "<style scoped>\n",
              "    .dataframe tbody tr th:only-of-type {\n",
              "        vertical-align: middle;\n",
              "    }\n",
              "\n",
              "    .dataframe tbody tr th {\n",
              "        vertical-align: top;\n",
              "    }\n",
              "\n",
              "    .dataframe thead th {\n",
              "        text-align: right;\n",
              "    }\n",
              "</style>\n",
              "<table border=\"1\" class=\"dataframe\">\n",
              "  <thead>\n",
              "    <tr style=\"text-align: right;\">\n",
              "      <th></th>\n",
              "      <th>doc_text</th>\n",
              "    </tr>\n",
              "  </thead>\n",
              "  <tbody>\n",
              "    <tr>\n",
              "      <th>0</th>\n",
              "      <td>Mr. Green killed Colonel Mustard in the study with the candlestick. Mr. Green is not a very nice fellow.</td>\n",
              "    </tr>\n",
              "    <tr>\n",
              "      <th>1</th>\n",
              "      <td>Professor Plum has a green plant in his study.</td>\n",
              "    </tr>\n",
              "    <tr>\n",
              "      <th>2</th>\n",
              "      <td>Miss Scarlett watered Professor Plum's green plant while he was away from his office last week.</td>\n",
              "    </tr>\n",
              "  </tbody>\n",
              "</table>\n",
              "</div>\n",
              "      <button class=\"colab-df-convert\" onclick=\"convertToInteractive('df-c7ab7ef2-f2f6-4e43-a653-da2fde1ee795')\"\n",
              "              title=\"Convert this dataframe to an interactive table.\"\n",
              "              style=\"display:none;\">\n",
              "        \n",
              "  <svg xmlns=\"http://www.w3.org/2000/svg\" height=\"24px\"viewBox=\"0 0 24 24\"\n",
              "       width=\"24px\">\n",
              "    <path d=\"M0 0h24v24H0V0z\" fill=\"none\"/>\n",
              "    <path d=\"M18.56 5.44l.94 2.06.94-2.06 2.06-.94-2.06-.94-.94-2.06-.94 2.06-2.06.94zm-11 1L8.5 8.5l.94-2.06 2.06-.94-2.06-.94L8.5 2.5l-.94 2.06-2.06.94zm10 10l.94 2.06.94-2.06 2.06-.94-2.06-.94-.94-2.06-.94 2.06-2.06.94z\"/><path d=\"M17.41 7.96l-1.37-1.37c-.4-.4-.92-.59-1.43-.59-.52 0-1.04.2-1.43.59L10.3 9.45l-7.72 7.72c-.78.78-.78 2.05 0 2.83L4 21.41c.39.39.9.59 1.41.59.51 0 1.02-.2 1.41-.59l7.78-7.78 2.81-2.81c.8-.78.8-2.07 0-2.86zM5.41 20L4 18.59l7.72-7.72 1.47 1.35L5.41 20z\"/>\n",
              "  </svg>\n",
              "      </button>\n",
              "      \n",
              "  <style>\n",
              "    .colab-df-container {\n",
              "      display:flex;\n",
              "      flex-wrap:wrap;\n",
              "      gap: 12px;\n",
              "    }\n",
              "\n",
              "    .colab-df-convert {\n",
              "      background-color: #E8F0FE;\n",
              "      border: none;\n",
              "      border-radius: 50%;\n",
              "      cursor: pointer;\n",
              "      display: none;\n",
              "      fill: #1967D2;\n",
              "      height: 32px;\n",
              "      padding: 0 0 0 0;\n",
              "      width: 32px;\n",
              "    }\n",
              "\n",
              "    .colab-df-convert:hover {\n",
              "      background-color: #E2EBFA;\n",
              "      box-shadow: 0px 1px 2px rgba(60, 64, 67, 0.3), 0px 1px 3px 1px rgba(60, 64, 67, 0.15);\n",
              "      fill: #174EA6;\n",
              "    }\n",
              "\n",
              "    [theme=dark] .colab-df-convert {\n",
              "      background-color: #3B4455;\n",
              "      fill: #D2E3FC;\n",
              "    }\n",
              "\n",
              "    [theme=dark] .colab-df-convert:hover {\n",
              "      background-color: #434B5C;\n",
              "      box-shadow: 0px 1px 3px 1px rgba(0, 0, 0, 0.15);\n",
              "      filter: drop-shadow(0px 1px 2px rgba(0, 0, 0, 0.3));\n",
              "      fill: #FFFFFF;\n",
              "    }\n",
              "  </style>\n",
              "\n",
              "      <script>\n",
              "        const buttonEl =\n",
              "          document.querySelector('#df-c7ab7ef2-f2f6-4e43-a653-da2fde1ee795 button.colab-df-convert');\n",
              "        buttonEl.style.display =\n",
              "          google.colab.kernel.accessAllowed ? 'block' : 'none';\n",
              "\n",
              "        async function convertToInteractive(key) {\n",
              "          const element = document.querySelector('#df-c7ab7ef2-f2f6-4e43-a653-da2fde1ee795');\n",
              "          const dataTable =\n",
              "            await google.colab.kernel.invokeFunction('convertToInteractive',\n",
              "                                                     [key], {});\n",
              "          if (!dataTable) return;\n",
              "\n",
              "          const docLinkHtml = 'Like what you see? Visit the ' +\n",
              "            '<a target=\"_blank\" href=https://colab.research.google.com/notebooks/data_table.ipynb>data table notebook</a>'\n",
              "            + ' to learn more about interactive tables.';\n",
              "          element.innerHTML = '';\n",
              "          dataTable['output_type'] = 'display_data';\n",
              "          await google.colab.output.renderOutput(dataTable, element);\n",
              "          const docLink = document.createElement('div');\n",
              "          docLink.innerHTML = docLinkHtml;\n",
              "          element.appendChild(docLink);\n",
              "        }\n",
              "      </script>\n",
              "    </div>\n",
              "  </div>\n",
              "  "
            ],
            "text/plain": [
              "                                                                                                   doc_text\n",
              "0  Mr. Green killed Colonel Mustard in the study with the candlestick. Mr. Green is not a very nice fellow.\n",
              "1                                                            Professor Plum has a green plant in his study.\n",
              "2           Miss Scarlett watered Professor Plum's green plant while he was away from his office last week."
            ]
          },
          "metadata": {},
          "execution_count": 4
        }
      ]
    },
    {
      "cell_type": "markdown",
      "metadata": {
        "id": "Gz8_IrEILwPx"
      },
      "source": [
        "## Pre-processing and feature extraction"
      ]
    },
    {
      "cell_type": "markdown",
      "metadata": {
        "id": "EfOyCwUfNgPZ"
      },
      "source": [
        "### Extract terms and count occurrences"
      ]
    },
    {
      "cell_type": "code",
      "metadata": {
        "colab": {
          "base_uri": "https://localhost:8080/"
        },
        "id": "KjZ2SJb7MquH",
        "outputId": "17760432-574a-434f-ddbb-ee503363a377"
      },
      "source": [
        "from sklearn.feature_extraction.text import CountVectorizer\n",
        "\n",
        "# Specify stop words that should be ignored.\n",
        "stop_list = ['a', 'an', 'the']\n",
        "\n",
        "# The next 2 lines accomplish several steps:\n",
        "# - makes everything lowercase (optional)\n",
        "# - removes stop words\n",
        "# - removes punctuation\n",
        "# - tokenization\n",
        "# Note that there is no easy way to do stemming without another library, nltk.\n",
        "count_vect = CountVectorizer(lowercase=True, stop_words=stop_list)\n",
        "sparse_counts = count_vect.fit_transform(df['doc_text'])\n",
        "\n",
        "count_vect.get_feature_names_out()"
      ],
      "execution_count": 5,
      "outputs": [
        {
          "output_type": "execute_result",
          "data": {
            "text/plain": [
              "array(['away', 'candlestick', 'colonel', 'fellow', 'from', 'green', 'has',\n",
              "       'he', 'his', 'in', 'is', 'killed', 'last', 'miss', 'mr', 'mustard',\n",
              "       'nice', 'not', 'office', 'plant', 'plum', 'professor', 'scarlett',\n",
              "       'study', 'very', 'was', 'watered', 'week', 'while', 'with'],\n",
              "      dtype=object)"
            ]
          },
          "metadata": {},
          "execution_count": 5
        }
      ]
    },
    {
      "cell_type": "code",
      "metadata": {
        "colab": {
          "base_uri": "https://localhost:8080/"
        },
        "id": "qRHccH4SPayE",
        "outputId": "a409c8cd-0424-491e-df5f-ff34ad1c214b"
      },
      "source": [
        "sparse_counts"
      ],
      "execution_count": 6,
      "outputs": [
        {
          "output_type": "execute_result",
          "data": {
            "text/plain": [
              "<3x30 sparse matrix of type '<class 'numpy.int64'>'\n",
              "\twith 38 stored elements in Compressed Sparse Row format>"
            ]
          },
          "metadata": {},
          "execution_count": 6
        }
      ]
    },
    {
      "cell_type": "markdown",
      "metadata": {
        "id": "yR8O5x8_O62M"
      },
      "source": [
        "The CountVectorizer returns a sparse matrix, a specialized data structure that is more efficient than a regular matrix for sparse data. We can convert it for ease of use."
      ]
    },
    {
      "cell_type": "code",
      "metadata": {
        "colab": {
          "base_uri": "https://localhost:8080/"
        },
        "id": "nSmJEjmGO1lt",
        "outputId": "f330d9ae-d383-4959-842a-be26c42ee68a"
      },
      "source": [
        "counts = np.asarray(sparse_counts.todense())\n",
        "counts"
      ],
      "execution_count": 7,
      "outputs": [
        {
          "output_type": "execute_result",
          "data": {
            "text/plain": [
              "array([[0, 1, 1, 1, 0, 2, 0, 0, 0, 1, 1, 1, 0, 0, 2, 1, 1, 1, 0, 0, 0, 0,\n",
              "        0, 1, 1, 0, 0, 0, 0, 1],\n",
              "       [0, 0, 0, 0, 0, 1, 1, 0, 1, 1, 0, 0, 0, 0, 0, 0, 0, 0, 0, 1, 1, 1,\n",
              "        0, 1, 0, 0, 0, 0, 0, 0],\n",
              "       [1, 0, 0, 0, 1, 1, 0, 1, 1, 0, 0, 0, 1, 1, 0, 0, 0, 0, 1, 1, 1, 1,\n",
              "        1, 0, 0, 1, 1, 1, 1, 0]])"
            ]
          },
          "metadata": {},
          "execution_count": 7
        }
      ]
    },
    {
      "cell_type": "code",
      "metadata": {
        "colab": {
          "base_uri": "https://localhost:8080/"
        },
        "id": "LPq9omg7Pkjc",
        "outputId": "e9999e8b-777d-4352-fcd9-56c104561fbb"
      },
      "source": [
        "feat_idx = 5\n",
        "feat_name = count_vect.get_feature_names_out()[feat_idx]\n",
        "print('Counts for feature:', feat_name)\n",
        "\n",
        "counts[:, feat_idx]"
      ],
      "execution_count": 8,
      "outputs": [
        {
          "output_type": "stream",
          "name": "stdout",
          "text": [
            "Counts for feature: green\n"
          ]
        },
        {
          "output_type": "execute_result",
          "data": {
            "text/plain": [
              "array([2, 1, 1])"
            ]
          },
          "metadata": {},
          "execution_count": 8
        }
      ]
    },
    {
      "cell_type": "markdown",
      "metadata": {
        "id": "AzvEjKphQwyB"
      },
      "source": [
        "### TF-IDF Scores\n",
        "We generally get better results using TF-IDF scores than using simple counts as features."
      ]
    },
    {
      "cell_type": "code",
      "metadata": {
        "colab": {
          "base_uri": "https://localhost:8080/"
        },
        "id": "d-MZrd5wQVHt",
        "outputId": "bfa60211-52a2-4846-b3b8-72222dc34ed4"
      },
      "source": [
        "from sklearn.feature_extraction.text import TfidfTransformer\n",
        "\n",
        "tfidf_transformer = TfidfTransformer()\n",
        "sparse_tfidf = tfidf_transformer.fit_transform(counts)\n",
        "tfidf = np.asarray(sparse_tfidf.todense())\n",
        "tfidf"
      ],
      "execution_count": 9,
      "outputs": [
        {
          "output_type": "execute_result",
          "data": {
            "text/plain": [
              "array([[0.        , 0.24579517, 0.24579517, 0.24579517, 0.        ,\n",
              "        0.29034117, 0.        , 0.        , 0.        , 0.18693356,\n",
              "        0.24579517, 0.24579517, 0.        , 0.        , 0.49159033,\n",
              "        0.24579517, 0.24579517, 0.24579517, 0.        , 0.        ,\n",
              "        0.        , 0.        , 0.        , 0.18693356, 0.24579517,\n",
              "        0.        , 0.        , 0.        , 0.        , 0.24579517],\n",
              "       [0.        , 0.        , 0.        , 0.        , 0.        ,\n",
              "        0.26903992, 0.45552418, 0.        , 0.34643788, 0.34643788,\n",
              "        0.        , 0.        , 0.        , 0.        , 0.        ,\n",
              "        0.        , 0.        , 0.        , 0.        , 0.34643788,\n",
              "        0.34643788, 0.34643788, 0.        , 0.34643788, 0.        ,\n",
              "        0.        , 0.        , 0.        , 0.        , 0.        ],\n",
              "       [0.27054288, 0.        , 0.        , 0.        , 0.27054288,\n",
              "        0.15978698, 0.        , 0.27054288, 0.20575483, 0.        ,\n",
              "        0.        , 0.        , 0.27054288, 0.27054288, 0.        ,\n",
              "        0.        , 0.        , 0.        , 0.27054288, 0.20575483,\n",
              "        0.20575483, 0.20575483, 0.27054288, 0.        , 0.        ,\n",
              "        0.27054288, 0.27054288, 0.27054288, 0.27054288, 0.        ]])"
            ]
          },
          "metadata": {},
          "execution_count": 9
        }
      ]
    },
    {
      "cell_type": "code",
      "metadata": {
        "colab": {
          "base_uri": "https://localhost:8080/"
        },
        "id": "Izl2RM6sRaTJ",
        "outputId": "13c9de71-95cf-4ab1-aabc-36b6de0eb174"
      },
      "source": [
        "feat_idx = 5\n",
        "feat_name = count_vect.get_feature_names_out()[feat_idx]\n",
        "print('TFIDF for feature:', feat_name)\n",
        "\n",
        "tfidf[:, feat_idx]"
      ],
      "execution_count": 10,
      "outputs": [
        {
          "output_type": "stream",
          "name": "stdout",
          "text": [
            "TFIDF for feature: green\n"
          ]
        },
        {
          "output_type": "execute_result",
          "data": {
            "text/plain": [
              "array([0.29034117, 0.26903992, 0.15978698])"
            ]
          },
          "metadata": {},
          "execution_count": 10
        }
      ]
    },
    {
      "cell_type": "markdown",
      "metadata": {
        "id": "QFpjdNA0SnI7"
      },
      "source": [
        "We can display the TF-IDF feature vectors as a heatmap to get a feel for patterns in the data."
      ]
    },
    {
      "cell_type": "code",
      "metadata": {
        "colab": {
          "base_uri": "https://localhost:8080/",
          "height": 179
        },
        "id": "utKmoQYyRymo",
        "outputId": "f2f5b238-901e-4b3f-818c-71d0eeaffa90"
      },
      "source": [
        "# Display feature vectors as a heatmap\n",
        "plt.figure(figsize=(10, 1))\n",
        "sns.heatmap(tfidf, square=False, annot=False, cbar=True, cmap=\"Purples\",\n",
        "            xticklabels=count_vect.get_feature_names_out())\n",
        "\n",
        "plt.xticks(rotation=90) \n",
        "plt.xlabel('Features')\n",
        "plt.ylabel('Examples')\n",
        "plt.title('TF-IDF Feature Vectors')\n",
        "plt.show()"
      ],
      "execution_count": 11,
      "outputs": [
        {
          "output_type": "display_data",
          "data": {
            "image/png": "[encoded data removed]",
            "text/plain": [
              "<Figure size 720x72 with 2 Axes>"
            ]
          },
          "metadata": {
            "needs_background": "light"
          }
        }
      ]
    },
    {
      "cell_type": "markdown",
      "metadata": {
        "id": "5mjRpf5WUOeJ"
      },
      "source": [
        "## Finding similar documents\n",
        "We can build a nearest neighbors model (NOT a classifier) to find similar documents among the training examples for a given new example."
      ]
    },
    {
      "cell_type": "code",
      "metadata": {
        "colab": {
          "base_uri": "https://localhost:8080/"
        },
        "id": "vCyHoJJ7UtwK",
        "outputId": "32d11155-67ed-47b6-b32b-c07d5e3c4b4c"
      },
      "source": [
        "# Let's make up a new example. (Note that wrapping the string in square brackets\n",
        "# makes it a Python list of size 1.)\n",
        "new_example = [\"Miss Scarlett and Colonel Mustard have a son named Mr. Orange. He likes to study in the study.\"]\n",
        "new_example"
      ],
      "execution_count": 12,
      "outputs": [
        {
          "output_type": "execute_result",
          "data": {
            "text/plain": [
              "['Miss Scarlett and Colonel Mustard have a son named Mr. Orange. He likes to study in the study.']"
            ]
          },
          "metadata": {},
          "execution_count": 12
        }
      ]
    },
    {
      "cell_type": "code",
      "metadata": {
        "colab": {
          "base_uri": "https://localhost:8080/"
        },
        "id": "2RczxLILVhAu",
        "outputId": "b5de23b3-e129-4dce-afaa-b6331629d2ba"
      },
      "source": [
        "# We use our same transformers that have been fit to the data.\n",
        "# This is important because the tfidf scores in a feature vector need to refer\n",
        "# to the same terms in order to compare two vectors (documents).\n",
        "new_counts = count_vect.transform(new_example)\n",
        "print('New feature counts:\\n', new_counts.todense())\n",
        "new_tfidf = tfidf_transformer.transform(new_counts)\n",
        "new_tfidf = np.asarray(new_tfidf.todense())\n",
        "print('\\nNew TF-IDF scores:')\n",
        "new_tfidf"
      ],
      "execution_count": 13,
      "outputs": [
        {
          "output_type": "stream",
          "name": "stdout",
          "text": [
            "New feature counts:\n",
            " [[0 0 1 0 0 0 0 1 0 1 0 0 0 1 1 1 0 0 0 0 0 0 1 2 0 0 0 0 0 0]]\n",
            "\n",
            "New TF-IDF scores:\n"
          ]
        },
        {
          "output_type": "execute_result",
          "data": {
            "text/plain": [
              "array([[0.        , 0.        , 0.33535157, 0.        , 0.        ,\n",
              "        0.        , 0.        , 0.33535157, 0.        , 0.25504351,\n",
              "        0.        , 0.        , 0.        , 0.33535157, 0.33535157,\n",
              "        0.33535157, 0.        , 0.        , 0.        , 0.        ,\n",
              "        0.        , 0.        , 0.33535157, 0.51008702, 0.        ,\n",
              "        0.        , 0.        , 0.        , 0.        , 0.        ]])"
            ]
          },
          "metadata": {},
          "execution_count": 13
        }
      ]
    },
    {
      "cell_type": "code",
      "metadata": {
        "colab": {
          "base_uri": "https://localhost:8080/"
        },
        "id": "c7GWHudQWjvV",
        "outputId": "5efbbe04-76cd-4387-9300-fc2db4319aa5"
      },
      "source": [
        "# Find the highest valued feature\n",
        "idx = np.argmax(new_tfidf)\n",
        "feat = count_vect.get_feature_names_out()[idx]\n",
        "print('Highest valued feature: {}, TF-IDF score: {:.2f}'.format(feat, new_tfidf[0, idx]))"
      ],
      "execution_count": 14,
      "outputs": [
        {
          "output_type": "stream",
          "name": "stdout",
          "text": [
            "Highest valued feature: study, TF-IDF score: 0.51\n"
          ]
        }
      ]
    },
    {
      "cell_type": "code",
      "metadata": {
        "colab": {
          "base_uri": "https://localhost:8080/"
        },
        "id": "M9tT7xS_TuS1",
        "outputId": "7dbc4547-bfd0-468b-d863-dce07c1c5b6a"
      },
      "source": [
        "# Build model to return nearest neighbors\n",
        "# (Not a classifier)\n",
        "from sklearn.neighbors import NearestNeighbors\n",
        "\n",
        "# Create the KNN model\n",
        "# Since we want to compare sparse feature vectors, we use cosine distance.\n",
        "knn = NearestNeighbors(n_neighbors=3, algorithm='brute', metric='cosine')\n",
        "\n",
        "# Fit the model to the TF-IDF feature vectors\n",
        "model = knn.fit(tfidf)\n",
        "model"
      ],
      "execution_count": 15,
      "outputs": [
        {
          "output_type": "execute_result",
          "data": {
            "text/plain": [
              "NearestNeighbors(algorithm='brute', metric='cosine', n_neighbors=3)"
            ]
          },
          "metadata": {},
          "execution_count": 15
        }
      ]
    },
    {
      "cell_type": "code",
      "metadata": {
        "colab": {
          "base_uri": "https://localhost:8080/"
        },
        "id": "lJnm3RKRXwQx",
        "outputId": "49b36839-e70f-43d7-c0fe-ad83ab3cb6cf"
      },
      "source": [
        "distance, neighbor_idx = model.kneighbors(new_tfidf)\n",
        "\n",
        "print('Distances to neighbors:\\n', distance)\n",
        "\n",
        "print('\\nNeighbor index:')\n",
        "neighbor_idx"
      ],
      "execution_count": 16,
      "outputs": [
        {
          "output_type": "stream",
          "name": "stdout",
          "text": [
            "Distances to neighbors:\n",
            " [[0.52726025 0.72781907 0.7349298 ]]\n",
            "\n",
            "Neighbor index:\n"
          ]
        },
        {
          "output_type": "execute_result",
          "data": {
            "text/plain": [
              "array([[0, 2, 1]])"
            ]
          },
          "metadata": {},
          "execution_count": 16
        }
      ]
    },
    {
      "cell_type": "code",
      "metadata": {
        "colab": {
          "base_uri": "https://localhost:8080/"
        },
        "id": "sZybBFE1YnT8",
        "outputId": "afccbbab-3b81-4a3d-9fa3-8e3b8f71a0d3"
      },
      "source": [
        "# Notice that the distances are a list of lists (two sets of square brackets).\n",
        "# We can iterate through the neighbors like this (using [0] to get rid of the \n",
        "# outer set of brackets):\n",
        "print(f'Showing documents in order of similarity to \\n{new_example}:\\n')\n",
        "for i in neighbor_idx[0]:\n",
        "  print(i, df['doc_text'].iloc[i])"
      ],
      "execution_count": 17,
      "outputs": [
        {
          "output_type": "stream",
          "name": "stdout",
          "text": [
            "Showing documents in order of similarity to \n",
            "['Miss Scarlett and Colonel Mustard have a son named Mr. Orange. He likes to study in the study.']:\n",
            "\n",
            "0 Mr. Green killed Colonel Mustard in the study with the candlestick. Mr. Green is not a very nice fellow.\n",
            "2 Miss Scarlett watered Professor Plum's green plant while he was away from his office last week.\n",
            "1 Professor Plum has a green plant in his study.\n"
          ]
        }
      ]
    },
    {
      "cell_type": "code",
      "metadata": {
        "id": "EHW87kUwY18Z"
      },
      "source": [
        ""
      ],
      "execution_count": 17,
      "outputs": []
    }
  ]
}