{
  "nbformat": 4,
  "nbformat_minor": 0,
  "metadata": {
    "kernelspec": {
      "display_name": "Python 3",
      "language": "python",
      "name": "python3"
    },
    "language_info": {
      "codemirror_mode": {
        "name": "ipython",
        "version": 3
      },
      "file_extension": ".py",
      "mimetype": "text/x-python",
      "name": "python",
      "nbconvert_exporter": "python",
      "pygments_lexer": "ipython3",
      "version": "3.7.6"
    },
    "colab": {
      "name": "lab08_srs.ipynb",
      "provenance": [],
      "include_colab_link": true
    }
  },
  "cells": [
    {
      "cell_type": "markdown",
      "metadata": {
        "id": "view-in-github",
        "colab_type": "text"
      },
      "source": [
        "<a href=\"https://colab.research.google.com/github/scottspurlock/csc4422-2022s/blob/main/labs/lab08_srs.ipynb\" target=\"_parent\"><img src=\"https://colab.research.google.com/assets/colab-badge.svg\" alt=\"Open In Colab\"/></a>"
      ]
    },
    {
      "cell_type": "markdown",
      "metadata": {
        "id": "K049j9xO00Rg"
      },
      "source": [
        "# Lab 8: Decision Trees\n",
        "## Scott Spurlock\n",
        "### 3/1/2022\n"
      ]
    },
    {
      "cell_type": "code",
      "metadata": {
        "id": "Tn7nEvZL00Rm"
      },
      "source": [
        "import numpy as np\n",
        "import pandas as pd\n",
        "import matplotlib.pyplot as plt\n",
        "import seaborn as sns\n",
        "\n",
        "from sklearn.model_selection import train_test_split\n",
        "from sklearn.metrics import classification_report\n",
        "from sklearn.tree import DecisionTreeClassifier\n",
        "from sklearn.tree import export_graphviz\n",
        "import graphviz"
      ],
      "execution_count": 1,
      "outputs": []
    },
    {
      "cell_type": "code",
      "metadata": {
        "colab": {
          "base_uri": "https://localhost:8080/"
        },
        "id": "2BbbxU9100Rn",
        "outputId": "3c8db093-9997-4f42-ac30-b4eaa0709e77"
      },
      "source": [
        "# This dataset shows passengers from the Titanic\n",
        "df = pd.read_csv('https://drive.google.com/uc?export=download&id=1ATf3eoCvAKG_I2luCV2gj_GRDUXoybFR')\n",
        "df.shape"
      ],
      "execution_count": 2,
      "outputs": [
        {
          "output_type": "execute_result",
          "data": {
            "text/plain": [
              "(891, 12)"
            ]
          },
          "metadata": {},
          "execution_count": 2
        }
      ]
    },
    {
      "cell_type": "code",
      "metadata": {
        "scrolled": true,
        "colab": {
          "base_uri": "https://localhost:8080/",
          "height": 363
        },
        "id": "lWQacua800Ro",
        "outputId": "cf1d9bc9-6d9b-4027-8078-15b6d07f54d4"
      },
      "source": [
        "df.head(10)"
      ],
      "execution_count": 3,
      "outputs": [
        {
          "output_type": "execute_result",
          "data": {
            "text/html": [
              "\n",
              "  <div id=\"df-9c1c4e11-c9a4-4bb7-9173-7e3fa71eceda\">\n",
              "    <div class=\"colab-df-container\">\n",
              "      <div>\n",
              "<style scoped>\n",
              "    .dataframe tbody tr th:only-of-type {\n",
              "        vertical-align: middle;\n",
              "    }\n",
              "\n",
              "    .dataframe tbody tr th {\n",
              "        vertical-align: top;\n",
              "    }\n",
              "\n",
              "    .dataframe thead th {\n",
              "        text-align: right;\n",
              "    }\n",
              "</style>\n",
              "<table border=\"1\" class=\"dataframe\">\n",
              "  <thead>\n",
              "    <tr style=\"text-align: right;\">\n",
              "      <th></th>\n",
              "      <th>PassengerId</th>\n",
              "      <th>Survived</th>\n",
              "      <th>Pclass</th>\n",
              "      <th>Name</th>\n",
              "      <th>Sex</th>\n",
              "      <th>Age</th>\n",
              "      <th>SibSp</th>\n",
              "      <th>Parch</th>\n",
              "      <th>Ticket</th>\n",
              "      <th>Fare</th>\n",
              "      <th>Cabin</th>\n",
              "      <th>Embarked</th>\n",
              "    </tr>\n",
              "  </thead>\n",
              "  <tbody>\n",
              "    <tr>\n",
              "      <th>0</th>\n",
              "      <td>1</td>\n",
              "      <td>0</td>\n",
              "      <td>3</td>\n",
              "      <td>Braund, Mr. Owen Harris</td>\n",
              "      <td>male</td>\n",
              "      <td>22.0</td>\n",
              "      <td>1</td>\n",
              "      <td>0</td>\n",
              "      <td>A/5 21171</td>\n",
              "      <td>7.2500</td>\n",
              "      <td>NaN</td>\n",
              "      <td>S</td>\n",
              "    </tr>\n",
              "    <tr>\n",
              "      <th>1</th>\n",
              "      <td>2</td>\n",
              "      <td>1</td>\n",
              "      <td>1</td>\n",
              "      <td>Cumings, Mrs. John Bradley (Florence Briggs Th...</td>\n",
              "      <td>female</td>\n",
              "      <td>38.0</td>\n",
              "      <td>1</td>\n",
              "      <td>0</td>\n",
              "      <td>PC 17599</td>\n",
              "      <td>71.2833</td>\n",
              "      <td>C85</td>\n",
              "      <td>C</td>\n",
              "    </tr>\n",
              "    <tr>\n",
              "      <th>2</th>\n",
              "      <td>3</td>\n",
              "      <td>1</td>\n",
              "      <td>3</td>\n",
              "      <td>Heikkinen, Miss. Laina</td>\n",
              "      <td>female</td>\n",
              "      <td>26.0</td>\n",
              "      <td>0</td>\n",
              "      <td>0</td>\n",
              "      <td>STON/O2. 3101282</td>\n",
              "      <td>7.9250</td>\n",
              "      <td>NaN</td>\n",
              "      <td>S</td>\n",
              "    </tr>\n",
              "    <tr>\n",
              "      <th>3</th>\n",
              "      <td>4</td>\n",
              "      <td>1</td>\n",
              "      <td>1</td>\n",
              "      <td>Futrelle, Mrs. Jacques Heath (Lily May Peel)</td>\n",
              "      <td>female</td>\n",
              "      <td>35.0</td>\n",
              "      <td>1</td>\n",
              "      <td>0</td>\n",
              "      <td>113803</td>\n",
              "      <td>53.1000</td>\n",
              "      <td>C123</td>\n",
              "      <td>S</td>\n",
              "    </tr>\n",
              "    <tr>\n",
              "      <th>4</th>\n",
              "      <td>5</td>\n",
              "      <td>0</td>\n",
              "      <td>3</td>\n",
              "      <td>Allen, Mr. William Henry</td>\n",
              "      <td>male</td>\n",
              "      <td>35.0</td>\n",
              "      <td>0</td>\n",
              "      <td>0</td>\n",
              "      <td>373450</td>\n",
              "      <td>8.0500</td>\n",
              "      <td>NaN</td>\n",
              "      <td>S</td>\n",
              "    </tr>\n",
              "    <tr>\n",
              "      <th>5</th>\n",
              "      <td>6</td>\n",
              "      <td>0</td>\n",
              "      <td>3</td>\n",
              "      <td>Moran, Mr. James</td>\n",
              "      <td>male</td>\n",
              "      <td>NaN</td>\n",
              "      <td>0</td>\n",
              "      <td>0</td>\n",
              "      <td>330877</td>\n",
              "      <td>8.4583</td>\n",
              "      <td>NaN</td>\n",
              "      <td>Q</td>\n",
              "    </tr>\n",
              "    <tr>\n",
              "      <th>6</th>\n",
              "      <td>7</td>\n",
              "      <td>0</td>\n",
              "      <td>1</td>\n",
              "      <td>McCarthy, Mr. Timothy J</td>\n",
              "      <td>male</td>\n",
              "      <td>54.0</td>\n",
              "      <td>0</td>\n",
              "      <td>0</td>\n",
              "      <td>17463</td>\n",
              "      <td>51.8625</td>\n",
              "      <td>E46</td>\n",
              "      <td>S</td>\n",
              "    </tr>\n",
              "    <tr>\n",
              "      <th>7</th>\n",
              "      <td>8</td>\n",
              "      <td>0</td>\n",
              "      <td>3</td>\n",
              "      <td>Palsson, Master. Gosta Leonard</td>\n",
              "      <td>male</td>\n",
              "      <td>2.0</td>\n",
              "      <td>3</td>\n",
              "      <td>1</td>\n",
              "      <td>349909</td>\n",
              "      <td>21.0750</td>\n",
              "      <td>NaN</td>\n",
              "      <td>S</td>\n",
              "    </tr>\n",
              "    <tr>\n",
              "      <th>8</th>\n",
              "      <td>9</td>\n",
              "      <td>1</td>\n",
              "      <td>3</td>\n",
              "      <td>Johnson, Mrs. Oscar W (Elisabeth Vilhelmina Berg)</td>\n",
              "      <td>female</td>\n",
              "      <td>27.0</td>\n",
              "      <td>0</td>\n",
              "      <td>2</td>\n",
              "      <td>347742</td>\n",
              "      <td>11.1333</td>\n",
              "      <td>NaN</td>\n",
              "      <td>S</td>\n",
              "    </tr>\n",
              "    <tr>\n",
              "      <th>9</th>\n",
              "      <td>10</td>\n",
              "      <td>1</td>\n",
              "      <td>2</td>\n",
              "      <td>Nasser, Mrs. Nicholas (Adele Achem)</td>\n",
              "      <td>female</td>\n",
              "      <td>14.0</td>\n",
              "      <td>1</td>\n",
              "      <td>0</td>\n",
              "      <td>237736</td>\n",
              "      <td>30.0708</td>\n",
              "      <td>NaN</td>\n",
              "      <td>C</td>\n",
              "    </tr>\n",
              "  </tbody>\n",
              "</table>\n",
              "</div>\n",
              "      <button class=\"colab-df-convert\" onclick=\"convertToInteractive('df-9c1c4e11-c9a4-4bb7-9173-7e3fa71eceda')\"\n",
              "              title=\"Convert this dataframe to an interactive table.\"\n",
              "              style=\"display:none;\">\n",
              "        \n",
              "  <svg xmlns=\"http://www.w3.org/2000/svg\" height=\"24px\"viewBox=\"0 0 24 24\"\n",
              "       width=\"24px\">\n",
              "    <path d=\"M0 0h24v24H0V0z\" fill=\"none\"/>\n",
              "    <path d=\"M18.56 5.44l.94 2.06.94-2.06 2.06-.94-2.06-.94-.94-2.06-.94 2.06-2.06.94zm-11 1L8.5 8.5l.94-2.06 2.06-.94-2.06-.94L8.5 2.5l-.94 2.06-2.06.94zm10 10l.94 2.06.94-2.06 2.06-.94-2.06-.94-.94-2.06-.94 2.06-2.06.94z\"/><path d=\"M17.41 7.96l-1.37-1.37c-.4-.4-.92-.59-1.43-.59-.52 0-1.04.2-1.43.59L10.3 9.45l-7.72 7.72c-.78.78-.78 2.05 0 2.83L4 21.41c.39.39.9.59 1.41.59.51 0 1.02-.2 1.41-.59l7.78-7.78 2.81-2.81c.8-.78.8-2.07 0-2.86zM5.41 20L4 18.59l7.72-7.72 1.47 1.35L5.41 20z\"/>\n",
              "  </svg>\n",
              "      </button>\n",
              "      \n",
              "  <style>\n",
              "    .colab-df-container {\n",
              "      display:flex;\n",
              "      flex-wrap:wrap;\n",
              "      gap: 12px;\n",
              "    }\n",
              "\n",
              "    .colab-df-convert {\n",
              "      background-color: #E8F0FE;\n",
              "      border: none;\n",
              "      border-radius: 50%;\n",
              "      cursor: pointer;\n",
              "      display: none;\n",
              "      fill: #1967D2;\n",
              "      height: 32px;\n",
              "      padding: 0 0 0 0;\n",
              "      width: 32px;\n",
              "    }\n",
              "\n",
              "    .colab-df-convert:hover {\n",
              "      background-color: #E2EBFA;\n",
              "      box-shadow: 0px 1px 2px rgba(60, 64, 67, 0.3), 0px 1px 3px 1px rgba(60, 64, 67, 0.15);\n",
              "      fill: #174EA6;\n",
              "    }\n",
              "\n",
              "    [theme=dark] .colab-df-convert {\n",
              "      background-color: #3B4455;\n",
              "      fill: #D2E3FC;\n",
              "    }\n",
              "\n",
              "    [theme=dark] .colab-df-convert:hover {\n",
              "      background-color: #434B5C;\n",
              "      box-shadow: 0px 1px 3px 1px rgba(0, 0, 0, 0.15);\n",
              "      filter: drop-shadow(0px 1px 2px rgba(0, 0, 0, 0.3));\n",
              "      fill: #FFFFFF;\n",
              "    }\n",
              "  </style>\n",
              "\n",
              "      <script>\n",
              "        const buttonEl =\n",
              "          document.querySelector('#df-9c1c4e11-c9a4-4bb7-9173-7e3fa71eceda button.colab-df-convert');\n",
              "        buttonEl.style.display =\n",
              "          google.colab.kernel.accessAllowed ? 'block' : 'none';\n",
              "\n",
              "        async function convertToInteractive(key) {\n",
              "          const element = document.querySelector('#df-9c1c4e11-c9a4-4bb7-9173-7e3fa71eceda');\n",
              "          const dataTable =\n",
              "            await google.colab.kernel.invokeFunction('convertToInteractive',\n",
              "                                                     [key], {});\n",
              "          if (!dataTable) return;\n",
              "\n",
              "          const docLinkHtml = 'Like what you see? Visit the ' +\n",
              "            '<a target=\"_blank\" href=https://colab.research.google.com/notebooks/data_table.ipynb>data table notebook</a>'\n",
              "            + ' to learn more about interactive tables.';\n",
              "          element.innerHTML = '';\n",
              "          dataTable['output_type'] = 'display_data';\n",
              "          await google.colab.output.renderOutput(dataTable, element);\n",
              "          const docLink = document.createElement('div');\n",
              "          docLink.innerHTML = docLinkHtml;\n",
              "          element.appendChild(docLink);\n",
              "        }\n",
              "      </script>\n",
              "    </div>\n",
              "  </div>\n",
              "  "
            ],
            "text/plain": [
              "   PassengerId  Survived  Pclass  ...     Fare Cabin  Embarked\n",
              "0            1         0       3  ...   7.2500   NaN         S\n",
              "1            2         1       1  ...  71.2833   C85         C\n",
              "2            3         1       3  ...   7.9250   NaN         S\n",
              "3            4         1       1  ...  53.1000  C123         S\n",
              "4            5         0       3  ...   8.0500   NaN         S\n",
              "5            6         0       3  ...   8.4583   NaN         Q\n",
              "6            7         0       1  ...  51.8625   E46         S\n",
              "7            8         0       3  ...  21.0750   NaN         S\n",
              "8            9         1       3  ...  11.1333   NaN         S\n",
              "9           10         1       2  ...  30.0708   NaN         C\n",
              "\n",
              "[10 rows x 12 columns]"
            ]
          },
          "metadata": {},
          "execution_count": 3
        }
      ]
    },
    {
      "cell_type": "code",
      "metadata": {
        "colab": {
          "base_uri": "https://localhost:8080/",
          "height": 206
        },
        "id": "CKowu1WK00Ro",
        "outputId": "34bb167c-43e8-4221-e99c-2cfaf5c1747a"
      },
      "source": [
        "# Separate out the target and data\n",
        "y = df['Survived']\n",
        "X = df[['Pclass', 'Sex', 'SibSp', 'Parch']]\n",
        "X = pd.get_dummies(X)\n",
        "X.head()"
      ],
      "execution_count": 4,
      "outputs": [
        {
          "output_type": "execute_result",
          "data": {
            "text/html": [
              "\n",
              "  <div id=\"df-dba7b832-379e-4c8b-85a3-e31320a6c689\">\n",
              "    <div class=\"colab-df-container\">\n",
              "      <div>\n",
              "<style scoped>\n",
              "    .dataframe tbody tr th:only-of-type {\n",
              "        vertical-align: middle;\n",
              "    }\n",
              "\n",
              "    .dataframe tbody tr th {\n",
              "        vertical-align: top;\n",
              "    }\n",
              "\n",
              "    .dataframe thead th {\n",
              "        text-align: right;\n",
              "    }\n",
              "</style>\n",
              "<table border=\"1\" class=\"dataframe\">\n",
              "  <thead>\n",
              "    <tr style=\"text-align: right;\">\n",
              "      <th></th>\n",
              "      <th>Pclass</th>\n",
              "      <th>SibSp</th>\n",
              "      <th>Parch</th>\n",
              "      <th>Sex_female</th>\n",
              "      <th>Sex_male</th>\n",
              "    </tr>\n",
              "  </thead>\n",
              "  <tbody>\n",
              "    <tr>\n",
              "      <th>0</th>\n",
              "      <td>3</td>\n",
              "      <td>1</td>\n",
              "      <td>0</td>\n",
              "      <td>0</td>\n",
              "      <td>1</td>\n",
              "    </tr>\n",
              "    <tr>\n",
              "      <th>1</th>\n",
              "      <td>1</td>\n",
              "      <td>1</td>\n",
              "      <td>0</td>\n",
              "      <td>1</td>\n",
              "      <td>0</td>\n",
              "    </tr>\n",
              "    <tr>\n",
              "      <th>2</th>\n",
              "      <td>3</td>\n",
              "      <td>0</td>\n",
              "      <td>0</td>\n",
              "      <td>1</td>\n",
              "      <td>0</td>\n",
              "    </tr>\n",
              "    <tr>\n",
              "      <th>3</th>\n",
              "      <td>1</td>\n",
              "      <td>1</td>\n",
              "      <td>0</td>\n",
              "      <td>1</td>\n",
              "      <td>0</td>\n",
              "    </tr>\n",
              "    <tr>\n",
              "      <th>4</th>\n",
              "      <td>3</td>\n",
              "      <td>0</td>\n",
              "      <td>0</td>\n",
              "      <td>0</td>\n",
              "      <td>1</td>\n",
              "    </tr>\n",
              "  </tbody>\n",
              "</table>\n",
              "</div>\n",
              "      <button class=\"colab-df-convert\" onclick=\"convertToInteractive('df-dba7b832-379e-4c8b-85a3-e31320a6c689')\"\n",
              "              title=\"Convert this dataframe to an interactive table.\"\n",
              "              style=\"display:none;\">\n",
              "        \n",
              "  <svg xmlns=\"http://www.w3.org/2000/svg\" height=\"24px\"viewBox=\"0 0 24 24\"\n",
              "       width=\"24px\">\n",
              "    <path d=\"M0 0h24v24H0V0z\" fill=\"none\"/>\n",
              "    <path d=\"M18.56 5.44l.94 2.06.94-2.06 2.06-.94-2.06-.94-.94-2.06-.94 2.06-2.06.94zm-11 1L8.5 8.5l.94-2.06 2.06-.94-2.06-.94L8.5 2.5l-.94 2.06-2.06.94zm10 10l.94 2.06.94-2.06 2.06-.94-2.06-.94-.94-2.06-.94 2.06-2.06.94z\"/><path d=\"M17.41 7.96l-1.37-1.37c-.4-.4-.92-.59-1.43-.59-.52 0-1.04.2-1.43.59L10.3 9.45l-7.72 7.72c-.78.78-.78 2.05 0 2.83L4 21.41c.39.39.9.59 1.41.59.51 0 1.02-.2 1.41-.59l7.78-7.78 2.81-2.81c.8-.78.8-2.07 0-2.86zM5.41 20L4 18.59l7.72-7.72 1.47 1.35L5.41 20z\"/>\n",
              "  </svg>\n",
              "      </button>\n",
              "      \n",
              "  <style>\n",
              "    .colab-df-container {\n",
              "      display:flex;\n",
              "      flex-wrap:wrap;\n",
              "      gap: 12px;\n",
              "    }\n",
              "\n",
              "    .colab-df-convert {\n",
              "      background-color: #E8F0FE;\n",
              "      border: none;\n",
              "      border-radius: 50%;\n",
              "      cursor: pointer;\n",
              "      display: none;\n",
              "      fill: #1967D2;\n",
              "      height: 32px;\n",
              "      padding: 0 0 0 0;\n",
              "      width: 32px;\n",
              "    }\n",
              "\n",
              "    .colab-df-convert:hover {\n",
              "      background-color: #E2EBFA;\n",
              "      box-shadow: 0px 1px 2px rgba(60, 64, 67, 0.3), 0px 1px 3px 1px rgba(60, 64, 67, 0.15);\n",
              "      fill: #174EA6;\n",
              "    }\n",
              "\n",
              "    [theme=dark] .colab-df-convert {\n",
              "      background-color: #3B4455;\n",
              "      fill: #D2E3FC;\n",
              "    }\n",
              "\n",
              "    [theme=dark] .colab-df-convert:hover {\n",
              "      background-color: #434B5C;\n",
              "      box-shadow: 0px 1px 3px 1px rgba(0, 0, 0, 0.15);\n",
              "      filter: drop-shadow(0px 1px 2px rgba(0, 0, 0, 0.3));\n",
              "      fill: #FFFFFF;\n",
              "    }\n",
              "  </style>\n",
              "\n",
              "      <script>\n",
              "        const buttonEl =\n",
              "          document.querySelector('#df-dba7b832-379e-4c8b-85a3-e31320a6c689 button.colab-df-convert');\n",
              "        buttonEl.style.display =\n",
              "          google.colab.kernel.accessAllowed ? 'block' : 'none';\n",
              "\n",
              "        async function convertToInteractive(key) {\n",
              "          const element = document.querySelector('#df-dba7b832-379e-4c8b-85a3-e31320a6c689');\n",
              "          const dataTable =\n",
              "            await google.colab.kernel.invokeFunction('convertToInteractive',\n",
              "                                                     [key], {});\n",
              "          if (!dataTable) return;\n",
              "\n",
              "          const docLinkHtml = 'Like what you see? Visit the ' +\n",
              "            '<a target=\"_blank\" href=https://colab.research.google.com/notebooks/data_table.ipynb>data table notebook</a>'\n",
              "            + ' to learn more about interactive tables.';\n",
              "          element.innerHTML = '';\n",
              "          dataTable['output_type'] = 'display_data';\n",
              "          await google.colab.output.renderOutput(dataTable, element);\n",
              "          const docLink = document.createElement('div');\n",
              "          docLink.innerHTML = docLinkHtml;\n",
              "          element.appendChild(docLink);\n",
              "        }\n",
              "      </script>\n",
              "    </div>\n",
              "  </div>\n",
              "  "
            ],
            "text/plain": [
              "   Pclass  SibSp  Parch  Sex_female  Sex_male\n",
              "0       3      1      0           0         1\n",
              "1       1      1      0           1         0\n",
              "2       3      0      0           1         0\n",
              "3       1      1      0           1         0\n",
              "4       3      0      0           0         1"
            ]
          },
          "metadata": {},
          "execution_count": 4
        }
      ]
    },
    {
      "cell_type": "markdown",
      "metadata": {
        "id": "2OdVu9bz00Rp"
      },
      "source": [
        "### Divide the data into randomized training and test partitions. Use 10% of the data as the test set, keeping 90% for training."
      ]
    },
    {
      "cell_type": "code",
      "metadata": {
        "colab": {
          "base_uri": "https://localhost:8080/",
          "height": 206
        },
        "id": "vkgnML_S00Rp",
        "outputId": "44fc133b-e5ac-4819-d13f-391431a877bc"
      },
      "source": [
        "Xtrain, Xtest, ytrain, ytest = train_test_split(X, y, test_size=0.1, random_state=0)\n",
        "Xtest[0:5]"
      ],
      "execution_count": 5,
      "outputs": [
        {
          "output_type": "execute_result",
          "data": {
            "text/html": [
              "\n",
              "  <div id=\"df-fdcea3c9-f56c-43d0-b2a1-f71408bf3804\">\n",
              "    <div class=\"colab-df-container\">\n",
              "      <div>\n",
              "<style scoped>\n",
              "    .dataframe tbody tr th:only-of-type {\n",
              "        vertical-align: middle;\n",
              "    }\n",
              "\n",
              "    .dataframe tbody tr th {\n",
              "        vertical-align: top;\n",
              "    }\n",
              "\n",
              "    .dataframe thead th {\n",
              "        text-align: right;\n",
              "    }\n",
              "</style>\n",
              "<table border=\"1\" class=\"dataframe\">\n",
              "  <thead>\n",
              "    <tr style=\"text-align: right;\">\n",
              "      <th></th>\n",
              "      <th>Pclass</th>\n",
              "      <th>SibSp</th>\n",
              "      <th>Parch</th>\n",
              "      <th>Sex_female</th>\n",
              "      <th>Sex_male</th>\n",
              "    </tr>\n",
              "  </thead>\n",
              "  <tbody>\n",
              "    <tr>\n",
              "      <th>495</th>\n",
              "      <td>3</td>\n",
              "      <td>0</td>\n",
              "      <td>0</td>\n",
              "      <td>0</td>\n",
              "      <td>1</td>\n",
              "    </tr>\n",
              "    <tr>\n",
              "      <th>648</th>\n",
              "      <td>3</td>\n",
              "      <td>0</td>\n",
              "      <td>0</td>\n",
              "      <td>0</td>\n",
              "      <td>1</td>\n",
              "    </tr>\n",
              "    <tr>\n",
              "      <th>278</th>\n",
              "      <td>3</td>\n",
              "      <td>4</td>\n",
              "      <td>1</td>\n",
              "      <td>0</td>\n",
              "      <td>1</td>\n",
              "    </tr>\n",
              "    <tr>\n",
              "      <th>31</th>\n",
              "      <td>1</td>\n",
              "      <td>1</td>\n",
              "      <td>0</td>\n",
              "      <td>1</td>\n",
              "      <td>0</td>\n",
              "    </tr>\n",
              "    <tr>\n",
              "      <th>255</th>\n",
              "      <td>3</td>\n",
              "      <td>0</td>\n",
              "      <td>2</td>\n",
              "      <td>1</td>\n",
              "      <td>0</td>\n",
              "    </tr>\n",
              "  </tbody>\n",
              "</table>\n",
              "</div>\n",
              "      <button class=\"colab-df-convert\" onclick=\"convertToInteractive('df-fdcea3c9-f56c-43d0-b2a1-f71408bf3804')\"\n",
              "              title=\"Convert this dataframe to an interactive table.\"\n",
              "              style=\"display:none;\">\n",
              "        \n",
              "  <svg xmlns=\"http://www.w3.org/2000/svg\" height=\"24px\"viewBox=\"0 0 24 24\"\n",
              "       width=\"24px\">\n",
              "    <path d=\"M0 0h24v24H0V0z\" fill=\"none\"/>\n",
              "    <path d=\"M18.56 5.44l.94 2.06.94-2.06 2.06-.94-2.06-.94-.94-2.06-.94 2.06-2.06.94zm-11 1L8.5 8.5l.94-2.06 2.06-.94-2.06-.94L8.5 2.5l-.94 2.06-2.06.94zm10 10l.94 2.06.94-2.06 2.06-.94-2.06-.94-.94-2.06-.94 2.06-2.06.94z\"/><path d=\"M17.41 7.96l-1.37-1.37c-.4-.4-.92-.59-1.43-.59-.52 0-1.04.2-1.43.59L10.3 9.45l-7.72 7.72c-.78.78-.78 2.05 0 2.83L4 21.41c.39.39.9.59 1.41.59.51 0 1.02-.2 1.41-.59l7.78-7.78 2.81-2.81c.8-.78.8-2.07 0-2.86zM5.41 20L4 18.59l7.72-7.72 1.47 1.35L5.41 20z\"/>\n",
              "  </svg>\n",
              "      </button>\n",
              "      \n",
              "  <style>\n",
              "    .colab-df-container {\n",
              "      display:flex;\n",
              "      flex-wrap:wrap;\n",
              "      gap: 12px;\n",
              "    }\n",
              "\n",
              "    .colab-df-convert {\n",
              "      background-color: #E8F0FE;\n",
              "      border: none;\n",
              "      border-radius: 50%;\n",
              "      cursor: pointer;\n",
              "      display: none;\n",
              "      fill: #1967D2;\n",
              "      height: 32px;\n",
              "      padding: 0 0 0 0;\n",
              "      width: 32px;\n",
              "    }\n",
              "\n",
              "    .colab-df-convert:hover {\n",
              "      background-color: #E2EBFA;\n",
              "      box-shadow: 0px 1px 2px rgba(60, 64, 67, 0.3), 0px 1px 3px 1px rgba(60, 64, 67, 0.15);\n",
              "      fill: #174EA6;\n",
              "    }\n",
              "\n",
              "    [theme=dark] .colab-df-convert {\n",
              "      background-color: #3B4455;\n",
              "      fill: #D2E3FC;\n",
              "    }\n",
              "\n",
              "    [theme=dark] .colab-df-convert:hover {\n",
              "      background-color: #434B5C;\n",
              "      box-shadow: 0px 1px 3px 1px rgba(0, 0, 0, 0.15);\n",
              "      filter: drop-shadow(0px 1px 2px rgba(0, 0, 0, 0.3));\n",
              "      fill: #FFFFFF;\n",
              "    }\n",
              "  </style>\n",
              "\n",
              "      <script>\n",
              "        const buttonEl =\n",
              "          document.querySelector('#df-fdcea3c9-f56c-43d0-b2a1-f71408bf3804 button.colab-df-convert');\n",
              "        buttonEl.style.display =\n",
              "          google.colab.kernel.accessAllowed ? 'block' : 'none';\n",
              "\n",
              "        async function convertToInteractive(key) {\n",
              "          const element = document.querySelector('#df-fdcea3c9-f56c-43d0-b2a1-f71408bf3804');\n",
              "          const dataTable =\n",
              "            await google.colab.kernel.invokeFunction('convertToInteractive',\n",
              "                                                     [key], {});\n",
              "          if (!dataTable) return;\n",
              "\n",
              "          const docLinkHtml = 'Like what you see? Visit the ' +\n",
              "            '<a target=\"_blank\" href=https://colab.research.google.com/notebooks/data_table.ipynb>data table notebook</a>'\n",
              "            + ' to learn more about interactive tables.';\n",
              "          element.innerHTML = '';\n",
              "          dataTable['output_type'] = 'display_data';\n",
              "          await google.colab.output.renderOutput(dataTable, element);\n",
              "          const docLink = document.createElement('div');\n",
              "          docLink.innerHTML = docLinkHtml;\n",
              "          element.appendChild(docLink);\n",
              "        }\n",
              "      </script>\n",
              "    </div>\n",
              "  </div>\n",
              "  "
            ],
            "text/plain": [
              "     Pclass  SibSp  Parch  Sex_female  Sex_male\n",
              "495       3      0      0           0         1\n",
              "648       3      0      0           0         1\n",
              "278       3      4      1           0         1\n",
              "31        1      1      0           1         0\n",
              "255       3      0      2           1         0"
            ]
          },
          "metadata": {},
          "execution_count": 5
        }
      ]
    },
    {
      "cell_type": "markdown",
      "metadata": {
        "id": "3G2eLXcT00Rp"
      },
      "source": [
        "#### Now let's make a decision tree"
      ]
    },
    {
      "cell_type": "code",
      "metadata": {
        "colab": {
          "base_uri": "https://localhost:8080/"
        },
        "id": "8tcTGzyp00Rq",
        "outputId": "8ed92a99-9fef-4968-b462-7519bc932490"
      },
      "source": [
        "# Make a tree object\n",
        "clf = DecisionTreeClassifier(criterion='entropy', random_state=0)\n",
        "\n",
        "# Fit a model to the training data\n",
        "clf = clf.fit(Xtrain, ytrain)\n",
        "clf"
      ],
      "execution_count": 6,
      "outputs": [
        {
          "output_type": "execute_result",
          "data": {
            "text/plain": [
              "DecisionTreeClassifier(criterion='entropy', random_state=0)"
            ]
          },
          "metadata": {},
          "execution_count": 6
        }
      ]
    },
    {
      "cell_type": "markdown",
      "metadata": {
        "id": "MbGaoTWD8ydS"
      },
      "source": [
        "Visualize the tree\n"
      ]
    },
    {
      "cell_type": "code",
      "metadata": {
        "id": "L0mQTT8Lfxdi"
      },
      "source": [
        "classes = ['survived_false', 'survived_true']"
      ],
      "execution_count": 7,
      "outputs": []
    },
    {
      "cell_type": "code",
      "metadata": {
        "colab": {
          "base_uri": "https://localhost:8080/",
          "height": 1000
        },
        "id": "iUrOq4w280ym",
        "outputId": "7691bd02-fabc-4d82-fc58-3306cb3f5e37"
      },
      "source": [
        "vis_data = export_graphviz(clf, out_file=None,\n",
        "                feature_names=Xtrain.columns,\n",
        "                class_names=['survived_false', 'survived_true'],\n",
        "                filled=True)\n",
        "\n",
        "graph = graphviz.Source(vis_data) \n",
        "graph"
      ],
      "execution_count": 8,
      "outputs": [
        {
          "output_type": "execute_result",
          "data": {
            "text/plain": [
              "<graphviz.files.Source at 0x7f81c43c8c10>"
            ],
            "image/svg+xml": "<?xml version=\"1.0\" encoding=\"UTF-8\" standalone=\"no\"?>\n<!DOCTYPE svg PUBLIC \"-//W3C//DTD SVG 1.1//EN\"\n \"http://www.w3.org/Graphics/SVG/1.1/DTD/svg11.dtd\">\n<!-- Generated by graphviz version 2.40.1 (20161225.0304)\n -->\n<!-- Title: Tree Pages: 1 -->\n<svg width=\"4742pt\" height=\"1028pt\"\n viewBox=\"0.00 0.00 4742.00 1028.00\" xmlns=\"http://www.w3.org/2000/svg\" xmlns:xlink=\"http://www.w3.org/1999/xlink\">\n<g id=\"graph0\" class=\"graph\" transform=\"scale(1 1) rotate(0) translate(4 1024)\">\n<title>Tree</title>\n<polygon fill=\"#ffffff\" stroke=\"transparent\" points=\"-4,4 -4,-1024 4738,-1024 4738,4 -4,4\"/>\n<!-- 0 -->\n<g id=\"node1\" class=\"node\">\n<title>0</title>\n<polygon fill=\"#f5ceb1\" stroke=\"#000000\" points=\"2286,-1020 2126,-1020 2126,-937 2286,-937 2286,-1020\"/>\n<text text-anchor=\"middle\" x=\"2206\" y=\"-1004.8\" font-family=\"Helvetica,sans-Serif\" font-size=\"14.00\" fill=\"#000000\">Sex_male &lt;= 0.5</text>\n<text text-anchor=\"middle\" x=\"2206\" y=\"-989.8\" font-family=\"Helvetica,sans-Serif\" font-size=\"14.00\" fill=\"#000000\">entropy = 0.957</text>\n<text text-anchor=\"middle\" x=\"2206\" y=\"-974.8\" font-family=\"Helvetica,sans-Serif\" font-size=\"14.00\" fill=\"#000000\">samples = 801</text>\n<text text-anchor=\"middle\" x=\"2206\" y=\"-959.8\" font-family=\"Helvetica,sans-Serif\" font-size=\"14.00\" fill=\"#000000\">value = [498, 303]</text>\n<text text-anchor=\"middle\" x=\"2206\" y=\"-944.8\" font-family=\"Helvetica,sans-Serif\" font-size=\"14.00\" fill=\"#000000\">class = survived_false</text>\n</g>\n<!-- 1 -->\n<g id=\"node2\" class=\"node\">\n<title>1</title>\n<polygon fill=\"#81c1ee\" stroke=\"#000000\" points=\"1838,-901 1684,-901 1684,-818 1838,-818 1838,-901\"/>\n<text text-anchor=\"middle\" x=\"1761\" y=\"-885.8\" font-family=\"Helvetica,sans-Serif\" font-size=\"14.00\" fill=\"#000000\">Pclass &lt;= 2.5</text>\n<text text-anchor=\"middle\" x=\"1761\" y=\"-870.8\" font-family=\"Helvetica,sans-Serif\" font-size=\"14.00\" fill=\"#000000\">entropy = 0.837</text>\n<text text-anchor=\"middle\" x=\"1761\" y=\"-855.8\" font-family=\"Helvetica,sans-Serif\" font-size=\"14.00\" fill=\"#000000\">samples = 281</text>\n<text text-anchor=\"middle\" x=\"1761\" y=\"-840.8\" font-family=\"Helvetica,sans-Serif\" font-size=\"14.00\" fill=\"#000000\">value = [75, 206]</text>\n<text text-anchor=\"middle\" x=\"1761\" y=\"-825.8\" font-family=\"Helvetica,sans-Serif\" font-size=\"14.00\" fill=\"#000000\">class = survived_true</text>\n</g>\n<!-- 0&#45;&gt;1 -->\n<g id=\"edge1\" class=\"edge\">\n<title>0&#45;&gt;1</title>\n<path fill=\"none\" stroke=\"#000000\" d=\"M2125.929,-957.0877C2047.6995,-936.168 1928.9456,-904.4113 1848.3227,-882.8515\"/>\n<polygon fill=\"#000000\" stroke=\"#000000\" points=\"1848.7582,-879.345 1838.1934,-880.1427 1846.9498,-886.1074 1848.7582,-879.345\"/>\n<text text-anchor=\"middle\" x=\"1850.7042\" y=\"-898.0872\" font-family=\"Helvetica,sans-Serif\" font-size=\"14.00\" fill=\"#000000\">True</text>\n</g>\n<!-- 50 -->\n<g id=\"node51\" class=\"node\">\n<title>50</title>\n<polygon fill=\"#eb9e66\" stroke=\"#000000\" points=\"2731,-901 2571,-901 2571,-818 2731,-818 2731,-901\"/>\n<text text-anchor=\"middle\" x=\"2651\" y=\"-885.8\" font-family=\"Helvetica,sans-Serif\" font-size=\"14.00\" fill=\"#000000\">Pclass &lt;= 1.5</text>\n<text text-anchor=\"middle\" x=\"2651\" y=\"-870.8\" font-family=\"Helvetica,sans-Serif\" font-size=\"14.00\" fill=\"#000000\">entropy = 0.694</text>\n<text text-anchor=\"middle\" x=\"2651\" y=\"-855.8\" font-family=\"Helvetica,sans-Serif\" font-size=\"14.00\" fill=\"#000000\">samples = 520</text>\n<text text-anchor=\"middle\" x=\"2651\" y=\"-840.8\" font-family=\"Helvetica,sans-Serif\" font-size=\"14.00\" fill=\"#000000\">value = [423, 97]</text>\n<text text-anchor=\"middle\" x=\"2651\" y=\"-825.8\" font-family=\"Helvetica,sans-Serif\" font-size=\"14.00\" fill=\"#000000\">class = survived_false</text>\n</g>\n<!-- 0&#45;&gt;50 -->\n<g id=\"edge50\" class=\"edge\">\n<title>0&#45;&gt;50</title>\n<path fill=\"none\" stroke=\"#000000\" d=\"M2286.071,-957.0877C2363.3406,-936.4246 2480.1463,-905.189 2560.6925,-883.6496\"/>\n<polygon fill=\"#000000\" stroke=\"#000000\" points=\"2562.0661,-886.9054 2570.8224,-880.9407 2560.2577,-880.143 2562.0661,-886.9054\"/>\n<text text-anchor=\"middle\" x=\"2558.3116\" y=\"-898.8852\" font-family=\"Helvetica,sans-Serif\" font-size=\"14.00\" fill=\"#000000\">False</text>\n</g>\n<!-- 2 -->\n<g id=\"node3\" class=\"node\">\n<title>2</title>\n<polygon fill=\"#44a3e6\" stroke=\"#000000\" points=\"949,-782 795,-782 795,-699 949,-699 949,-782\"/>\n<text text-anchor=\"middle\" x=\"872\" y=\"-766.8\" font-family=\"Helvetica,sans-Serif\" font-size=\"14.00\" fill=\"#000000\">Pclass &lt;= 1.5</text>\n<text text-anchor=\"middle\" x=\"872\" y=\"-751.8\" font-family=\"Helvetica,sans-Serif\" font-size=\"14.00\" fill=\"#000000\">entropy = 0.305</text>\n<text text-anchor=\"middle\" x=\"872\" y=\"-736.8\" font-family=\"Helvetica,sans-Serif\" font-size=\"14.00\" fill=\"#000000\">samples = 147</text>\n<text text-anchor=\"middle\" x=\"872\" y=\"-721.8\" font-family=\"Helvetica,sans-Serif\" font-size=\"14.00\" fill=\"#000000\">value = [8, 139]</text>\n<text text-anchor=\"middle\" x=\"872\" y=\"-706.8\" font-family=\"Helvetica,sans-Serif\" font-size=\"14.00\" fill=\"#000000\">class = survived_true</text>\n</g>\n<!-- 1&#45;&gt;2 -->\n<g id=\"edge2\" class=\"edge\">\n<title>1&#45;&gt;2</title>\n<path fill=\"none\" stroke=\"#000000\" d=\"M1683.6622,-849.1477C1518.6087,-827.0539 1132.7944,-775.4095 959.2716,-752.182\"/>\n<polygon fill=\"#000000\" stroke=\"#000000\" points=\"959.5339,-748.686 949.1579,-750.8282 958.6051,-755.6241 959.5339,-748.686\"/>\n</g>\n<!-- 19 -->\n<g id=\"node20\" class=\"node\">\n<title>19</title>\n<polygon fill=\"#ffffff\" stroke=\"#000000\" points=\"1841,-782 1681,-782 1681,-699 1841,-699 1841,-782\"/>\n<text text-anchor=\"middle\" x=\"1761\" y=\"-766.8\" font-family=\"Helvetica,sans-Serif\" font-size=\"14.00\" fill=\"#000000\">Parch &lt;= 1.5</text>\n<text text-anchor=\"middle\" x=\"1761\" y=\"-751.8\" font-family=\"Helvetica,sans-Serif\" font-size=\"14.00\" fill=\"#000000\">entropy = 1.0</text>\n<text text-anchor=\"middle\" x=\"1761\" y=\"-736.8\" font-family=\"Helvetica,sans-Serif\" font-size=\"14.00\" fill=\"#000000\">samples = 134</text>\n<text text-anchor=\"middle\" x=\"1761\" y=\"-721.8\" font-family=\"Helvetica,sans-Serif\" font-size=\"14.00\" fill=\"#000000\">value = [67, 67]</text>\n<text text-anchor=\"middle\" x=\"1761\" y=\"-706.8\" font-family=\"Helvetica,sans-Serif\" font-size=\"14.00\" fill=\"#000000\">class = survived_false</text>\n</g>\n<!-- 1&#45;&gt;19 -->\n<g id=\"edge19\" class=\"edge\">\n<title>1&#45;&gt;19</title>\n<path fill=\"none\" stroke=\"#000000\" d=\"M1761,-817.8796C1761,-809.6838 1761,-800.9891 1761,-792.5013\"/>\n<polygon fill=\"#000000\" stroke=\"#000000\" points=\"1764.5001,-792.298 1761,-782.2981 1757.5001,-792.2981 1764.5001,-792.298\"/>\n</g>\n<!-- 3 -->\n<g id=\"node4\" class=\"node\">\n<title>3</title>\n<polygon fill=\"#41a1e6\" stroke=\"#000000\" points=\"691,-663 537,-663 537,-580 691,-580 691,-663\"/>\n<text text-anchor=\"middle\" x=\"614\" y=\"-647.8\" font-family=\"Helvetica,sans-Serif\" font-size=\"14.00\" fill=\"#000000\">Parch &lt;= 1.5</text>\n<text text-anchor=\"middle\" x=\"614\" y=\"-632.8\" font-family=\"Helvetica,sans-Serif\" font-size=\"14.00\" fill=\"#000000\">entropy = 0.229</text>\n<text text-anchor=\"middle\" x=\"614\" y=\"-617.8\" font-family=\"Helvetica,sans-Serif\" font-size=\"14.00\" fill=\"#000000\">samples = 81</text>\n<text text-anchor=\"middle\" x=\"614\" y=\"-602.8\" font-family=\"Helvetica,sans-Serif\" font-size=\"14.00\" fill=\"#000000\">value = [3, 78]</text>\n<text text-anchor=\"middle\" x=\"614\" y=\"-587.8\" font-family=\"Helvetica,sans-Serif\" font-size=\"14.00\" fill=\"#000000\">class = survived_true</text>\n</g>\n<!-- 2&#45;&gt;3 -->\n<g id=\"edge3\" class=\"edge\">\n<title>2&#45;&gt;3</title>\n<path fill=\"none\" stroke=\"#000000\" d=\"M794.941,-704.9573C765.2024,-691.2406 731.0426,-675.4848 700.4711,-661.384\"/>\n<polygon fill=\"#000000\" stroke=\"#000000\" points=\"701.654,-658.0753 691.1075,-657.0651 698.7222,-664.4317 701.654,-658.0753\"/>\n</g>\n<!-- 14 -->\n<g id=\"node15\" class=\"node\">\n<title>14</title>\n<polygon fill=\"#49a5e7\" stroke=\"#000000\" points=\"949,-663 795,-663 795,-580 949,-580 949,-663\"/>\n<text text-anchor=\"middle\" x=\"872\" y=\"-647.8\" font-family=\"Helvetica,sans-Serif\" font-size=\"14.00\" fill=\"#000000\">Parch &lt;= 0.5</text>\n<text text-anchor=\"middle\" x=\"872\" y=\"-632.8\" font-family=\"Helvetica,sans-Serif\" font-size=\"14.00\" fill=\"#000000\">entropy = 0.387</text>\n<text text-anchor=\"middle\" x=\"872\" y=\"-617.8\" font-family=\"Helvetica,sans-Serif\" font-size=\"14.00\" fill=\"#000000\">samples = 66</text>\n<text text-anchor=\"middle\" x=\"872\" y=\"-602.8\" font-family=\"Helvetica,sans-Serif\" font-size=\"14.00\" fill=\"#000000\">value = [5, 61]</text>\n<text text-anchor=\"middle\" x=\"872\" y=\"-587.8\" font-family=\"Helvetica,sans-Serif\" font-size=\"14.00\" fill=\"#000000\">class = survived_true</text>\n</g>\n<!-- 2&#45;&gt;14 -->\n<g id=\"edge14\" class=\"edge\">\n<title>2&#45;&gt;14</title>\n<path fill=\"none\" stroke=\"#000000\" d=\"M872,-698.8796C872,-690.6838 872,-681.9891 872,-673.5013\"/>\n<polygon fill=\"#000000\" stroke=\"#000000\" points=\"875.5001,-673.298 872,-663.2981 868.5001,-673.2981 875.5001,-673.298\"/>\n</g>\n<!-- 4 -->\n<g id=\"node5\" class=\"node\">\n<title>4</title>\n<polygon fill=\"#3c9ee5\" stroke=\"#000000\" points=\"368,-544 214,-544 214,-461 368,-461 368,-544\"/>\n<text text-anchor=\"middle\" x=\"291\" y=\"-528.8\" font-family=\"Helvetica,sans-Serif\" font-size=\"14.00\" fill=\"#000000\">SibSp &lt;= 0.5</text>\n<text text-anchor=\"middle\" x=\"291\" y=\"-513.8\" font-family=\"Helvetica,sans-Serif\" font-size=\"14.00\" fill=\"#000000\">entropy = 0.108</text>\n<text text-anchor=\"middle\" x=\"291\" y=\"-498.8\" font-family=\"Helvetica,sans-Serif\" font-size=\"14.00\" fill=\"#000000\">samples = 70</text>\n<text text-anchor=\"middle\" x=\"291\" y=\"-483.8\" font-family=\"Helvetica,sans-Serif\" font-size=\"14.00\" fill=\"#000000\">value = [1, 69]</text>\n<text text-anchor=\"middle\" x=\"291\" y=\"-468.8\" font-family=\"Helvetica,sans-Serif\" font-size=\"14.00\" fill=\"#000000\">class = survived_true</text>\n</g>\n<!-- 3&#45;&gt;4 -->\n<g id=\"edge4\" class=\"edge\">\n<title>3&#45;&gt;4</title>\n<path fill=\"none\" stroke=\"#000000\" d=\"M536.6335,-592.9965C488.6796,-575.3293 426.9954,-552.6036 377.4383,-534.3457\"/>\n<polygon fill=\"#000000\" stroke=\"#000000\" points=\"378.6081,-531.0467 368.0147,-530.8738 376.1881,-537.6151 378.6081,-531.0467\"/>\n</g>\n<!-- 9 -->\n<g id=\"node10\" class=\"node\">\n<title>9</title>\n<polygon fill=\"#65b3eb\" stroke=\"#000000\" points=\"691,-544 537,-544 537,-461 691,-461 691,-544\"/>\n<text text-anchor=\"middle\" x=\"614\" y=\"-528.8\" font-family=\"Helvetica,sans-Serif\" font-size=\"14.00\" fill=\"#000000\">SibSp &lt;= 0.5</text>\n<text text-anchor=\"middle\" x=\"614\" y=\"-513.8\" font-family=\"Helvetica,sans-Serif\" font-size=\"14.00\" fill=\"#000000\">entropy = 0.684</text>\n<text text-anchor=\"middle\" x=\"614\" y=\"-498.8\" font-family=\"Helvetica,sans-Serif\" font-size=\"14.00\" fill=\"#000000\">samples = 11</text>\n<text text-anchor=\"middle\" x=\"614\" y=\"-483.8\" font-family=\"Helvetica,sans-Serif\" font-size=\"14.00\" fill=\"#000000\">value = [2, 9]</text>\n<text text-anchor=\"middle\" x=\"614\" y=\"-468.8\" font-family=\"Helvetica,sans-Serif\" font-size=\"14.00\" fill=\"#000000\">class = survived_true</text>\n</g>\n<!-- 3&#45;&gt;9 -->\n<g id=\"edge9\" class=\"edge\">\n<title>3&#45;&gt;9</title>\n<path fill=\"none\" stroke=\"#000000\" d=\"M614,-579.8796C614,-571.6838 614,-562.9891 614,-554.5013\"/>\n<polygon fill=\"#000000\" stroke=\"#000000\" points=\"617.5001,-554.298 614,-544.2981 610.5001,-554.2981 617.5001,-554.298\"/>\n</g>\n<!-- 5 -->\n<g id=\"node6\" class=\"node\">\n<title>5</title>\n<polygon fill=\"#3ea0e6\" stroke=\"#000000\" points=\"196,-425 42,-425 42,-342 196,-342 196,-425\"/>\n<text text-anchor=\"middle\" x=\"119\" y=\"-409.8\" font-family=\"Helvetica,sans-Serif\" font-size=\"14.00\" fill=\"#000000\">Parch &lt;= 0.5</text>\n<text text-anchor=\"middle\" x=\"119\" y=\"-394.8\" font-family=\"Helvetica,sans-Serif\" font-size=\"14.00\" fill=\"#000000\">entropy = 0.179</text>\n<text text-anchor=\"middle\" x=\"119\" y=\"-379.8\" font-family=\"Helvetica,sans-Serif\" font-size=\"14.00\" fill=\"#000000\">samples = 37</text>\n<text text-anchor=\"middle\" x=\"119\" y=\"-364.8\" font-family=\"Helvetica,sans-Serif\" font-size=\"14.00\" fill=\"#000000\">value = [1, 36]</text>\n<text text-anchor=\"middle\" x=\"119\" y=\"-349.8\" font-family=\"Helvetica,sans-Serif\" font-size=\"14.00\" fill=\"#000000\">class = survived_true</text>\n</g>\n<!-- 4&#45;&gt;5 -->\n<g id=\"edge5\" class=\"edge\">\n<title>4&#45;&gt;5</title>\n<path fill=\"none\" stroke=\"#000000\" d=\"M230.8427,-460.8796C216.833,-451.1868 201.8146,-440.7961 187.475,-430.8752\"/>\n<polygon fill=\"#000000\" stroke=\"#000000\" points=\"189.3383,-427.9083 179.1233,-425.0969 185.3556,-433.6649 189.3383,-427.9083\"/>\n</g>\n<!-- 8 -->\n<g id=\"node9\" class=\"node\">\n<title>8</title>\n<polygon fill=\"#399de5\" stroke=\"#000000\" points=\"368,-417.5 214,-417.5 214,-349.5 368,-349.5 368,-417.5\"/>\n<text text-anchor=\"middle\" x=\"291\" y=\"-402.3\" font-family=\"Helvetica,sans-Serif\" font-size=\"14.00\" fill=\"#000000\">entropy = 0.0</text>\n<text text-anchor=\"middle\" x=\"291\" y=\"-387.3\" font-family=\"Helvetica,sans-Serif\" font-size=\"14.00\" fill=\"#000000\">samples = 33</text>\n<text text-anchor=\"middle\" x=\"291\" y=\"-372.3\" font-family=\"Helvetica,sans-Serif\" font-size=\"14.00\" fill=\"#000000\">value = [0, 33]</text>\n<text text-anchor=\"middle\" x=\"291\" y=\"-357.3\" font-family=\"Helvetica,sans-Serif\" font-size=\"14.00\" fill=\"#000000\">class = survived_true</text>\n</g>\n<!-- 4&#45;&gt;8 -->\n<g id=\"edge8\" class=\"edge\">\n<title>4&#45;&gt;8</title>\n<path fill=\"none\" stroke=\"#000000\" d=\"M291,-460.8796C291,-450.2134 291,-438.7021 291,-427.9015\"/>\n<polygon fill=\"#000000\" stroke=\"#000000\" points=\"294.5001,-427.8149 291,-417.8149 287.5001,-427.815 294.5001,-427.8149\"/>\n</g>\n<!-- 6 -->\n<g id=\"node7\" class=\"node\">\n<title>6</title>\n<polygon fill=\"#41a1e6\" stroke=\"#000000\" points=\"154,-298.5 0,-298.5 0,-230.5 154,-230.5 154,-298.5\"/>\n<text text-anchor=\"middle\" x=\"77\" y=\"-283.3\" font-family=\"Helvetica,sans-Serif\" font-size=\"14.00\" fill=\"#000000\">entropy = 0.229</text>\n<text text-anchor=\"middle\" x=\"77\" y=\"-268.3\" font-family=\"Helvetica,sans-Serif\" font-size=\"14.00\" fill=\"#000000\">samples = 27</text>\n<text text-anchor=\"middle\" x=\"77\" y=\"-253.3\" font-family=\"Helvetica,sans-Serif\" font-size=\"14.00\" fill=\"#000000\">value = [1, 26]</text>\n<text text-anchor=\"middle\" x=\"77\" y=\"-238.3\" font-family=\"Helvetica,sans-Serif\" font-size=\"14.00\" fill=\"#000000\">class = survived_true</text>\n</g>\n<!-- 5&#45;&gt;6 -->\n<g id=\"edge6\" class=\"edge\">\n<title>5&#45;&gt;6</title>\n<path fill=\"none\" stroke=\"#000000\" d=\"M104.3104,-341.8796C100.5071,-331.1034 96.3993,-319.4647 92.5533,-308.5677\"/>\n<polygon fill=\"#000000\" stroke=\"#000000\" points=\"95.7399,-307.08 89.1112,-298.8149 89.139,-309.4097 95.7399,-307.08\"/>\n</g>\n<!-- 7 -->\n<g id=\"node8\" class=\"node\">\n<title>7</title>\n<polygon fill=\"#399de5\" stroke=\"#000000\" points=\"326,-298.5 172,-298.5 172,-230.5 326,-230.5 326,-298.5\"/>\n<text text-anchor=\"middle\" x=\"249\" y=\"-283.3\" font-family=\"Helvetica,sans-Serif\" font-size=\"14.00\" fill=\"#000000\">entropy = 0.0</text>\n<text text-anchor=\"middle\" x=\"249\" y=\"-268.3\" font-family=\"Helvetica,sans-Serif\" font-size=\"14.00\" fill=\"#000000\">samples = 10</text>\n<text text-anchor=\"middle\" x=\"249\" y=\"-253.3\" font-family=\"Helvetica,sans-Serif\" font-size=\"14.00\" fill=\"#000000\">value = [0, 10]</text>\n<text text-anchor=\"middle\" x=\"249\" y=\"-238.3\" font-family=\"Helvetica,sans-Serif\" font-size=\"14.00\" fill=\"#000000\">class = survived_true</text>\n</g>\n<!-- 5&#45;&gt;7 -->\n<g id=\"edge7\" class=\"edge\">\n<title>5&#45;&gt;7</title>\n<path fill=\"none\" stroke=\"#000000\" d=\"M164.4677,-341.8796C177.3211,-330.1138 191.2979,-317.3197 204.1166,-305.5855\"/>\n<polygon fill=\"#000000\" stroke=\"#000000\" points=\"206.5001,-308.1488 211.5131,-298.8149 201.7736,-302.9854 206.5001,-308.1488\"/>\n</g>\n<!-- 10 -->\n<g id=\"node11\" class=\"node\">\n<title>10</title>\n<polygon fill=\"#399de5\" stroke=\"#000000\" points=\"540,-417.5 386,-417.5 386,-349.5 540,-349.5 540,-417.5\"/>\n<text text-anchor=\"middle\" x=\"463\" y=\"-402.3\" font-family=\"Helvetica,sans-Serif\" font-size=\"14.00\" fill=\"#000000\">entropy = 0.0</text>\n<text text-anchor=\"middle\" x=\"463\" y=\"-387.3\" font-family=\"Helvetica,sans-Serif\" font-size=\"14.00\" fill=\"#000000\">samples = 4</text>\n<text text-anchor=\"middle\" x=\"463\" y=\"-372.3\" font-family=\"Helvetica,sans-Serif\" font-size=\"14.00\" fill=\"#000000\">value = [0, 4]</text>\n<text text-anchor=\"middle\" x=\"463\" y=\"-357.3\" font-family=\"Helvetica,sans-Serif\" font-size=\"14.00\" fill=\"#000000\">class = survived_true</text>\n</g>\n<!-- 9&#45;&gt;10 -->\n<g id=\"edge10\" class=\"edge\">\n<title>9&#45;&gt;10</title>\n<path fill=\"none\" stroke=\"#000000\" d=\"M561.1875,-460.8796C546.1183,-449.0038 529.7197,-436.0804 514.7166,-424.2568\"/>\n<polygon fill=\"#000000\" stroke=\"#000000\" points=\"516.5631,-421.2557 506.5425,-417.8149 512.2302,-426.7536 516.5631,-421.2557\"/>\n</g>\n<!-- 11 -->\n<g id=\"node12\" class=\"node\">\n<title>11</title>\n<polygon fill=\"#88c4ef\" stroke=\"#000000\" points=\"712,-425 558,-425 558,-342 712,-342 712,-425\"/>\n<text text-anchor=\"middle\" x=\"635\" y=\"-409.8\" font-family=\"Helvetica,sans-Serif\" font-size=\"14.00\" fill=\"#000000\">SibSp &lt;= 1.5</text>\n<text text-anchor=\"middle\" x=\"635\" y=\"-394.8\" font-family=\"Helvetica,sans-Serif\" font-size=\"14.00\" fill=\"#000000\">entropy = 0.863</text>\n<text text-anchor=\"middle\" x=\"635\" y=\"-379.8\" font-family=\"Helvetica,sans-Serif\" font-size=\"14.00\" fill=\"#000000\">samples = 7</text>\n<text text-anchor=\"middle\" x=\"635\" y=\"-364.8\" font-family=\"Helvetica,sans-Serif\" font-size=\"14.00\" fill=\"#000000\">value = [2, 5]</text>\n<text text-anchor=\"middle\" x=\"635\" y=\"-349.8\" font-family=\"Helvetica,sans-Serif\" font-size=\"14.00\" fill=\"#000000\">class = survived_true</text>\n</g>\n<!-- 9&#45;&gt;11 -->\n<g id=\"edge11\" class=\"edge\">\n<title>9&#45;&gt;11</title>\n<path fill=\"none\" stroke=\"#000000\" d=\"M621.3448,-460.8796C622.807,-452.5938 624.3592,-443.798 625.8727,-435.2216\"/>\n<polygon fill=\"#000000\" stroke=\"#000000\" points=\"629.3327,-435.7542 627.6239,-425.2981 622.4392,-434.5376 629.3327,-435.7542\"/>\n</g>\n<!-- 12 -->\n<g id=\"node13\" class=\"node\">\n<title>12</title>\n<polygon fill=\"#ffffff\" stroke=\"#000000\" points=\"583,-298.5 423,-298.5 423,-230.5 583,-230.5 583,-298.5\"/>\n<text text-anchor=\"middle\" x=\"503\" y=\"-283.3\" font-family=\"Helvetica,sans-Serif\" font-size=\"14.00\" fill=\"#000000\">entropy = 1.0</text>\n<text text-anchor=\"middle\" x=\"503\" y=\"-268.3\" font-family=\"Helvetica,sans-Serif\" font-size=\"14.00\" fill=\"#000000\">samples = 4</text>\n<text text-anchor=\"middle\" x=\"503\" y=\"-253.3\" font-family=\"Helvetica,sans-Serif\" font-size=\"14.00\" fill=\"#000000\">value = [2, 2]</text>\n<text text-anchor=\"middle\" x=\"503\" y=\"-238.3\" font-family=\"Helvetica,sans-Serif\" font-size=\"14.00\" fill=\"#000000\">class = survived_false</text>\n</g>\n<!-- 11&#45;&gt;12 -->\n<g id=\"edge12\" class=\"edge\">\n<title>11&#45;&gt;12</title>\n<path fill=\"none\" stroke=\"#000000\" d=\"M588.8328,-341.8796C575.7817,-330.1138 561.5899,-317.3197 548.5739,-305.5855\"/>\n<polygon fill=\"#000000\" stroke=\"#000000\" points=\"550.8346,-302.9113 541.0636,-298.8149 546.1474,-308.1104 550.8346,-302.9113\"/>\n</g>\n<!-- 13 -->\n<g id=\"node14\" class=\"node\">\n<title>13</title>\n<polygon fill=\"#399de5\" stroke=\"#000000\" points=\"755,-298.5 601,-298.5 601,-230.5 755,-230.5 755,-298.5\"/>\n<text text-anchor=\"middle\" x=\"678\" y=\"-283.3\" font-family=\"Helvetica,sans-Serif\" font-size=\"14.00\" fill=\"#000000\">entropy = 0.0</text>\n<text text-anchor=\"middle\" x=\"678\" y=\"-268.3\" font-family=\"Helvetica,sans-Serif\" font-size=\"14.00\" fill=\"#000000\">samples = 3</text>\n<text text-anchor=\"middle\" x=\"678\" y=\"-253.3\" font-family=\"Helvetica,sans-Serif\" font-size=\"14.00\" fill=\"#000000\">value = [0, 3]</text>\n<text text-anchor=\"middle\" x=\"678\" y=\"-238.3\" font-family=\"Helvetica,sans-Serif\" font-size=\"14.00\" fill=\"#000000\">class = survived_true</text>\n</g>\n<!-- 11&#45;&gt;13 -->\n<g id=\"edge13\" class=\"edge\">\n<title>11&#45;&gt;13</title>\n<path fill=\"none\" stroke=\"#000000\" d=\"M650.0393,-341.8796C653.973,-330.9935 658.2247,-319.227 662.1968,-308.2344\"/>\n<polygon fill=\"#000000\" stroke=\"#000000\" points=\"665.4937,-309.4092 665.6005,-298.8149 658.9103,-307.0303 665.4937,-309.4092\"/>\n</g>\n<!-- 15 -->\n<g id=\"node16\" class=\"node\">\n<title>15</title>\n<polygon fill=\"#55abe9\" stroke=\"#000000\" points=\"906,-544 752,-544 752,-461 906,-461 906,-544\"/>\n<text text-anchor=\"middle\" x=\"829\" y=\"-528.8\" font-family=\"Helvetica,sans-Serif\" font-size=\"14.00\" fill=\"#000000\">SibSp &lt;= 0.5</text>\n<text text-anchor=\"middle\" x=\"829\" y=\"-513.8\" font-family=\"Helvetica,sans-Serif\" font-size=\"14.00\" fill=\"#000000\">entropy = 0.544</text>\n<text text-anchor=\"middle\" x=\"829\" y=\"-498.8\" font-family=\"Helvetica,sans-Serif\" font-size=\"14.00\" fill=\"#000000\">samples = 40</text>\n<text text-anchor=\"middle\" x=\"829\" y=\"-483.8\" font-family=\"Helvetica,sans-Serif\" font-size=\"14.00\" fill=\"#000000\">value = [5, 35]</text>\n<text text-anchor=\"middle\" x=\"829\" y=\"-468.8\" font-family=\"Helvetica,sans-Serif\" font-size=\"14.00\" fill=\"#000000\">class = survived_true</text>\n</g>\n<!-- 14&#45;&gt;15 -->\n<g id=\"edge15\" class=\"edge\">\n<title>14&#45;&gt;15</title>\n<path fill=\"none\" stroke=\"#000000\" d=\"M856.9607,-579.8796C853.9341,-571.5037 850.7192,-562.6067 847.5883,-553.942\"/>\n<polygon fill=\"#000000\" stroke=\"#000000\" points=\"850.7937,-552.5135 844.1035,-544.2981 844.2103,-554.8924 850.7937,-552.5135\"/>\n</g>\n<!-- 18 -->\n<g id=\"node19\" class=\"node\">\n<title>18</title>\n<polygon fill=\"#399de5\" stroke=\"#000000\" points=\"1078,-536.5 924,-536.5 924,-468.5 1078,-468.5 1078,-536.5\"/>\n<text text-anchor=\"middle\" x=\"1001\" y=\"-521.3\" font-family=\"Helvetica,sans-Serif\" font-size=\"14.00\" fill=\"#000000\">entropy = 0.0</text>\n<text text-anchor=\"middle\" x=\"1001\" y=\"-506.3\" font-family=\"Helvetica,sans-Serif\" font-size=\"14.00\" fill=\"#000000\">samples = 26</text>\n<text text-anchor=\"middle\" x=\"1001\" y=\"-491.3\" font-family=\"Helvetica,sans-Serif\" font-size=\"14.00\" fill=\"#000000\">value = [0, 26]</text>\n<text text-anchor=\"middle\" x=\"1001\" y=\"-476.3\" font-family=\"Helvetica,sans-Serif\" font-size=\"14.00\" fill=\"#000000\">class = survived_true</text>\n</g>\n<!-- 14&#45;&gt;18 -->\n<g id=\"edge18\" class=\"edge\">\n<title>14&#45;&gt;18</title>\n<path fill=\"none\" stroke=\"#000000\" d=\"M917.1179,-579.8796C929.7533,-568.2237 943.4826,-555.5587 956.105,-543.9148\"/>\n<polygon fill=\"#000000\" stroke=\"#000000\" points=\"958.8244,-546.168 963.8015,-536.8149 954.078,-541.0228 958.8244,-546.168\"/>\n</g>\n<!-- 16 -->\n<g id=\"node17\" class=\"node\">\n<title>16</title>\n<polygon fill=\"#50a8e8\" stroke=\"#000000\" points=\"884,-417.5 730,-417.5 730,-349.5 884,-349.5 884,-417.5\"/>\n<text text-anchor=\"middle\" x=\"807\" y=\"-402.3\" font-family=\"Helvetica,sans-Serif\" font-size=\"14.00\" fill=\"#000000\">entropy = 0.48</text>\n<text text-anchor=\"middle\" x=\"807\" y=\"-387.3\" font-family=\"Helvetica,sans-Serif\" font-size=\"14.00\" fill=\"#000000\">samples = 29</text>\n<text text-anchor=\"middle\" x=\"807\" y=\"-372.3\" font-family=\"Helvetica,sans-Serif\" font-size=\"14.00\" fill=\"#000000\">value = [3, 26]</text>\n<text text-anchor=\"middle\" x=\"807\" y=\"-357.3\" font-family=\"Helvetica,sans-Serif\" font-size=\"14.00\" fill=\"#000000\">class = survived_true</text>\n</g>\n<!-- 15&#45;&gt;16 -->\n<g id=\"edge16\" class=\"edge\">\n<title>15&#45;&gt;16</title>\n<path fill=\"none\" stroke=\"#000000\" d=\"M821.3055,-460.8796C819.3336,-450.2134 817.2054,-438.7021 815.2087,-427.9015\"/>\n<polygon fill=\"#000000\" stroke=\"#000000\" points=\"818.6036,-427.012 813.3439,-417.8149 811.7203,-428.2846 818.6036,-427.012\"/>\n</g>\n<!-- 17 -->\n<g id=\"node18\" class=\"node\">\n<title>17</title>\n<polygon fill=\"#65b3eb\" stroke=\"#000000\" points=\"1056,-417.5 902,-417.5 902,-349.5 1056,-349.5 1056,-417.5\"/>\n<text text-anchor=\"middle\" x=\"979\" y=\"-402.3\" font-family=\"Helvetica,sans-Serif\" font-size=\"14.00\" fill=\"#000000\">entropy = 0.684</text>\n<text text-anchor=\"middle\" x=\"979\" y=\"-387.3\" font-family=\"Helvetica,sans-Serif\" font-size=\"14.00\" fill=\"#000000\">samples = 11</text>\n<text text-anchor=\"middle\" x=\"979\" y=\"-372.3\" font-family=\"Helvetica,sans-Serif\" font-size=\"14.00\" fill=\"#000000\">value = [2, 9]</text>\n<text text-anchor=\"middle\" x=\"979\" y=\"-357.3\" font-family=\"Helvetica,sans-Serif\" font-size=\"14.00\" fill=\"#000000\">class = survived_true</text>\n</g>\n<!-- 15&#45;&gt;17 -->\n<g id=\"edge17\" class=\"edge\">\n<title>15&#45;&gt;17</title>\n<path fill=\"none\" stroke=\"#000000\" d=\"M881.4627,-460.8796C896.4322,-449.0038 912.7222,-436.0804 927.6259,-424.2568\"/>\n<polygon fill=\"#000000\" stroke=\"#000000\" points=\"930.087,-426.772 935.7459,-417.8149 925.7365,-421.2881 930.087,-426.772\"/>\n</g>\n<!-- 20 -->\n<g id=\"node21\" class=\"node\">\n<title>20</title>\n<polygon fill=\"#d3e9f9\" stroke=\"#000000\" points=\"1663,-663 1509,-663 1509,-580 1663,-580 1663,-663\"/>\n<text text-anchor=\"middle\" x=\"1586\" y=\"-647.8\" font-family=\"Helvetica,sans-Serif\" font-size=\"14.00\" fill=\"#000000\">SibSp &lt;= 2.5</text>\n<text text-anchor=\"middle\" x=\"1586\" y=\"-632.8\" font-family=\"Helvetica,sans-Serif\" font-size=\"14.00\" fill=\"#000000\">entropy = 0.989</text>\n<text text-anchor=\"middle\" x=\"1586\" y=\"-617.8\" font-family=\"Helvetica,sans-Serif\" font-size=\"14.00\" fill=\"#000000\">samples = 105</text>\n<text text-anchor=\"middle\" x=\"1586\" y=\"-602.8\" font-family=\"Helvetica,sans-Serif\" font-size=\"14.00\" fill=\"#000000\">value = [46, 59]</text>\n<text text-anchor=\"middle\" x=\"1586\" y=\"-587.8\" font-family=\"Helvetica,sans-Serif\" font-size=\"14.00\" fill=\"#000000\">class = survived_true</text>\n</g>\n<!-- 19&#45;&gt;20 -->\n<g id=\"edge20\" class=\"edge\">\n<title>19&#45;&gt;20</title>\n<path fill=\"none\" stroke=\"#000000\" d=\"M1699.7935,-698.8796C1685.5394,-689.1868 1670.259,-678.7961 1655.6693,-668.8752\"/>\n<polygon fill=\"#000000\" stroke=\"#000000\" points=\"1657.4093,-665.8258 1647.1719,-663.0969 1653.4731,-671.6143 1657.4093,-665.8258\"/>\n</g>\n<!-- 35 -->\n<g id=\"node36\" class=\"node\">\n<title>35</title>\n<polygon fill=\"#efb184\" stroke=\"#000000\" points=\"1930,-663 1770,-663 1770,-580 1930,-580 1930,-663\"/>\n<text text-anchor=\"middle\" x=\"1850\" y=\"-647.8\" font-family=\"Helvetica,sans-Serif\" font-size=\"14.00\" fill=\"#000000\">SibSp &lt;= 4.5</text>\n<text text-anchor=\"middle\" x=\"1850\" y=\"-632.8\" font-family=\"Helvetica,sans-Serif\" font-size=\"14.00\" fill=\"#000000\">entropy = 0.85</text>\n<text text-anchor=\"middle\" x=\"1850\" y=\"-617.8\" font-family=\"Helvetica,sans-Serif\" font-size=\"14.00\" fill=\"#000000\">samples = 29</text>\n<text text-anchor=\"middle\" x=\"1850\" y=\"-602.8\" font-family=\"Helvetica,sans-Serif\" font-size=\"14.00\" fill=\"#000000\">value = [21, 8]</text>\n<text text-anchor=\"middle\" x=\"1850\" y=\"-587.8\" font-family=\"Helvetica,sans-Serif\" font-size=\"14.00\" fill=\"#000000\">class = survived_false</text>\n</g>\n<!-- 19&#45;&gt;35 -->\n<g id=\"edge35\" class=\"edge\">\n<title>19&#45;&gt;35</title>\n<path fill=\"none\" stroke=\"#000000\" d=\"M1792.1279,-698.8796C1798.729,-690.0534 1805.7629,-680.6485 1812.5702,-671.5466\"/>\n<polygon fill=\"#000000\" stroke=\"#000000\" points=\"1815.5528,-673.4024 1818.7393,-663.2981 1809.9472,-669.2099 1815.5528,-673.4024\"/>\n</g>\n<!-- 21 -->\n<g id=\"node22\" class=\"node\">\n<title>21</title>\n<polygon fill=\"#c5e2f7\" stroke=\"#000000\" points=\"1402,-544 1248,-544 1248,-461 1402,-461 1402,-544\"/>\n<text text-anchor=\"middle\" x=\"1325\" y=\"-528.8\" font-family=\"Helvetica,sans-Serif\" font-size=\"14.00\" fill=\"#000000\">SibSp &lt;= 1.5</text>\n<text text-anchor=\"middle\" x=\"1325\" y=\"-513.8\" font-family=\"Helvetica,sans-Serif\" font-size=\"14.00\" fill=\"#000000\">entropy = 0.979</text>\n<text text-anchor=\"middle\" x=\"1325\" y=\"-498.8\" font-family=\"Helvetica,sans-Serif\" font-size=\"14.00\" fill=\"#000000\">samples = 99</text>\n<text text-anchor=\"middle\" x=\"1325\" y=\"-483.8\" font-family=\"Helvetica,sans-Serif\" font-size=\"14.00\" fill=\"#000000\">value = [41, 58]</text>\n<text text-anchor=\"middle\" x=\"1325\" y=\"-468.8\" font-family=\"Helvetica,sans-Serif\" font-size=\"14.00\" fill=\"#000000\">class = survived_true</text>\n</g>\n<!-- 20&#45;&gt;21 -->\n<g id=\"edge21\" class=\"edge\">\n<title>20&#45;&gt;21</title>\n<path fill=\"none\" stroke=\"#000000\" d=\"M1508.7508,-586.2791C1478.1048,-572.3064 1442.7297,-556.1775 1411.2509,-541.8251\"/>\n<polygon fill=\"#000000\" stroke=\"#000000\" points=\"1412.6019,-538.5945 1402.051,-537.6305 1409.6979,-544.9637 1412.6019,-538.5945\"/>\n</g>\n<!-- 32 -->\n<g id=\"node33\" class=\"node\">\n<title>32</title>\n<polygon fill=\"#ea9a61\" stroke=\"#000000\" points=\"1666,-544 1506,-544 1506,-461 1666,-461 1666,-544\"/>\n<text text-anchor=\"middle\" x=\"1586\" y=\"-528.8\" font-family=\"Helvetica,sans-Serif\" font-size=\"14.00\" fill=\"#000000\">Parch &lt;= 0.5</text>\n<text text-anchor=\"middle\" x=\"1586\" y=\"-513.8\" font-family=\"Helvetica,sans-Serif\" font-size=\"14.00\" fill=\"#000000\">entropy = 0.65</text>\n<text text-anchor=\"middle\" x=\"1586\" y=\"-498.8\" font-family=\"Helvetica,sans-Serif\" font-size=\"14.00\" fill=\"#000000\">samples = 6</text>\n<text text-anchor=\"middle\" x=\"1586\" y=\"-483.8\" font-family=\"Helvetica,sans-Serif\" font-size=\"14.00\" fill=\"#000000\">value = [5, 1]</text>\n<text text-anchor=\"middle\" x=\"1586\" y=\"-468.8\" font-family=\"Helvetica,sans-Serif\" font-size=\"14.00\" fill=\"#000000\">class = survived_false</text>\n</g>\n<!-- 20&#45;&gt;32 -->\n<g id=\"edge32\" class=\"edge\">\n<title>20&#45;&gt;32</title>\n<path fill=\"none\" stroke=\"#000000\" d=\"M1586,-579.8796C1586,-571.6838 1586,-562.9891 1586,-554.5013\"/>\n<polygon fill=\"#000000\" stroke=\"#000000\" points=\"1589.5001,-554.298 1586,-544.2981 1582.5001,-554.2981 1589.5001,-554.298\"/>\n</g>\n<!-- 22 -->\n<g id=\"node23\" class=\"node\">\n<title>22</title>\n<polygon fill=\"#cce6f8\" stroke=\"#000000\" points=\"1228,-425 1074,-425 1074,-342 1228,-342 1228,-425\"/>\n<text text-anchor=\"middle\" x=\"1151\" y=\"-409.8\" font-family=\"Helvetica,sans-Serif\" font-size=\"14.00\" fill=\"#000000\">SibSp &lt;= 0.5</text>\n<text text-anchor=\"middle\" x=\"1151\" y=\"-394.8\" font-family=\"Helvetica,sans-Serif\" font-size=\"14.00\" fill=\"#000000\">entropy = 0.984</text>\n<text text-anchor=\"middle\" x=\"1151\" y=\"-379.8\" font-family=\"Helvetica,sans-Serif\" font-size=\"14.00\" fill=\"#000000\">samples = 94</text>\n<text text-anchor=\"middle\" x=\"1151\" y=\"-364.8\" font-family=\"Helvetica,sans-Serif\" font-size=\"14.00\" fill=\"#000000\">value = [40, 54]</text>\n<text text-anchor=\"middle\" x=\"1151\" y=\"-349.8\" font-family=\"Helvetica,sans-Serif\" font-size=\"14.00\" fill=\"#000000\">class = survived_true</text>\n</g>\n<!-- 21&#45;&gt;22 -->\n<g id=\"edge22\" class=\"edge\">\n<title>21&#45;&gt;22</title>\n<path fill=\"none\" stroke=\"#000000\" d=\"M1264.1432,-460.8796C1249.9706,-451.1868 1234.7775,-440.7961 1220.2712,-430.8752\"/>\n<polygon fill=\"#000000\" stroke=\"#000000\" points=\"1222.0525,-427.8531 1211.8224,-425.0969 1218.1008,-433.6311 1222.0525,-427.8531\"/>\n</g>\n<!-- 29 -->\n<g id=\"node30\" class=\"node\">\n<title>29</title>\n<polygon fill=\"#6ab6ec\" stroke=\"#000000\" points=\"1402,-425 1248,-425 1248,-342 1402,-342 1402,-425\"/>\n<text text-anchor=\"middle\" x=\"1325\" y=\"-409.8\" font-family=\"Helvetica,sans-Serif\" font-size=\"14.00\" fill=\"#000000\">Parch &lt;= 0.5</text>\n<text text-anchor=\"middle\" x=\"1325\" y=\"-394.8\" font-family=\"Helvetica,sans-Serif\" font-size=\"14.00\" fill=\"#000000\">entropy = 0.722</text>\n<text text-anchor=\"middle\" x=\"1325\" y=\"-379.8\" font-family=\"Helvetica,sans-Serif\" font-size=\"14.00\" fill=\"#000000\">samples = 5</text>\n<text text-anchor=\"middle\" x=\"1325\" y=\"-364.8\" font-family=\"Helvetica,sans-Serif\" font-size=\"14.00\" fill=\"#000000\">value = [1, 4]</text>\n<text text-anchor=\"middle\" x=\"1325\" y=\"-349.8\" font-family=\"Helvetica,sans-Serif\" font-size=\"14.00\" fill=\"#000000\">class = survived_true</text>\n</g>\n<!-- 21&#45;&gt;29 -->\n<g id=\"edge29\" class=\"edge\">\n<title>21&#45;&gt;29</title>\n<path fill=\"none\" stroke=\"#000000\" d=\"M1325,-460.8796C1325,-452.6838 1325,-443.9891 1325,-435.5013\"/>\n<polygon fill=\"#000000\" stroke=\"#000000\" points=\"1328.5001,-435.298 1325,-425.2981 1321.5001,-435.2981 1328.5001,-435.298\"/>\n</g>\n<!-- 23 -->\n<g id=\"node24\" class=\"node\">\n<title>23</title>\n<polygon fill=\"#b6dbf5\" stroke=\"#000000\" points=\"1051,-306 897,-306 897,-223 1051,-223 1051,-306\"/>\n<text text-anchor=\"middle\" x=\"974\" y=\"-290.8\" font-family=\"Helvetica,sans-Serif\" font-size=\"14.00\" fill=\"#000000\">Parch &lt;= 0.5</text>\n<text text-anchor=\"middle\" x=\"974\" y=\"-275.8\" font-family=\"Helvetica,sans-Serif\" font-size=\"14.00\" fill=\"#000000\">entropy = 0.963</text>\n<text text-anchor=\"middle\" x=\"974\" y=\"-260.8\" font-family=\"Helvetica,sans-Serif\" font-size=\"14.00\" fill=\"#000000\">samples = 62</text>\n<text text-anchor=\"middle\" x=\"974\" y=\"-245.8\" font-family=\"Helvetica,sans-Serif\" font-size=\"14.00\" fill=\"#000000\">value = [24, 38]</text>\n<text text-anchor=\"middle\" x=\"974\" y=\"-230.8\" font-family=\"Helvetica,sans-Serif\" font-size=\"14.00\" fill=\"#000000\">class = survived_true</text>\n</g>\n<!-- 22&#45;&gt;23 -->\n<g id=\"edge23\" class=\"edge\">\n<title>22&#45;&gt;23</title>\n<path fill=\"none\" stroke=\"#000000\" d=\"M1089.094,-341.8796C1074.677,-332.1868 1059.222,-321.7961 1044.4656,-311.8752\"/>\n<polygon fill=\"#000000\" stroke=\"#000000\" points=\"1046.1227,-308.7718 1035.8711,-306.0969 1042.2171,-314.581 1046.1227,-308.7718\"/>\n</g>\n<!-- 26 -->\n<g id=\"node27\" class=\"node\">\n<title>26</title>\n<polygon fill=\"#ffffff\" stroke=\"#000000\" points=\"1229,-306 1069,-306 1069,-223 1229,-223 1229,-306\"/>\n<text text-anchor=\"middle\" x=\"1149\" y=\"-290.8\" font-family=\"Helvetica,sans-Serif\" font-size=\"14.00\" fill=\"#000000\">Parch &lt;= 0.5</text>\n<text text-anchor=\"middle\" x=\"1149\" y=\"-275.8\" font-family=\"Helvetica,sans-Serif\" font-size=\"14.00\" fill=\"#000000\">entropy = 1.0</text>\n<text text-anchor=\"middle\" x=\"1149\" y=\"-260.8\" font-family=\"Helvetica,sans-Serif\" font-size=\"14.00\" fill=\"#000000\">samples = 32</text>\n<text text-anchor=\"middle\" x=\"1149\" y=\"-245.8\" font-family=\"Helvetica,sans-Serif\" font-size=\"14.00\" fill=\"#000000\">value = [16, 16]</text>\n<text text-anchor=\"middle\" x=\"1149\" y=\"-230.8\" font-family=\"Helvetica,sans-Serif\" font-size=\"14.00\" fill=\"#000000\">class = survived_false</text>\n</g>\n<!-- 22&#45;&gt;26 -->\n<g id=\"edge26\" class=\"edge\">\n<title>22&#45;&gt;26</title>\n<path fill=\"none\" stroke=\"#000000\" d=\"M1150.3005,-341.8796C1150.1628,-333.6838 1150.0166,-324.9891 1149.874,-316.5013\"/>\n<polygon fill=\"#000000\" stroke=\"#000000\" points=\"1153.3701,-316.2378 1149.7025,-306.2981 1146.3711,-316.3555 1153.3701,-316.2378\"/>\n</g>\n<!-- 24 -->\n<g id=\"node25\" class=\"node\">\n<title>24</title>\n<polygon fill=\"#b3daf5\" stroke=\"#000000\" points=\"879,-179.5 725,-179.5 725,-111.5 879,-111.5 879,-179.5\"/>\n<text text-anchor=\"middle\" x=\"802\" y=\"-164.3\" font-family=\"Helvetica,sans-Serif\" font-size=\"14.00\" fill=\"#000000\">entropy = 0.959</text>\n<text text-anchor=\"middle\" x=\"802\" y=\"-149.3\" font-family=\"Helvetica,sans-Serif\" font-size=\"14.00\" fill=\"#000000\">samples = 55</text>\n<text text-anchor=\"middle\" x=\"802\" y=\"-134.3\" font-family=\"Helvetica,sans-Serif\" font-size=\"14.00\" fill=\"#000000\">value = [21, 34]</text>\n<text text-anchor=\"middle\" x=\"802\" y=\"-119.3\" font-family=\"Helvetica,sans-Serif\" font-size=\"14.00\" fill=\"#000000\">class = survived_true</text>\n</g>\n<!-- 23&#45;&gt;24 -->\n<g id=\"edge24\" class=\"edge\">\n<title>23&#45;&gt;24</title>\n<path fill=\"none\" stroke=\"#000000\" d=\"M913.8427,-222.8796C896.2766,-210.7263 877.1248,-197.4759 859.7136,-185.4297\"/>\n<polygon fill=\"#000000\" stroke=\"#000000\" points=\"861.5357,-182.4344 851.3207,-179.623 857.553,-188.191 861.5357,-182.4344\"/>\n</g>\n<!-- 25 -->\n<g id=\"node26\" class=\"node\">\n<title>25</title>\n<polygon fill=\"#cee6f8\" stroke=\"#000000\" points=\"1051,-179.5 897,-179.5 897,-111.5 1051,-111.5 1051,-179.5\"/>\n<text text-anchor=\"middle\" x=\"974\" y=\"-164.3\" font-family=\"Helvetica,sans-Serif\" font-size=\"14.00\" fill=\"#000000\">entropy = 0.985</text>\n<text text-anchor=\"middle\" x=\"974\" y=\"-149.3\" font-family=\"Helvetica,sans-Serif\" font-size=\"14.00\" fill=\"#000000\">samples = 7</text>\n<text text-anchor=\"middle\" x=\"974\" y=\"-134.3\" font-family=\"Helvetica,sans-Serif\" font-size=\"14.00\" fill=\"#000000\">value = [3, 4]</text>\n<text text-anchor=\"middle\" x=\"974\" y=\"-119.3\" font-family=\"Helvetica,sans-Serif\" font-size=\"14.00\" fill=\"#000000\">class = survived_true</text>\n</g>\n<!-- 23&#45;&gt;25 -->\n<g id=\"edge25\" class=\"edge\">\n<title>23&#45;&gt;25</title>\n<path fill=\"none\" stroke=\"#000000\" d=\"M974,-222.8796C974,-212.2134 974,-200.7021 974,-189.9015\"/>\n<polygon fill=\"#000000\" stroke=\"#000000\" points=\"977.5001,-189.8149 974,-179.8149 970.5001,-189.815 977.5001,-189.8149\"/>\n</g>\n<!-- 27 -->\n<g id=\"node28\" class=\"node\">\n<title>27</title>\n<polygon fill=\"#ffffff\" stroke=\"#000000\" points=\"1229,-179.5 1069,-179.5 1069,-111.5 1229,-111.5 1229,-179.5\"/>\n<text text-anchor=\"middle\" x=\"1149\" y=\"-164.3\" font-family=\"Helvetica,sans-Serif\" font-size=\"14.00\" fill=\"#000000\">entropy = 1.0</text>\n<text text-anchor=\"middle\" x=\"1149\" y=\"-149.3\" font-family=\"Helvetica,sans-Serif\" font-size=\"14.00\" fill=\"#000000\">samples = 22</text>\n<text text-anchor=\"middle\" x=\"1149\" y=\"-134.3\" font-family=\"Helvetica,sans-Serif\" font-size=\"14.00\" fill=\"#000000\">value = [11, 11]</text>\n<text text-anchor=\"middle\" x=\"1149\" y=\"-119.3\" font-family=\"Helvetica,sans-Serif\" font-size=\"14.00\" fill=\"#000000\">class = survived_false</text>\n</g>\n<!-- 26&#45;&gt;27 -->\n<g id=\"edge27\" class=\"edge\">\n<title>26&#45;&gt;27</title>\n<path fill=\"none\" stroke=\"#000000\" d=\"M1149,-222.8796C1149,-212.2134 1149,-200.7021 1149,-189.9015\"/>\n<polygon fill=\"#000000\" stroke=\"#000000\" points=\"1152.5001,-189.8149 1149,-179.8149 1145.5001,-189.815 1152.5001,-189.8149\"/>\n</g>\n<!-- 28 -->\n<g id=\"node29\" class=\"node\">\n<title>28</title>\n<polygon fill=\"#ffffff\" stroke=\"#000000\" points=\"1407,-179.5 1247,-179.5 1247,-111.5 1407,-111.5 1407,-179.5\"/>\n<text text-anchor=\"middle\" x=\"1327\" y=\"-164.3\" font-family=\"Helvetica,sans-Serif\" font-size=\"14.00\" fill=\"#000000\">entropy = 1.0</text>\n<text text-anchor=\"middle\" x=\"1327\" y=\"-149.3\" font-family=\"Helvetica,sans-Serif\" font-size=\"14.00\" fill=\"#000000\">samples = 10</text>\n<text text-anchor=\"middle\" x=\"1327\" y=\"-134.3\" font-family=\"Helvetica,sans-Serif\" font-size=\"14.00\" fill=\"#000000\">value = [5, 5]</text>\n<text text-anchor=\"middle\" x=\"1327\" y=\"-119.3\" font-family=\"Helvetica,sans-Serif\" font-size=\"14.00\" fill=\"#000000\">class = survived_false</text>\n</g>\n<!-- 26&#45;&gt;28 -->\n<g id=\"edge28\" class=\"edge\">\n<title>26&#45;&gt;28</title>\n<path fill=\"none\" stroke=\"#000000\" d=\"M1211.2558,-222.8796C1229.4346,-210.7263 1249.2546,-197.4759 1267.2731,-185.4297\"/>\n<polygon fill=\"#000000\" stroke=\"#000000\" points=\"1269.5907,-188.0905 1275.9588,-179.623 1265.7003,-182.2712 1269.5907,-188.0905\"/>\n</g>\n<!-- 30 -->\n<g id=\"node31\" class=\"node\">\n<title>30</title>\n<polygon fill=\"#ffffff\" stroke=\"#000000\" points=\"1407,-298.5 1247,-298.5 1247,-230.5 1407,-230.5 1407,-298.5\"/>\n<text text-anchor=\"middle\" x=\"1327\" y=\"-283.3\" font-family=\"Helvetica,sans-Serif\" font-size=\"14.00\" fill=\"#000000\">entropy = 1.0</text>\n<text text-anchor=\"middle\" x=\"1327\" y=\"-268.3\" font-family=\"Helvetica,sans-Serif\" font-size=\"14.00\" fill=\"#000000\">samples = 2</text>\n<text text-anchor=\"middle\" x=\"1327\" y=\"-253.3\" font-family=\"Helvetica,sans-Serif\" font-size=\"14.00\" fill=\"#000000\">value = [1, 1]</text>\n<text text-anchor=\"middle\" x=\"1327\" y=\"-238.3\" font-family=\"Helvetica,sans-Serif\" font-size=\"14.00\" fill=\"#000000\">class = survived_false</text>\n</g>\n<!-- 29&#45;&gt;30 -->\n<g id=\"edge30\" class=\"edge\">\n<title>29&#45;&gt;30</title>\n<path fill=\"none\" stroke=\"#000000\" d=\"M1325.6995,-341.8796C1325.8788,-331.2134 1326.0722,-319.7021 1326.2538,-308.9015\"/>\n<polygon fill=\"#000000\" stroke=\"#000000\" points=\"1329.7546,-308.8724 1326.4233,-298.8149 1322.7556,-308.7547 1329.7546,-308.8724\"/>\n</g>\n<!-- 31 -->\n<g id=\"node32\" class=\"node\">\n<title>31</title>\n<polygon fill=\"#399de5\" stroke=\"#000000\" points=\"1579,-298.5 1425,-298.5 1425,-230.5 1579,-230.5 1579,-298.5\"/>\n<text text-anchor=\"middle\" x=\"1502\" y=\"-283.3\" font-family=\"Helvetica,sans-Serif\" font-size=\"14.00\" fill=\"#000000\">entropy = 0.0</text>\n<text text-anchor=\"middle\" x=\"1502\" y=\"-268.3\" font-family=\"Helvetica,sans-Serif\" font-size=\"14.00\" fill=\"#000000\">samples = 3</text>\n<text text-anchor=\"middle\" x=\"1502\" y=\"-253.3\" font-family=\"Helvetica,sans-Serif\" font-size=\"14.00\" fill=\"#000000\">value = [0, 3]</text>\n<text text-anchor=\"middle\" x=\"1502\" y=\"-238.3\" font-family=\"Helvetica,sans-Serif\" font-size=\"14.00\" fill=\"#000000\">class = survived_true</text>\n</g>\n<!-- 29&#45;&gt;31 -->\n<g id=\"edge31\" class=\"edge\">\n<title>29&#45;&gt;31</title>\n<path fill=\"none\" stroke=\"#000000\" d=\"M1386.906,-341.8796C1404.9828,-329.7263 1424.6914,-316.4759 1442.6087,-304.4297\"/>\n<polygon fill=\"#000000\" stroke=\"#000000\" points=\"1444.8996,-307.1071 1451.2456,-298.623 1440.9939,-301.2979 1444.8996,-307.1071\"/>\n</g>\n<!-- 33 -->\n<g id=\"node34\" class=\"node\">\n<title>33</title>\n<polygon fill=\"#399de5\" stroke=\"#000000\" points=\"1574,-417.5 1420,-417.5 1420,-349.5 1574,-349.5 1574,-417.5\"/>\n<text text-anchor=\"middle\" x=\"1497\" y=\"-402.3\" font-family=\"Helvetica,sans-Serif\" font-size=\"14.00\" fill=\"#000000\">entropy = 0.0</text>\n<text text-anchor=\"middle\" x=\"1497\" y=\"-387.3\" font-family=\"Helvetica,sans-Serif\" font-size=\"14.00\" fill=\"#000000\">samples = 1</text>\n<text text-anchor=\"middle\" x=\"1497\" y=\"-372.3\" font-family=\"Helvetica,sans-Serif\" font-size=\"14.00\" fill=\"#000000\">value = [0, 1]</text>\n<text text-anchor=\"middle\" x=\"1497\" y=\"-357.3\" font-family=\"Helvetica,sans-Serif\" font-size=\"14.00\" fill=\"#000000\">class = survived_true</text>\n</g>\n<!-- 32&#45;&gt;33 -->\n<g id=\"edge33\" class=\"edge\">\n<title>32&#45;&gt;33</title>\n<path fill=\"none\" stroke=\"#000000\" d=\"M1554.8721,-460.8796C1546.4014,-449.5536 1537.2181,-437.2748 1528.7153,-425.9058\"/>\n<polygon fill=\"#000000\" stroke=\"#000000\" points=\"1531.4562,-423.7268 1522.6641,-417.8149 1525.8505,-427.9193 1531.4562,-423.7268\"/>\n</g>\n<!-- 34 -->\n<g id=\"node35\" class=\"node\">\n<title>34</title>\n<polygon fill=\"#e58139\" stroke=\"#000000\" points=\"1752,-417.5 1592,-417.5 1592,-349.5 1752,-349.5 1752,-417.5\"/>\n<text text-anchor=\"middle\" x=\"1672\" y=\"-402.3\" font-family=\"Helvetica,sans-Serif\" font-size=\"14.00\" fill=\"#000000\">entropy = 0.0</text>\n<text text-anchor=\"middle\" x=\"1672\" y=\"-387.3\" font-family=\"Helvetica,sans-Serif\" font-size=\"14.00\" fill=\"#000000\">samples = 5</text>\n<text text-anchor=\"middle\" x=\"1672\" y=\"-372.3\" font-family=\"Helvetica,sans-Serif\" font-size=\"14.00\" fill=\"#000000\">value = [5, 0]</text>\n<text text-anchor=\"middle\" x=\"1672\" y=\"-357.3\" font-family=\"Helvetica,sans-Serif\" font-size=\"14.00\" fill=\"#000000\">class = survived_false</text>\n</g>\n<!-- 32&#45;&gt;34 -->\n<g id=\"edge34\" class=\"edge\">\n<title>32&#45;&gt;34</title>\n<path fill=\"none\" stroke=\"#000000\" d=\"M1616.0786,-460.8796C1624.1843,-449.6636 1632.9653,-437.5131 1641.1143,-426.2372\"/>\n<polygon fill=\"#000000\" stroke=\"#000000\" points=\"1644.1803,-427.9701 1647.201,-417.8149 1638.5068,-423.8698 1644.1803,-427.9701\"/>\n</g>\n<!-- 36 -->\n<g id=\"node37\" class=\"node\">\n<title>36</title>\n<polygon fill=\"#f1bc96\" stroke=\"#000000\" points=\"1930,-544 1770,-544 1770,-461 1930,-461 1930,-544\"/>\n<text text-anchor=\"middle\" x=\"1850\" y=\"-528.8\" font-family=\"Helvetica,sans-Serif\" font-size=\"14.00\" fill=\"#000000\">SibSp &lt;= 0.5</text>\n<text text-anchor=\"middle\" x=\"1850\" y=\"-513.8\" font-family=\"Helvetica,sans-Serif\" font-size=\"14.00\" fill=\"#000000\">entropy = 0.904</text>\n<text text-anchor=\"middle\" x=\"1850\" y=\"-498.8\" font-family=\"Helvetica,sans-Serif\" font-size=\"14.00\" fill=\"#000000\">samples = 25</text>\n<text text-anchor=\"middle\" x=\"1850\" y=\"-483.8\" font-family=\"Helvetica,sans-Serif\" font-size=\"14.00\" fill=\"#000000\">value = [17, 8]</text>\n<text text-anchor=\"middle\" x=\"1850\" y=\"-468.8\" font-family=\"Helvetica,sans-Serif\" font-size=\"14.00\" fill=\"#000000\">class = survived_false</text>\n</g>\n<!-- 35&#45;&gt;36 -->\n<g id=\"edge36\" class=\"edge\">\n<title>35&#45;&gt;36</title>\n<path fill=\"none\" stroke=\"#000000\" d=\"M1850,-579.8796C1850,-571.6838 1850,-562.9891 1850,-554.5013\"/>\n<polygon fill=\"#000000\" stroke=\"#000000\" points=\"1853.5001,-554.298 1850,-544.2981 1846.5001,-554.2981 1853.5001,-554.298\"/>\n</g>\n<!-- 49 -->\n<g id=\"node50\" class=\"node\">\n<title>49</title>\n<polygon fill=\"#e58139\" stroke=\"#000000\" points=\"2108,-536.5 1948,-536.5 1948,-468.5 2108,-468.5 2108,-536.5\"/>\n<text text-anchor=\"middle\" x=\"2028\" y=\"-521.3\" font-family=\"Helvetica,sans-Serif\" font-size=\"14.00\" fill=\"#000000\">entropy = 0.0</text>\n<text text-anchor=\"middle\" x=\"2028\" y=\"-506.3\" font-family=\"Helvetica,sans-Serif\" font-size=\"14.00\" fill=\"#000000\">samples = 4</text>\n<text text-anchor=\"middle\" x=\"2028\" y=\"-491.3\" font-family=\"Helvetica,sans-Serif\" font-size=\"14.00\" fill=\"#000000\">value = [4, 0]</text>\n<text text-anchor=\"middle\" x=\"2028\" y=\"-476.3\" font-family=\"Helvetica,sans-Serif\" font-size=\"14.00\" fill=\"#000000\">class = survived_false</text>\n</g>\n<!-- 35&#45;&gt;49 -->\n<g id=\"edge49\" class=\"edge\">\n<title>35&#45;&gt;49</title>\n<path fill=\"none\" stroke=\"#000000\" d=\"M1912.2558,-579.8796C1930.4346,-567.7263 1950.2546,-554.4759 1968.2731,-542.4297\"/>\n<polygon fill=\"#000000\" stroke=\"#000000\" points=\"1970.5907,-545.0905 1976.9588,-536.623 1966.7003,-539.2712 1970.5907,-545.0905\"/>\n</g>\n<!-- 37 -->\n<g id=\"node38\" class=\"node\">\n<title>37</title>\n<polygon fill=\"#fbeade\" stroke=\"#000000\" points=\"1930,-425 1770,-425 1770,-342 1930,-342 1930,-425\"/>\n<text text-anchor=\"middle\" x=\"1850\" y=\"-409.8\" font-family=\"Helvetica,sans-Serif\" font-size=\"14.00\" fill=\"#000000\">Parch &lt;= 4.0</text>\n<text text-anchor=\"middle\" x=\"1850\" y=\"-394.8\" font-family=\"Helvetica,sans-Serif\" font-size=\"14.00\" fill=\"#000000\">entropy = 0.994</text>\n<text text-anchor=\"middle\" x=\"1850\" y=\"-379.8\" font-family=\"Helvetica,sans-Serif\" font-size=\"14.00\" fill=\"#000000\">samples = 11</text>\n<text text-anchor=\"middle\" x=\"1850\" y=\"-364.8\" font-family=\"Helvetica,sans-Serif\" font-size=\"14.00\" fill=\"#000000\">value = [6, 5]</text>\n<text text-anchor=\"middle\" x=\"1850\" y=\"-349.8\" font-family=\"Helvetica,sans-Serif\" font-size=\"14.00\" fill=\"#000000\">class = survived_false</text>\n</g>\n<!-- 36&#45;&gt;37 -->\n<g id=\"edge37\" class=\"edge\">\n<title>36&#45;&gt;37</title>\n<path fill=\"none\" stroke=\"#000000\" d=\"M1850,-460.8796C1850,-452.6838 1850,-443.9891 1850,-435.5013\"/>\n<polygon fill=\"#000000\" stroke=\"#000000\" points=\"1853.5001,-435.298 1850,-425.2981 1846.5001,-435.2981 1853.5001,-435.298\"/>\n</g>\n<!-- 42 -->\n<g id=\"node43\" class=\"node\">\n<title>42</title>\n<polygon fill=\"#eca36f\" stroke=\"#000000\" points=\"2108,-425 1948,-425 1948,-342 2108,-342 2108,-425\"/>\n<text text-anchor=\"middle\" x=\"2028\" y=\"-409.8\" font-family=\"Helvetica,sans-Serif\" font-size=\"14.00\" fill=\"#000000\">SibSp &lt;= 3.5</text>\n<text text-anchor=\"middle\" x=\"2028\" y=\"-394.8\" font-family=\"Helvetica,sans-Serif\" font-size=\"14.00\" fill=\"#000000\">entropy = 0.75</text>\n<text text-anchor=\"middle\" x=\"2028\" y=\"-379.8\" font-family=\"Helvetica,sans-Serif\" font-size=\"14.00\" fill=\"#000000\">samples = 14</text>\n<text text-anchor=\"middle\" x=\"2028\" y=\"-364.8\" font-family=\"Helvetica,sans-Serif\" font-size=\"14.00\" fill=\"#000000\">value = [11, 3]</text>\n<text text-anchor=\"middle\" x=\"2028\" y=\"-349.8\" font-family=\"Helvetica,sans-Serif\" font-size=\"14.00\" fill=\"#000000\">class = survived_false</text>\n</g>\n<!-- 36&#45;&gt;42 -->\n<g id=\"edge42\" class=\"edge\">\n<title>36&#45;&gt;42</title>\n<path fill=\"none\" stroke=\"#000000\" d=\"M1912.2558,-460.8796C1926.7542,-451.1868 1942.2965,-440.7961 1957.1363,-430.8752\"/>\n<polygon fill=\"#000000\" stroke=\"#000000\" points=\"1959.4113,-433.5644 1965.7794,-425.0969 1955.5208,-427.7451 1959.4113,-433.5644\"/>\n</g>\n<!-- 38 -->\n<g id=\"node39\" class=\"node\">\n<title>38</title>\n<polygon fill=\"#d7ebfa\" stroke=\"#000000\" points=\"1752,-306 1598,-306 1598,-223 1752,-223 1752,-306\"/>\n<text text-anchor=\"middle\" x=\"1675\" y=\"-290.8\" font-family=\"Helvetica,sans-Serif\" font-size=\"14.00\" fill=\"#000000\">Parch &lt;= 2.5</text>\n<text text-anchor=\"middle\" x=\"1675\" y=\"-275.8\" font-family=\"Helvetica,sans-Serif\" font-size=\"14.00\" fill=\"#000000\">entropy = 0.991</text>\n<text text-anchor=\"middle\" x=\"1675\" y=\"-260.8\" font-family=\"Helvetica,sans-Serif\" font-size=\"14.00\" fill=\"#000000\">samples = 9</text>\n<text text-anchor=\"middle\" x=\"1675\" y=\"-245.8\" font-family=\"Helvetica,sans-Serif\" font-size=\"14.00\" fill=\"#000000\">value = [4, 5]</text>\n<text text-anchor=\"middle\" x=\"1675\" y=\"-230.8\" font-family=\"Helvetica,sans-Serif\" font-size=\"14.00\" fill=\"#000000\">class = survived_true</text>\n</g>\n<!-- 37&#45;&gt;38 -->\n<g id=\"edge38\" class=\"edge\">\n<title>37&#45;&gt;38</title>\n<path fill=\"none\" stroke=\"#000000\" d=\"M1788.7935,-341.8796C1774.5394,-332.1868 1759.259,-321.7961 1744.6693,-311.8752\"/>\n<polygon fill=\"#000000\" stroke=\"#000000\" points=\"1746.4093,-308.8258 1736.1719,-306.0969 1742.4731,-314.6143 1746.4093,-308.8258\"/>\n</g>\n<!-- 41 -->\n<g id=\"node42\" class=\"node\">\n<title>41</title>\n<polygon fill=\"#e58139\" stroke=\"#000000\" points=\"1930,-298.5 1770,-298.5 1770,-230.5 1930,-230.5 1930,-298.5\"/>\n<text text-anchor=\"middle\" x=\"1850\" y=\"-283.3\" font-family=\"Helvetica,sans-Serif\" font-size=\"14.00\" fill=\"#000000\">entropy = 0.0</text>\n<text text-anchor=\"middle\" x=\"1850\" y=\"-268.3\" font-family=\"Helvetica,sans-Serif\" font-size=\"14.00\" fill=\"#000000\">samples = 2</text>\n<text text-anchor=\"middle\" x=\"1850\" y=\"-253.3\" font-family=\"Helvetica,sans-Serif\" font-size=\"14.00\" fill=\"#000000\">value = [2, 0]</text>\n<text text-anchor=\"middle\" x=\"1850\" y=\"-238.3\" font-family=\"Helvetica,sans-Serif\" font-size=\"14.00\" fill=\"#000000\">class = survived_false</text>\n</g>\n<!-- 37&#45;&gt;41 -->\n<g id=\"edge41\" class=\"edge\">\n<title>37&#45;&gt;41</title>\n<path fill=\"none\" stroke=\"#000000\" d=\"M1850,-341.8796C1850,-331.2134 1850,-319.7021 1850,-308.9015\"/>\n<polygon fill=\"#000000\" stroke=\"#000000\" points=\"1853.5001,-308.8149 1850,-298.8149 1846.5001,-308.815 1853.5001,-308.8149\"/>\n</g>\n<!-- 39 -->\n<g id=\"node40\" class=\"node\">\n<title>39</title>\n<polygon fill=\"#ffffff\" stroke=\"#000000\" points=\"1628,-179.5 1468,-179.5 1468,-111.5 1628,-111.5 1628,-179.5\"/>\n<text text-anchor=\"middle\" x=\"1548\" y=\"-164.3\" font-family=\"Helvetica,sans-Serif\" font-size=\"14.00\" fill=\"#000000\">entropy = 1.0</text>\n<text text-anchor=\"middle\" x=\"1548\" y=\"-149.3\" font-family=\"Helvetica,sans-Serif\" font-size=\"14.00\" fill=\"#000000\">samples = 8</text>\n<text text-anchor=\"middle\" x=\"1548\" y=\"-134.3\" font-family=\"Helvetica,sans-Serif\" font-size=\"14.00\" fill=\"#000000\">value = [4, 4]</text>\n<text text-anchor=\"middle\" x=\"1548\" y=\"-119.3\" font-family=\"Helvetica,sans-Serif\" font-size=\"14.00\" fill=\"#000000\">class = survived_false</text>\n</g>\n<!-- 38&#45;&gt;39 -->\n<g id=\"edge39\" class=\"edge\">\n<title>38&#45;&gt;39</title>\n<path fill=\"none\" stroke=\"#000000\" d=\"M1630.5816,-222.8796C1618.1421,-211.2237 1604.6257,-198.5587 1592.199,-186.9148\"/>\n<polygon fill=\"#000000\" stroke=\"#000000\" points=\"1594.3121,-184.0985 1584.6218,-179.8149 1589.5259,-189.2065 1594.3121,-184.0985\"/>\n</g>\n<!-- 40 -->\n<g id=\"node41\" class=\"node\">\n<title>40</title>\n<polygon fill=\"#399de5\" stroke=\"#000000\" points=\"1800,-179.5 1646,-179.5 1646,-111.5 1800,-111.5 1800,-179.5\"/>\n<text text-anchor=\"middle\" x=\"1723\" y=\"-164.3\" font-family=\"Helvetica,sans-Serif\" font-size=\"14.00\" fill=\"#000000\">entropy = 0.0</text>\n<text text-anchor=\"middle\" x=\"1723\" y=\"-149.3\" font-family=\"Helvetica,sans-Serif\" font-size=\"14.00\" fill=\"#000000\">samples = 1</text>\n<text text-anchor=\"middle\" x=\"1723\" y=\"-134.3\" font-family=\"Helvetica,sans-Serif\" font-size=\"14.00\" fill=\"#000000\">value = [0, 1]</text>\n<text text-anchor=\"middle\" x=\"1723\" y=\"-119.3\" font-family=\"Helvetica,sans-Serif\" font-size=\"14.00\" fill=\"#000000\">class = survived_true</text>\n</g>\n<!-- 38&#45;&gt;40 -->\n<g id=\"edge40\" class=\"edge\">\n<title>38&#45;&gt;40</title>\n<path fill=\"none\" stroke=\"#000000\" d=\"M1691.7881,-222.8796C1696.1791,-211.9935 1700.9252,-200.227 1705.3592,-189.2344\"/>\n<polygon fill=\"#000000\" stroke=\"#000000\" points=\"1708.6638,-190.3982 1709.1587,-179.8149 1702.172,-187.7796 1708.6638,-190.3982\"/>\n</g>\n<!-- 43 -->\n<g id=\"node44\" class=\"node\">\n<title>43</title>\n<polygon fill=\"#e89152\" stroke=\"#000000\" points=\"2108,-306 1948,-306 1948,-223 2108,-223 2108,-306\"/>\n<text text-anchor=\"middle\" x=\"2028\" y=\"-290.8\" font-family=\"Helvetica,sans-Serif\" font-size=\"14.00\" fill=\"#000000\">Parch &lt;= 4.5</text>\n<text text-anchor=\"middle\" x=\"2028\" y=\"-275.8\" font-family=\"Helvetica,sans-Serif\" font-size=\"14.00\" fill=\"#000000\">entropy = 0.503</text>\n<text text-anchor=\"middle\" x=\"2028\" y=\"-260.8\" font-family=\"Helvetica,sans-Serif\" font-size=\"14.00\" fill=\"#000000\">samples = 9</text>\n<text text-anchor=\"middle\" x=\"2028\" y=\"-245.8\" font-family=\"Helvetica,sans-Serif\" font-size=\"14.00\" fill=\"#000000\">value = [8, 1]</text>\n<text text-anchor=\"middle\" x=\"2028\" y=\"-230.8\" font-family=\"Helvetica,sans-Serif\" font-size=\"14.00\" fill=\"#000000\">class = survived_false</text>\n</g>\n<!-- 42&#45;&gt;43 -->\n<g id=\"edge43\" class=\"edge\">\n<title>42&#45;&gt;43</title>\n<path fill=\"none\" stroke=\"#000000\" d=\"M2028,-341.8796C2028,-333.6838 2028,-324.9891 2028,-316.5013\"/>\n<polygon fill=\"#000000\" stroke=\"#000000\" points=\"2031.5001,-316.298 2028,-306.2981 2024.5001,-316.2981 2031.5001,-316.298\"/>\n</g>\n<!-- 48 -->\n<g id=\"node49\" class=\"node\">\n<title>48</title>\n<polygon fill=\"#f6d5bd\" stroke=\"#000000\" points=\"2286,-298.5 2126,-298.5 2126,-230.5 2286,-230.5 2286,-298.5\"/>\n<text text-anchor=\"middle\" x=\"2206\" y=\"-283.3\" font-family=\"Helvetica,sans-Serif\" font-size=\"14.00\" fill=\"#000000\">entropy = 0.971</text>\n<text text-anchor=\"middle\" x=\"2206\" y=\"-268.3\" font-family=\"Helvetica,sans-Serif\" font-size=\"14.00\" fill=\"#000000\">samples = 5</text>\n<text text-anchor=\"middle\" x=\"2206\" y=\"-253.3\" font-family=\"Helvetica,sans-Serif\" font-size=\"14.00\" fill=\"#000000\">value = [3, 2]</text>\n<text text-anchor=\"middle\" x=\"2206\" y=\"-238.3\" font-family=\"Helvetica,sans-Serif\" font-size=\"14.00\" fill=\"#000000\">class = survived_false</text>\n</g>\n<!-- 42&#45;&gt;48 -->\n<g id=\"edge48\" class=\"edge\">\n<title>42&#45;&gt;48</title>\n<path fill=\"none\" stroke=\"#000000\" d=\"M2090.2558,-341.8796C2108.4346,-329.7263 2128.2546,-316.4759 2146.2731,-304.4297\"/>\n<polygon fill=\"#000000\" stroke=\"#000000\" points=\"2148.5907,-307.0905 2154.9588,-298.623 2144.7003,-301.2712 2148.5907,-307.0905\"/>\n</g>\n<!-- 44 -->\n<g id=\"node45\" class=\"node\">\n<title>44</title>\n<polygon fill=\"#e58139\" stroke=\"#000000\" points=\"2064,-179.5 1904,-179.5 1904,-111.5 2064,-111.5 2064,-179.5\"/>\n<text text-anchor=\"middle\" x=\"1984\" y=\"-164.3\" font-family=\"Helvetica,sans-Serif\" font-size=\"14.00\" fill=\"#000000\">entropy = 0.0</text>\n<text text-anchor=\"middle\" x=\"1984\" y=\"-149.3\" font-family=\"Helvetica,sans-Serif\" font-size=\"14.00\" fill=\"#000000\">samples = 6</text>\n<text text-anchor=\"middle\" x=\"1984\" y=\"-134.3\" font-family=\"Helvetica,sans-Serif\" font-size=\"14.00\" fill=\"#000000\">value = [6, 0]</text>\n<text text-anchor=\"middle\" x=\"1984\" y=\"-119.3\" font-family=\"Helvetica,sans-Serif\" font-size=\"14.00\" fill=\"#000000\">class = survived_false</text>\n</g>\n<!-- 43&#45;&gt;44 -->\n<g id=\"edge44\" class=\"edge\">\n<title>43&#45;&gt;44</title>\n<path fill=\"none\" stroke=\"#000000\" d=\"M2012.6109,-222.8796C2008.5858,-211.9935 2004.2352,-200.227 2000.1707,-189.2344\"/>\n<polygon fill=\"#000000\" stroke=\"#000000\" points=\"2003.4387,-187.9805 1996.6879,-179.8149 1996.8732,-190.4082 2003.4387,-187.9805\"/>\n</g>\n<!-- 45 -->\n<g id=\"node46\" class=\"node\">\n<title>45</title>\n<polygon fill=\"#f2c09c\" stroke=\"#000000\" points=\"2242,-187 2082,-187 2082,-104 2242,-104 2242,-187\"/>\n<text text-anchor=\"middle\" x=\"2162\" y=\"-171.8\" font-family=\"Helvetica,sans-Serif\" font-size=\"14.00\" fill=\"#000000\">Parch &lt;= 5.5</text>\n<text text-anchor=\"middle\" x=\"2162\" y=\"-156.8\" font-family=\"Helvetica,sans-Serif\" font-size=\"14.00\" fill=\"#000000\">entropy = 0.918</text>\n<text text-anchor=\"middle\" x=\"2162\" y=\"-141.8\" font-family=\"Helvetica,sans-Serif\" font-size=\"14.00\" fill=\"#000000\">samples = 3</text>\n<text text-anchor=\"middle\" x=\"2162\" y=\"-126.8\" font-family=\"Helvetica,sans-Serif\" font-size=\"14.00\" fill=\"#000000\">value = [2, 1]</text>\n<text text-anchor=\"middle\" x=\"2162\" y=\"-111.8\" font-family=\"Helvetica,sans-Serif\" font-size=\"14.00\" fill=\"#000000\">class = survived_false</text>\n</g>\n<!-- 43&#45;&gt;45 -->\n<g id=\"edge45\" class=\"edge\">\n<title>43&#45;&gt;45</title>\n<path fill=\"none\" stroke=\"#000000\" d=\"M2074.8667,-222.8796C2085.3125,-213.6031 2096.4781,-203.6874 2107.211,-194.1559\"/>\n<polygon fill=\"#000000\" stroke=\"#000000\" points=\"2109.7801,-196.5553 2114.9333,-187.2981 2105.132,-191.3213 2109.7801,-196.5553\"/>\n</g>\n<!-- 46 -->\n<g id=\"node47\" class=\"node\">\n<title>46</title>\n<polygon fill=\"#ffffff\" stroke=\"#000000\" points=\"2153,-68 1993,-68 1993,0 2153,0 2153,-68\"/>\n<text text-anchor=\"middle\" x=\"2073\" y=\"-52.8\" font-family=\"Helvetica,sans-Serif\" font-size=\"14.00\" fill=\"#000000\">entropy = 1.0</text>\n<text text-anchor=\"middle\" x=\"2073\" y=\"-37.8\" font-family=\"Helvetica,sans-Serif\" font-size=\"14.00\" fill=\"#000000\">samples = 2</text>\n<text text-anchor=\"middle\" x=\"2073\" y=\"-22.8\" font-family=\"Helvetica,sans-Serif\" font-size=\"14.00\" fill=\"#000000\">value = [1, 1]</text>\n<text text-anchor=\"middle\" x=\"2073\" y=\"-7.8\" font-family=\"Helvetica,sans-Serif\" font-size=\"14.00\" fill=\"#000000\">class = survived_false</text>\n</g>\n<!-- 45&#45;&gt;46 -->\n<g id=\"edge46\" class=\"edge\">\n<title>45&#45;&gt;46</title>\n<path fill=\"none\" stroke=\"#000000\" d=\"M2128.8597,-103.9815C2121.597,-94.8828 2113.9017,-85.242 2106.6204,-76.1199\"/>\n<polygon fill=\"#000000\" stroke=\"#000000\" points=\"2109.3234,-73.8958 2100.3495,-68.2637 2103.8525,-78.2627 2109.3234,-73.8958\"/>\n</g>\n<!-- 47 -->\n<g id=\"node48\" class=\"node\">\n<title>47</title>\n<polygon fill=\"#e58139\" stroke=\"#000000\" points=\"2331,-68 2171,-68 2171,0 2331,0 2331,-68\"/>\n<text text-anchor=\"middle\" x=\"2251\" y=\"-52.8\" font-family=\"Helvetica,sans-Serif\" font-size=\"14.00\" fill=\"#000000\">entropy = 0.0</text>\n<text text-anchor=\"middle\" x=\"2251\" y=\"-37.8\" font-family=\"Helvetica,sans-Serif\" font-size=\"14.00\" fill=\"#000000\">samples = 1</text>\n<text text-anchor=\"middle\" x=\"2251\" y=\"-22.8\" font-family=\"Helvetica,sans-Serif\" font-size=\"14.00\" fill=\"#000000\">value = [1, 0]</text>\n<text text-anchor=\"middle\" x=\"2251\" y=\"-7.8\" font-family=\"Helvetica,sans-Serif\" font-size=\"14.00\" fill=\"#000000\">class = survived_false</text>\n</g>\n<!-- 45&#45;&gt;47 -->\n<g id=\"edge47\" class=\"edge\">\n<title>45&#45;&gt;47</title>\n<path fill=\"none\" stroke=\"#000000\" d=\"M2195.1403,-103.9815C2202.403,-94.8828 2210.0983,-85.242 2217.3796,-76.1199\"/>\n<polygon fill=\"#000000\" stroke=\"#000000\" points=\"2220.1475,-78.2627 2223.6505,-68.2637 2214.6766,-73.8958 2220.1475,-78.2627\"/>\n</g>\n<!-- 51 -->\n<g id=\"node52\" class=\"node\">\n<title>51</title>\n<polygon fill=\"#f3c3a0\" stroke=\"#000000\" points=\"2731,-782 2571,-782 2571,-699 2731,-699 2731,-782\"/>\n<text text-anchor=\"middle\" x=\"2651\" y=\"-766.8\" font-family=\"Helvetica,sans-Serif\" font-size=\"14.00\" fill=\"#000000\">SibSp &lt;= 0.5</text>\n<text text-anchor=\"middle\" x=\"2651\" y=\"-751.8\" font-family=\"Helvetica,sans-Serif\" font-size=\"14.00\" fill=\"#000000\">entropy = 0.928</text>\n<text text-anchor=\"middle\" x=\"2651\" y=\"-736.8\" font-family=\"Helvetica,sans-Serif\" font-size=\"14.00\" fill=\"#000000\">samples = 105</text>\n<text text-anchor=\"middle\" x=\"2651\" y=\"-721.8\" font-family=\"Helvetica,sans-Serif\" font-size=\"14.00\" fill=\"#000000\">value = [69, 36]</text>\n<text text-anchor=\"middle\" x=\"2651\" y=\"-706.8\" font-family=\"Helvetica,sans-Serif\" font-size=\"14.00\" fill=\"#000000\">class = survived_false</text>\n</g>\n<!-- 50&#45;&gt;51 -->\n<g id=\"edge51\" class=\"edge\">\n<title>50&#45;&gt;51</title>\n<path fill=\"none\" stroke=\"#000000\" d=\"M2651,-817.8796C2651,-809.6838 2651,-800.9891 2651,-792.5013\"/>\n<polygon fill=\"#000000\" stroke=\"#000000\" points=\"2654.5001,-792.298 2651,-782.2981 2647.5001,-792.2981 2654.5001,-792.298\"/>\n</g>\n<!-- 66 -->\n<g id=\"node67\" class=\"node\">\n<title>66</title>\n<polygon fill=\"#e9975b\" stroke=\"#000000\" points=\"3526,-782 3366,-782 3366,-699 3526,-699 3526,-782\"/>\n<text text-anchor=\"middle\" x=\"3446\" y=\"-766.8\" font-family=\"Helvetica,sans-Serif\" font-size=\"14.00\" fill=\"#000000\">Parch &lt;= 0.5</text>\n<text text-anchor=\"middle\" x=\"3446\" y=\"-751.8\" font-family=\"Helvetica,sans-Serif\" font-size=\"14.00\" fill=\"#000000\">entropy = 0.602</text>\n<text text-anchor=\"middle\" x=\"3446\" y=\"-736.8\" font-family=\"Helvetica,sans-Serif\" font-size=\"14.00\" fill=\"#000000\">samples = 415</text>\n<text text-anchor=\"middle\" x=\"3446\" y=\"-721.8\" font-family=\"Helvetica,sans-Serif\" font-size=\"14.00\" fill=\"#000000\">value = [354, 61]</text>\n<text text-anchor=\"middle\" x=\"3446\" y=\"-706.8\" font-family=\"Helvetica,sans-Serif\" font-size=\"14.00\" fill=\"#000000\">class = survived_false</text>\n</g>\n<!-- 50&#45;&gt;66 -->\n<g id=\"edge66\" class=\"edge\">\n<title>50&#45;&gt;66</title>\n<path fill=\"none\" stroke=\"#000000\" d=\"M2731.2354,-847.4899C2880.4366,-825.1567 3199.5743,-777.3864 3355.9207,-753.9836\"/>\n<polygon fill=\"#000000\" stroke=\"#000000\" points=\"3356.6084,-757.4197 3365.98,-752.4778 3355.572,-750.4968 3356.6084,-757.4197\"/>\n</g>\n<!-- 52 -->\n<g id=\"node53\" class=\"node\">\n<title>52</title>\n<polygon fill=\"#f0b68c\" stroke=\"#000000\" points=\"2642,-663 2482,-663 2482,-580 2642,-580 2642,-663\"/>\n<text text-anchor=\"middle\" x=\"2562\" y=\"-647.8\" font-family=\"Helvetica,sans-Serif\" font-size=\"14.00\" fill=\"#000000\">Parch &lt;= 1.5</text>\n<text text-anchor=\"middle\" x=\"2562\" y=\"-632.8\" font-family=\"Helvetica,sans-Serif\" font-size=\"14.00\" fill=\"#000000\">entropy = 0.875</text>\n<text text-anchor=\"middle\" x=\"2562\" y=\"-617.8\" font-family=\"Helvetica,sans-Serif\" font-size=\"14.00\" fill=\"#000000\">samples = 78</text>\n<text text-anchor=\"middle\" x=\"2562\" y=\"-602.8\" font-family=\"Helvetica,sans-Serif\" font-size=\"14.00\" fill=\"#000000\">value = [55, 23]</text>\n<text text-anchor=\"middle\" x=\"2562\" y=\"-587.8\" font-family=\"Helvetica,sans-Serif\" font-size=\"14.00\" fill=\"#000000\">class = survived_false</text>\n</g>\n<!-- 51&#45;&gt;52 -->\n<g id=\"edge52\" class=\"edge\">\n<title>51&#45;&gt;52</title>\n<path fill=\"none\" stroke=\"#000000\" d=\"M2619.8721,-698.8796C2613.271,-690.0534 2606.2371,-680.6485 2599.4298,-671.5466\"/>\n<polygon fill=\"#000000\" stroke=\"#000000\" points=\"2602.0528,-669.2099 2593.2607,-663.2981 2596.4472,-673.4024 2602.0528,-669.2099\"/>\n</g>\n<!-- 57 -->\n<g id=\"node58\" class=\"node\">\n<title>57</title>\n<polygon fill=\"#fdf6f1\" stroke=\"#000000\" points=\"2820,-663 2660,-663 2660,-580 2820,-580 2820,-663\"/>\n<text text-anchor=\"middle\" x=\"2740\" y=\"-647.8\" font-family=\"Helvetica,sans-Serif\" font-size=\"14.00\" fill=\"#000000\">Parch &lt;= 1.5</text>\n<text text-anchor=\"middle\" x=\"2740\" y=\"-632.8\" font-family=\"Helvetica,sans-Serif\" font-size=\"14.00\" fill=\"#000000\">entropy = 0.999</text>\n<text text-anchor=\"middle\" x=\"2740\" y=\"-617.8\" font-family=\"Helvetica,sans-Serif\" font-size=\"14.00\" fill=\"#000000\">samples = 27</text>\n<text text-anchor=\"middle\" x=\"2740\" y=\"-602.8\" font-family=\"Helvetica,sans-Serif\" font-size=\"14.00\" fill=\"#000000\">value = [14, 13]</text>\n<text text-anchor=\"middle\" x=\"2740\" y=\"-587.8\" font-family=\"Helvetica,sans-Serif\" font-size=\"14.00\" fill=\"#000000\">class = survived_false</text>\n</g>\n<!-- 51&#45;&gt;57 -->\n<g id=\"edge57\" class=\"edge\">\n<title>51&#45;&gt;57</title>\n<path fill=\"none\" stroke=\"#000000\" d=\"M2682.1279,-698.8796C2688.729,-690.0534 2695.7629,-680.6485 2702.5702,-671.5466\"/>\n<polygon fill=\"#000000\" stroke=\"#000000\" points=\"2705.5528,-673.4024 2708.7393,-663.2981 2699.9472,-669.2099 2705.5528,-673.4024\"/>\n</g>\n<!-- 53 -->\n<g id=\"node54\" class=\"node\">\n<title>53</title>\n<polygon fill=\"#efb387\" stroke=\"#000000\" points=\"2464,-544 2304,-544 2304,-461 2464,-461 2464,-544\"/>\n<text text-anchor=\"middle\" x=\"2384\" y=\"-528.8\" font-family=\"Helvetica,sans-Serif\" font-size=\"14.00\" fill=\"#000000\">Parch &lt;= 0.5</text>\n<text text-anchor=\"middle\" x=\"2384\" y=\"-513.8\" font-family=\"Helvetica,sans-Serif\" font-size=\"14.00\" fill=\"#000000\">entropy = 0.861</text>\n<text text-anchor=\"middle\" x=\"2384\" y=\"-498.8\" font-family=\"Helvetica,sans-Serif\" font-size=\"14.00\" fill=\"#000000\">samples = 74</text>\n<text text-anchor=\"middle\" x=\"2384\" y=\"-483.8\" font-family=\"Helvetica,sans-Serif\" font-size=\"14.00\" fill=\"#000000\">value = [53, 21]</text>\n<text text-anchor=\"middle\" x=\"2384\" y=\"-468.8\" font-family=\"Helvetica,sans-Serif\" font-size=\"14.00\" fill=\"#000000\">class = survived_false</text>\n</g>\n<!-- 52&#45;&gt;53 -->\n<g id=\"edge53\" class=\"edge\">\n<title>52&#45;&gt;53</title>\n<path fill=\"none\" stroke=\"#000000\" d=\"M2499.7442,-579.8796C2485.2458,-570.1868 2469.7035,-559.7961 2454.8637,-549.8752\"/>\n<polygon fill=\"#000000\" stroke=\"#000000\" points=\"2456.4792,-546.7451 2446.2206,-544.0969 2452.5887,-552.5644 2456.4792,-546.7451\"/>\n</g>\n<!-- 56 -->\n<g id=\"node57\" class=\"node\">\n<title>56</title>\n<polygon fill=\"#ffffff\" stroke=\"#000000\" points=\"2642,-536.5 2482,-536.5 2482,-468.5 2642,-468.5 2642,-536.5\"/>\n<text text-anchor=\"middle\" x=\"2562\" y=\"-521.3\" font-family=\"Helvetica,sans-Serif\" font-size=\"14.00\" fill=\"#000000\">entropy = 1.0</text>\n<text text-anchor=\"middle\" x=\"2562\" y=\"-506.3\" font-family=\"Helvetica,sans-Serif\" font-size=\"14.00\" fill=\"#000000\">samples = 4</text>\n<text text-anchor=\"middle\" x=\"2562\" y=\"-491.3\" font-family=\"Helvetica,sans-Serif\" font-size=\"14.00\" fill=\"#000000\">value = [2, 2]</text>\n<text text-anchor=\"middle\" x=\"2562\" y=\"-476.3\" font-family=\"Helvetica,sans-Serif\" font-size=\"14.00\" fill=\"#000000\">class = survived_false</text>\n</g>\n<!-- 52&#45;&gt;56 -->\n<g id=\"edge56\" class=\"edge\">\n<title>52&#45;&gt;56</title>\n<path fill=\"none\" stroke=\"#000000\" d=\"M2562,-579.8796C2562,-569.2134 2562,-557.7021 2562,-546.9015\"/>\n<polygon fill=\"#000000\" stroke=\"#000000\" points=\"2565.5001,-546.8149 2562,-536.8149 2558.5001,-546.815 2565.5001,-546.8149\"/>\n</g>\n<!-- 54 -->\n<g id=\"node55\" class=\"node\">\n<title>54</title>\n<polygon fill=\"#f0b88f\" stroke=\"#000000\" points=\"2286,-417.5 2126,-417.5 2126,-349.5 2286,-349.5 2286,-417.5\"/>\n<text text-anchor=\"middle\" x=\"2206\" y=\"-402.3\" font-family=\"Helvetica,sans-Serif\" font-size=\"14.00\" fill=\"#000000\">entropy = 0.885</text>\n<text text-anchor=\"middle\" x=\"2206\" y=\"-387.3\" font-family=\"Helvetica,sans-Serif\" font-size=\"14.00\" fill=\"#000000\">samples = 66</text>\n<text text-anchor=\"middle\" x=\"2206\" y=\"-372.3\" font-family=\"Helvetica,sans-Serif\" font-size=\"14.00\" fill=\"#000000\">value = [46, 20]</text>\n<text text-anchor=\"middle\" x=\"2206\" y=\"-357.3\" font-family=\"Helvetica,sans-Serif\" font-size=\"14.00\" fill=\"#000000\">class = survived_false</text>\n</g>\n<!-- 53&#45;&gt;54 -->\n<g id=\"edge54\" class=\"edge\">\n<title>53&#45;&gt;54</title>\n<path fill=\"none\" stroke=\"#000000\" d=\"M2321.7442,-460.8796C2303.5654,-448.7263 2283.7454,-435.4759 2265.7269,-423.4297\"/>\n<polygon fill=\"#000000\" stroke=\"#000000\" points=\"2267.2997,-420.2712 2257.0412,-417.623 2263.4093,-426.0905 2267.2997,-420.2712\"/>\n</g>\n<!-- 55 -->\n<g id=\"node56\" class=\"node\">\n<title>55</title>\n<polygon fill=\"#e99355\" stroke=\"#000000\" points=\"2464,-417.5 2304,-417.5 2304,-349.5 2464,-349.5 2464,-417.5\"/>\n<text text-anchor=\"middle\" x=\"2384\" y=\"-402.3\" font-family=\"Helvetica,sans-Serif\" font-size=\"14.00\" fill=\"#000000\">entropy = 0.544</text>\n<text text-anchor=\"middle\" x=\"2384\" y=\"-387.3\" font-family=\"Helvetica,sans-Serif\" font-size=\"14.00\" fill=\"#000000\">samples = 8</text>\n<text text-anchor=\"middle\" x=\"2384\" y=\"-372.3\" font-family=\"Helvetica,sans-Serif\" font-size=\"14.00\" fill=\"#000000\">value = [7, 1]</text>\n<text text-anchor=\"middle\" x=\"2384\" y=\"-357.3\" font-family=\"Helvetica,sans-Serif\" font-size=\"14.00\" fill=\"#000000\">class = survived_false</text>\n</g>\n<!-- 53&#45;&gt;55 -->\n<g id=\"edge55\" class=\"edge\">\n<title>53&#45;&gt;55</title>\n<path fill=\"none\" stroke=\"#000000\" d=\"M2384,-460.8796C2384,-450.2134 2384,-438.7021 2384,-427.9015\"/>\n<polygon fill=\"#000000\" stroke=\"#000000\" points=\"2387.5001,-427.8149 2384,-417.8149 2380.5001,-427.815 2387.5001,-427.8149\"/>\n</g>\n<!-- 58 -->\n<g id=\"node59\" class=\"node\">\n<title>58</title>\n<polygon fill=\"#f9e2d1\" stroke=\"#000000\" points=\"2820,-544 2660,-544 2660,-461 2820,-461 2820,-544\"/>\n<text text-anchor=\"middle\" x=\"2740\" y=\"-528.8\" font-family=\"Helvetica,sans-Serif\" font-size=\"14.00\" fill=\"#000000\">Parch &lt;= 0.5</text>\n<text text-anchor=\"middle\" x=\"2740\" y=\"-513.8\" font-family=\"Helvetica,sans-Serif\" font-size=\"14.00\" fill=\"#000000\">entropy = 0.988</text>\n<text text-anchor=\"middle\" x=\"2740\" y=\"-498.8\" font-family=\"Helvetica,sans-Serif\" font-size=\"14.00\" fill=\"#000000\">samples = 23</text>\n<text text-anchor=\"middle\" x=\"2740\" y=\"-483.8\" font-family=\"Helvetica,sans-Serif\" font-size=\"14.00\" fill=\"#000000\">value = [13, 10]</text>\n<text text-anchor=\"middle\" x=\"2740\" y=\"-468.8\" font-family=\"Helvetica,sans-Serif\" font-size=\"14.00\" fill=\"#000000\">class = survived_false</text>\n</g>\n<!-- 57&#45;&gt;58 -->\n<g id=\"edge58\" class=\"edge\">\n<title>57&#45;&gt;58</title>\n<path fill=\"none\" stroke=\"#000000\" d=\"M2740,-579.8796C2740,-571.6838 2740,-562.9891 2740,-554.5013\"/>\n<polygon fill=\"#000000\" stroke=\"#000000\" points=\"2743.5001,-554.298 2740,-544.2981 2736.5001,-554.2981 2743.5001,-554.298\"/>\n</g>\n<!-- 63 -->\n<g id=\"node64\" class=\"node\">\n<title>63</title>\n<polygon fill=\"#7bbeee\" stroke=\"#000000\" points=\"2992,-544 2838,-544 2838,-461 2992,-461 2992,-544\"/>\n<text text-anchor=\"middle\" x=\"2915\" y=\"-528.8\" font-family=\"Helvetica,sans-Serif\" font-size=\"14.00\" fill=\"#000000\">Parch &lt;= 3.0</text>\n<text text-anchor=\"middle\" x=\"2915\" y=\"-513.8\" font-family=\"Helvetica,sans-Serif\" font-size=\"14.00\" fill=\"#000000\">entropy = 0.811</text>\n<text text-anchor=\"middle\" x=\"2915\" y=\"-498.8\" font-family=\"Helvetica,sans-Serif\" font-size=\"14.00\" fill=\"#000000\">samples = 4</text>\n<text text-anchor=\"middle\" x=\"2915\" y=\"-483.8\" font-family=\"Helvetica,sans-Serif\" font-size=\"14.00\" fill=\"#000000\">value = [1, 3]</text>\n<text text-anchor=\"middle\" x=\"2915\" y=\"-468.8\" font-family=\"Helvetica,sans-Serif\" font-size=\"14.00\" fill=\"#000000\">class = survived_true</text>\n</g>\n<!-- 57&#45;&gt;63 -->\n<g id=\"edge63\" class=\"edge\">\n<title>57&#45;&gt;63</title>\n<path fill=\"none\" stroke=\"#000000\" d=\"M2801.2065,-579.8796C2815.4606,-570.1868 2830.741,-559.7961 2845.3307,-549.8752\"/>\n<polygon fill=\"#000000\" stroke=\"#000000\" points=\"2847.5269,-552.6143 2853.8281,-544.0969 2843.5907,-546.8258 2847.5269,-552.6143\"/>\n</g>\n<!-- 59 -->\n<g id=\"node60\" class=\"node\">\n<title>59</title>\n<polygon fill=\"#fae8db\" stroke=\"#000000\" points=\"2642,-425 2482,-425 2482,-342 2642,-342 2642,-425\"/>\n<text text-anchor=\"middle\" x=\"2562\" y=\"-409.8\" font-family=\"Helvetica,sans-Serif\" font-size=\"14.00\" fill=\"#000000\">SibSp &lt;= 1.5</text>\n<text text-anchor=\"middle\" x=\"2562\" y=\"-394.8\" font-family=\"Helvetica,sans-Serif\" font-size=\"14.00\" fill=\"#000000\">entropy = 0.993</text>\n<text text-anchor=\"middle\" x=\"2562\" y=\"-379.8\" font-family=\"Helvetica,sans-Serif\" font-size=\"14.00\" fill=\"#000000\">samples = 20</text>\n<text text-anchor=\"middle\" x=\"2562\" y=\"-364.8\" font-family=\"Helvetica,sans-Serif\" font-size=\"14.00\" fill=\"#000000\">value = [11, 9]</text>\n<text text-anchor=\"middle\" x=\"2562\" y=\"-349.8\" font-family=\"Helvetica,sans-Serif\" font-size=\"14.00\" fill=\"#000000\">class = survived_false</text>\n</g>\n<!-- 58&#45;&gt;59 -->\n<g id=\"edge59\" class=\"edge\">\n<title>58&#45;&gt;59</title>\n<path fill=\"none\" stroke=\"#000000\" d=\"M2677.7442,-460.8796C2663.2458,-451.1868 2647.7035,-440.7961 2632.8637,-430.8752\"/>\n<polygon fill=\"#000000\" stroke=\"#000000\" points=\"2634.4792,-427.7451 2624.2206,-425.0969 2630.5887,-433.5644 2634.4792,-427.7451\"/>\n</g>\n<!-- 62 -->\n<g id=\"node63\" class=\"node\">\n<title>62</title>\n<polygon fill=\"#f2c09c\" stroke=\"#000000\" points=\"2820,-417.5 2660,-417.5 2660,-349.5 2820,-349.5 2820,-417.5\"/>\n<text text-anchor=\"middle\" x=\"2740\" y=\"-402.3\" font-family=\"Helvetica,sans-Serif\" font-size=\"14.00\" fill=\"#000000\">entropy = 0.918</text>\n<text text-anchor=\"middle\" x=\"2740\" y=\"-387.3\" font-family=\"Helvetica,sans-Serif\" font-size=\"14.00\" fill=\"#000000\">samples = 3</text>\n<text text-anchor=\"middle\" x=\"2740\" y=\"-372.3\" font-family=\"Helvetica,sans-Serif\" font-size=\"14.00\" fill=\"#000000\">value = [2, 1]</text>\n<text text-anchor=\"middle\" x=\"2740\" y=\"-357.3\" font-family=\"Helvetica,sans-Serif\" font-size=\"14.00\" fill=\"#000000\">class = survived_false</text>\n</g>\n<!-- 58&#45;&gt;62 -->\n<g id=\"edge62\" class=\"edge\">\n<title>58&#45;&gt;62</title>\n<path fill=\"none\" stroke=\"#000000\" d=\"M2740,-460.8796C2740,-450.2134 2740,-438.7021 2740,-427.9015\"/>\n<polygon fill=\"#000000\" stroke=\"#000000\" points=\"2743.5001,-427.8149 2740,-417.8149 2736.5001,-427.815 2743.5001,-427.8149\"/>\n</g>\n<!-- 60 -->\n<g id=\"node61\" class=\"node\">\n<title>60</title>\n<polygon fill=\"#fae6d7\" stroke=\"#000000\" points=\"2553,-298.5 2393,-298.5 2393,-230.5 2553,-230.5 2553,-298.5\"/>\n<text text-anchor=\"middle\" x=\"2473\" y=\"-283.3\" font-family=\"Helvetica,sans-Serif\" font-size=\"14.00\" fill=\"#000000\">entropy = 0.991</text>\n<text text-anchor=\"middle\" x=\"2473\" y=\"-268.3\" font-family=\"Helvetica,sans-Serif\" font-size=\"14.00\" fill=\"#000000\">samples = 18</text>\n<text text-anchor=\"middle\" x=\"2473\" y=\"-253.3\" font-family=\"Helvetica,sans-Serif\" font-size=\"14.00\" fill=\"#000000\">value = [10, 8]</text>\n<text text-anchor=\"middle\" x=\"2473\" y=\"-238.3\" font-family=\"Helvetica,sans-Serif\" font-size=\"14.00\" fill=\"#000000\">class = survived_false</text>\n</g>\n<!-- 59&#45;&gt;60 -->\n<g id=\"edge60\" class=\"edge\">\n<title>59&#45;&gt;60</title>\n<path fill=\"none\" stroke=\"#000000\" d=\"M2530.8721,-341.8796C2522.4014,-330.5536 2513.2181,-318.2748 2504.7153,-306.9058\"/>\n<polygon fill=\"#000000\" stroke=\"#000000\" points=\"2507.4562,-304.7268 2498.6641,-298.8149 2501.8505,-308.9193 2507.4562,-304.7268\"/>\n</g>\n<!-- 61 -->\n<g id=\"node62\" class=\"node\">\n<title>61</title>\n<polygon fill=\"#ffffff\" stroke=\"#000000\" points=\"2731,-298.5 2571,-298.5 2571,-230.5 2731,-230.5 2731,-298.5\"/>\n<text text-anchor=\"middle\" x=\"2651\" y=\"-283.3\" font-family=\"Helvetica,sans-Serif\" font-size=\"14.00\" fill=\"#000000\">entropy = 1.0</text>\n<text text-anchor=\"middle\" x=\"2651\" y=\"-268.3\" font-family=\"Helvetica,sans-Serif\" font-size=\"14.00\" fill=\"#000000\">samples = 2</text>\n<text text-anchor=\"middle\" x=\"2651\" y=\"-253.3\" font-family=\"Helvetica,sans-Serif\" font-size=\"14.00\" fill=\"#000000\">value = [1, 1]</text>\n<text text-anchor=\"middle\" x=\"2651\" y=\"-238.3\" font-family=\"Helvetica,sans-Serif\" font-size=\"14.00\" fill=\"#000000\">class = survived_false</text>\n</g>\n<!-- 59&#45;&gt;61 -->\n<g id=\"edge61\" class=\"edge\">\n<title>59&#45;&gt;61</title>\n<path fill=\"none\" stroke=\"#000000\" d=\"M2593.1279,-341.8796C2601.5986,-330.5536 2610.7819,-318.2748 2619.2847,-306.9058\"/>\n<polygon fill=\"#000000\" stroke=\"#000000\" points=\"2622.1495,-308.9193 2625.3359,-298.8149 2616.5438,-304.7268 2622.1495,-308.9193\"/>\n</g>\n<!-- 64 -->\n<g id=\"node65\" class=\"node\">\n<title>64</title>\n<polygon fill=\"#399de5\" stroke=\"#000000\" points=\"2992,-417.5 2838,-417.5 2838,-349.5 2992,-349.5 2992,-417.5\"/>\n<text text-anchor=\"middle\" x=\"2915\" y=\"-402.3\" font-family=\"Helvetica,sans-Serif\" font-size=\"14.00\" fill=\"#000000\">entropy = 0.0</text>\n<text text-anchor=\"middle\" x=\"2915\" y=\"-387.3\" font-family=\"Helvetica,sans-Serif\" font-size=\"14.00\" fill=\"#000000\">samples = 3</text>\n<text text-anchor=\"middle\" x=\"2915\" y=\"-372.3\" font-family=\"Helvetica,sans-Serif\" font-size=\"14.00\" fill=\"#000000\">value = [0, 3]</text>\n<text text-anchor=\"middle\" x=\"2915\" y=\"-357.3\" font-family=\"Helvetica,sans-Serif\" font-size=\"14.00\" fill=\"#000000\">class = survived_true</text>\n</g>\n<!-- 63&#45;&gt;64 -->\n<g id=\"edge64\" class=\"edge\">\n<title>63&#45;&gt;64</title>\n<path fill=\"none\" stroke=\"#000000\" d=\"M2915,-460.8796C2915,-450.2134 2915,-438.7021 2915,-427.9015\"/>\n<polygon fill=\"#000000\" stroke=\"#000000\" points=\"2918.5001,-427.8149 2915,-417.8149 2911.5001,-427.815 2918.5001,-427.8149\"/>\n</g>\n<!-- 65 -->\n<g id=\"node66\" class=\"node\">\n<title>65</title>\n<polygon fill=\"#e58139\" stroke=\"#000000\" points=\"3170,-417.5 3010,-417.5 3010,-349.5 3170,-349.5 3170,-417.5\"/>\n<text text-anchor=\"middle\" x=\"3090\" y=\"-402.3\" font-family=\"Helvetica,sans-Serif\" font-size=\"14.00\" fill=\"#000000\">entropy = 0.0</text>\n<text text-anchor=\"middle\" x=\"3090\" y=\"-387.3\" font-family=\"Helvetica,sans-Serif\" font-size=\"14.00\" fill=\"#000000\">samples = 1</text>\n<text text-anchor=\"middle\" x=\"3090\" y=\"-372.3\" font-family=\"Helvetica,sans-Serif\" font-size=\"14.00\" fill=\"#000000\">value = [1, 0]</text>\n<text text-anchor=\"middle\" x=\"3090\" y=\"-357.3\" font-family=\"Helvetica,sans-Serif\" font-size=\"14.00\" fill=\"#000000\">class = survived_false</text>\n</g>\n<!-- 63&#45;&gt;65 -->\n<g id=\"edge65\" class=\"edge\">\n<title>63&#45;&gt;65</title>\n<path fill=\"none\" stroke=\"#000000\" d=\"M2976.2065,-460.8796C2994.079,-448.7263 3013.5649,-435.4759 3031.2798,-423.4297\"/>\n<polygon fill=\"#000000\" stroke=\"#000000\" points=\"3033.5179,-426.1404 3039.8191,-417.623 3029.5817,-420.3519 3033.5179,-426.1404\"/>\n</g>\n<!-- 67 -->\n<g id=\"node68\" class=\"node\">\n<title>67</title>\n<polygon fill=\"#e99355\" stroke=\"#000000\" points=\"3526,-663 3366,-663 3366,-580 3526,-580 3526,-663\"/>\n<text text-anchor=\"middle\" x=\"3446\" y=\"-647.8\" font-family=\"Helvetica,sans-Serif\" font-size=\"14.00\" fill=\"#000000\">SibSp &lt;= 1.5</text>\n<text text-anchor=\"middle\" x=\"3446\" y=\"-632.8\" font-family=\"Helvetica,sans-Serif\" font-size=\"14.00\" fill=\"#000000\">entropy = 0.536</text>\n<text text-anchor=\"middle\" x=\"3446\" y=\"-617.8\" font-family=\"Helvetica,sans-Serif\" font-size=\"14.00\" fill=\"#000000\">samples = 352</text>\n<text text-anchor=\"middle\" x=\"3446\" y=\"-602.8\" font-family=\"Helvetica,sans-Serif\" font-size=\"14.00\" fill=\"#000000\">value = [309, 43]</text>\n<text text-anchor=\"middle\" x=\"3446\" y=\"-587.8\" font-family=\"Helvetica,sans-Serif\" font-size=\"14.00\" fill=\"#000000\">class = survived_false</text>\n</g>\n<!-- 66&#45;&gt;67 -->\n<g id=\"edge67\" class=\"edge\">\n<title>66&#45;&gt;67</title>\n<path fill=\"none\" stroke=\"#000000\" d=\"M3446,-698.8796C3446,-690.6838 3446,-681.9891 3446,-673.5013\"/>\n<polygon fill=\"#000000\" stroke=\"#000000\" points=\"3449.5001,-673.298 3446,-663.2981 3442.5001,-673.2981 3449.5001,-673.298\"/>\n</g>\n<!-- 76 -->\n<g id=\"node77\" class=\"node\">\n<title>76</title>\n<polygon fill=\"#efb388\" stroke=\"#000000\" points=\"4045,-663 3885,-663 3885,-580 4045,-580 4045,-663\"/>\n<text text-anchor=\"middle\" x=\"3965\" y=\"-647.8\" font-family=\"Helvetica,sans-Serif\" font-size=\"14.00\" fill=\"#000000\">SibSp &lt;= 2.5</text>\n<text text-anchor=\"middle\" x=\"3965\" y=\"-632.8\" font-family=\"Helvetica,sans-Serif\" font-size=\"14.00\" fill=\"#000000\">entropy = 0.863</text>\n<text text-anchor=\"middle\" x=\"3965\" y=\"-617.8\" font-family=\"Helvetica,sans-Serif\" font-size=\"14.00\" fill=\"#000000\">samples = 63</text>\n<text text-anchor=\"middle\" x=\"3965\" y=\"-602.8\" font-family=\"Helvetica,sans-Serif\" font-size=\"14.00\" fill=\"#000000\">value = [45, 18]</text>\n<text text-anchor=\"middle\" x=\"3965\" y=\"-587.8\" font-family=\"Helvetica,sans-Serif\" font-size=\"14.00\" fill=\"#000000\">class = survived_false</text>\n</g>\n<!-- 66&#45;&gt;76 -->\n<g id=\"edge76\" class=\"edge\">\n<title>66&#45;&gt;76</title>\n<path fill=\"none\" stroke=\"#000000\" d=\"M3526.2401,-722.102C3620.4569,-700.4993 3776.3253,-664.7607 3874.6932,-642.2062\"/>\n<polygon fill=\"#000000\" stroke=\"#000000\" points=\"3875.6549,-645.5766 3884.6198,-639.9301 3874.0905,-638.7536 3875.6549,-645.5766\"/>\n</g>\n<!-- 68 -->\n<g id=\"node69\" class=\"node\">\n<title>68</title>\n<polygon fill=\"#e99355\" stroke=\"#000000\" points=\"3437,-544 3277,-544 3277,-461 3437,-461 3437,-544\"/>\n<text text-anchor=\"middle\" x=\"3357\" y=\"-528.8\" font-family=\"Helvetica,sans-Serif\" font-size=\"14.00\" fill=\"#000000\">Pclass &lt;= 2.5</text>\n<text text-anchor=\"middle\" x=\"3357\" y=\"-513.8\" font-family=\"Helvetica,sans-Serif\" font-size=\"14.00\" fill=\"#000000\">entropy = 0.545</text>\n<text text-anchor=\"middle\" x=\"3357\" y=\"-498.8\" font-family=\"Helvetica,sans-Serif\" font-size=\"14.00\" fill=\"#000000\">samples = 343</text>\n<text text-anchor=\"middle\" x=\"3357\" y=\"-483.8\" font-family=\"Helvetica,sans-Serif\" font-size=\"14.00\" fill=\"#000000\">value = [300, 43]</text>\n<text text-anchor=\"middle\" x=\"3357\" y=\"-468.8\" font-family=\"Helvetica,sans-Serif\" font-size=\"14.00\" fill=\"#000000\">class = survived_false</text>\n</g>\n<!-- 67&#45;&gt;68 -->\n<g id=\"edge68\" class=\"edge\">\n<title>67&#45;&gt;68</title>\n<path fill=\"none\" stroke=\"#000000\" d=\"M3414.8721,-579.8796C3408.271,-571.0534 3401.2371,-561.6485 3394.4298,-552.5466\"/>\n<polygon fill=\"#000000\" stroke=\"#000000\" points=\"3397.0528,-550.2099 3388.2607,-544.2981 3391.4472,-554.4024 3397.0528,-550.2099\"/>\n</g>\n<!-- 75 -->\n<g id=\"node76\" class=\"node\">\n<title>75</title>\n<polygon fill=\"#e58139\" stroke=\"#000000\" points=\"3615,-536.5 3455,-536.5 3455,-468.5 3615,-468.5 3615,-536.5\"/>\n<text text-anchor=\"middle\" x=\"3535\" y=\"-521.3\" font-family=\"Helvetica,sans-Serif\" font-size=\"14.00\" fill=\"#000000\">entropy = 0.0</text>\n<text text-anchor=\"middle\" x=\"3535\" y=\"-506.3\" font-family=\"Helvetica,sans-Serif\" font-size=\"14.00\" fill=\"#000000\">samples = 9</text>\n<text text-anchor=\"middle\" x=\"3535\" y=\"-491.3\" font-family=\"Helvetica,sans-Serif\" font-size=\"14.00\" fill=\"#000000\">value = [9, 0]</text>\n<text text-anchor=\"middle\" x=\"3535\" y=\"-476.3\" font-family=\"Helvetica,sans-Serif\" font-size=\"14.00\" fill=\"#000000\">class = survived_false</text>\n</g>\n<!-- 67&#45;&gt;75 -->\n<g id=\"edge75\" class=\"edge\">\n<title>67&#45;&gt;75</title>\n<path fill=\"none\" stroke=\"#000000\" d=\"M3477.1279,-579.8796C3485.5986,-568.5536 3494.7819,-556.2748 3503.2847,-544.9058\"/>\n<polygon fill=\"#000000\" stroke=\"#000000\" points=\"3506.1495,-546.9193 3509.3359,-536.8149 3500.5438,-542.7268 3506.1495,-546.9193\"/>\n</g>\n<!-- 69 -->\n<g id=\"node70\" class=\"node\">\n<title>69</title>\n<polygon fill=\"#e88f4f\" stroke=\"#000000\" points=\"3348,-425 3188,-425 3188,-342 3348,-342 3348,-425\"/>\n<text text-anchor=\"middle\" x=\"3268\" y=\"-409.8\" font-family=\"Helvetica,sans-Serif\" font-size=\"14.00\" fill=\"#000000\">SibSp &lt;= 0.5</text>\n<text text-anchor=\"middle\" x=\"3268\" y=\"-394.8\" font-family=\"Helvetica,sans-Serif\" font-size=\"14.00\" fill=\"#000000\">entropy = 0.473</text>\n<text text-anchor=\"middle\" x=\"3268\" y=\"-379.8\" font-family=\"Helvetica,sans-Serif\" font-size=\"14.00\" fill=\"#000000\">samples = 79</text>\n<text text-anchor=\"middle\" x=\"3268\" y=\"-364.8\" font-family=\"Helvetica,sans-Serif\" font-size=\"14.00\" fill=\"#000000\">value = [71, 8]</text>\n<text text-anchor=\"middle\" x=\"3268\" y=\"-349.8\" font-family=\"Helvetica,sans-Serif\" font-size=\"14.00\" fill=\"#000000\">class = survived_false</text>\n</g>\n<!-- 68&#45;&gt;69 -->\n<g id=\"edge69\" class=\"edge\">\n<title>68&#45;&gt;69</title>\n<path fill=\"none\" stroke=\"#000000\" d=\"M3325.8721,-460.8796C3319.271,-452.0534 3312.2371,-442.6485 3305.4298,-433.5466\"/>\n<polygon fill=\"#000000\" stroke=\"#000000\" points=\"3308.0528,-431.2099 3299.2607,-425.2981 3302.4472,-435.4024 3308.0528,-431.2099\"/>\n</g>\n<!-- 72 -->\n<g id=\"node73\" class=\"node\">\n<title>72</title>\n<polygon fill=\"#e99457\" stroke=\"#000000\" points=\"3526,-425 3366,-425 3366,-342 3526,-342 3526,-425\"/>\n<text text-anchor=\"middle\" x=\"3446\" y=\"-409.8\" font-family=\"Helvetica,sans-Serif\" font-size=\"14.00\" fill=\"#000000\">SibSp &lt;= 0.5</text>\n<text text-anchor=\"middle\" x=\"3446\" y=\"-394.8\" font-family=\"Helvetica,sans-Serif\" font-size=\"14.00\" fill=\"#000000\">entropy = 0.564</text>\n<text text-anchor=\"middle\" x=\"3446\" y=\"-379.8\" font-family=\"Helvetica,sans-Serif\" font-size=\"14.00\" fill=\"#000000\">samples = 264</text>\n<text text-anchor=\"middle\" x=\"3446\" y=\"-364.8\" font-family=\"Helvetica,sans-Serif\" font-size=\"14.00\" fill=\"#000000\">value = [229, 35]</text>\n<text text-anchor=\"middle\" x=\"3446\" y=\"-349.8\" font-family=\"Helvetica,sans-Serif\" font-size=\"14.00\" fill=\"#000000\">class = survived_false</text>\n</g>\n<!-- 68&#45;&gt;72 -->\n<g id=\"edge72\" class=\"edge\">\n<title>68&#45;&gt;72</title>\n<path fill=\"none\" stroke=\"#000000\" d=\"M3388.1279,-460.8796C3394.729,-452.0534 3401.7629,-442.6485 3408.5702,-433.5466\"/>\n<polygon fill=\"#000000\" stroke=\"#000000\" points=\"3411.5528,-435.4024 3414.7393,-425.2981 3405.9472,-431.2099 3411.5528,-435.4024\"/>\n</g>\n<!-- 70 -->\n<g id=\"node71\" class=\"node\">\n<title>70</title>\n<polygon fill=\"#e89051\" stroke=\"#000000\" points=\"3170,-298.5 3010,-298.5 3010,-230.5 3170,-230.5 3170,-298.5\"/>\n<text text-anchor=\"middle\" x=\"3090\" y=\"-283.3\" font-family=\"Helvetica,sans-Serif\" font-size=\"14.00\" fill=\"#000000\">entropy = 0.493</text>\n<text text-anchor=\"middle\" x=\"3090\" y=\"-268.3\" font-family=\"Helvetica,sans-Serif\" font-size=\"14.00\" fill=\"#000000\">samples = 65</text>\n<text text-anchor=\"middle\" x=\"3090\" y=\"-253.3\" font-family=\"Helvetica,sans-Serif\" font-size=\"14.00\" fill=\"#000000\">value = [58, 7]</text>\n<text text-anchor=\"middle\" x=\"3090\" y=\"-238.3\" font-family=\"Helvetica,sans-Serif\" font-size=\"14.00\" fill=\"#000000\">class = survived_false</text>\n</g>\n<!-- 69&#45;&gt;70 -->\n<g id=\"edge70\" class=\"edge\">\n<title>69&#45;&gt;70</title>\n<path fill=\"none\" stroke=\"#000000\" d=\"M3205.7442,-341.8796C3187.5654,-329.7263 3167.7454,-316.4759 3149.7269,-304.4297\"/>\n<polygon fill=\"#000000\" stroke=\"#000000\" points=\"3151.2997,-301.2712 3141.0412,-298.623 3147.4093,-307.0905 3151.2997,-301.2712\"/>\n</g>\n<!-- 71 -->\n<g id=\"node72\" class=\"node\">\n<title>71</title>\n<polygon fill=\"#e78b48\" stroke=\"#000000\" points=\"3348,-298.5 3188,-298.5 3188,-230.5 3348,-230.5 3348,-298.5\"/>\n<text text-anchor=\"middle\" x=\"3268\" y=\"-283.3\" font-family=\"Helvetica,sans-Serif\" font-size=\"14.00\" fill=\"#000000\">entropy = 0.371</text>\n<text text-anchor=\"middle\" x=\"3268\" y=\"-268.3\" font-family=\"Helvetica,sans-Serif\" font-size=\"14.00\" fill=\"#000000\">samples = 14</text>\n<text text-anchor=\"middle\" x=\"3268\" y=\"-253.3\" font-family=\"Helvetica,sans-Serif\" font-size=\"14.00\" fill=\"#000000\">value = [13, 1]</text>\n<text text-anchor=\"middle\" x=\"3268\" y=\"-238.3\" font-family=\"Helvetica,sans-Serif\" font-size=\"14.00\" fill=\"#000000\">class = survived_false</text>\n</g>\n<!-- 69&#45;&gt;71 -->\n<g id=\"edge71\" class=\"edge\">\n<title>69&#45;&gt;71</title>\n<path fill=\"none\" stroke=\"#000000\" d=\"M3268,-341.8796C3268,-331.2134 3268,-319.7021 3268,-308.9015\"/>\n<polygon fill=\"#000000\" stroke=\"#000000\" points=\"3271.5001,-308.8149 3268,-298.8149 3264.5001,-308.815 3271.5001,-308.8149\"/>\n</g>\n<!-- 73 -->\n<g id=\"node74\" class=\"node\">\n<title>73</title>\n<polygon fill=\"#e99457\" stroke=\"#000000\" points=\"3526,-298.5 3366,-298.5 3366,-230.5 3526,-230.5 3526,-298.5\"/>\n<text text-anchor=\"middle\" x=\"3446\" y=\"-283.3\" font-family=\"Helvetica,sans-Serif\" font-size=\"14.00\" fill=\"#000000\">entropy = 0.562</text>\n<text text-anchor=\"middle\" x=\"3446\" y=\"-268.3\" font-family=\"Helvetica,sans-Serif\" font-size=\"14.00\" fill=\"#000000\">samples = 243</text>\n<text text-anchor=\"middle\" x=\"3446\" y=\"-253.3\" font-family=\"Helvetica,sans-Serif\" font-size=\"14.00\" fill=\"#000000\">value = [211, 32]</text>\n<text text-anchor=\"middle\" x=\"3446\" y=\"-238.3\" font-family=\"Helvetica,sans-Serif\" font-size=\"14.00\" fill=\"#000000\">class = survived_false</text>\n</g>\n<!-- 72&#45;&gt;73 -->\n<g id=\"edge73\" class=\"edge\">\n<title>72&#45;&gt;73</title>\n<path fill=\"none\" stroke=\"#000000\" d=\"M3446,-341.8796C3446,-331.2134 3446,-319.7021 3446,-308.9015\"/>\n<polygon fill=\"#000000\" stroke=\"#000000\" points=\"3449.5001,-308.8149 3446,-298.8149 3442.5001,-308.815 3449.5001,-308.8149\"/>\n</g>\n<!-- 74 -->\n<g id=\"node75\" class=\"node\">\n<title>74</title>\n<polygon fill=\"#e9965a\" stroke=\"#000000\" points=\"3704,-298.5 3544,-298.5 3544,-230.5 3704,-230.5 3704,-298.5\"/>\n<text text-anchor=\"middle\" x=\"3624\" y=\"-283.3\" font-family=\"Helvetica,sans-Serif\" font-size=\"14.00\" fill=\"#000000\">entropy = 0.592</text>\n<text text-anchor=\"middle\" x=\"3624\" y=\"-268.3\" font-family=\"Helvetica,sans-Serif\" font-size=\"14.00\" fill=\"#000000\">samples = 21</text>\n<text text-anchor=\"middle\" x=\"3624\" y=\"-253.3\" font-family=\"Helvetica,sans-Serif\" font-size=\"14.00\" fill=\"#000000\">value = [18, 3]</text>\n<text text-anchor=\"middle\" x=\"3624\" y=\"-238.3\" font-family=\"Helvetica,sans-Serif\" font-size=\"14.00\" fill=\"#000000\">class = survived_false</text>\n</g>\n<!-- 72&#45;&gt;74 -->\n<g id=\"edge74\" class=\"edge\">\n<title>72&#45;&gt;74</title>\n<path fill=\"none\" stroke=\"#000000\" d=\"M3508.2558,-341.8796C3526.4346,-329.7263 3546.2546,-316.4759 3564.2731,-304.4297\"/>\n<polygon fill=\"#000000\" stroke=\"#000000\" points=\"3566.5907,-307.0905 3572.9588,-298.623 3562.7003,-301.2712 3566.5907,-307.0905\"/>\n</g>\n<!-- 77 -->\n<g id=\"node78\" class=\"node\">\n<title>77</title>\n<polygon fill=\"#f7d7c0\" stroke=\"#000000\" points=\"4045,-544 3885,-544 3885,-461 4045,-461 4045,-544\"/>\n<text text-anchor=\"middle\" x=\"3965\" y=\"-528.8\" font-family=\"Helvetica,sans-Serif\" font-size=\"14.00\" fill=\"#000000\">Parch &lt;= 2.5</text>\n<text text-anchor=\"middle\" x=\"3965\" y=\"-513.8\" font-family=\"Helvetica,sans-Serif\" font-size=\"14.00\" fill=\"#000000\">entropy = 0.974</text>\n<text text-anchor=\"middle\" x=\"3965\" y=\"-498.8\" font-family=\"Helvetica,sans-Serif\" font-size=\"14.00\" fill=\"#000000\">samples = 42</text>\n<text text-anchor=\"middle\" x=\"3965\" y=\"-483.8\" font-family=\"Helvetica,sans-Serif\" font-size=\"14.00\" fill=\"#000000\">value = [25, 17]</text>\n<text text-anchor=\"middle\" x=\"3965\" y=\"-468.8\" font-family=\"Helvetica,sans-Serif\" font-size=\"14.00\" fill=\"#000000\">class = survived_false</text>\n</g>\n<!-- 76&#45;&gt;77 -->\n<g id=\"edge77\" class=\"edge\">\n<title>76&#45;&gt;77</title>\n<path fill=\"none\" stroke=\"#000000\" d=\"M3965,-579.8796C3965,-571.6838 3965,-562.9891 3965,-554.5013\"/>\n<polygon fill=\"#000000\" stroke=\"#000000\" points=\"3968.5001,-554.298 3965,-544.2981 3961.5001,-554.2981 3968.5001,-554.298\"/>\n</g>\n<!-- 94 -->\n<g id=\"node95\" class=\"node\">\n<title>94</title>\n<polygon fill=\"#e68743\" stroke=\"#000000\" points=\"4312,-544 4152,-544 4152,-461 4312,-461 4312,-544\"/>\n<text text-anchor=\"middle\" x=\"4232\" y=\"-528.8\" font-family=\"Helvetica,sans-Serif\" font-size=\"14.00\" fill=\"#000000\">Parch &lt;= 1.5</text>\n<text text-anchor=\"middle\" x=\"4232\" y=\"-513.8\" font-family=\"Helvetica,sans-Serif\" font-size=\"14.00\" fill=\"#000000\">entropy = 0.276</text>\n<text text-anchor=\"middle\" x=\"4232\" y=\"-498.8\" font-family=\"Helvetica,sans-Serif\" font-size=\"14.00\" fill=\"#000000\">samples = 21</text>\n<text text-anchor=\"middle\" x=\"4232\" y=\"-483.8\" font-family=\"Helvetica,sans-Serif\" font-size=\"14.00\" fill=\"#000000\">value = [20, 1]</text>\n<text text-anchor=\"middle\" x=\"4232\" y=\"-468.8\" font-family=\"Helvetica,sans-Serif\" font-size=\"14.00\" fill=\"#000000\">class = survived_false</text>\n</g>\n<!-- 76&#45;&gt;94 -->\n<g id=\"edge94\" class=\"edge\">\n<title>76&#45;&gt;94</title>\n<path fill=\"none\" stroke=\"#000000\" d=\"M4045.1088,-585.7961C4075.8661,-572.0878 4111.1503,-556.3618 4142.7164,-542.293\"/>\n<polygon fill=\"#000000\" stroke=\"#000000\" points=\"4144.2387,-545.4465 4151.9477,-538.1787 4141.389,-539.0528 4144.2387,-545.4465\"/>\n</g>\n<!-- 78 -->\n<g id=\"node79\" class=\"node\">\n<title>78</title>\n<polygon fill=\"#f9e2d2\" stroke=\"#000000\" points=\"3912,-425 3752,-425 3752,-342 3912,-342 3912,-425\"/>\n<text text-anchor=\"middle\" x=\"3832\" y=\"-409.8\" font-family=\"Helvetica,sans-Serif\" font-size=\"14.00\" fill=\"#000000\">Pclass &lt;= 2.5</text>\n<text text-anchor=\"middle\" x=\"3832\" y=\"-394.8\" font-family=\"Helvetica,sans-Serif\" font-size=\"14.00\" fill=\"#000000\">entropy = 0.988</text>\n<text text-anchor=\"middle\" x=\"3832\" y=\"-379.8\" font-family=\"Helvetica,sans-Serif\" font-size=\"14.00\" fill=\"#000000\">samples = 39</text>\n<text text-anchor=\"middle\" x=\"3832\" y=\"-364.8\" font-family=\"Helvetica,sans-Serif\" font-size=\"14.00\" fill=\"#000000\">value = [22, 17]</text>\n<text text-anchor=\"middle\" x=\"3832\" y=\"-349.8\" font-family=\"Helvetica,sans-Serif\" font-size=\"14.00\" fill=\"#000000\">class = survived_false</text>\n</g>\n<!-- 77&#45;&gt;78 -->\n<g id=\"edge78\" class=\"edge\">\n<title>77&#45;&gt;78</title>\n<path fill=\"none\" stroke=\"#000000\" d=\"M3918.4831,-460.8796C3908.1152,-451.6031 3897.0329,-441.6874 3886.3801,-432.1559\"/>\n<polygon fill=\"#000000\" stroke=\"#000000\" points=\"3888.5017,-429.3577 3878.7155,-425.2981 3883.8341,-434.5744 3888.5017,-429.3577\"/>\n</g>\n<!-- 93 -->\n<g id=\"node94\" class=\"node\">\n<title>93</title>\n<polygon fill=\"#e58139\" stroke=\"#000000\" points=\"4090,-417.5 3930,-417.5 3930,-349.5 4090,-349.5 4090,-417.5\"/>\n<text text-anchor=\"middle\" x=\"4010\" y=\"-402.3\" font-family=\"Helvetica,sans-Serif\" font-size=\"14.00\" fill=\"#000000\">entropy = 0.0</text>\n<text text-anchor=\"middle\" x=\"4010\" y=\"-387.3\" font-family=\"Helvetica,sans-Serif\" font-size=\"14.00\" fill=\"#000000\">samples = 3</text>\n<text text-anchor=\"middle\" x=\"4010\" y=\"-372.3\" font-family=\"Helvetica,sans-Serif\" font-size=\"14.00\" fill=\"#000000\">value = [3, 0]</text>\n<text text-anchor=\"middle\" x=\"4010\" y=\"-357.3\" font-family=\"Helvetica,sans-Serif\" font-size=\"14.00\" fill=\"#000000\">class = survived_false</text>\n</g>\n<!-- 77&#45;&gt;93 -->\n<g id=\"edge93\" class=\"edge\">\n<title>77&#45;&gt;93</title>\n<path fill=\"none\" stroke=\"#000000\" d=\"M3980.7388,-460.8796C3984.8554,-449.9935 3989.3049,-438.227 3993.4618,-427.2344\"/>\n<polygon fill=\"#000000\" stroke=\"#000000\" points=\"3996.7604,-428.4065 3997.0238,-417.8149 3990.2129,-425.9305 3996.7604,-428.4065\"/>\n</g>\n<!-- 79 -->\n<g id=\"node80\" class=\"node\">\n<title>79</title>\n<polygon fill=\"#e9f4fc\" stroke=\"#000000\" points=\"3876,-306 3722,-306 3722,-223 3876,-223 3876,-306\"/>\n<text text-anchor=\"middle\" x=\"3799\" y=\"-290.8\" font-family=\"Helvetica,sans-Serif\" font-size=\"14.00\" fill=\"#000000\">Parch &lt;= 1.5</text>\n<text text-anchor=\"middle\" x=\"3799\" y=\"-275.8\" font-family=\"Helvetica,sans-Serif\" font-size=\"14.00\" fill=\"#000000\">entropy = 0.998</text>\n<text text-anchor=\"middle\" x=\"3799\" y=\"-260.8\" font-family=\"Helvetica,sans-Serif\" font-size=\"14.00\" fill=\"#000000\">samples = 17</text>\n<text text-anchor=\"middle\" x=\"3799\" y=\"-245.8\" font-family=\"Helvetica,sans-Serif\" font-size=\"14.00\" fill=\"#000000\">value = [8, 9]</text>\n<text text-anchor=\"middle\" x=\"3799\" y=\"-230.8\" font-family=\"Helvetica,sans-Serif\" font-size=\"14.00\" fill=\"#000000\">class = survived_true</text>\n</g>\n<!-- 78&#45;&gt;79 -->\n<g id=\"edge79\" class=\"edge\">\n<title>78&#45;&gt;79</title>\n<path fill=\"none\" stroke=\"#000000\" d=\"M3820.4582,-341.8796C3818.1355,-333.5037 3815.6682,-324.6067 3813.2654,-315.942\"/>\n<polygon fill=\"#000000\" stroke=\"#000000\" points=\"3816.6361,-314.9991 3810.5911,-306.2981 3809.8907,-316.8697 3816.6361,-314.9991\"/>\n</g>\n<!-- 86 -->\n<g id=\"node87\" class=\"node\">\n<title>86</title>\n<polygon fill=\"#f4c9aa\" stroke=\"#000000\" points=\"4055,-306 3895,-306 3895,-223 4055,-223 4055,-306\"/>\n<text text-anchor=\"middle\" x=\"3975\" y=\"-290.8\" font-family=\"Helvetica,sans-Serif\" font-size=\"14.00\" fill=\"#000000\">Parch &lt;= 1.5</text>\n<text text-anchor=\"middle\" x=\"3975\" y=\"-275.8\" font-family=\"Helvetica,sans-Serif\" font-size=\"14.00\" fill=\"#000000\">entropy = 0.946</text>\n<text text-anchor=\"middle\" x=\"3975\" y=\"-260.8\" font-family=\"Helvetica,sans-Serif\" font-size=\"14.00\" fill=\"#000000\">samples = 22</text>\n<text text-anchor=\"middle\" x=\"3975\" y=\"-245.8\" font-family=\"Helvetica,sans-Serif\" font-size=\"14.00\" fill=\"#000000\">value = [14, 8]</text>\n<text text-anchor=\"middle\" x=\"3975\" y=\"-230.8\" font-family=\"Helvetica,sans-Serif\" font-size=\"14.00\" fill=\"#000000\">class = survived_false</text>\n</g>\n<!-- 78&#45;&gt;86 -->\n<g id=\"edge86\" class=\"edge\">\n<title>78&#45;&gt;86</title>\n<path fill=\"none\" stroke=\"#000000\" d=\"M3882.0145,-341.8796C3893.2701,-332.513 3905.3088,-322.4948 3916.8646,-312.8784\"/>\n<polygon fill=\"#000000\" stroke=\"#000000\" points=\"3919.3242,-315.385 3924.7721,-306.2981 3914.8466,-310.0043 3919.3242,-315.385\"/>\n</g>\n<!-- 80 -->\n<g id=\"node81\" class=\"node\">\n<title>80</title>\n<polygon fill=\"#c6e3f8\" stroke=\"#000000\" points=\"3507,-187 3353,-187 3353,-104 3507,-104 3507,-187\"/>\n<text text-anchor=\"middle\" x=\"3430\" y=\"-171.8\" font-family=\"Helvetica,sans-Serif\" font-size=\"14.00\" fill=\"#000000\">SibSp &lt;= 1.5</text>\n<text text-anchor=\"middle\" x=\"3430\" y=\"-156.8\" font-family=\"Helvetica,sans-Serif\" font-size=\"14.00\" fill=\"#000000\">entropy = 0.98</text>\n<text text-anchor=\"middle\" x=\"3430\" y=\"-141.8\" font-family=\"Helvetica,sans-Serif\" font-size=\"14.00\" fill=\"#000000\">samples = 12</text>\n<text text-anchor=\"middle\" x=\"3430\" y=\"-126.8\" font-family=\"Helvetica,sans-Serif\" font-size=\"14.00\" fill=\"#000000\">value = [5, 7]</text>\n<text text-anchor=\"middle\" x=\"3430\" y=\"-111.8\" font-family=\"Helvetica,sans-Serif\" font-size=\"14.00\" fill=\"#000000\">class = survived_true</text>\n</g>\n<!-- 79&#45;&gt;80 -->\n<g id=\"edge80\" class=\"edge\">\n<title>79&#45;&gt;80</title>\n<path fill=\"none\" stroke=\"#000000\" d=\"M3721.935,-226.4931C3718.9352,-225.2746 3715.9496,-224.105 3713,-223 3648.7606,-198.9339 3573.7961,-178.7418 3517.1657,-165.0074\"/>\n<polygon fill=\"#000000\" stroke=\"#000000\" points=\"3517.711,-161.5388 3507.1698,-162.6039 3516.0744,-168.3448 3517.711,-161.5388\"/>\n</g>\n<!-- 83 -->\n<g id=\"node84\" class=\"node\">\n<title>83</title>\n<polygon fill=\"#f6d5bd\" stroke=\"#000000\" points=\"3860,-187 3700,-187 3700,-104 3860,-104 3860,-187\"/>\n<text text-anchor=\"middle\" x=\"3780\" y=\"-171.8\" font-family=\"Helvetica,sans-Serif\" font-size=\"14.00\" fill=\"#000000\">SibSp &lt;= 0.5</text>\n<text text-anchor=\"middle\" x=\"3780\" y=\"-156.8\" font-family=\"Helvetica,sans-Serif\" font-size=\"14.00\" fill=\"#000000\">entropy = 0.971</text>\n<text text-anchor=\"middle\" x=\"3780\" y=\"-141.8\" font-family=\"Helvetica,sans-Serif\" font-size=\"14.00\" fill=\"#000000\">samples = 5</text>\n<text text-anchor=\"middle\" x=\"3780\" y=\"-126.8\" font-family=\"Helvetica,sans-Serif\" font-size=\"14.00\" fill=\"#000000\">value = [3, 2]</text>\n<text text-anchor=\"middle\" x=\"3780\" y=\"-111.8\" font-family=\"Helvetica,sans-Serif\" font-size=\"14.00\" fill=\"#000000\">class = survived_false</text>\n</g>\n<!-- 79&#45;&gt;83 -->\n<g id=\"edge83\" class=\"edge\">\n<title>79&#45;&gt;83</title>\n<path fill=\"none\" stroke=\"#000000\" d=\"M3792.3547,-222.8796C3791.0318,-214.5938 3789.6274,-205.798 3788.2581,-197.2216\"/>\n<polygon fill=\"#000000\" stroke=\"#000000\" points=\"3791.7066,-196.6211 3786.6736,-187.2981 3784.7942,-197.7249 3791.7066,-196.6211\"/>\n</g>\n<!-- 81 -->\n<g id=\"node82\" class=\"node\">\n<title>81</title>\n<polygon fill=\"#bddef6\" stroke=\"#000000\" points=\"3332,-68 3178,-68 3178,0 3332,0 3332,-68\"/>\n<text text-anchor=\"middle\" x=\"3255\" y=\"-52.8\" font-family=\"Helvetica,sans-Serif\" font-size=\"14.00\" fill=\"#000000\">entropy = 0.971</text>\n<text text-anchor=\"middle\" x=\"3255\" y=\"-37.8\" font-family=\"Helvetica,sans-Serif\" font-size=\"14.00\" fill=\"#000000\">samples = 10</text>\n<text text-anchor=\"middle\" x=\"3255\" y=\"-22.8\" font-family=\"Helvetica,sans-Serif\" font-size=\"14.00\" fill=\"#000000\">value = [4, 6]</text>\n<text text-anchor=\"middle\" x=\"3255\" y=\"-7.8\" font-family=\"Helvetica,sans-Serif\" font-size=\"14.00\" fill=\"#000000\">class = survived_true</text>\n</g>\n<!-- 80&#45;&gt;81 -->\n<g id=\"edge81\" class=\"edge\">\n<title>80&#45;&gt;81</title>\n<path fill=\"none\" stroke=\"#000000\" d=\"M3364.8365,-103.9815C3349.1757,-94.0034 3332.4918,-83.3733 3316.9805,-73.4904\"/>\n<polygon fill=\"#000000\" stroke=\"#000000\" points=\"3318.812,-70.5073 3308.4976,-68.0856 3315.0506,-76.4109 3318.812,-70.5073\"/>\n</g>\n<!-- 82 -->\n<g id=\"node83\" class=\"node\">\n<title>82</title>\n<polygon fill=\"#ffffff\" stroke=\"#000000\" points=\"3510,-68 3350,-68 3350,0 3510,0 3510,-68\"/>\n<text text-anchor=\"middle\" x=\"3430\" y=\"-52.8\" font-family=\"Helvetica,sans-Serif\" font-size=\"14.00\" fill=\"#000000\">entropy = 1.0</text>\n<text text-anchor=\"middle\" x=\"3430\" y=\"-37.8\" font-family=\"Helvetica,sans-Serif\" font-size=\"14.00\" fill=\"#000000\">samples = 2</text>\n<text text-anchor=\"middle\" x=\"3430\" y=\"-22.8\" font-family=\"Helvetica,sans-Serif\" font-size=\"14.00\" fill=\"#000000\">value = [1, 1]</text>\n<text text-anchor=\"middle\" x=\"3430\" y=\"-7.8\" font-family=\"Helvetica,sans-Serif\" font-size=\"14.00\" fill=\"#000000\">class = survived_false</text>\n</g>\n<!-- 80&#45;&gt;82 -->\n<g id=\"edge82\" class=\"edge\">\n<title>80&#45;&gt;82</title>\n<path fill=\"none\" stroke=\"#000000\" d=\"M3430,-103.9815C3430,-95.618 3430,-86.7965 3430,-78.3409\"/>\n<polygon fill=\"#000000\" stroke=\"#000000\" points=\"3433.5001,-78.2636 3430,-68.2637 3426.5001,-78.2637 3433.5001,-78.2636\"/>\n</g>\n<!-- 84 -->\n<g id=\"node85\" class=\"node\">\n<title>84</title>\n<polygon fill=\"#9ccef2\" stroke=\"#000000\" points=\"3682,-68 3528,-68 3528,0 3682,0 3682,-68\"/>\n<text text-anchor=\"middle\" x=\"3605\" y=\"-52.8\" font-family=\"Helvetica,sans-Serif\" font-size=\"14.00\" fill=\"#000000\">entropy = 0.918</text>\n<text text-anchor=\"middle\" x=\"3605\" y=\"-37.8\" font-family=\"Helvetica,sans-Serif\" font-size=\"14.00\" fill=\"#000000\">samples = 3</text>\n<text text-anchor=\"middle\" x=\"3605\" y=\"-22.8\" font-family=\"Helvetica,sans-Serif\" font-size=\"14.00\" fill=\"#000000\">value = [1, 2]</text>\n<text text-anchor=\"middle\" x=\"3605\" y=\"-7.8\" font-family=\"Helvetica,sans-Serif\" font-size=\"14.00\" fill=\"#000000\">class = survived_true</text>\n</g>\n<!-- 83&#45;&gt;84 -->\n<g id=\"edge84\" class=\"edge\">\n<title>83&#45;&gt;84</title>\n<path fill=\"none\" stroke=\"#000000\" d=\"M3714.8365,-103.9815C3699.1757,-94.0034 3682.4918,-83.3733 3666.9805,-73.4904\"/>\n<polygon fill=\"#000000\" stroke=\"#000000\" points=\"3668.812,-70.5073 3658.4976,-68.0856 3665.0506,-76.4109 3668.812,-70.5073\"/>\n</g>\n<!-- 85 -->\n<g id=\"node86\" class=\"node\">\n<title>85</title>\n<polygon fill=\"#e58139\" stroke=\"#000000\" points=\"3860,-68 3700,-68 3700,0 3860,0 3860,-68\"/>\n<text text-anchor=\"middle\" x=\"3780\" y=\"-52.8\" font-family=\"Helvetica,sans-Serif\" font-size=\"14.00\" fill=\"#000000\">entropy = 0.0</text>\n<text text-anchor=\"middle\" x=\"3780\" y=\"-37.8\" font-family=\"Helvetica,sans-Serif\" font-size=\"14.00\" fill=\"#000000\">samples = 2</text>\n<text text-anchor=\"middle\" x=\"3780\" y=\"-22.8\" font-family=\"Helvetica,sans-Serif\" font-size=\"14.00\" fill=\"#000000\">value = [2, 0]</text>\n<text text-anchor=\"middle\" x=\"3780\" y=\"-7.8\" font-family=\"Helvetica,sans-Serif\" font-size=\"14.00\" fill=\"#000000\">class = survived_false</text>\n</g>\n<!-- 83&#45;&gt;85 -->\n<g id=\"edge85\" class=\"edge\">\n<title>83&#45;&gt;85</title>\n<path fill=\"none\" stroke=\"#000000\" d=\"M3780,-103.9815C3780,-95.618 3780,-86.7965 3780,-78.3409\"/>\n<polygon fill=\"#000000\" stroke=\"#000000\" points=\"3783.5001,-78.2636 3780,-68.2637 3776.5001,-78.2637 3783.5001,-78.2636\"/>\n</g>\n<!-- 87 -->\n<g id=\"node88\" class=\"node\">\n<title>87</title>\n<polygon fill=\"#f3c6a5\" stroke=\"#000000\" points=\"4055,-187 3895,-187 3895,-104 4055,-104 4055,-187\"/>\n<text text-anchor=\"middle\" x=\"3975\" y=\"-171.8\" font-family=\"Helvetica,sans-Serif\" font-size=\"14.00\" fill=\"#000000\">SibSp &lt;= 0.5</text>\n<text text-anchor=\"middle\" x=\"3975\" y=\"-156.8\" font-family=\"Helvetica,sans-Serif\" font-size=\"14.00\" fill=\"#000000\">entropy = 0.937</text>\n<text text-anchor=\"middle\" x=\"3975\" y=\"-141.8\" font-family=\"Helvetica,sans-Serif\" font-size=\"14.00\" fill=\"#000000\">samples = 17</text>\n<text text-anchor=\"middle\" x=\"3975\" y=\"-126.8\" font-family=\"Helvetica,sans-Serif\" font-size=\"14.00\" fill=\"#000000\">value = [11, 6]</text>\n<text text-anchor=\"middle\" x=\"3975\" y=\"-111.8\" font-family=\"Helvetica,sans-Serif\" font-size=\"14.00\" fill=\"#000000\">class = survived_false</text>\n</g>\n<!-- 86&#45;&gt;87 -->\n<g id=\"edge87\" class=\"edge\">\n<title>86&#45;&gt;87</title>\n<path fill=\"none\" stroke=\"#000000\" d=\"M3975,-222.8796C3975,-214.6838 3975,-205.9891 3975,-197.5013\"/>\n<polygon fill=\"#000000\" stroke=\"#000000\" points=\"3978.5001,-197.298 3975,-187.2981 3971.5001,-197.2981 3978.5001,-197.298\"/>\n</g>\n<!-- 90 -->\n<g id=\"node91\" class=\"node\">\n<title>90</title>\n<polygon fill=\"#f6d5bd\" stroke=\"#000000\" points=\"4378,-187 4218,-187 4218,-104 4378,-104 4378,-187\"/>\n<text text-anchor=\"middle\" x=\"4298\" y=\"-171.8\" font-family=\"Helvetica,sans-Serif\" font-size=\"14.00\" fill=\"#000000\">SibSp &lt;= 0.5</text>\n<text text-anchor=\"middle\" x=\"4298\" y=\"-156.8\" font-family=\"Helvetica,sans-Serif\" font-size=\"14.00\" fill=\"#000000\">entropy = 0.971</text>\n<text text-anchor=\"middle\" x=\"4298\" y=\"-141.8\" font-family=\"Helvetica,sans-Serif\" font-size=\"14.00\" fill=\"#000000\">samples = 5</text>\n<text text-anchor=\"middle\" x=\"4298\" y=\"-126.8\" font-family=\"Helvetica,sans-Serif\" font-size=\"14.00\" fill=\"#000000\">value = [3, 2]</text>\n<text text-anchor=\"middle\" x=\"4298\" y=\"-111.8\" font-family=\"Helvetica,sans-Serif\" font-size=\"14.00\" fill=\"#000000\">class = survived_false</text>\n</g>\n<!-- 86&#45;&gt;90 -->\n<g id=\"edge90\" class=\"edge\">\n<title>86&#45;&gt;90</title>\n<path fill=\"none\" stroke=\"#000000\" d=\"M4055.2577,-234.9314C4101.7626,-217.798 4160.4202,-196.1873 4208.4238,-178.5018\"/>\n<polygon fill=\"#000000\" stroke=\"#000000\" points=\"4209.7023,-181.7608 4217.8757,-175.0195 4207.2823,-175.1924 4209.7023,-181.7608\"/>\n</g>\n<!-- 88 -->\n<g id=\"node89\" class=\"node\">\n<title>88</title>\n<polygon fill=\"#f2c09c\" stroke=\"#000000\" points=\"4038,-68 3878,-68 3878,0 4038,0 4038,-68\"/>\n<text text-anchor=\"middle\" x=\"3958\" y=\"-52.8\" font-family=\"Helvetica,sans-Serif\" font-size=\"14.00\" fill=\"#000000\">entropy = 0.918</text>\n<text text-anchor=\"middle\" x=\"3958\" y=\"-37.8\" font-family=\"Helvetica,sans-Serif\" font-size=\"14.00\" fill=\"#000000\">samples = 3</text>\n<text text-anchor=\"middle\" x=\"3958\" y=\"-22.8\" font-family=\"Helvetica,sans-Serif\" font-size=\"14.00\" fill=\"#000000\">value = [2, 1]</text>\n<text text-anchor=\"middle\" x=\"3958\" y=\"-7.8\" font-family=\"Helvetica,sans-Serif\" font-size=\"14.00\" fill=\"#000000\">class = survived_false</text>\n</g>\n<!-- 87&#45;&gt;88 -->\n<g id=\"edge88\" class=\"edge\">\n<title>87&#45;&gt;88</title>\n<path fill=\"none\" stroke=\"#000000\" d=\"M3968.6698,-103.9815C3967.3947,-95.618 3966.0497,-86.7965 3964.7605,-78.3409\"/>\n<polygon fill=\"#000000\" stroke=\"#000000\" points=\"3968.1914,-77.6219 3963.2241,-68.2637 3961.2714,-78.677 3968.1914,-77.6219\"/>\n</g>\n<!-- 89 -->\n<g id=\"node90\" class=\"node\">\n<title>89</title>\n<polygon fill=\"#f3c7a7\" stroke=\"#000000\" points=\"4216,-68 4056,-68 4056,0 4216,0 4216,-68\"/>\n<text text-anchor=\"middle\" x=\"4136\" y=\"-52.8\" font-family=\"Helvetica,sans-Serif\" font-size=\"14.00\" fill=\"#000000\">entropy = 0.94</text>\n<text text-anchor=\"middle\" x=\"4136\" y=\"-37.8\" font-family=\"Helvetica,sans-Serif\" font-size=\"14.00\" fill=\"#000000\">samples = 14</text>\n<text text-anchor=\"middle\" x=\"4136\" y=\"-22.8\" font-family=\"Helvetica,sans-Serif\" font-size=\"14.00\" fill=\"#000000\">value = [9, 5]</text>\n<text text-anchor=\"middle\" x=\"4136\" y=\"-7.8\" font-family=\"Helvetica,sans-Serif\" font-size=\"14.00\" fill=\"#000000\">class = survived_false</text>\n</g>\n<!-- 87&#45;&gt;89 -->\n<g id=\"edge89\" class=\"edge\">\n<title>87&#45;&gt;89</title>\n<path fill=\"none\" stroke=\"#000000\" d=\"M4034.9505,-103.9815C4049.0916,-94.1881 4064.1394,-83.7668 4078.1841,-74.0402\"/>\n<polygon fill=\"#000000\" stroke=\"#000000\" points=\"4080.5539,-76.6565 4086.7822,-68.0856 4076.5685,-70.9017 4080.5539,-76.6565\"/>\n</g>\n<!-- 91 -->\n<g id=\"node92\" class=\"node\">\n<title>91</title>\n<polygon fill=\"#ffffff\" stroke=\"#000000\" points=\"4394,-68 4234,-68 4234,0 4394,0 4394,-68\"/>\n<text text-anchor=\"middle\" x=\"4314\" y=\"-52.8\" font-family=\"Helvetica,sans-Serif\" font-size=\"14.00\" fill=\"#000000\">entropy = 1.0</text>\n<text text-anchor=\"middle\" x=\"4314\" y=\"-37.8\" font-family=\"Helvetica,sans-Serif\" font-size=\"14.00\" fill=\"#000000\">samples = 2</text>\n<text text-anchor=\"middle\" x=\"4314\" y=\"-22.8\" font-family=\"Helvetica,sans-Serif\" font-size=\"14.00\" fill=\"#000000\">value = [1, 1]</text>\n<text text-anchor=\"middle\" x=\"4314\" y=\"-7.8\" font-family=\"Helvetica,sans-Serif\" font-size=\"14.00\" fill=\"#000000\">class = survived_false</text>\n</g>\n<!-- 90&#45;&gt;91 -->\n<g id=\"edge91\" class=\"edge\">\n<title>90&#45;&gt;91</title>\n<path fill=\"none\" stroke=\"#000000\" d=\"M4303.9578,-103.9815C4305.158,-95.618 4306.4238,-86.7965 4307.6372,-78.3409\"/>\n<polygon fill=\"#000000\" stroke=\"#000000\" points=\"4311.1272,-78.6595 4309.0832,-68.2637 4304.1982,-77.6651 4311.1272,-78.6595\"/>\n</g>\n<!-- 92 -->\n<g id=\"node93\" class=\"node\">\n<title>92</title>\n<polygon fill=\"#f2c09c\" stroke=\"#000000\" points=\"4572,-68 4412,-68 4412,0 4572,0 4572,-68\"/>\n<text text-anchor=\"middle\" x=\"4492\" y=\"-52.8\" font-family=\"Helvetica,sans-Serif\" font-size=\"14.00\" fill=\"#000000\">entropy = 0.918</text>\n<text text-anchor=\"middle\" x=\"4492\" y=\"-37.8\" font-family=\"Helvetica,sans-Serif\" font-size=\"14.00\" fill=\"#000000\">samples = 3</text>\n<text text-anchor=\"middle\" x=\"4492\" y=\"-22.8\" font-family=\"Helvetica,sans-Serif\" font-size=\"14.00\" fill=\"#000000\">value = [2, 1]</text>\n<text text-anchor=\"middle\" x=\"4492\" y=\"-7.8\" font-family=\"Helvetica,sans-Serif\" font-size=\"14.00\" fill=\"#000000\">class = survived_false</text>\n</g>\n<!-- 90&#45;&gt;92 -->\n<g id=\"edge92\" class=\"edge\">\n<title>90&#45;&gt;92</title>\n<path fill=\"none\" stroke=\"#000000\" d=\"M4370.2384,-103.9815C4387.7603,-93.911 4406.4374,-83.1764 4423.7676,-73.2161\"/>\n<polygon fill=\"#000000\" stroke=\"#000000\" points=\"4425.7681,-76.1032 4432.6941,-68.0856 4422.2799,-70.0342 4425.7681,-76.1032\"/>\n</g>\n<!-- 95 -->\n<g id=\"node96\" class=\"node\">\n<title>95</title>\n<polygon fill=\"#e58139\" stroke=\"#000000\" points=\"4312,-417.5 4152,-417.5 4152,-349.5 4312,-349.5 4312,-417.5\"/>\n<text text-anchor=\"middle\" x=\"4232\" y=\"-402.3\" font-family=\"Helvetica,sans-Serif\" font-size=\"14.00\" fill=\"#000000\">entropy = 0.0</text>\n<text text-anchor=\"middle\" x=\"4232\" y=\"-387.3\" font-family=\"Helvetica,sans-Serif\" font-size=\"14.00\" fill=\"#000000\">samples = 9</text>\n<text text-anchor=\"middle\" x=\"4232\" y=\"-372.3\" font-family=\"Helvetica,sans-Serif\" font-size=\"14.00\" fill=\"#000000\">value = [9, 0]</text>\n<text text-anchor=\"middle\" x=\"4232\" y=\"-357.3\" font-family=\"Helvetica,sans-Serif\" font-size=\"14.00\" fill=\"#000000\">class = survived_false</text>\n</g>\n<!-- 94&#45;&gt;95 -->\n<g id=\"edge95\" class=\"edge\">\n<title>94&#45;&gt;95</title>\n<path fill=\"none\" stroke=\"#000000\" d=\"M4232,-460.8796C4232,-450.2134 4232,-438.7021 4232,-427.9015\"/>\n<polygon fill=\"#000000\" stroke=\"#000000\" points=\"4235.5001,-427.8149 4232,-417.8149 4228.5001,-427.815 4235.5001,-427.8149\"/>\n</g>\n<!-- 96 -->\n<g id=\"node97\" class=\"node\">\n<title>96</title>\n<polygon fill=\"#e78c4b\" stroke=\"#000000\" points=\"4556,-425 4396,-425 4396,-342 4556,-342 4556,-425\"/>\n<text text-anchor=\"middle\" x=\"4476\" y=\"-409.8\" font-family=\"Helvetica,sans-Serif\" font-size=\"14.00\" fill=\"#000000\">SibSp &lt;= 4.5</text>\n<text text-anchor=\"middle\" x=\"4476\" y=\"-394.8\" font-family=\"Helvetica,sans-Serif\" font-size=\"14.00\" fill=\"#000000\">entropy = 0.414</text>\n<text text-anchor=\"middle\" x=\"4476\" y=\"-379.8\" font-family=\"Helvetica,sans-Serif\" font-size=\"14.00\" fill=\"#000000\">samples = 12</text>\n<text text-anchor=\"middle\" x=\"4476\" y=\"-364.8\" font-family=\"Helvetica,sans-Serif\" font-size=\"14.00\" fill=\"#000000\">value = [11, 1]</text>\n<text text-anchor=\"middle\" x=\"4476\" y=\"-349.8\" font-family=\"Helvetica,sans-Serif\" font-size=\"14.00\" fill=\"#000000\">class = survived_false</text>\n</g>\n<!-- 94&#45;&gt;96 -->\n<g id=\"edge96\" class=\"edge\">\n<title>94&#45;&gt;96</title>\n<path fill=\"none\" stroke=\"#000000\" d=\"M4312.2327,-463.3701C4336.0035,-451.777 4362.1802,-439.0105 4386.4987,-427.1502\"/>\n<polygon fill=\"#000000\" stroke=\"#000000\" points=\"4388.2653,-430.1828 4395.7191,-422.6534 4385.1968,-423.8911 4388.2653,-430.1828\"/>\n</g>\n<!-- 97 -->\n<g id=\"node98\" class=\"node\">\n<title>97</title>\n<polygon fill=\"#eeab7b\" stroke=\"#000000\" points=\"4556,-306 4396,-306 4396,-223 4556,-223 4556,-306\"/>\n<text text-anchor=\"middle\" x=\"4476\" y=\"-290.8\" font-family=\"Helvetica,sans-Serif\" font-size=\"14.00\" fill=\"#000000\">SibSp &lt;= 3.5</text>\n<text text-anchor=\"middle\" x=\"4476\" y=\"-275.8\" font-family=\"Helvetica,sans-Serif\" font-size=\"14.00\" fill=\"#000000\">entropy = 0.811</text>\n<text text-anchor=\"middle\" x=\"4476\" y=\"-260.8\" font-family=\"Helvetica,sans-Serif\" font-size=\"14.00\" fill=\"#000000\">samples = 4</text>\n<text text-anchor=\"middle\" x=\"4476\" y=\"-245.8\" font-family=\"Helvetica,sans-Serif\" font-size=\"14.00\" fill=\"#000000\">value = [3, 1]</text>\n<text text-anchor=\"middle\" x=\"4476\" y=\"-230.8\" font-family=\"Helvetica,sans-Serif\" font-size=\"14.00\" fill=\"#000000\">class = survived_false</text>\n</g>\n<!-- 96&#45;&gt;97 -->\n<g id=\"edge97\" class=\"edge\">\n<title>96&#45;&gt;97</title>\n<path fill=\"none\" stroke=\"#000000\" d=\"M4476,-341.8796C4476,-333.6838 4476,-324.9891 4476,-316.5013\"/>\n<polygon fill=\"#000000\" stroke=\"#000000\" points=\"4479.5001,-316.298 4476,-306.2981 4472.5001,-316.2981 4479.5001,-316.298\"/>\n</g>\n<!-- 100 -->\n<g id=\"node101\" class=\"node\">\n<title>100</title>\n<polygon fill=\"#e58139\" stroke=\"#000000\" points=\"4734,-298.5 4574,-298.5 4574,-230.5 4734,-230.5 4734,-298.5\"/>\n<text text-anchor=\"middle\" x=\"4654\" y=\"-283.3\" font-family=\"Helvetica,sans-Serif\" font-size=\"14.00\" fill=\"#000000\">entropy = 0.0</text>\n<text text-anchor=\"middle\" x=\"4654\" y=\"-268.3\" font-family=\"Helvetica,sans-Serif\" font-size=\"14.00\" fill=\"#000000\">samples = 8</text>\n<text text-anchor=\"middle\" x=\"4654\" y=\"-253.3\" font-family=\"Helvetica,sans-Serif\" font-size=\"14.00\" fill=\"#000000\">value = [8, 0]</text>\n<text text-anchor=\"middle\" x=\"4654\" y=\"-238.3\" font-family=\"Helvetica,sans-Serif\" font-size=\"14.00\" fill=\"#000000\">class = survived_false</text>\n</g>\n<!-- 96&#45;&gt;100 -->\n<g id=\"edge100\" class=\"edge\">\n<title>96&#45;&gt;100</title>\n<path fill=\"none\" stroke=\"#000000\" d=\"M4538.2558,-341.8796C4556.4346,-329.7263 4576.2546,-316.4759 4594.2731,-304.4297\"/>\n<polygon fill=\"#000000\" stroke=\"#000000\" points=\"4596.5907,-307.0905 4602.9588,-298.623 4592.7003,-301.2712 4596.5907,-307.0905\"/>\n</g>\n<!-- 98 -->\n<g id=\"node99\" class=\"node\">\n<title>98</title>\n<polygon fill=\"#e58139\" stroke=\"#000000\" points=\"4556,-179.5 4396,-179.5 4396,-111.5 4556,-111.5 4556,-179.5\"/>\n<text text-anchor=\"middle\" x=\"4476\" y=\"-164.3\" font-family=\"Helvetica,sans-Serif\" font-size=\"14.00\" fill=\"#000000\">entropy = 0.0</text>\n<text text-anchor=\"middle\" x=\"4476\" y=\"-149.3\" font-family=\"Helvetica,sans-Serif\" font-size=\"14.00\" fill=\"#000000\">samples = 1</text>\n<text text-anchor=\"middle\" x=\"4476\" y=\"-134.3\" font-family=\"Helvetica,sans-Serif\" font-size=\"14.00\" fill=\"#000000\">value = [1, 0]</text>\n<text text-anchor=\"middle\" x=\"4476\" y=\"-119.3\" font-family=\"Helvetica,sans-Serif\" font-size=\"14.00\" fill=\"#000000\">class = survived_false</text>\n</g>\n<!-- 97&#45;&gt;98 -->\n<g id=\"edge98\" class=\"edge\">\n<title>97&#45;&gt;98</title>\n<path fill=\"none\" stroke=\"#000000\" d=\"M4476,-222.8796C4476,-212.2134 4476,-200.7021 4476,-189.9015\"/>\n<polygon fill=\"#000000\" stroke=\"#000000\" points=\"4479.5001,-189.8149 4476,-179.8149 4472.5001,-189.815 4479.5001,-189.8149\"/>\n</g>\n<!-- 99 -->\n<g id=\"node100\" class=\"node\">\n<title>99</title>\n<polygon fill=\"#f2c09c\" stroke=\"#000000\" points=\"4734,-179.5 4574,-179.5 4574,-111.5 4734,-111.5 4734,-179.5\"/>\n<text text-anchor=\"middle\" x=\"4654\" y=\"-164.3\" font-family=\"Helvetica,sans-Serif\" font-size=\"14.00\" fill=\"#000000\">entropy = 0.918</text>\n<text text-anchor=\"middle\" x=\"4654\" y=\"-149.3\" font-family=\"Helvetica,sans-Serif\" font-size=\"14.00\" fill=\"#000000\">samples = 3</text>\n<text text-anchor=\"middle\" x=\"4654\" y=\"-134.3\" font-family=\"Helvetica,sans-Serif\" font-size=\"14.00\" fill=\"#000000\">value = [2, 1]</text>\n<text text-anchor=\"middle\" x=\"4654\" y=\"-119.3\" font-family=\"Helvetica,sans-Serif\" font-size=\"14.00\" fill=\"#000000\">class = survived_false</text>\n</g>\n<!-- 97&#45;&gt;99 -->\n<g id=\"edge99\" class=\"edge\">\n<title>97&#45;&gt;99</title>\n<path fill=\"none\" stroke=\"#000000\" d=\"M4538.2558,-222.8796C4556.4346,-210.7263 4576.2546,-197.4759 4594.2731,-185.4297\"/>\n<polygon fill=\"#000000\" stroke=\"#000000\" points=\"4596.5907,-188.0905 4602.9588,-179.623 4592.7003,-182.2712 4596.5907,-188.0905\"/>\n</g>\n</g>\n</svg>\n"
          },
          "metadata": {},
          "execution_count": 8
        }
      ]
    },
    {
      "cell_type": "markdown",
      "metadata": {
        "id": "iMdqypDSqWC6"
      },
      "source": [
        "## Interpreting the tree\n",
        "The top node splits on the sex attribute, suggesting that this is an important attribute to predict whether a passenger survived.\n",
        "\n",
        "The leaf node with the largest number of samples and 0 entropy includes 33 passengers who survived. To see what attributes they had in common, we can trace the path from the leaf node up the tree to the root. These passengers had no siblings or spouses aboard and less than 1.5 parents or children. They were in first class and female.\n"
      ]
    },
    {
      "cell_type": "markdown",
      "metadata": {
        "id": "bxA_OnglpZwQ"
      },
      "source": [
        "### How well does the model predict the training data?"
      ]
    },
    {
      "cell_type": "code",
      "metadata": {
        "colab": {
          "base_uri": "https://localhost:8080/"
        },
        "id": "X4Gem4SX00Rq",
        "outputId": "0ee048ff-cc26-41ce-a308-ed4a86284c62"
      },
      "source": [
        "print('Training accuracy:')\n",
        "ypred = clf.predict(Xtrain)\n",
        "print(classification_report(ytrain, ypred))"
      ],
      "execution_count": 9,
      "outputs": [
        {
          "output_type": "stream",
          "name": "stdout",
          "text": [
            "Training accuracy:\n",
            "              precision    recall  f1-score   support\n",
            "\n",
            "           0       0.81      0.93      0.86       498\n",
            "           1       0.85      0.63      0.72       303\n",
            "\n",
            "    accuracy                           0.82       801\n",
            "   macro avg       0.83      0.78      0.79       801\n",
            "weighted avg       0.82      0.82      0.81       801\n",
            "\n"
          ]
        }
      ]
    },
    {
      "cell_type": "markdown",
      "metadata": {
        "id": "RvTRVLkSpoVm"
      },
      "source": [
        "### How well does the model predict the test data?"
      ]
    },
    {
      "cell_type": "code",
      "metadata": {
        "colab": {
          "base_uri": "https://localhost:8080/"
        },
        "id": "8LWZiRRf00Rr",
        "outputId": "f540ad78-1e28-419e-d98c-0d4512912a9d"
      },
      "source": [
        "\n",
        "ypred = clf.predict(Xtest)\n",
        "print(classification_report(ytest, ypred))"
      ],
      "execution_count": 10,
      "outputs": [
        {
          "output_type": "stream",
          "name": "stdout",
          "text": [
            "              precision    recall  f1-score   support\n",
            "\n",
            "           0       0.76      0.86      0.81        51\n",
            "           1       0.78      0.64      0.70        39\n",
            "\n",
            "    accuracy                           0.77        90\n",
            "   macro avg       0.77      0.75      0.76        90\n",
            "weighted avg       0.77      0.77      0.76        90\n",
            "\n"
          ]
        }
      ]
    },
    {
      "cell_type": "markdown",
      "metadata": {
        "id": "g379S4l-pt9c"
      },
      "source": [
        "### The accuracy on the training data is only a bit better than on the test data, so the model is overfitting, but not too badly."
      ]
    },
    {
      "cell_type": "markdown",
      "metadata": {
        "id": "s4lXVsJZ00Rs"
      },
      "source": [
        "## Confusion Matrix"
      ]
    },
    {
      "cell_type": "code",
      "metadata": {
        "colab": {
          "base_uri": "https://localhost:8080/",
          "height": 295
        },
        "id": "SYuHQ92100Rs",
        "outputId": "a7bddb2d-cdcf-4eff-99ee-ee4d29246d6b"
      },
      "source": [
        "from sklearn.metrics import confusion_matrix\n",
        "\n",
        "cm = confusion_matrix(ytest, ypred)\n",
        "\n",
        "sns.heatmap(cm, square=True, annot=True, fmt='d', cbar=True, cmap=\"PuBu\",\n",
        "                    xticklabels=clf.classes_,\n",
        "                    yticklabels=clf.classes_)\n",
        "\n",
        "plt.xlabel('Predicted Label');\n",
        "plt.ylabel('True Label')\n",
        "plt.title('Classification Confusion Matrix')\n",
        "plt.show()"
      ],
      "execution_count": 11,
      "outputs": [
        {
          "output_type": "display_data",
          "data": {
            "image/png": "[encoded data removed]",
            "text/plain": [
              "<Figure size 432x288 with 2 Axes>"
            ]
          },
          "metadata": {
            "needs_background": "light"
          }
        }
      ]
    },
    {
      "cell_type": "markdown",
      "metadata": {
        "id": "gIXRnZCfsCGE"
      },
      "source": [
        "## Mistakes\n",
        "The model is worst when the true label is 1 (pasenger survived), with a recall of 64%."
      ]
    },
    {
      "cell_type": "markdown",
      "source": [
        "## See if limiting max depth can help overfitting"
      ],
      "metadata": {
        "id": "7wAKjdfM_Lu-"
      }
    },
    {
      "cell_type": "code",
      "source": [
        "from sklearn.metrics import accuracy_score\n",
        "\n",
        "for d in range(1, 10):\n",
        "    # Make a tree object\n",
        "    clf = DecisionTreeClassifier(criterion='entropy', max_depth=d, random_state=0)\n",
        "\n",
        "    # Fit a model to the training data\n",
        "    clf = clf.fit(Xtrain, ytrain)\n",
        "\n",
        "    # See how well the model predicts the training data\n",
        "    ypred = clf.predict(Xtrain)\n",
        "    # acc_train = np.sum(ypred == ytrain) / len(ypred)\n",
        "    acc_train = accuracy_score(ytrain, ypred)\n",
        "\n",
        "    # See how well the model predicts the test data\n",
        "    ypred = clf.predict(Xtest)\n",
        "    # acc_test = np.sum(ypred == ytest) / len(ypred)\n",
        "    acc_test = accuracy_score(ytest, ypred)\n",
        "\n",
        "    print(f'max_depth = {d}: train accuracy {acc_train:.2f}, test accuracy {acc_test:.2f}')\n"
      ],
      "metadata": {
        "colab": {
          "base_uri": "https://localhost:8080/"
        },
        "id": "q3octDkd_LEo",
        "outputId": "ffc88991-28f0-441a-a3b9-e23a57038cf1"
      },
      "execution_count": 12,
      "outputs": [
        {
          "output_type": "stream",
          "name": "stdout",
          "text": [
            "max_depth = 1: train accuracy 0.79, test accuracy 0.80\n",
            "max_depth = 2: train accuracy 0.79, test accuracy 0.80\n",
            "max_depth = 3: train accuracy 0.80, test accuracy 0.81\n",
            "max_depth = 4: train accuracy 0.81, test accuracy 0.80\n",
            "max_depth = 5: train accuracy 0.81, test accuracy 0.80\n",
            "max_depth = 6: train accuracy 0.81, test accuracy 0.79\n",
            "max_depth = 7: train accuracy 0.82, test accuracy 0.77\n",
            "max_depth = 8: train accuracy 0.82, test accuracy 0.77\n",
            "max_depth = 9: train accuracy 0.82, test accuracy 0.77\n"
          ]
        }
      ]
    },
    {
      "cell_type": "markdown",
      "source": [
        "## Overfitting\n",
        "Notice that as max depth increases (the decision tree model gets more complicated) the training accuracy goes up a bit, but the test accuracy falls, suggesting that the model is starting to overfit. We get the highest accuracy on the test data (which is what we care about) when max depth is 3."
      ],
      "metadata": {
        "id": "QhRy9C9_b5dn"
      }
    },
    {
      "cell_type": "code",
      "source": [
        "# Show final results with best model\n",
        "clf = DecisionTreeClassifier(criterion='entropy', max_depth=3, random_state=0)\n",
        "clf = clf.fit(Xtrain, ytrain)\n",
        "ypred = clf.predict(Xtest)\n",
        "\n",
        "cm = confusion_matrix(ytest, ypred)\n",
        "sns.heatmap(cm, square=True, annot=True, fmt='d', cbar=True, cmap='Reds',\n",
        "            xticklabels=clf.classes_,\n",
        "            yticklabels=clf.classes_)\n",
        "plt.xlabel('predicted label')\n",
        "plt.ylabel('actual label');\n"
      ],
      "metadata": {
        "colab": {
          "base_uri": "https://localhost:8080/",
          "height": 279
        },
        "id": "N0u6Iykp_KoB",
        "outputId": "8bb615fb-d0dd-4409-e925-fa26fff3e0c9"
      },
      "execution_count": 13,
      "outputs": [
        {
          "output_type": "display_data",
          "data": {
            "image/png": "[encoded data removed]",
            "text/plain": [
              "<Figure size 432x288 with 2 Axes>"
            ]
          },
          "metadata": {
            "needs_background": "light"
          }
        }
      ]
    }
  ]
}