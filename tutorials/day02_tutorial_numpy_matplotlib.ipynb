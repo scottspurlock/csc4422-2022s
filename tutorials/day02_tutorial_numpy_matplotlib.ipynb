{
  "nbformat": 4,
  "nbformat_minor": 0,
  "metadata": {
    "kernelspec": {
      "display_name": "Python 3",
      "language": "python",
      "name": "python3"
    },
    "language_info": {
      "codemirror_mode": {
        "name": "ipython",
        "version": 3
      },
      "file_extension": ".py",
      "mimetype": "text/x-python",
      "name": "python",
      "nbconvert_exporter": "python",
      "pygments_lexer": "ipython3",
      "version": "3.7.6"
    },
    "colab": {
      "name": "day02_tutorial_numpy_matplotlib.ipynb",
      "provenance": [],
      "include_colab_link": true
    }
  },
  "cells": [
    {
      "cell_type": "markdown",
      "metadata": {
        "id": "view-in-github",
        "colab_type": "text"
      },
      "source": [
        "<a href=\"https://colab.research.google.com/github/scottspurlock/csc4422-2022s/blob/main/tutorials/day02_tutorial_numpy_matplotlib.ipynb\" target=\"_parent\"><img src=\"https://colab.research.google.com/assets/colab-badge.svg\" alt=\"Open In Colab\"/></a>"
      ]
    },
    {
      "cell_type": "markdown",
      "metadata": {
        "id": "gRMP-JNx6f0e"
      },
      "source": [
        "# Day 2 Tutorial: Introduction to Numpy and Matplotlib\n",
        "\n",
        "The following tutorial contains examples of using numpy and matplotlib. The notebook is adapted from Mobasher and Tan."
      ]
    },
    {
      "cell_type": "markdown",
      "metadata": {
        "id": "I9GlhbSw6f0j"
      },
      "source": [
        "## 2.1 Numpy"
      ]
    },
    {
      "cell_type": "code",
      "metadata": {
        "id": "cDEYGOTA6f0k"
      },
      "source": [
        "import numpy as np"
      ],
      "execution_count": 1,
      "outputs": []
    },
    {
      "cell_type": "code",
      "metadata": {
        "id": "RdXIE3bx6f0k",
        "outputId": "221ba597-51ec-4576-f445-e9100c3d3c18",
        "colab": {
          "base_uri": "https://localhost:8080/"
        }
      },
      "source": [
        "# Creating a 1-d array\n",
        "\n",
        "A = np.array([1,2,3,4,5])\n",
        "print(A)\n",
        "print(type(A))\n",
        "print(A[0])\n",
        "print(type(A[0]))"
      ],
      "execution_count": 2,
      "outputs": [
        {
          "output_type": "stream",
          "name": "stdout",
          "text": [
            "[1 2 3 4 5]\n",
            "<class 'numpy.ndarray'>\n",
            "1\n",
            "<class 'numpy.int64'>\n"
          ]
        }
      ]
    },
    {
      "cell_type": "code",
      "metadata": {
        "id": "CxIx9ABG6f0l",
        "outputId": "30b0df55-ae9c-46ea-cd3a-2e74b26ce0fc",
        "colab": {
          "base_uri": "https://localhost:8080/"
        }
      },
      "source": [
        "# Creating a 1-d array from an existing Python list\n",
        "\n",
        "L = [1, 2, 3, 4, 5, 6]\n",
        "\n",
        "A = np.array(L)\n",
        "A"
      ],
      "execution_count": 3,
      "outputs": [
        {
          "output_type": "execute_result",
          "data": {
            "text/plain": [
              "array([1, 2, 3, 4, 5, 6])"
            ]
          },
          "metadata": {},
          "execution_count": 3
        }
      ]
    },
    {
      "cell_type": "code",
      "metadata": {
        "id": "HRFSZe7e6f0m",
        "outputId": "c2d818c5-98d4-4230-8155-e0dda55a87a5",
        "colab": {
          "base_uri": "https://localhost:8080/"
        }
      },
      "source": [
        "A / 5"
      ],
      "execution_count": 4,
      "outputs": [
        {
          "output_type": "execute_result",
          "data": {
            "text/plain": [
              "array([0.2, 0.4, 0.6, 0.8, 1. , 1.2])"
            ]
          },
          "metadata": {},
          "execution_count": 4
        }
      ]
    },
    {
      "cell_type": "code",
      "metadata": {
        "id": "gcqBhGFF6f0m",
        "outputId": "2da33ee0-0797-4dd5-b4ee-d41967c6790d",
        "colab": {
          "base_uri": "https://localhost:8080/"
        }
      },
      "source": [
        "np.array([1.0,2,3,4,5]) / 5"
      ],
      "execution_count": 5,
      "outputs": [
        {
          "output_type": "execute_result",
          "data": {
            "text/plain": [
              "array([0.2, 0.4, 0.6, 0.8, 1. ])"
            ]
          },
          "metadata": {},
          "execution_count": 5
        }
      ]
    },
    {
      "cell_type": "code",
      "metadata": {
        "id": "WRLGAl266f0m",
        "outputId": "98d64f79-626d-48f2-d4e6-c09539a79f80",
        "colab": {
          "base_uri": "https://localhost:8080/"
        }
      },
      "source": [
        "M = np.array([2, 3, 4, 5, 6, 7])\n",
        "\n",
        "P = L * M\n",
        "P"
      ],
      "execution_count": 6,
      "outputs": [
        {
          "output_type": "execute_result",
          "data": {
            "text/plain": [
              "array([ 2,  6, 12, 20, 30, 42])"
            ]
          },
          "metadata": {},
          "execution_count": 6
        }
      ]
    },
    {
      "cell_type": "code",
      "metadata": {
        "id": "xyPtFrcP6f0n",
        "outputId": "a8d7c005-5c2c-41cc-d839-eda2d4973c77",
        "colab": {
          "base_uri": "https://localhost:8080/"
        }
      },
      "source": [
        "P.sum()"
      ],
      "execution_count": 7,
      "outputs": [
        {
          "output_type": "execute_result",
          "data": {
            "text/plain": [
              "112"
            ]
          },
          "metadata": {},
          "execution_count": 7
        }
      ]
    },
    {
      "cell_type": "code",
      "metadata": {
        "id": "3-07oWUU6f0n",
        "outputId": "0a4671ea-f701-4eb1-fb27-16c5281e428f",
        "colab": {
          "base_uri": "https://localhost:8080/"
        }
      },
      "source": [
        "P.mean()"
      ],
      "execution_count": 8,
      "outputs": [
        {
          "output_type": "execute_result",
          "data": {
            "text/plain": [
              "18.666666666666668"
            ]
          },
          "metadata": {},
          "execution_count": 8
        }
      ]
    },
    {
      "cell_type": "code",
      "metadata": {
        "id": "I3bSTjp26f0n",
        "outputId": "ffcdef7a-97cc-45c2-d87f-f1a2377e258a",
        "colab": {
          "base_uri": "https://localhost:8080/"
        }
      },
      "source": [
        "print(P.min())\n",
        "print(P.max())\n"
      ],
      "execution_count": 9,
      "outputs": [
        {
          "output_type": "stream",
          "name": "stdout",
          "text": [
            "2\n",
            "42\n"
          ]
        }
      ]
    },
    {
      "cell_type": "code",
      "metadata": {
        "id": "Qn2piuep6f0o",
        "outputId": "978deed7-df72-43ad-8708-a5e3c3b892bc",
        "colab": {
          "base_uri": "https://localhost:8080/"
        }
      },
      "source": [
        "# Creating a 2-d array\n",
        "\n",
        "X = np.array([[1,2,3],[4,5,6],[7,8,9]])\n",
        "print(X)\n",
        "print(X.shape) # No parentheses - shape is not a function\n",
        "print('Rows:', X.shape[0])\n",
        "print('Columns:', X.shape[1])"
      ],
      "execution_count": 10,
      "outputs": [
        {
          "output_type": "stream",
          "name": "stdout",
          "text": [
            "[[1 2 3]\n",
            " [4 5 6]\n",
            " [7 8 9]]\n",
            "(3, 3)\n",
            "Rows: 3\n",
            "Columns: 3\n"
          ]
        }
      ]
    },
    {
      "cell_type": "code",
      "metadata": {
        "id": "XbCfmPU16f0o",
        "outputId": "e94dab8b-5ea9-441e-f839-48a3ea776f2d",
        "colab": {
          "base_uri": "https://localhost:8080/"
        }
      },
      "source": [
        "# Transpose a 2-d array\n",
        "\n",
        "X.T"
      ],
      "execution_count": 11,
      "outputs": [
        {
          "output_type": "execute_result",
          "data": {
            "text/plain": [
              "array([[1, 4, 7],\n",
              "       [2, 5, 8],\n",
              "       [3, 6, 9]])"
            ]
          },
          "metadata": {},
          "execution_count": 11
        }
      ]
    },
    {
      "cell_type": "code",
      "metadata": {
        "id": "xWm_zhqZ6f0o",
        "outputId": "f2c939c1-fc6c-44b5-c667-65654d0b2846",
        "colab": {
          "base_uri": "https://localhost:8080/"
        }
      },
      "source": [
        "# Array slicing\n",
        "\n",
        "X[1,2]"
      ],
      "execution_count": 12,
      "outputs": [
        {
          "output_type": "execute_result",
          "data": {
            "text/plain": [
              "6"
            ]
          },
          "metadata": {},
          "execution_count": 12
        }
      ]
    },
    {
      "cell_type": "code",
      "metadata": {
        "id": "8MqWm_oA6f0o",
        "outputId": "2c473448-df14-45b2-8842-d2e911752071",
        "colab": {
          "base_uri": "https://localhost:8080/"
        }
      },
      "source": [
        "# All the rows, column 1\n",
        "X[:,1]"
      ],
      "execution_count": 13,
      "outputs": [
        {
          "output_type": "execute_result",
          "data": {
            "text/plain": [
              "array([2, 5, 8])"
            ]
          },
          "metadata": {},
          "execution_count": 13
        }
      ]
    },
    {
      "cell_type": "code",
      "metadata": {
        "id": "c_7iv20D6f0p",
        "outputId": "d42c2f51-a168-4d7a-a1dd-721747c58c5d",
        "colab": {
          "base_uri": "https://localhost:8080/"
        }
      },
      "source": [
        "# Row 0, all the columns\n",
        "X[0,:]"
      ],
      "execution_count": 14,
      "outputs": [
        {
          "output_type": "execute_result",
          "data": {
            "text/plain": [
              "array([1, 2, 3])"
            ]
          },
          "metadata": {},
          "execution_count": 14
        }
      ]
    },
    {
      "cell_type": "code",
      "metadata": {
        "id": "unCCJVzl6f0p",
        "outputId": "d352d339-ae19-4e38-dc45-dc5dc00ccd1b",
        "colab": {
          "base_uri": "https://localhost:8080/"
        }
      },
      "source": [
        "# From Row 1 on, from column 1 on\n",
        "X[1:,1:]"
      ],
      "execution_count": 15,
      "outputs": [
        {
          "output_type": "execute_result",
          "data": {
            "text/plain": [
              "array([[5, 6],\n",
              "       [8, 9]])"
            ]
          },
          "metadata": {},
          "execution_count": 15
        }
      ]
    },
    {
      "cell_type": "code",
      "metadata": {
        "id": "538BVs3K6f0p",
        "outputId": "4370d4e7-ac5b-48f4-c7f3-7c08f7e342e2",
        "colab": {
          "base_uri": "https://localhost:8080/"
        }
      },
      "source": [
        "# From row 1 on, Column 0 to 1 (end index not inclusive)\n",
        "X[1:,0:2]"
      ],
      "execution_count": 16,
      "outputs": [
        {
          "output_type": "execute_result",
          "data": {
            "text/plain": [
              "array([[4, 5],\n",
              "       [7, 8]])"
            ]
          },
          "metadata": {},
          "execution_count": 16
        }
      ]
    },
    {
      "cell_type": "code",
      "metadata": {
        "id": "vir9RtnX6f0p",
        "outputId": "819cecf7-fa95-4b22-a689-d1abd49f8400",
        "colab": {
          "base_uri": "https://localhost:8080/"
        }
      },
      "source": [
        "# Using arrays to index into other arrays (e.g., Boolean masks)\n",
        "\n",
        "A = np.array([1, 2, 3, 4, 5, 6, 7])\n",
        "\n",
        "A > 3"
      ],
      "execution_count": 17,
      "outputs": [
        {
          "output_type": "execute_result",
          "data": {
            "text/plain": [
              "array([False, False, False,  True,  True,  True,  True])"
            ]
          },
          "metadata": {},
          "execution_count": 17
        }
      ]
    },
    {
      "cell_type": "code",
      "source": [
        "# Count how many True's there are using sum\n",
        "mask = A > 3\n",
        "mask.sum()"
      ],
      "metadata": {
        "colab": {
          "base_uri": "https://localhost:8080/"
        },
        "id": "s9zmP_if2u9u",
        "outputId": "c4e60f74-17c8-4a7d-ce41-e2398cb91db2"
      },
      "execution_count": 18,
      "outputs": [
        {
          "output_type": "execute_result",
          "data": {
            "text/plain": [
              "4"
            ]
          },
          "metadata": {},
          "execution_count": 18
        }
      ]
    },
    {
      "cell_type": "code",
      "metadata": {
        "id": "WNKuWdQl6f0q",
        "outputId": "940a0dbd-6d83-47e7-e7b2-f62af124baa8",
        "colab": {
          "base_uri": "https://localhost:8080/"
        }
      },
      "source": [
        "# Keep only elements where A > 3\n",
        "mask = A > 3\n",
        "B = A[mask]\n",
        "B"
      ],
      "execution_count": 19,
      "outputs": [
        {
          "output_type": "execute_result",
          "data": {
            "text/plain": [
              "array([4, 5, 6, 7])"
            ]
          },
          "metadata": {},
          "execution_count": 19
        }
      ]
    },
    {
      "cell_type": "code",
      "metadata": {
        "id": "YfNeEqFQ6f0q",
        "outputId": "c5f0478e-1add-41f8-a2f6-14e6110cae61",
        "colab": {
          "base_uri": "https://localhost:8080/"
        }
      },
      "source": [
        "# Combine two masks with logical AND to get a range\n",
        "mask = (A > 1) & (A < 6)\n",
        "print(mask)\n",
        "A[mask]"
      ],
      "execution_count": 20,
      "outputs": [
        {
          "output_type": "stream",
          "name": "stdout",
          "text": [
            "[False  True  True  True  True False False]\n"
          ]
        },
        {
          "output_type": "execute_result",
          "data": {
            "text/plain": [
              "array([2, 3, 4, 5])"
            ]
          },
          "metadata": {},
          "execution_count": 20
        }
      ]
    },
    {
      "cell_type": "markdown",
      "source": [
        "### Using masks to find NaN\n",
        "numpy uses a special value, nan, to indicate \"not a number.\" We often want to find nan values to either remove or fill in.\n"
      ],
      "metadata": {
        "id": "vJhJKbrt3e60"
      }
    },
    {
      "cell_type": "code",
      "source": [
        "# Make up some data\n",
        "A = np.random.rand(4, 2)\n",
        "\n",
        "# corrupt the data with nan values\n",
        "A[0, 1] = np.nan\n",
        "A[2, 0] = np.nan\n",
        "\n",
        "A"
      ],
      "metadata": {
        "colab": {
          "base_uri": "https://localhost:8080/"
        },
        "id": "xqGBLUy930nu",
        "outputId": "0c36c48d-d5ed-41b5-ac91-c2bc7d51e9c7"
      },
      "execution_count": 21,
      "outputs": [
        {
          "output_type": "execute_result",
          "data": {
            "text/plain": [
              "array([[0.453299  ,        nan],\n",
              "       [0.85961183, 0.97998805],\n",
              "       [       nan, 0.66879925],\n",
              "       [0.20303907, 0.5142126 ]])"
            ]
          },
          "metadata": {},
          "execution_count": 21
        }
      ]
    },
    {
      "cell_type": "code",
      "source": [
        "# The nan values keep us from being able to sum up the data\n",
        "A.sum(axis=0)"
      ],
      "metadata": {
        "colab": {
          "base_uri": "https://localhost:8080/"
        },
        "id": "u0J0HsLs4SRP",
        "outputId": "8c9b66a1-f56c-43d4-c2db-7171d70f1e45"
      },
      "execution_count": 22,
      "outputs": [
        {
          "output_type": "execute_result",
          "data": {
            "text/plain": [
              "array([nan, nan])"
            ]
          },
          "metadata": {},
          "execution_count": 22
        }
      ]
    },
    {
      "cell_type": "code",
      "source": [
        "# The isnan function tells us which values are nan\n",
        "np.isnan(A)"
      ],
      "metadata": {
        "colab": {
          "base_uri": "https://localhost:8080/"
        },
        "id": "gwGpYALj4-KN",
        "outputId": "53673536-090e-4afb-acf2-ae5add064a0d"
      },
      "execution_count": 23,
      "outputs": [
        {
          "output_type": "execute_result",
          "data": {
            "text/plain": [
              "array([[False,  True],\n",
              "       [False, False],\n",
              "       [ True, False],\n",
              "       [False, False]])"
            ]
          },
          "metadata": {},
          "execution_count": 23
        }
      ]
    },
    {
      "cell_type": "code",
      "source": [
        "# One option is to drop all the rows that have a nan value.\n",
        "# First we can make a mask that's true for any row that has a nan.\n",
        "drop_rows = np.isnan(A).any(axis=1)\n",
        "print(drop_rows)\n",
        "\n",
        "# Then we can invert the mask with the not operator ~\n",
        "keep_rows = ~drop_rows\n",
        "clean_data = A[keep_rows]\n",
        "print()\n",
        "print(clean_data)"
      ],
      "metadata": {
        "colab": {
          "base_uri": "https://localhost:8080/"
        },
        "id": "olHQGvoZ4jBf",
        "outputId": "c7e47a79-e815-4b82-cb39-0c690cdda040"
      },
      "execution_count": 24,
      "outputs": [
        {
          "output_type": "stream",
          "name": "stdout",
          "text": [
            "[ True False  True False]\n",
            "\n",
            "[[0.85961183 0.97998805]\n",
            " [0.20303907 0.5142126 ]]\n"
          ]
        }
      ]
    },
    {
      "cell_type": "code",
      "source": [
        "# Another option is to replace nan values with a specific value, like 0\n",
        "\n",
        "# Original data\n",
        "print(A)\n",
        "print()\n",
        "\n",
        "B = A.copy()\n",
        "B[np.isnan(A)] = 0\n",
        "print(B)"
      ],
      "metadata": {
        "colab": {
          "base_uri": "https://localhost:8080/"
        },
        "id": "-Aeevo248Xne",
        "outputId": "63d45450-38c8-45f7-d6b8-8a792e69b47f"
      },
      "execution_count": 25,
      "outputs": [
        {
          "output_type": "stream",
          "name": "stdout",
          "text": [
            "[[0.453299          nan]\n",
            " [0.85961183 0.97998805]\n",
            " [       nan 0.66879925]\n",
            " [0.20303907 0.5142126 ]]\n",
            "\n",
            "[[0.453299   0.        ]\n",
            " [0.85961183 0.97998805]\n",
            " [0.         0.66879925]\n",
            " [0.20303907 0.5142126 ]]\n"
          ]
        }
      ]
    },
    {
      "cell_type": "code",
      "source": [
        "# Another option is to replace nan values with the mean\n",
        "\n",
        "# Original data\n",
        "print(A)\n",
        "print()\n",
        "\n",
        "# Finding the mean of just the actual numbers\n",
        "print(np.nanmean(A, axis=0))\n",
        "print()\n",
        "\n",
        "# Converting nan values to the column mean\n",
        "print(np.nan_to_num(A, nan=np.nanmean(A, axis=0)))"
      ],
      "metadata": {
        "colab": {
          "base_uri": "https://localhost:8080/"
        },
        "id": "ZtJ7rNtf6x3q",
        "outputId": "e37cdb07-ee0b-4802-f041-2ee7caf5c678"
      },
      "execution_count": 26,
      "outputs": [
        {
          "output_type": "stream",
          "name": "stdout",
          "text": [
            "[[0.453299          nan]\n",
            " [0.85961183 0.97998805]\n",
            " [       nan 0.66879925]\n",
            " [0.20303907 0.5142126 ]]\n",
            "\n",
            "[0.50531663 0.72099997]\n",
            "\n",
            "[[0.453299   0.72099997]\n",
            " [0.85961183 0.97998805]\n",
            " [0.50531663 0.66879925]\n",
            " [0.20303907 0.5142126 ]]\n"
          ]
        }
      ]
    },
    {
      "cell_type": "markdown",
      "source": [
        "### Finding duplicates"
      ],
      "metadata": {
        "id": "tTHLQNOm0x7l"
      }
    },
    {
      "cell_type": "code",
      "source": [
        "np.unique([1, 1, 1, 2, 2, 2, 3])"
      ],
      "metadata": {
        "colab": {
          "base_uri": "https://localhost:8080/"
        },
        "id": "MYSLYKY507_f",
        "outputId": "26709e53-9124-4fae-c881-443d91544993"
      },
      "execution_count": 27,
      "outputs": [
        {
          "output_type": "execute_result",
          "data": {
            "text/plain": [
              "array([1, 2, 3])"
            ]
          },
          "metadata": {},
          "execution_count": 27
        }
      ]
    },
    {
      "cell_type": "code",
      "source": [
        "# Finding how many times each value occurs with return_counts=True\n",
        "unique_vals, counts = np.unique([1, 1, 1, 2, 2, 2, 3], return_counts=True)\n",
        "print('unique values:', unique_vals)\n",
        "print('counts:       ', counts)"
      ],
      "metadata": {
        "colab": {
          "base_uri": "https://localhost:8080/"
        },
        "id": "_14G2Tkt1AzK",
        "outputId": "c76fb6b7-448e-489a-dc6a-e69e67bb50b5"
      },
      "execution_count": 28,
      "outputs": [
        {
          "output_type": "stream",
          "name": "stdout",
          "text": [
            "unique values: [1 2 3]\n",
            "counts:        [3 3 1]\n"
          ]
        }
      ]
    },
    {
      "cell_type": "code",
      "source": [
        "# Finding unique rows with axis=0\n",
        "a = np.array([[1, 0, 0], \n",
        "              [1, 0, 0], \n",
        "              [2, 3, 4]])\n",
        "np.unique(a, axis=0)\n"
      ],
      "metadata": {
        "colab": {
          "base_uri": "https://localhost:8080/"
        },
        "id": "bnaqh1xO02Iv",
        "outputId": "e81dd2ae-322a-414f-d5cb-b29b5e89fab8"
      },
      "execution_count": 29,
      "outputs": [
        {
          "output_type": "execute_result",
          "data": {
            "text/plain": [
              "array([[1, 0, 0],\n",
              "       [2, 3, 4]])"
            ]
          },
          "metadata": {},
          "execution_count": 29
        }
      ]
    },
    {
      "cell_type": "code",
      "source": [
        "# Finding how many times each row occurs with return_counts=True\n",
        "a = np.array([[1, 0, 0], \n",
        "              [1, 0, 0], \n",
        "              [2, 3, 4]])\n",
        "unique_vals, counts = np.unique(a, axis=0, return_counts=True)\n",
        "\n",
        "print('unique values:')\n",
        "print(unique_vals)\n",
        "print('counts:')\n",
        "print(counts)"
      ],
      "metadata": {
        "colab": {
          "base_uri": "https://localhost:8080/"
        },
        "id": "KZwg3h1x2D1h",
        "outputId": "82a6377c-e250-425e-952c-e614d4affc7c"
      },
      "execution_count": 30,
      "outputs": [
        {
          "output_type": "stream",
          "name": "stdout",
          "text": [
            "unique values:\n",
            "[[1 0 0]\n",
            " [2 3 4]]\n",
            "counts:\n",
            "[2 1]\n"
          ]
        }
      ]
    },
    {
      "cell_type": "markdown",
      "metadata": {
        "id": "sNta1Yl76f0q"
      },
      "source": [
        "### There are several ways to create numpy arrays."
      ]
    },
    {
      "cell_type": "code",
      "metadata": {
        "id": "LhhtRKkk6f0q",
        "outputId": "3ce8d580-50d4-4da2-f9aa-acf6437ae740",
        "colab": {
          "base_uri": "https://localhost:8080/"
        }
      },
      "source": [
        "print(np.zeros((2,3)))        # a 2 x 3 matrix of zeros\n",
        "print(np.ones((3,2)))         # a 3 x 2 matrix of ones\n"
      ],
      "execution_count": 31,
      "outputs": [
        {
          "output_type": "stream",
          "name": "stdout",
          "text": [
            "[[0. 0. 0.]\n",
            " [0. 0. 0.]]\n",
            "[[1. 1.]\n",
            " [1. 1.]\n",
            " [1. 1.]]\n"
          ]
        }
      ]
    },
    {
      "cell_type": "code",
      "metadata": {
        "id": "Fxs8vaOI6f0r",
        "outputId": "fbed5aa9-a380-46e5-8848-ceaafefe735a",
        "colab": {
          "base_uri": "https://localhost:8080/"
        }
      },
      "source": [
        "print(np.random.rand(5))      # random numbers from a uniform distribution between [0,1]\n",
        "print(np.random.randn(5))     # random numbers from a normal distribution\n",
        "print(np.arange(-10,10,2))    # array of ints from -10 to 8, by 2s\n",
        "print(np.arange(12).reshape(3,4))  # reshape to a matrix\n",
        "print(np.linspace(0,1,10))    # split interval [0,1] into 10 equally separated values"
      ],
      "execution_count": 32,
      "outputs": [
        {
          "output_type": "stream",
          "name": "stdout",
          "text": [
            "[0.79919889 0.48248674 0.82923754 0.70746102 0.35465052]\n",
            "[ 0.32172874 -1.28667455  0.86001836 -0.51575291 -0.71937537]\n",
            "[-10  -8  -6  -4  -2   0   2   4   6   8]\n",
            "[[ 0  1  2  3]\n",
            " [ 4  5  6  7]\n",
            " [ 8  9 10 11]]\n",
            "[0.         0.11111111 0.22222222 0.33333333 0.44444444 0.55555556\n",
            " 0.66666667 0.77777778 0.88888889 1.        ]\n"
          ]
        }
      ]
    },
    {
      "cell_type": "markdown",
      "metadata": {
        "id": "FD9noi8t6f0r"
      },
      "source": [
        "### We can also use numpy to write and read in text files."
      ]
    },
    {
      "cell_type": "code",
      "metadata": {
        "id": "9bwWh0zF6f0r",
        "outputId": "3ae71c28-5daa-43dc-cbfd-e1120285299a",
        "colab": {
          "base_uri": "https://localhost:8080/"
        }
      },
      "source": [
        "# Make some random data\n",
        "A = np.random.rand(4, 2)\n",
        "print(A)\n",
        "\n",
        "# Save the data as a text file (tab-delimited by default, or we can specify)\n",
        "np.savetxt('numbers.csv', A, delimiter=',')\n",
        "\n",
        "# Read text file back in\n",
        "B = np.loadtxt('numbers.csv', delimiter=',')\n",
        "\n",
        "# Sometimes we want to skip the first row if the file has a header line\n",
        "B = np.loadtxt('numbers.csv', delimiter=',', skiprows=1)\n",
        "print(B)"
      ],
      "execution_count": 33,
      "outputs": [
        {
          "output_type": "stream",
          "name": "stdout",
          "text": [
            "[[0.97614767 0.11258976]\n",
            " [0.93746878 0.00944699]\n",
            " [0.62319947 0.33703183]\n",
            " [0.35596817 0.84557331]]\n",
            "[[0.93746878 0.00944699]\n",
            " [0.62319947 0.33703183]\n",
            " [0.35596817 0.84557331]]\n"
          ]
        }
      ]
    },
    {
      "cell_type": "markdown",
      "metadata": {
        "id": "5rQ33ZU66f0r"
      },
      "source": [
        "## 2.2 Matplotlib"
      ]
    },
    {
      "cell_type": "code",
      "metadata": {
        "id": "WNZjEKX06f0r"
      },
      "source": [
        "import matplotlib.pyplot as plt"
      ],
      "execution_count": 34,
      "outputs": []
    },
    {
      "cell_type": "markdown",
      "metadata": {
        "id": "t6FuD2zt6f0s"
      },
      "source": [
        "### Plotting"
      ]
    },
    {
      "cell_type": "code",
      "metadata": {
        "id": "6pS2hi6P6f0s",
        "outputId": "fb4e3006-9777-4a7b-bfdf-f4b76f08cc07",
        "colab": {
          "base_uri": "https://localhost:8080/",
          "height": 295
        }
      },
      "source": [
        "# Make up some data\n",
        "x = np.arange(5, 50)\n",
        "y1 = np.sin(x/2)\n",
        "y2 = 1.5 * np.cos(x / 2)\n",
        "\n",
        "plt.plot(x, y1, label='y1')\n",
        "plt.plot(x, y2, label='y2')\n",
        "plt.legend( ('y1', 'y2') )\n",
        "plt.ylabel('y')\n",
        "plt.xlabel('x')\n",
        "plt.title('An example plot')\n",
        "plt.show()"
      ],
      "execution_count": 35,
      "outputs": [
        {
          "output_type": "display_data",
          "data": {
            "image/png": "[encoded data removed]",
            "text/plain": [
              "<Figure size 432x288 with 1 Axes>"
            ]
          },
          "metadata": {
            "needs_background": "light"
          }
        }
      ]
    },
    {
      "cell_type": "markdown",
      "metadata": {
        "id": "GPXFAgVx6f0s"
      },
      "source": [
        "### Histograms"
      ]
    },
    {
      "cell_type": "code",
      "metadata": {
        "id": "CwfJATb36f0s",
        "outputId": "019df684-1c44-4990-a86e-cd296f24d3ce",
        "colab": {
          "base_uri": "https://localhost:8080/",
          "height": 295
        }
      },
      "source": [
        "plt.hist(y1, bins=8)\n",
        "plt.xlabel('y1')\n",
        "plt.ylabel('Count')\n",
        "plt.title('Histogram of y1')\n",
        "plt.grid(True)\n",
        "plt.show()"
      ],
      "execution_count": 36,
      "outputs": [
        {
          "output_type": "display_data",
          "data": {
            "image/png": "[encoded data removed]",
            "text/plain": [
              "<Figure size 432x288 with 1 Axes>"
            ]
          },
          "metadata": {
            "needs_background": "light"
          }
        }
      ]
    },
    {
      "cell_type": "markdown",
      "metadata": {
        "id": "FG4hG4yD6f0s"
      },
      "source": [
        "### Scatter plots"
      ]
    },
    {
      "cell_type": "code",
      "metadata": {
        "id": "4ZRs5eT06f0t",
        "outputId": "05c5ccb8-74bf-44cb-f02d-95b1ccea6401",
        "colab": {
          "base_uri": "https://localhost:8080/",
          "height": 295
        }
      },
      "source": [
        "x1 = np.random.randn(500)\n",
        "x2 = np.random.randn(500)\n",
        "# alpha controls how \"see-through\" data points are\n",
        "plt.scatter(x1, x2, marker='o', color='b', alpha=0.5)\n",
        "plt.xlabel('x1')\n",
        "plt.ylabel('x2')\n",
        "plt.title('x1 vs x2')\n",
        "plt.show()\n"
      ],
      "execution_count": 37,
      "outputs": [
        {
          "output_type": "display_data",
          "data": {
            "image/png": "[encoded data removed]",
            "text/plain": [
              "<Figure size 432x288 with 1 Axes>"
            ]
          },
          "metadata": {
            "needs_background": "light"
          }
        }
      ]
    },
    {
      "cell_type": "markdown",
      "metadata": {
        "id": "6DQS_EuA6f0t"
      },
      "source": [
        "### Bar plots"
      ]
    },
    {
      "cell_type": "code",
      "metadata": {
        "id": "E-0vO3O46f0t",
        "outputId": "dff283bd-35b7-44db-8fe7-42ac0aeb9634",
        "colab": {
          "base_uri": "https://localhost:8080/",
          "height": 295
        }
      },
      "source": [
        "x = np.arange(10)\n",
        "y = np.random.rand(10)\n",
        "plt.bar(x, y)\n",
        "plt.xlabel('x axis')\n",
        "plt.ylabel('y axis')\n",
        "plt.title('Example Bar Plot')\n",
        "plt.show()\n"
      ],
      "execution_count": 38,
      "outputs": [
        {
          "output_type": "display_data",
          "data": {
            "image/png": "[encoded data removed]",
            "text/plain": [
              "<Figure size 432x288 with 1 Axes>"
            ]
          },
          "metadata": {
            "needs_background": "light"
          }
        }
      ]
    },
    {
      "cell_type": "markdown",
      "metadata": {
        "id": "AlHiWcIM6f0t"
      },
      "source": [
        "### Box plots"
      ]
    },
    {
      "cell_type": "code",
      "metadata": {
        "id": "RmvlM18w6f0t",
        "outputId": "532ec446-202a-4927-cedf-9b90189c4471",
        "colab": {
          "base_uri": "https://localhost:8080/",
          "height": 295
        }
      },
      "source": [
        "x1 = np.random.randn(100)\n",
        "x2 = 1.1 * np.random.randn(100) + 0.2\n",
        "x3 = 0.6 * np.random.randn(100) - 0.2\n",
        "plt.boxplot([x1, x2, x3])\n",
        "plt.xlabel('Categories')\n",
        "plt.ylabel('Value')\n",
        "plt.title('Example Boxplot')\n",
        "plt.show()"
      ],
      "execution_count": 39,
      "outputs": [
        {
          "output_type": "display_data",
          "data": {
            "image/png": "[encoded data removed]",
            "text/plain": [
              "<Figure size 432x288 with 1 Axes>"
            ]
          },
          "metadata": {
            "needs_background": "light"
          }
        }
      ]
    },
    {
      "cell_type": "code",
      "metadata": {
        "id": "eKR6RA_a6f0t"
      },
      "source": [
        ""
      ],
      "execution_count": 39,
      "outputs": []
    }
  ]
}