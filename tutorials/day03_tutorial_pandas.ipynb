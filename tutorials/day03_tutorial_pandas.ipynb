{
  "nbformat": 4,
  "nbformat_minor": 0,
  "metadata": {
    "kernelspec": {
      "display_name": "Python 3",
      "language": "python",
      "name": "python3"
    },
    "language_info": {
      "codemirror_mode": {
        "name": "ipython",
        "version": 3
      },
      "file_extension": ".py",
      "mimetype": "text/x-python",
      "name": "python",
      "nbconvert_exporter": "python",
      "pygments_lexer": "ipython3",
      "version": "3.7.6"
    },
    "colab": {
      "name": "day03_tutorial_pandas.ipynb",
      "provenance": [],
      "collapsed_sections": [],
      "include_colab_link": true
    }
  },
  "cells": [
    {
      "cell_type": "markdown",
      "metadata": {
        "id": "view-in-github",
        "colab_type": "text"
      },
      "source": [
        "<a href=\"https://colab.research.google.com/github/scottspurlock/csc4422-2022s/blob/main/tutorials/day03_tutorial_pandas.ipynb\" target=\"_parent\"><img src=\"https://colab.research.google.com/assets/colab-badge.svg\" alt=\"Open In Colab\"/></a>"
      ]
    },
    {
      "cell_type": "markdown",
      "metadata": {
        "id": "37m2bB8x7y5N"
      },
      "source": [
        "# Day 3 Tutorial: Introduction to Pandas\n",
        "\n",
        "The following tutorial contains examples of using Pandas. The notebook is adapted from Mobasher and Tan."
      ]
    },
    {
      "cell_type": "code",
      "metadata": {
        "id": "YxPYuI7s7y5T"
      },
      "source": [
        "import numpy as np\n",
        "import pandas as pd\n",
        "import matplotlib.pyplot as plt\n",
        "%matplotlib inline\n"
      ],
      "execution_count": 1,
      "outputs": []
    },
    {
      "cell_type": "markdown",
      "metadata": {
        "id": "7P8003gP7y5U"
      },
      "source": [
        "#### Reading the file into a dataframe: "
      ]
    },
    {
      "cell_type": "code",
      "metadata": {
        "colab": {
          "base_uri": "https://localhost:8080/",
          "height": 708
        },
        "id": "lwA_pZzs7y5U",
        "outputId": "89102e76-517a-423f-cace-d43696684de7"
      },
      "source": [
        "# File can be downloaded from:\n",
        "# https://drive.google.com/file/d/1uMgyfgrh_Bfi95AjpwK8AYhlMcD4swuV/view?usp=sharing\n",
        "# and then uploaded to colab session storage and accessed like this:\n",
        "# pop_df = pd.read_csv('day03_populations.csv', sep=',')\n",
        "\n",
        "# Or, we can use the full path to the raw file:\n",
        "pop_df = pd.read_csv('https://drive.google.com/uc?export=download&id=1uMgyfgrh_Bfi95AjpwK8AYhlMcD4swuV')\n",
        "pop_df"
      ],
      "execution_count": 2,
      "outputs": [
        {
          "output_type": "execute_result",
          "data": {
            "text/html": [
              "\n",
              "  <div id=\"df-5fbd1d34-1087-4413-8d61-dcf86e2f9fe4\">\n",
              "    <div class=\"colab-df-container\">\n",
              "      <div>\n",
              "<style scoped>\n",
              "    .dataframe tbody tr th:only-of-type {\n",
              "        vertical-align: middle;\n",
              "    }\n",
              "\n",
              "    .dataframe tbody tr th {\n",
              "        vertical-align: top;\n",
              "    }\n",
              "\n",
              "    .dataframe thead th {\n",
              "        text-align: right;\n",
              "    }\n",
              "</style>\n",
              "<table border=\"1\" class=\"dataframe\">\n",
              "  <thead>\n",
              "    <tr style=\"text-align: right;\">\n",
              "      <th></th>\n",
              "      <th>year</th>\n",
              "      <th>hare</th>\n",
              "      <th>lynx</th>\n",
              "      <th>carrot</th>\n",
              "    </tr>\n",
              "  </thead>\n",
              "  <tbody>\n",
              "    <tr>\n",
              "      <th>0</th>\n",
              "      <td>1900</td>\n",
              "      <td>30000</td>\n",
              "      <td>4000</td>\n",
              "      <td>48300</td>\n",
              "    </tr>\n",
              "    <tr>\n",
              "      <th>1</th>\n",
              "      <td>1901</td>\n",
              "      <td>47200</td>\n",
              "      <td>6100</td>\n",
              "      <td>48200</td>\n",
              "    </tr>\n",
              "    <tr>\n",
              "      <th>2</th>\n",
              "      <td>1902</td>\n",
              "      <td>70200</td>\n",
              "      <td>9800</td>\n",
              "      <td>41500</td>\n",
              "    </tr>\n",
              "    <tr>\n",
              "      <th>3</th>\n",
              "      <td>1903</td>\n",
              "      <td>77400</td>\n",
              "      <td>35200</td>\n",
              "      <td>38200</td>\n",
              "    </tr>\n",
              "    <tr>\n",
              "      <th>4</th>\n",
              "      <td>1904</td>\n",
              "      <td>36300</td>\n",
              "      <td>59400</td>\n",
              "      <td>40600</td>\n",
              "    </tr>\n",
              "    <tr>\n",
              "      <th>5</th>\n",
              "      <td>1905</td>\n",
              "      <td>20600</td>\n",
              "      <td>41700</td>\n",
              "      <td>39800</td>\n",
              "    </tr>\n",
              "    <tr>\n",
              "      <th>6</th>\n",
              "      <td>1906</td>\n",
              "      <td>18100</td>\n",
              "      <td>19000</td>\n",
              "      <td>38600</td>\n",
              "    </tr>\n",
              "    <tr>\n",
              "      <th>7</th>\n",
              "      <td>1907</td>\n",
              "      <td>21400</td>\n",
              "      <td>13000</td>\n",
              "      <td>42300</td>\n",
              "    </tr>\n",
              "    <tr>\n",
              "      <th>8</th>\n",
              "      <td>1908</td>\n",
              "      <td>22000</td>\n",
              "      <td>8300</td>\n",
              "      <td>44500</td>\n",
              "    </tr>\n",
              "    <tr>\n",
              "      <th>9</th>\n",
              "      <td>1909</td>\n",
              "      <td>25400</td>\n",
              "      <td>9100</td>\n",
              "      <td>42100</td>\n",
              "    </tr>\n",
              "    <tr>\n",
              "      <th>10</th>\n",
              "      <td>1910</td>\n",
              "      <td>27100</td>\n",
              "      <td>7400</td>\n",
              "      <td>46000</td>\n",
              "    </tr>\n",
              "    <tr>\n",
              "      <th>11</th>\n",
              "      <td>1911</td>\n",
              "      <td>40300</td>\n",
              "      <td>8000</td>\n",
              "      <td>46800</td>\n",
              "    </tr>\n",
              "    <tr>\n",
              "      <th>12</th>\n",
              "      <td>1912</td>\n",
              "      <td>57000</td>\n",
              "      <td>12300</td>\n",
              "      <td>43800</td>\n",
              "    </tr>\n",
              "    <tr>\n",
              "      <th>13</th>\n",
              "      <td>1913</td>\n",
              "      <td>76600</td>\n",
              "      <td>19500</td>\n",
              "      <td>40900</td>\n",
              "    </tr>\n",
              "    <tr>\n",
              "      <th>14</th>\n",
              "      <td>1914</td>\n",
              "      <td>52300</td>\n",
              "      <td>45700</td>\n",
              "      <td>39400</td>\n",
              "    </tr>\n",
              "    <tr>\n",
              "      <th>15</th>\n",
              "      <td>1915</td>\n",
              "      <td>19500</td>\n",
              "      <td>51100</td>\n",
              "      <td>39000</td>\n",
              "    </tr>\n",
              "    <tr>\n",
              "      <th>16</th>\n",
              "      <td>1916</td>\n",
              "      <td>11200</td>\n",
              "      <td>29700</td>\n",
              "      <td>36700</td>\n",
              "    </tr>\n",
              "    <tr>\n",
              "      <th>17</th>\n",
              "      <td>1917</td>\n",
              "      <td>7600</td>\n",
              "      <td>15800</td>\n",
              "      <td>41800</td>\n",
              "    </tr>\n",
              "    <tr>\n",
              "      <th>18</th>\n",
              "      <td>1918</td>\n",
              "      <td>14600</td>\n",
              "      <td>9700</td>\n",
              "      <td>43300</td>\n",
              "    </tr>\n",
              "    <tr>\n",
              "      <th>19</th>\n",
              "      <td>1919</td>\n",
              "      <td>16200</td>\n",
              "      <td>10100</td>\n",
              "      <td>41300</td>\n",
              "    </tr>\n",
              "    <tr>\n",
              "      <th>20</th>\n",
              "      <td>1920</td>\n",
              "      <td>24700</td>\n",
              "      <td>8600</td>\n",
              "      <td>47300</td>\n",
              "    </tr>\n",
              "  </tbody>\n",
              "</table>\n",
              "</div>\n",
              "      <button class=\"colab-df-convert\" onclick=\"convertToInteractive('df-5fbd1d34-1087-4413-8d61-dcf86e2f9fe4')\"\n",
              "              title=\"Convert this dataframe to an interactive table.\"\n",
              "              style=\"display:none;\">\n",
              "        \n",
              "  <svg xmlns=\"http://www.w3.org/2000/svg\" height=\"24px\"viewBox=\"0 0 24 24\"\n",
              "       width=\"24px\">\n",
              "    <path d=\"M0 0h24v24H0V0z\" fill=\"none\"/>\n",
              "    <path d=\"M18.56 5.44l.94 2.06.94-2.06 2.06-.94-2.06-.94-.94-2.06-.94 2.06-2.06.94zm-11 1L8.5 8.5l.94-2.06 2.06-.94-2.06-.94L8.5 2.5l-.94 2.06-2.06.94zm10 10l.94 2.06.94-2.06 2.06-.94-2.06-.94-.94-2.06-.94 2.06-2.06.94z\"/><path d=\"M17.41 7.96l-1.37-1.37c-.4-.4-.92-.59-1.43-.59-.52 0-1.04.2-1.43.59L10.3 9.45l-7.72 7.72c-.78.78-.78 2.05 0 2.83L4 21.41c.39.39.9.59 1.41.59.51 0 1.02-.2 1.41-.59l7.78-7.78 2.81-2.81c.8-.78.8-2.07 0-2.86zM5.41 20L4 18.59l7.72-7.72 1.47 1.35L5.41 20z\"/>\n",
              "  </svg>\n",
              "      </button>\n",
              "      \n",
              "  <style>\n",
              "    .colab-df-container {\n",
              "      display:flex;\n",
              "      flex-wrap:wrap;\n",
              "      gap: 12px;\n",
              "    }\n",
              "\n",
              "    .colab-df-convert {\n",
              "      background-color: #E8F0FE;\n",
              "      border: none;\n",
              "      border-radius: 50%;\n",
              "      cursor: pointer;\n",
              "      display: none;\n",
              "      fill: #1967D2;\n",
              "      height: 32px;\n",
              "      padding: 0 0 0 0;\n",
              "      width: 32px;\n",
              "    }\n",
              "\n",
              "    .colab-df-convert:hover {\n",
              "      background-color: #E2EBFA;\n",
              "      box-shadow: 0px 1px 2px rgba(60, 64, 67, 0.3), 0px 1px 3px 1px rgba(60, 64, 67, 0.15);\n",
              "      fill: #174EA6;\n",
              "    }\n",
              "\n",
              "    [theme=dark] .colab-df-convert {\n",
              "      background-color: #3B4455;\n",
              "      fill: #D2E3FC;\n",
              "    }\n",
              "\n",
              "    [theme=dark] .colab-df-convert:hover {\n",
              "      background-color: #434B5C;\n",
              "      box-shadow: 0px 1px 3px 1px rgba(0, 0, 0, 0.15);\n",
              "      filter: drop-shadow(0px 1px 2px rgba(0, 0, 0, 0.3));\n",
              "      fill: #FFFFFF;\n",
              "    }\n",
              "  </style>\n",
              "\n",
              "      <script>\n",
              "        const buttonEl =\n",
              "          document.querySelector('#df-5fbd1d34-1087-4413-8d61-dcf86e2f9fe4 button.colab-df-convert');\n",
              "        buttonEl.style.display =\n",
              "          google.colab.kernel.accessAllowed ? 'block' : 'none';\n",
              "\n",
              "        async function convertToInteractive(key) {\n",
              "          const element = document.querySelector('#df-5fbd1d34-1087-4413-8d61-dcf86e2f9fe4');\n",
              "          const dataTable =\n",
              "            await google.colab.kernel.invokeFunction('convertToInteractive',\n",
              "                                                     [key], {});\n",
              "          if (!dataTable) return;\n",
              "\n",
              "          const docLinkHtml = 'Like what you see? Visit the ' +\n",
              "            '<a target=\"_blank\" href=https://colab.research.google.com/notebooks/data_table.ipynb>data table notebook</a>'\n",
              "            + ' to learn more about interactive tables.';\n",
              "          element.innerHTML = '';\n",
              "          dataTable['output_type'] = 'display_data';\n",
              "          await google.colab.output.renderOutput(dataTable, element);\n",
              "          const docLink = document.createElement('div');\n",
              "          docLink.innerHTML = docLinkHtml;\n",
              "          element.appendChild(docLink);\n",
              "        }\n",
              "      </script>\n",
              "    </div>\n",
              "  </div>\n",
              "  "
            ],
            "text/plain": [
              "    year   hare   lynx  carrot\n",
              "0   1900  30000   4000   48300\n",
              "1   1901  47200   6100   48200\n",
              "2   1902  70200   9800   41500\n",
              "3   1903  77400  35200   38200\n",
              "4   1904  36300  59400   40600\n",
              "5   1905  20600  41700   39800\n",
              "6   1906  18100  19000   38600\n",
              "7   1907  21400  13000   42300\n",
              "8   1908  22000   8300   44500\n",
              "9   1909  25400   9100   42100\n",
              "10  1910  27100   7400   46000\n",
              "11  1911  40300   8000   46800\n",
              "12  1912  57000  12300   43800\n",
              "13  1913  76600  19500   40900\n",
              "14  1914  52300  45700   39400\n",
              "15  1915  19500  51100   39000\n",
              "16  1916  11200  29700   36700\n",
              "17  1917   7600  15800   41800\n",
              "18  1918  14600   9700   43300\n",
              "19  1919  16200  10100   41300\n",
              "20  1920  24700   8600   47300"
            ]
          },
          "metadata": {},
          "execution_count": 2
        }
      ]
    },
    {
      "cell_type": "code",
      "metadata": {
        "colab": {
          "base_uri": "https://localhost:8080/",
          "height": 206
        },
        "id": "wA49QwLo7y5V",
        "outputId": "89052ae4-0ef7-4c81-dbeb-f6ecce76336a"
      },
      "source": [
        "pop_df.head(5)"
      ],
      "execution_count": 3,
      "outputs": [
        {
          "output_type": "execute_result",
          "data": {
            "text/html": [
              "\n",
              "  <div id=\"df-b940af9b-9f3b-4362-b6e1-3a016af094ee\">\n",
              "    <div class=\"colab-df-container\">\n",
              "      <div>\n",
              "<style scoped>\n",
              "    .dataframe tbody tr th:only-of-type {\n",
              "        vertical-align: middle;\n",
              "    }\n",
              "\n",
              "    .dataframe tbody tr th {\n",
              "        vertical-align: top;\n",
              "    }\n",
              "\n",
              "    .dataframe thead th {\n",
              "        text-align: right;\n",
              "    }\n",
              "</style>\n",
              "<table border=\"1\" class=\"dataframe\">\n",
              "  <thead>\n",
              "    <tr style=\"text-align: right;\">\n",
              "      <th></th>\n",
              "      <th>year</th>\n",
              "      <th>hare</th>\n",
              "      <th>lynx</th>\n",
              "      <th>carrot</th>\n",
              "    </tr>\n",
              "  </thead>\n",
              "  <tbody>\n",
              "    <tr>\n",
              "      <th>0</th>\n",
              "      <td>1900</td>\n",
              "      <td>30000</td>\n",
              "      <td>4000</td>\n",
              "      <td>48300</td>\n",
              "    </tr>\n",
              "    <tr>\n",
              "      <th>1</th>\n",
              "      <td>1901</td>\n",
              "      <td>47200</td>\n",
              "      <td>6100</td>\n",
              "      <td>48200</td>\n",
              "    </tr>\n",
              "    <tr>\n",
              "      <th>2</th>\n",
              "      <td>1902</td>\n",
              "      <td>70200</td>\n",
              "      <td>9800</td>\n",
              "      <td>41500</td>\n",
              "    </tr>\n",
              "    <tr>\n",
              "      <th>3</th>\n",
              "      <td>1903</td>\n",
              "      <td>77400</td>\n",
              "      <td>35200</td>\n",
              "      <td>38200</td>\n",
              "    </tr>\n",
              "    <tr>\n",
              "      <th>4</th>\n",
              "      <td>1904</td>\n",
              "      <td>36300</td>\n",
              "      <td>59400</td>\n",
              "      <td>40600</td>\n",
              "    </tr>\n",
              "  </tbody>\n",
              "</table>\n",
              "</div>\n",
              "      <button class=\"colab-df-convert\" onclick=\"convertToInteractive('df-b940af9b-9f3b-4362-b6e1-3a016af094ee')\"\n",
              "              title=\"Convert this dataframe to an interactive table.\"\n",
              "              style=\"display:none;\">\n",
              "        \n",
              "  <svg xmlns=\"http://www.w3.org/2000/svg\" height=\"24px\"viewBox=\"0 0 24 24\"\n",
              "       width=\"24px\">\n",
              "    <path d=\"M0 0h24v24H0V0z\" fill=\"none\"/>\n",
              "    <path d=\"M18.56 5.44l.94 2.06.94-2.06 2.06-.94-2.06-.94-.94-2.06-.94 2.06-2.06.94zm-11 1L8.5 8.5l.94-2.06 2.06-.94-2.06-.94L8.5 2.5l-.94 2.06-2.06.94zm10 10l.94 2.06.94-2.06 2.06-.94-2.06-.94-.94-2.06-.94 2.06-2.06.94z\"/><path d=\"M17.41 7.96l-1.37-1.37c-.4-.4-.92-.59-1.43-.59-.52 0-1.04.2-1.43.59L10.3 9.45l-7.72 7.72c-.78.78-.78 2.05 0 2.83L4 21.41c.39.39.9.59 1.41.59.51 0 1.02-.2 1.41-.59l7.78-7.78 2.81-2.81c.8-.78.8-2.07 0-2.86zM5.41 20L4 18.59l7.72-7.72 1.47 1.35L5.41 20z\"/>\n",
              "  </svg>\n",
              "      </button>\n",
              "      \n",
              "  <style>\n",
              "    .colab-df-container {\n",
              "      display:flex;\n",
              "      flex-wrap:wrap;\n",
              "      gap: 12px;\n",
              "    }\n",
              "\n",
              "    .colab-df-convert {\n",
              "      background-color: #E8F0FE;\n",
              "      border: none;\n",
              "      border-radius: 50%;\n",
              "      cursor: pointer;\n",
              "      display: none;\n",
              "      fill: #1967D2;\n",
              "      height: 32px;\n",
              "      padding: 0 0 0 0;\n",
              "      width: 32px;\n",
              "    }\n",
              "\n",
              "    .colab-df-convert:hover {\n",
              "      background-color: #E2EBFA;\n",
              "      box-shadow: 0px 1px 2px rgba(60, 64, 67, 0.3), 0px 1px 3px 1px rgba(60, 64, 67, 0.15);\n",
              "      fill: #174EA6;\n",
              "    }\n",
              "\n",
              "    [theme=dark] .colab-df-convert {\n",
              "      background-color: #3B4455;\n",
              "      fill: #D2E3FC;\n",
              "    }\n",
              "\n",
              "    [theme=dark] .colab-df-convert:hover {\n",
              "      background-color: #434B5C;\n",
              "      box-shadow: 0px 1px 3px 1px rgba(0, 0, 0, 0.15);\n",
              "      filter: drop-shadow(0px 1px 2px rgba(0, 0, 0, 0.3));\n",
              "      fill: #FFFFFF;\n",
              "    }\n",
              "  </style>\n",
              "\n",
              "      <script>\n",
              "        const buttonEl =\n",
              "          document.querySelector('#df-b940af9b-9f3b-4362-b6e1-3a016af094ee button.colab-df-convert');\n",
              "        buttonEl.style.display =\n",
              "          google.colab.kernel.accessAllowed ? 'block' : 'none';\n",
              "\n",
              "        async function convertToInteractive(key) {\n",
              "          const element = document.querySelector('#df-b940af9b-9f3b-4362-b6e1-3a016af094ee');\n",
              "          const dataTable =\n",
              "            await google.colab.kernel.invokeFunction('convertToInteractive',\n",
              "                                                     [key], {});\n",
              "          if (!dataTable) return;\n",
              "\n",
              "          const docLinkHtml = 'Like what you see? Visit the ' +\n",
              "            '<a target=\"_blank\" href=https://colab.research.google.com/notebooks/data_table.ipynb>data table notebook</a>'\n",
              "            + ' to learn more about interactive tables.';\n",
              "          element.innerHTML = '';\n",
              "          dataTable['output_type'] = 'display_data';\n",
              "          await google.colab.output.renderOutput(dataTable, element);\n",
              "          const docLink = document.createElement('div');\n",
              "          docLink.innerHTML = docLinkHtml;\n",
              "          element.appendChild(docLink);\n",
              "        }\n",
              "      </script>\n",
              "    </div>\n",
              "  </div>\n",
              "  "
            ],
            "text/plain": [
              "   year   hare   lynx  carrot\n",
              "0  1900  30000   4000   48300\n",
              "1  1901  47200   6100   48200\n",
              "2  1902  70200   9800   41500\n",
              "3  1903  77400  35200   38200\n",
              "4  1904  36300  59400   40600"
            ]
          },
          "metadata": {},
          "execution_count": 3
        }
      ]
    },
    {
      "cell_type": "code",
      "metadata": {
        "colab": {
          "base_uri": "https://localhost:8080/"
        },
        "id": "wulWpUXf7y5W",
        "outputId": "b43cf842-743c-49ad-c756-f2abc6b45bcb"
      },
      "source": [
        "pop_df.columns"
      ],
      "execution_count": 4,
      "outputs": [
        {
          "output_type": "execute_result",
          "data": {
            "text/plain": [
              "Index(['year', 'hare', 'lynx', 'carrot'], dtype='object')"
            ]
          },
          "metadata": {},
          "execution_count": 4
        }
      ]
    },
    {
      "cell_type": "code",
      "metadata": {
        "colab": {
          "base_uri": "https://localhost:8080/"
        },
        "id": "P2lPifTW7y5W",
        "outputId": "3bfb9586-83ee-457a-fe40-3beecdc53d3e"
      },
      "source": [
        "# Get the data as a numpy array\n",
        "pop_df.values"
      ],
      "execution_count": 5,
      "outputs": [
        {
          "output_type": "execute_result",
          "data": {
            "text/plain": [
              "array([[ 1900, 30000,  4000, 48300],\n",
              "       [ 1901, 47200,  6100, 48200],\n",
              "       [ 1902, 70200,  9800, 41500],\n",
              "       [ 1903, 77400, 35200, 38200],\n",
              "       [ 1904, 36300, 59400, 40600],\n",
              "       [ 1905, 20600, 41700, 39800],\n",
              "       [ 1906, 18100, 19000, 38600],\n",
              "       [ 1907, 21400, 13000, 42300],\n",
              "       [ 1908, 22000,  8300, 44500],\n",
              "       [ 1909, 25400,  9100, 42100],\n",
              "       [ 1910, 27100,  7400, 46000],\n",
              "       [ 1911, 40300,  8000, 46800],\n",
              "       [ 1912, 57000, 12300, 43800],\n",
              "       [ 1913, 76600, 19500, 40900],\n",
              "       [ 1914, 52300, 45700, 39400],\n",
              "       [ 1915, 19500, 51100, 39000],\n",
              "       [ 1916, 11200, 29700, 36700],\n",
              "       [ 1917,  7600, 15800, 41800],\n",
              "       [ 1918, 14600,  9700, 43300],\n",
              "       [ 1919, 16200, 10100, 41300],\n",
              "       [ 1920, 24700,  8600, 47300]])"
            ]
          },
          "metadata": {},
          "execution_count": 5
        }
      ]
    },
    {
      "cell_type": "code",
      "metadata": {
        "colab": {
          "base_uri": "https://localhost:8080/"
        },
        "id": "mOSrrOXP7y5W",
        "outputId": "47326164-002f-45ab-8348-8be85028f352"
      },
      "source": [
        "pop_df.dtypes"
      ],
      "execution_count": 6,
      "outputs": [
        {
          "output_type": "execute_result",
          "data": {
            "text/plain": [
              "year      int64\n",
              "hare      int64\n",
              "lynx      int64\n",
              "carrot    int64\n",
              "dtype: object"
            ]
          },
          "metadata": {},
          "execution_count": 6
        }
      ]
    },
    {
      "cell_type": "markdown",
      "metadata": {
        "id": "waqyvEud7y5X"
      },
      "source": [
        "#### We can access columns (Pandas series) using their labels:"
      ]
    },
    {
      "cell_type": "code",
      "metadata": {
        "colab": {
          "base_uri": "https://localhost:8080/"
        },
        "id": "UsQDtzLf7y5X",
        "outputId": "4b3a545f-c003-445e-e473-31575324488a"
      },
      "source": [
        "hare_df = pop_df[\"hare\"]\n",
        "print(type(hare_df))\n",
        "hare_df"
      ],
      "execution_count": 7,
      "outputs": [
        {
          "output_type": "stream",
          "name": "stdout",
          "text": [
            "<class 'pandas.core.series.Series'>\n"
          ]
        },
        {
          "output_type": "execute_result",
          "data": {
            "text/plain": [
              "0     30000\n",
              "1     47200\n",
              "2     70200\n",
              "3     77400\n",
              "4     36300\n",
              "5     20600\n",
              "6     18100\n",
              "7     21400\n",
              "8     22000\n",
              "9     25400\n",
              "10    27100\n",
              "11    40300\n",
              "12    57000\n",
              "13    76600\n",
              "14    52300\n",
              "15    19500\n",
              "16    11200\n",
              "17     7600\n",
              "18    14600\n",
              "19    16200\n",
              "20    24700\n",
              "Name: hare, dtype: int64"
            ]
          },
          "metadata": {},
          "execution_count": 7
        }
      ]
    },
    {
      "cell_type": "markdown",
      "metadata": {
        "id": "-YcayzjC7y5X"
      },
      "source": [
        "#### Or alternatively using the label as a property of the dataframe, as shown below.\n",
        "Note: be careful with this approach, because it won't work when column names have spaces."
      ]
    },
    {
      "cell_type": "code",
      "metadata": {
        "colab": {
          "base_uri": "https://localhost:8080/"
        },
        "id": "w9rwnvOQ7y5X",
        "outputId": "caa1d80c-4c0f-40f9-b0c9-4336e0c5e3d9"
      },
      "source": [
        "pop_df.hare"
      ],
      "execution_count": 8,
      "outputs": [
        {
          "output_type": "execute_result",
          "data": {
            "text/plain": [
              "0     30000\n",
              "1     47200\n",
              "2     70200\n",
              "3     77400\n",
              "4     36300\n",
              "5     20600\n",
              "6     18100\n",
              "7     21400\n",
              "8     22000\n",
              "9     25400\n",
              "10    27100\n",
              "11    40300\n",
              "12    57000\n",
              "13    76600\n",
              "14    52300\n",
              "15    19500\n",
              "16    11200\n",
              "17     7600\n",
              "18    14600\n",
              "19    16200\n",
              "20    24700\n",
              "Name: hare, dtype: int64"
            ]
          },
          "metadata": {},
          "execution_count": 8
        }
      ]
    },
    {
      "cell_type": "markdown",
      "metadata": {
        "id": "ded3uP587y5Y"
      },
      "source": [
        "#### The usual numeric operations are available for dataframes or series:"
      ]
    },
    {
      "cell_type": "code",
      "metadata": {
        "colab": {
          "base_uri": "https://localhost:8080/"
        },
        "id": "TYLyXte67y5Y",
        "outputId": "39e5f9b7-5c04-4257-8742-669ee186faa7"
      },
      "source": [
        "print('Min Hare Population:', hare_df.min())\n",
        "print('Mean Hare Population:', hare_df.mean())\n",
        "print('Max Hare Population:', hare_df.max())\n"
      ],
      "execution_count": 9,
      "outputs": [
        {
          "output_type": "stream",
          "name": "stdout",
          "text": [
            "Min Hare Population: 7600\n",
            "Mean Hare Population: 34080.95238095238\n",
            "Max Hare Population: 77400\n"
          ]
        }
      ]
    },
    {
      "cell_type": "code",
      "metadata": {
        "colab": {
          "base_uri": "https://localhost:8080/"
        },
        "id": "BnRo54c27y5Y",
        "outputId": "73ab4c23-1e0a-422e-e381-693780e25275"
      },
      "source": [
        "print('Mean Populations: \\n', pop_df[[\"hare\",\"lynx\",\"carrot\"]].mean())\n",
        "print('\\n')\n",
        "print('Standard Deviations: \\n', pop_df[[\"hare\",\"lynx\",\"carrot\"]].std())"
      ],
      "execution_count": 10,
      "outputs": [
        {
          "output_type": "stream",
          "name": "stdout",
          "text": [
            "Mean Populations: \n",
            " hare      34080.952381\n",
            "lynx      20166.666667\n",
            "carrot    42400.000000\n",
            "dtype: float64\n",
            "\n",
            "\n",
            "Standard Deviations: \n",
            " hare      21413.981859\n",
            "lynx      16655.999920\n",
            "carrot     3404.555771\n",
            "dtype: float64\n"
          ]
        }
      ]
    },
    {
      "cell_type": "markdown",
      "metadata": {
        "id": "XaAKi7VN7y5Y"
      },
      "source": [
        "#### The describe() method provides a detailed description of variables:"
      ]
    },
    {
      "cell_type": "code",
      "metadata": {
        "colab": {
          "base_uri": "https://localhost:8080/",
          "height": 300
        },
        "id": "0izIi2is7y5Z",
        "outputId": "a8a938d2-e0cc-4ca2-e849-c2cec2ed897a"
      },
      "source": [
        "pop_df.describe()"
      ],
      "execution_count": 11,
      "outputs": [
        {
          "output_type": "execute_result",
          "data": {
            "text/html": [
              "\n",
              "  <div id=\"df-854be462-6f09-4143-99e2-edf0cc411a1f\">\n",
              "    <div class=\"colab-df-container\">\n",
              "      <div>\n",
              "<style scoped>\n",
              "    .dataframe tbody tr th:only-of-type {\n",
              "        vertical-align: middle;\n",
              "    }\n",
              "\n",
              "    .dataframe tbody tr th {\n",
              "        vertical-align: top;\n",
              "    }\n",
              "\n",
              "    .dataframe thead th {\n",
              "        text-align: right;\n",
              "    }\n",
              "</style>\n",
              "<table border=\"1\" class=\"dataframe\">\n",
              "  <thead>\n",
              "    <tr style=\"text-align: right;\">\n",
              "      <th></th>\n",
              "      <th>year</th>\n",
              "      <th>hare</th>\n",
              "      <th>lynx</th>\n",
              "      <th>carrot</th>\n",
              "    </tr>\n",
              "  </thead>\n",
              "  <tbody>\n",
              "    <tr>\n",
              "      <th>count</th>\n",
              "      <td>21.000000</td>\n",
              "      <td>21.000000</td>\n",
              "      <td>21.000000</td>\n",
              "      <td>21.000000</td>\n",
              "    </tr>\n",
              "    <tr>\n",
              "      <th>mean</th>\n",
              "      <td>1910.000000</td>\n",
              "      <td>34080.952381</td>\n",
              "      <td>20166.666667</td>\n",
              "      <td>42400.000000</td>\n",
              "    </tr>\n",
              "    <tr>\n",
              "      <th>std</th>\n",
              "      <td>6.204837</td>\n",
              "      <td>21413.981859</td>\n",
              "      <td>16655.999920</td>\n",
              "      <td>3404.555771</td>\n",
              "    </tr>\n",
              "    <tr>\n",
              "      <th>min</th>\n",
              "      <td>1900.000000</td>\n",
              "      <td>7600.000000</td>\n",
              "      <td>4000.000000</td>\n",
              "      <td>36700.000000</td>\n",
              "    </tr>\n",
              "    <tr>\n",
              "      <th>25%</th>\n",
              "      <td>1905.000000</td>\n",
              "      <td>19500.000000</td>\n",
              "      <td>8600.000000</td>\n",
              "      <td>39800.000000</td>\n",
              "    </tr>\n",
              "    <tr>\n",
              "      <th>50%</th>\n",
              "      <td>1910.000000</td>\n",
              "      <td>25400.000000</td>\n",
              "      <td>12300.000000</td>\n",
              "      <td>41800.000000</td>\n",
              "    </tr>\n",
              "    <tr>\n",
              "      <th>75%</th>\n",
              "      <td>1915.000000</td>\n",
              "      <td>47200.000000</td>\n",
              "      <td>29700.000000</td>\n",
              "      <td>44500.000000</td>\n",
              "    </tr>\n",
              "    <tr>\n",
              "      <th>max</th>\n",
              "      <td>1920.000000</td>\n",
              "      <td>77400.000000</td>\n",
              "      <td>59400.000000</td>\n",
              "      <td>48300.000000</td>\n",
              "    </tr>\n",
              "  </tbody>\n",
              "</table>\n",
              "</div>\n",
              "      <button class=\"colab-df-convert\" onclick=\"convertToInteractive('df-854be462-6f09-4143-99e2-edf0cc411a1f')\"\n",
              "              title=\"Convert this dataframe to an interactive table.\"\n",
              "              style=\"display:none;\">\n",
              "        \n",
              "  <svg xmlns=\"http://www.w3.org/2000/svg\" height=\"24px\"viewBox=\"0 0 24 24\"\n",
              "       width=\"24px\">\n",
              "    <path d=\"M0 0h24v24H0V0z\" fill=\"none\"/>\n",
              "    <path d=\"M18.56 5.44l.94 2.06.94-2.06 2.06-.94-2.06-.94-.94-2.06-.94 2.06-2.06.94zm-11 1L8.5 8.5l.94-2.06 2.06-.94-2.06-.94L8.5 2.5l-.94 2.06-2.06.94zm10 10l.94 2.06.94-2.06 2.06-.94-2.06-.94-.94-2.06-.94 2.06-2.06.94z\"/><path d=\"M17.41 7.96l-1.37-1.37c-.4-.4-.92-.59-1.43-.59-.52 0-1.04.2-1.43.59L10.3 9.45l-7.72 7.72c-.78.78-.78 2.05 0 2.83L4 21.41c.39.39.9.59 1.41.59.51 0 1.02-.2 1.41-.59l7.78-7.78 2.81-2.81c.8-.78.8-2.07 0-2.86zM5.41 20L4 18.59l7.72-7.72 1.47 1.35L5.41 20z\"/>\n",
              "  </svg>\n",
              "      </button>\n",
              "      \n",
              "  <style>\n",
              "    .colab-df-container {\n",
              "      display:flex;\n",
              "      flex-wrap:wrap;\n",
              "      gap: 12px;\n",
              "    }\n",
              "\n",
              "    .colab-df-convert {\n",
              "      background-color: #E8F0FE;\n",
              "      border: none;\n",
              "      border-radius: 50%;\n",
              "      cursor: pointer;\n",
              "      display: none;\n",
              "      fill: #1967D2;\n",
              "      height: 32px;\n",
              "      padding: 0 0 0 0;\n",
              "      width: 32px;\n",
              "    }\n",
              "\n",
              "    .colab-df-convert:hover {\n",
              "      background-color: #E2EBFA;\n",
              "      box-shadow: 0px 1px 2px rgba(60, 64, 67, 0.3), 0px 1px 3px 1px rgba(60, 64, 67, 0.15);\n",
              "      fill: #174EA6;\n",
              "    }\n",
              "\n",
              "    [theme=dark] .colab-df-convert {\n",
              "      background-color: #3B4455;\n",
              "      fill: #D2E3FC;\n",
              "    }\n",
              "\n",
              "    [theme=dark] .colab-df-convert:hover {\n",
              "      background-color: #434B5C;\n",
              "      box-shadow: 0px 1px 3px 1px rgba(0, 0, 0, 0.15);\n",
              "      filter: drop-shadow(0px 1px 2px rgba(0, 0, 0, 0.3));\n",
              "      fill: #FFFFFF;\n",
              "    }\n",
              "  </style>\n",
              "\n",
              "      <script>\n",
              "        const buttonEl =\n",
              "          document.querySelector('#df-854be462-6f09-4143-99e2-edf0cc411a1f button.colab-df-convert');\n",
              "        buttonEl.style.display =\n",
              "          google.colab.kernel.accessAllowed ? 'block' : 'none';\n",
              "\n",
              "        async function convertToInteractive(key) {\n",
              "          const element = document.querySelector('#df-854be462-6f09-4143-99e2-edf0cc411a1f');\n",
              "          const dataTable =\n",
              "            await google.colab.kernel.invokeFunction('convertToInteractive',\n",
              "                                                     [key], {});\n",
              "          if (!dataTable) return;\n",
              "\n",
              "          const docLinkHtml = 'Like what you see? Visit the ' +\n",
              "            '<a target=\"_blank\" href=https://colab.research.google.com/notebooks/data_table.ipynb>data table notebook</a>'\n",
              "            + ' to learn more about interactive tables.';\n",
              "          element.innerHTML = '';\n",
              "          dataTable['output_type'] = 'display_data';\n",
              "          await google.colab.output.renderOutput(dataTable, element);\n",
              "          const docLink = document.createElement('div');\n",
              "          docLink.innerHTML = docLinkHtml;\n",
              "          element.appendChild(docLink);\n",
              "        }\n",
              "      </script>\n",
              "    </div>\n",
              "  </div>\n",
              "  "
            ],
            "text/plain": [
              "              year          hare          lynx        carrot\n",
              "count    21.000000     21.000000     21.000000     21.000000\n",
              "mean   1910.000000  34080.952381  20166.666667  42400.000000\n",
              "std       6.204837  21413.981859  16655.999920   3404.555771\n",
              "min    1900.000000   7600.000000   4000.000000  36700.000000\n",
              "25%    1905.000000  19500.000000   8600.000000  39800.000000\n",
              "50%    1910.000000  25400.000000  12300.000000  41800.000000\n",
              "75%    1915.000000  47200.000000  29700.000000  44500.000000\n",
              "max    1920.000000  77400.000000  59400.000000  48300.000000"
            ]
          },
          "metadata": {},
          "execution_count": 11
        }
      ]
    },
    {
      "cell_type": "code",
      "metadata": {
        "colab": {
          "base_uri": "https://localhost:8080/",
          "height": 300
        },
        "id": "07Rf6YqG7y5Z",
        "outputId": "4d68b32c-1880-4c77-bda4-4eb09583967e"
      },
      "source": [
        "pop_df[[\"hare\",\"lynx\",\"carrot\"]].describe()"
      ],
      "execution_count": 12,
      "outputs": [
        {
          "output_type": "execute_result",
          "data": {
            "text/html": [
              "\n",
              "  <div id=\"df-57c92f23-ad8a-489c-bf9c-092a5c7d2dd6\">\n",
              "    <div class=\"colab-df-container\">\n",
              "      <div>\n",
              "<style scoped>\n",
              "    .dataframe tbody tr th:only-of-type {\n",
              "        vertical-align: middle;\n",
              "    }\n",
              "\n",
              "    .dataframe tbody tr th {\n",
              "        vertical-align: top;\n",
              "    }\n",
              "\n",
              "    .dataframe thead th {\n",
              "        text-align: right;\n",
              "    }\n",
              "</style>\n",
              "<table border=\"1\" class=\"dataframe\">\n",
              "  <thead>\n",
              "    <tr style=\"text-align: right;\">\n",
              "      <th></th>\n",
              "      <th>hare</th>\n",
              "      <th>lynx</th>\n",
              "      <th>carrot</th>\n",
              "    </tr>\n",
              "  </thead>\n",
              "  <tbody>\n",
              "    <tr>\n",
              "      <th>count</th>\n",
              "      <td>21.000000</td>\n",
              "      <td>21.000000</td>\n",
              "      <td>21.000000</td>\n",
              "    </tr>\n",
              "    <tr>\n",
              "      <th>mean</th>\n",
              "      <td>34080.952381</td>\n",
              "      <td>20166.666667</td>\n",
              "      <td>42400.000000</td>\n",
              "    </tr>\n",
              "    <tr>\n",
              "      <th>std</th>\n",
              "      <td>21413.981859</td>\n",
              "      <td>16655.999920</td>\n",
              "      <td>3404.555771</td>\n",
              "    </tr>\n",
              "    <tr>\n",
              "      <th>min</th>\n",
              "      <td>7600.000000</td>\n",
              "      <td>4000.000000</td>\n",
              "      <td>36700.000000</td>\n",
              "    </tr>\n",
              "    <tr>\n",
              "      <th>25%</th>\n",
              "      <td>19500.000000</td>\n",
              "      <td>8600.000000</td>\n",
              "      <td>39800.000000</td>\n",
              "    </tr>\n",
              "    <tr>\n",
              "      <th>50%</th>\n",
              "      <td>25400.000000</td>\n",
              "      <td>12300.000000</td>\n",
              "      <td>41800.000000</td>\n",
              "    </tr>\n",
              "    <tr>\n",
              "      <th>75%</th>\n",
              "      <td>47200.000000</td>\n",
              "      <td>29700.000000</td>\n",
              "      <td>44500.000000</td>\n",
              "    </tr>\n",
              "    <tr>\n",
              "      <th>max</th>\n",
              "      <td>77400.000000</td>\n",
              "      <td>59400.000000</td>\n",
              "      <td>48300.000000</td>\n",
              "    </tr>\n",
              "  </tbody>\n",
              "</table>\n",
              "</div>\n",
              "      <button class=\"colab-df-convert\" onclick=\"convertToInteractive('df-57c92f23-ad8a-489c-bf9c-092a5c7d2dd6')\"\n",
              "              title=\"Convert this dataframe to an interactive table.\"\n",
              "              style=\"display:none;\">\n",
              "        \n",
              "  <svg xmlns=\"http://www.w3.org/2000/svg\" height=\"24px\"viewBox=\"0 0 24 24\"\n",
              "       width=\"24px\">\n",
              "    <path d=\"M0 0h24v24H0V0z\" fill=\"none\"/>\n",
              "    <path d=\"M18.56 5.44l.94 2.06.94-2.06 2.06-.94-2.06-.94-.94-2.06-.94 2.06-2.06.94zm-11 1L8.5 8.5l.94-2.06 2.06-.94-2.06-.94L8.5 2.5l-.94 2.06-2.06.94zm10 10l.94 2.06.94-2.06 2.06-.94-2.06-.94-.94-2.06-.94 2.06-2.06.94z\"/><path d=\"M17.41 7.96l-1.37-1.37c-.4-.4-.92-.59-1.43-.59-.52 0-1.04.2-1.43.59L10.3 9.45l-7.72 7.72c-.78.78-.78 2.05 0 2.83L4 21.41c.39.39.9.59 1.41.59.51 0 1.02-.2 1.41-.59l7.78-7.78 2.81-2.81c.8-.78.8-2.07 0-2.86zM5.41 20L4 18.59l7.72-7.72 1.47 1.35L5.41 20z\"/>\n",
              "  </svg>\n",
              "      </button>\n",
              "      \n",
              "  <style>\n",
              "    .colab-df-container {\n",
              "      display:flex;\n",
              "      flex-wrap:wrap;\n",
              "      gap: 12px;\n",
              "    }\n",
              "\n",
              "    .colab-df-convert {\n",
              "      background-color: #E8F0FE;\n",
              "      border: none;\n",
              "      border-radius: 50%;\n",
              "      cursor: pointer;\n",
              "      display: none;\n",
              "      fill: #1967D2;\n",
              "      height: 32px;\n",
              "      padding: 0 0 0 0;\n",
              "      width: 32px;\n",
              "    }\n",
              "\n",
              "    .colab-df-convert:hover {\n",
              "      background-color: #E2EBFA;\n",
              "      box-shadow: 0px 1px 2px rgba(60, 64, 67, 0.3), 0px 1px 3px 1px rgba(60, 64, 67, 0.15);\n",
              "      fill: #174EA6;\n",
              "    }\n",
              "\n",
              "    [theme=dark] .colab-df-convert {\n",
              "      background-color: #3B4455;\n",
              "      fill: #D2E3FC;\n",
              "    }\n",
              "\n",
              "    [theme=dark] .colab-df-convert:hover {\n",
              "      background-color: #434B5C;\n",
              "      box-shadow: 0px 1px 3px 1px rgba(0, 0, 0, 0.15);\n",
              "      filter: drop-shadow(0px 1px 2px rgba(0, 0, 0, 0.3));\n",
              "      fill: #FFFFFF;\n",
              "    }\n",
              "  </style>\n",
              "\n",
              "      <script>\n",
              "        const buttonEl =\n",
              "          document.querySelector('#df-57c92f23-ad8a-489c-bf9c-092a5c7d2dd6 button.colab-df-convert');\n",
              "        buttonEl.style.display =\n",
              "          google.colab.kernel.accessAllowed ? 'block' : 'none';\n",
              "\n",
              "        async function convertToInteractive(key) {\n",
              "          const element = document.querySelector('#df-57c92f23-ad8a-489c-bf9c-092a5c7d2dd6');\n",
              "          const dataTable =\n",
              "            await google.colab.kernel.invokeFunction('convertToInteractive',\n",
              "                                                     [key], {});\n",
              "          if (!dataTable) return;\n",
              "\n",
              "          const docLinkHtml = 'Like what you see? Visit the ' +\n",
              "            '<a target=\"_blank\" href=https://colab.research.google.com/notebooks/data_table.ipynb>data table notebook</a>'\n",
              "            + ' to learn more about interactive tables.';\n",
              "          element.innerHTML = '';\n",
              "          dataTable['output_type'] = 'display_data';\n",
              "          await google.colab.output.renderOutput(dataTable, element);\n",
              "          const docLink = document.createElement('div');\n",
              "          docLink.innerHTML = docLinkHtml;\n",
              "          element.appendChild(docLink);\n",
              "        }\n",
              "      </script>\n",
              "    </div>\n",
              "  </div>\n",
              "  "
            ],
            "text/plain": [
              "               hare          lynx        carrot\n",
              "count     21.000000     21.000000     21.000000\n",
              "mean   34080.952381  20166.666667  42400.000000\n",
              "std    21413.981859  16655.999920   3404.555771\n",
              "min     7600.000000   4000.000000  36700.000000\n",
              "25%    19500.000000   8600.000000  39800.000000\n",
              "50%    25400.000000  12300.000000  41800.000000\n",
              "75%    47200.000000  29700.000000  44500.000000\n",
              "max    77400.000000  59400.000000  48300.000000"
            ]
          },
          "metadata": {},
          "execution_count": 12
        }
      ]
    },
    {
      "cell_type": "markdown",
      "metadata": {
        "id": "hYT4BsR97y5Z"
      },
      "source": [
        "#### Correlation analysis:"
      ]
    },
    {
      "cell_type": "code",
      "metadata": {
        "colab": {
          "base_uri": "https://localhost:8080/",
          "height": 143
        },
        "id": "rJ8uyfdl7y5Z",
        "outputId": "9e65aa52-fd05-40e4-877d-491ffe9ab6b8"
      },
      "source": [
        "pop_corr = pop_df[[\"hare\",\"lynx\",\"carrot\"]].corr()\n",
        "pop_corr"
      ],
      "execution_count": 13,
      "outputs": [
        {
          "output_type": "execute_result",
          "data": {
            "text/html": [
              "\n",
              "  <div id=\"df-721de078-c932-4962-ae8e-1e070e330ead\">\n",
              "    <div class=\"colab-df-container\">\n",
              "      <div>\n",
              "<style scoped>\n",
              "    .dataframe tbody tr th:only-of-type {\n",
              "        vertical-align: middle;\n",
              "    }\n",
              "\n",
              "    .dataframe tbody tr th {\n",
              "        vertical-align: top;\n",
              "    }\n",
              "\n",
              "    .dataframe thead th {\n",
              "        text-align: right;\n",
              "    }\n",
              "</style>\n",
              "<table border=\"1\" class=\"dataframe\">\n",
              "  <thead>\n",
              "    <tr style=\"text-align: right;\">\n",
              "      <th></th>\n",
              "      <th>hare</th>\n",
              "      <th>lynx</th>\n",
              "      <th>carrot</th>\n",
              "    </tr>\n",
              "  </thead>\n",
              "  <tbody>\n",
              "    <tr>\n",
              "      <th>hare</th>\n",
              "      <td>1.000000</td>\n",
              "      <td>0.071892</td>\n",
              "      <td>-0.016604</td>\n",
              "    </tr>\n",
              "    <tr>\n",
              "      <th>lynx</th>\n",
              "      <td>0.071892</td>\n",
              "      <td>1.000000</td>\n",
              "      <td>-0.680577</td>\n",
              "    </tr>\n",
              "    <tr>\n",
              "      <th>carrot</th>\n",
              "      <td>-0.016604</td>\n",
              "      <td>-0.680577</td>\n",
              "      <td>1.000000</td>\n",
              "    </tr>\n",
              "  </tbody>\n",
              "</table>\n",
              "</div>\n",
              "      <button class=\"colab-df-convert\" onclick=\"convertToInteractive('df-721de078-c932-4962-ae8e-1e070e330ead')\"\n",
              "              title=\"Convert this dataframe to an interactive table.\"\n",
              "              style=\"display:none;\">\n",
              "        \n",
              "  <svg xmlns=\"http://www.w3.org/2000/svg\" height=\"24px\"viewBox=\"0 0 24 24\"\n",
              "       width=\"24px\">\n",
              "    <path d=\"M0 0h24v24H0V0z\" fill=\"none\"/>\n",
              "    <path d=\"M18.56 5.44l.94 2.06.94-2.06 2.06-.94-2.06-.94-.94-2.06-.94 2.06-2.06.94zm-11 1L8.5 8.5l.94-2.06 2.06-.94-2.06-.94L8.5 2.5l-.94 2.06-2.06.94zm10 10l.94 2.06.94-2.06 2.06-.94-2.06-.94-.94-2.06-.94 2.06-2.06.94z\"/><path d=\"M17.41 7.96l-1.37-1.37c-.4-.4-.92-.59-1.43-.59-.52 0-1.04.2-1.43.59L10.3 9.45l-7.72 7.72c-.78.78-.78 2.05 0 2.83L4 21.41c.39.39.9.59 1.41.59.51 0 1.02-.2 1.41-.59l7.78-7.78 2.81-2.81c.8-.78.8-2.07 0-2.86zM5.41 20L4 18.59l7.72-7.72 1.47 1.35L5.41 20z\"/>\n",
              "  </svg>\n",
              "      </button>\n",
              "      \n",
              "  <style>\n",
              "    .colab-df-container {\n",
              "      display:flex;\n",
              "      flex-wrap:wrap;\n",
              "      gap: 12px;\n",
              "    }\n",
              "\n",
              "    .colab-df-convert {\n",
              "      background-color: #E8F0FE;\n",
              "      border: none;\n",
              "      border-radius: 50%;\n",
              "      cursor: pointer;\n",
              "      display: none;\n",
              "      fill: #1967D2;\n",
              "      height: 32px;\n",
              "      padding: 0 0 0 0;\n",
              "      width: 32px;\n",
              "    }\n",
              "\n",
              "    .colab-df-convert:hover {\n",
              "      background-color: #E2EBFA;\n",
              "      box-shadow: 0px 1px 2px rgba(60, 64, 67, 0.3), 0px 1px 3px 1px rgba(60, 64, 67, 0.15);\n",
              "      fill: #174EA6;\n",
              "    }\n",
              "\n",
              "    [theme=dark] .colab-df-convert {\n",
              "      background-color: #3B4455;\n",
              "      fill: #D2E3FC;\n",
              "    }\n",
              "\n",
              "    [theme=dark] .colab-df-convert:hover {\n",
              "      background-color: #434B5C;\n",
              "      box-shadow: 0px 1px 3px 1px rgba(0, 0, 0, 0.15);\n",
              "      filter: drop-shadow(0px 1px 2px rgba(0, 0, 0, 0.3));\n",
              "      fill: #FFFFFF;\n",
              "    }\n",
              "  </style>\n",
              "\n",
              "      <script>\n",
              "        const buttonEl =\n",
              "          document.querySelector('#df-721de078-c932-4962-ae8e-1e070e330ead button.colab-df-convert');\n",
              "        buttonEl.style.display =\n",
              "          google.colab.kernel.accessAllowed ? 'block' : 'none';\n",
              "\n",
              "        async function convertToInteractive(key) {\n",
              "          const element = document.querySelector('#df-721de078-c932-4962-ae8e-1e070e330ead');\n",
              "          const dataTable =\n",
              "            await google.colab.kernel.invokeFunction('convertToInteractive',\n",
              "                                                     [key], {});\n",
              "          if (!dataTable) return;\n",
              "\n",
              "          const docLinkHtml = 'Like what you see? Visit the ' +\n",
              "            '<a target=\"_blank\" href=https://colab.research.google.com/notebooks/data_table.ipynb>data table notebook</a>'\n",
              "            + ' to learn more about interactive tables.';\n",
              "          element.innerHTML = '';\n",
              "          dataTable['output_type'] = 'display_data';\n",
              "          await google.colab.output.renderOutput(dataTable, element);\n",
              "          const docLink = document.createElement('div');\n",
              "          docLink.innerHTML = docLinkHtml;\n",
              "          element.appendChild(docLink);\n",
              "        }\n",
              "      </script>\n",
              "    </div>\n",
              "  </div>\n",
              "  "
            ],
            "text/plain": [
              "            hare      lynx    carrot\n",
              "hare    1.000000  0.071892 -0.016604\n",
              "lynx    0.071892  1.000000 -0.680577\n",
              "carrot -0.016604 -0.680577  1.000000"
            ]
          },
          "metadata": {},
          "execution_count": 13
        }
      ]
    },
    {
      "cell_type": "markdown",
      "metadata": {
        "id": "EmNQ8O7O7y5a"
      },
      "source": [
        "We can visualize the correlation matrix as a heatmap."
      ]
    },
    {
      "cell_type": "code",
      "metadata": {
        "colab": {
          "base_uri": "https://localhost:8080/",
          "height": 271
        },
        "id": "zzijpMwj-W-d",
        "outputId": "4a5d6eaa-0951-4ea3-ea3a-ecf2525962ac"
      },
      "source": [
        "# matshow visualizes a matrix of numbers as colors\n",
        "plt.matshow(pop_corr)\n",
        "\n",
        "# We can see which colors correspond to which values with a colorbar\n",
        "plt.colorbar()\n",
        "\n",
        "# Sometimes it's useful to have a reference to the current figure object,\n",
        "# which we can get with \"get current figure\" or gcf.\n",
        "fig = plt.gcf()\n",
        "\n",
        "# And sometimes it's useful to have a reference to the current axis object,\n",
        "# which we can get with gca.\n",
        "ax = plt.gca()\n",
        "\n",
        "# We can control where the axis tick marks are\n",
        "ax.set_xticks([0, 1, 2])\n",
        "ax.set_yticks([0, 1, 2])\n",
        "\n",
        "# ...and what the tick labels are\n",
        "ax.set_xticklabels(['Hare', 'Lynx', 'Carrot'])\n",
        "ax.set_yticklabels(['Hare', 'Lynx', 'Carrot'])\n",
        "\n",
        "# Sometimes your title may overlap your tick labels.\n",
        "# You can add padding to keep things readable.\n",
        "plt.title('Correlation', pad=20)\n",
        "plt.show()"
      ],
      "execution_count": 14,
      "outputs": [
        {
          "output_type": "display_data",
          "data": {
            "image/png": "[encoded data removed]",
            "text/plain": [
              "<Figure size 288x288 with 2 Axes>"
            ]
          },
          "metadata": {
            "needs_background": "light"
          }
        }
      ]
    },
    {
      "cell_type": "markdown",
      "metadata": {
        "id": "1SIP0d0S7y5a"
      },
      "source": [
        "#### Pandas sorting is straightforward. \n",
        "Note that the underlying dataframe is not changed; the method just returns a sorted dataframe."
      ]
    },
    {
      "cell_type": "code",
      "metadata": {
        "colab": {
          "base_uri": "https://localhost:8080/",
          "height": 708
        },
        "id": "_yOzyxgB7y5a",
        "outputId": "77c79673-0766-4bea-c4dc-bdd3f923bb71"
      },
      "source": [
        "pop_df.sort_values(by=['hare'])"
      ],
      "execution_count": 15,
      "outputs": [
        {
          "output_type": "execute_result",
          "data": {
            "text/html": [
              "\n",
              "  <div id=\"df-b4d79b8f-b35e-4a66-8c50-29f1f660e502\">\n",
              "    <div class=\"colab-df-container\">\n",
              "      <div>\n",
              "<style scoped>\n",
              "    .dataframe tbody tr th:only-of-type {\n",
              "        vertical-align: middle;\n",
              "    }\n",
              "\n",
              "    .dataframe tbody tr th {\n",
              "        vertical-align: top;\n",
              "    }\n",
              "\n",
              "    .dataframe thead th {\n",
              "        text-align: right;\n",
              "    }\n",
              "</style>\n",
              "<table border=\"1\" class=\"dataframe\">\n",
              "  <thead>\n",
              "    <tr style=\"text-align: right;\">\n",
              "      <th></th>\n",
              "      <th>year</th>\n",
              "      <th>hare</th>\n",
              "      <th>lynx</th>\n",
              "      <th>carrot</th>\n",
              "    </tr>\n",
              "  </thead>\n",
              "  <tbody>\n",
              "    <tr>\n",
              "      <th>17</th>\n",
              "      <td>1917</td>\n",
              "      <td>7600</td>\n",
              "      <td>15800</td>\n",
              "      <td>41800</td>\n",
              "    </tr>\n",
              "    <tr>\n",
              "      <th>16</th>\n",
              "      <td>1916</td>\n",
              "      <td>11200</td>\n",
              "      <td>29700</td>\n",
              "      <td>36700</td>\n",
              "    </tr>\n",
              "    <tr>\n",
              "      <th>18</th>\n",
              "      <td>1918</td>\n",
              "      <td>14600</td>\n",
              "      <td>9700</td>\n",
              "      <td>43300</td>\n",
              "    </tr>\n",
              "    <tr>\n",
              "      <th>19</th>\n",
              "      <td>1919</td>\n",
              "      <td>16200</td>\n",
              "      <td>10100</td>\n",
              "      <td>41300</td>\n",
              "    </tr>\n",
              "    <tr>\n",
              "      <th>6</th>\n",
              "      <td>1906</td>\n",
              "      <td>18100</td>\n",
              "      <td>19000</td>\n",
              "      <td>38600</td>\n",
              "    </tr>\n",
              "    <tr>\n",
              "      <th>15</th>\n",
              "      <td>1915</td>\n",
              "      <td>19500</td>\n",
              "      <td>51100</td>\n",
              "      <td>39000</td>\n",
              "    </tr>\n",
              "    <tr>\n",
              "      <th>5</th>\n",
              "      <td>1905</td>\n",
              "      <td>20600</td>\n",
              "      <td>41700</td>\n",
              "      <td>39800</td>\n",
              "    </tr>\n",
              "    <tr>\n",
              "      <th>7</th>\n",
              "      <td>1907</td>\n",
              "      <td>21400</td>\n",
              "      <td>13000</td>\n",
              "      <td>42300</td>\n",
              "    </tr>\n",
              "    <tr>\n",
              "      <th>8</th>\n",
              "      <td>1908</td>\n",
              "      <td>22000</td>\n",
              "      <td>8300</td>\n",
              "      <td>44500</td>\n",
              "    </tr>\n",
              "    <tr>\n",
              "      <th>20</th>\n",
              "      <td>1920</td>\n",
              "      <td>24700</td>\n",
              "      <td>8600</td>\n",
              "      <td>47300</td>\n",
              "    </tr>\n",
              "    <tr>\n",
              "      <th>9</th>\n",
              "      <td>1909</td>\n",
              "      <td>25400</td>\n",
              "      <td>9100</td>\n",
              "      <td>42100</td>\n",
              "    </tr>\n",
              "    <tr>\n",
              "      <th>10</th>\n",
              "      <td>1910</td>\n",
              "      <td>27100</td>\n",
              "      <td>7400</td>\n",
              "      <td>46000</td>\n",
              "    </tr>\n",
              "    <tr>\n",
              "      <th>0</th>\n",
              "      <td>1900</td>\n",
              "      <td>30000</td>\n",
              "      <td>4000</td>\n",
              "      <td>48300</td>\n",
              "    </tr>\n",
              "    <tr>\n",
              "      <th>4</th>\n",
              "      <td>1904</td>\n",
              "      <td>36300</td>\n",
              "      <td>59400</td>\n",
              "      <td>40600</td>\n",
              "    </tr>\n",
              "    <tr>\n",
              "      <th>11</th>\n",
              "      <td>1911</td>\n",
              "      <td>40300</td>\n",
              "      <td>8000</td>\n",
              "      <td>46800</td>\n",
              "    </tr>\n",
              "    <tr>\n",
              "      <th>1</th>\n",
              "      <td>1901</td>\n",
              "      <td>47200</td>\n",
              "      <td>6100</td>\n",
              "      <td>48200</td>\n",
              "    </tr>\n",
              "    <tr>\n",
              "      <th>14</th>\n",
              "      <td>1914</td>\n",
              "      <td>52300</td>\n",
              "      <td>45700</td>\n",
              "      <td>39400</td>\n",
              "    </tr>\n",
              "    <tr>\n",
              "      <th>12</th>\n",
              "      <td>1912</td>\n",
              "      <td>57000</td>\n",
              "      <td>12300</td>\n",
              "      <td>43800</td>\n",
              "    </tr>\n",
              "    <tr>\n",
              "      <th>2</th>\n",
              "      <td>1902</td>\n",
              "      <td>70200</td>\n",
              "      <td>9800</td>\n",
              "      <td>41500</td>\n",
              "    </tr>\n",
              "    <tr>\n",
              "      <th>13</th>\n",
              "      <td>1913</td>\n",
              "      <td>76600</td>\n",
              "      <td>19500</td>\n",
              "      <td>40900</td>\n",
              "    </tr>\n",
              "    <tr>\n",
              "      <th>3</th>\n",
              "      <td>1903</td>\n",
              "      <td>77400</td>\n",
              "      <td>35200</td>\n",
              "      <td>38200</td>\n",
              "    </tr>\n",
              "  </tbody>\n",
              "</table>\n",
              "</div>\n",
              "      <button class=\"colab-df-convert\" onclick=\"convertToInteractive('df-b4d79b8f-b35e-4a66-8c50-29f1f660e502')\"\n",
              "              title=\"Convert this dataframe to an interactive table.\"\n",
              "              style=\"display:none;\">\n",
              "        \n",
              "  <svg xmlns=\"http://www.w3.org/2000/svg\" height=\"24px\"viewBox=\"0 0 24 24\"\n",
              "       width=\"24px\">\n",
              "    <path d=\"M0 0h24v24H0V0z\" fill=\"none\"/>\n",
              "    <path d=\"M18.56 5.44l.94 2.06.94-2.06 2.06-.94-2.06-.94-.94-2.06-.94 2.06-2.06.94zm-11 1L8.5 8.5l.94-2.06 2.06-.94-2.06-.94L8.5 2.5l-.94 2.06-2.06.94zm10 10l.94 2.06.94-2.06 2.06-.94-2.06-.94-.94-2.06-.94 2.06-2.06.94z\"/><path d=\"M17.41 7.96l-1.37-1.37c-.4-.4-.92-.59-1.43-.59-.52 0-1.04.2-1.43.59L10.3 9.45l-7.72 7.72c-.78.78-.78 2.05 0 2.83L4 21.41c.39.39.9.59 1.41.59.51 0 1.02-.2 1.41-.59l7.78-7.78 2.81-2.81c.8-.78.8-2.07 0-2.86zM5.41 20L4 18.59l7.72-7.72 1.47 1.35L5.41 20z\"/>\n",
              "  </svg>\n",
              "      </button>\n",
              "      \n",
              "  <style>\n",
              "    .colab-df-container {\n",
              "      display:flex;\n",
              "      flex-wrap:wrap;\n",
              "      gap: 12px;\n",
              "    }\n",
              "\n",
              "    .colab-df-convert {\n",
              "      background-color: #E8F0FE;\n",
              "      border: none;\n",
              "      border-radius: 50%;\n",
              "      cursor: pointer;\n",
              "      display: none;\n",
              "      fill: #1967D2;\n",
              "      height: 32px;\n",
              "      padding: 0 0 0 0;\n",
              "      width: 32px;\n",
              "    }\n",
              "\n",
              "    .colab-df-convert:hover {\n",
              "      background-color: #E2EBFA;\n",
              "      box-shadow: 0px 1px 2px rgba(60, 64, 67, 0.3), 0px 1px 3px 1px rgba(60, 64, 67, 0.15);\n",
              "      fill: #174EA6;\n",
              "    }\n",
              "\n",
              "    [theme=dark] .colab-df-convert {\n",
              "      background-color: #3B4455;\n",
              "      fill: #D2E3FC;\n",
              "    }\n",
              "\n",
              "    [theme=dark] .colab-df-convert:hover {\n",
              "      background-color: #434B5C;\n",
              "      box-shadow: 0px 1px 3px 1px rgba(0, 0, 0, 0.15);\n",
              "      filter: drop-shadow(0px 1px 2px rgba(0, 0, 0, 0.3));\n",
              "      fill: #FFFFFF;\n",
              "    }\n",
              "  </style>\n",
              "\n",
              "      <script>\n",
              "        const buttonEl =\n",
              "          document.querySelector('#df-b4d79b8f-b35e-4a66-8c50-29f1f660e502 button.colab-df-convert');\n",
              "        buttonEl.style.display =\n",
              "          google.colab.kernel.accessAllowed ? 'block' : 'none';\n",
              "\n",
              "        async function convertToInteractive(key) {\n",
              "          const element = document.querySelector('#df-b4d79b8f-b35e-4a66-8c50-29f1f660e502');\n",
              "          const dataTable =\n",
              "            await google.colab.kernel.invokeFunction('convertToInteractive',\n",
              "                                                     [key], {});\n",
              "          if (!dataTable) return;\n",
              "\n",
              "          const docLinkHtml = 'Like what you see? Visit the ' +\n",
              "            '<a target=\"_blank\" href=https://colab.research.google.com/notebooks/data_table.ipynb>data table notebook</a>'\n",
              "            + ' to learn more about interactive tables.';\n",
              "          element.innerHTML = '';\n",
              "          dataTable['output_type'] = 'display_data';\n",
              "          await google.colab.output.renderOutput(dataTable, element);\n",
              "          const docLink = document.createElement('div');\n",
              "          docLink.innerHTML = docLinkHtml;\n",
              "          element.appendChild(docLink);\n",
              "        }\n",
              "      </script>\n",
              "    </div>\n",
              "  </div>\n",
              "  "
            ],
            "text/plain": [
              "    year   hare   lynx  carrot\n",
              "17  1917   7600  15800   41800\n",
              "16  1916  11200  29700   36700\n",
              "18  1918  14600   9700   43300\n",
              "19  1919  16200  10100   41300\n",
              "6   1906  18100  19000   38600\n",
              "15  1915  19500  51100   39000\n",
              "5   1905  20600  41700   39800\n",
              "7   1907  21400  13000   42300\n",
              "8   1908  22000   8300   44500\n",
              "20  1920  24700   8600   47300\n",
              "9   1909  25400   9100   42100\n",
              "10  1910  27100   7400   46000\n",
              "0   1900  30000   4000   48300\n",
              "4   1904  36300  59400   40600\n",
              "11  1911  40300   8000   46800\n",
              "1   1901  47200   6100   48200\n",
              "14  1914  52300  45700   39400\n",
              "12  1912  57000  12300   43800\n",
              "2   1902  70200   9800   41500\n",
              "13  1913  76600  19500   40900\n",
              "3   1903  77400  35200   38200"
            ]
          },
          "metadata": {},
          "execution_count": 15
        }
      ]
    },
    {
      "cell_type": "markdown",
      "metadata": {
        "id": "6zNZ9dzT7y5a"
      },
      "source": [
        "#### More examples of accessing and manipulating data in dataframes:"
      ]
    },
    {
      "cell_type": "code",
      "metadata": {
        "colab": {
          "base_uri": "https://localhost:8080/"
        },
        "id": "W9r8ow2P7y5b",
        "outputId": "649ca271-8ed6-4333-fd03-14eb1ed323f4"
      },
      "source": [
        "# finding all instances when the population of hares is above 50k\n",
        "hare_above_50K = pop_df.hare > 50000\n",
        "print(hare_above_50K)\n",
        "print()\n",
        "print(pop_df[hare_above_50K])\n",
        "print()\n",
        "print(pop_df[hare_above_50K]['year'])"
      ],
      "execution_count": 16,
      "outputs": [
        {
          "output_type": "stream",
          "name": "stdout",
          "text": [
            "0     False\n",
            "1     False\n",
            "2      True\n",
            "3      True\n",
            "4     False\n",
            "5     False\n",
            "6     False\n",
            "7     False\n",
            "8     False\n",
            "9     False\n",
            "10    False\n",
            "11    False\n",
            "12     True\n",
            "13     True\n",
            "14     True\n",
            "15    False\n",
            "16    False\n",
            "17    False\n",
            "18    False\n",
            "19    False\n",
            "20    False\n",
            "Name: hare, dtype: bool\n",
            "\n",
            "    year   hare   lynx  carrot\n",
            "2   1902  70200   9800   41500\n",
            "3   1903  77400  35200   38200\n",
            "12  1912  57000  12300   43800\n",
            "13  1913  76600  19500   40900\n",
            "14  1914  52300  45700   39400\n",
            "\n",
            "2     1902\n",
            "3     1903\n",
            "12    1912\n",
            "13    1913\n",
            "14    1914\n",
            "Name: year, dtype: int64\n"
          ]
        }
      ]
    },
    {
      "cell_type": "code",
      "metadata": {
        "colab": {
          "base_uri": "https://localhost:8080/"
        },
        "id": "_HbGQiH57y5b",
        "outputId": "d2813c3b-fb64-4d3f-9527-426d5bc4b506"
      },
      "source": [
        "# To combine numpy logical masks, we can use & and |.\n",
        "\n",
        "# finding all instances when the population of one of the animal species is above 50k\n",
        "above_50K = (pop_df[\"hare\"]>50000) | (pop_df[\"lynx\"]>50000)\n",
        "print(pop_df[above_50K])\n",
        "print()\n",
        "print(pop_df[hare_above_50K]['year'])"
      ],
      "execution_count": 17,
      "outputs": [
        {
          "output_type": "stream",
          "name": "stdout",
          "text": [
            "    year   hare   lynx  carrot\n",
            "2   1902  70200   9800   41500\n",
            "3   1903  77400  35200   38200\n",
            "4   1904  36300  59400   40600\n",
            "12  1912  57000  12300   43800\n",
            "13  1913  76600  19500   40900\n",
            "14  1914  52300  45700   39400\n",
            "15  1915  19500  51100   39000\n",
            "\n",
            "2     1902\n",
            "3     1903\n",
            "12    1912\n",
            "13    1913\n",
            "14    1914\n",
            "Name: year, dtype: int64\n"
          ]
        }
      ]
    },
    {
      "cell_type": "code",
      "metadata": {
        "colab": {
          "base_uri": "https://localhost:8080/",
          "height": 238
        },
        "id": "0hFxGms67y5b",
        "outputId": "b9d6d07f-34d6-4a3a-83af-675d3b78c2ad"
      },
      "source": [
        "# Dropping columns\n",
        "pop2 = pop_df.drop(\"year\", axis=1)\n",
        "\n",
        "# We can also drop rows by id\n",
        "pop2 = pop2.drop(0, axis=0)\n",
        "\n",
        "# or we can drop rows using a mask\n",
        "mask = pop2['carrot'] < 40000\n",
        "pop2 = pop2[mask]\n",
        "\n",
        "pop2"
      ],
      "execution_count": 18,
      "outputs": [
        {
          "output_type": "execute_result",
          "data": {
            "text/html": [
              "\n",
              "  <div id=\"df-a042f3fd-9adf-4d60-b880-6b8efcf44026\">\n",
              "    <div class=\"colab-df-container\">\n",
              "      <div>\n",
              "<style scoped>\n",
              "    .dataframe tbody tr th:only-of-type {\n",
              "        vertical-align: middle;\n",
              "    }\n",
              "\n",
              "    .dataframe tbody tr th {\n",
              "        vertical-align: top;\n",
              "    }\n",
              "\n",
              "    .dataframe thead th {\n",
              "        text-align: right;\n",
              "    }\n",
              "</style>\n",
              "<table border=\"1\" class=\"dataframe\">\n",
              "  <thead>\n",
              "    <tr style=\"text-align: right;\">\n",
              "      <th></th>\n",
              "      <th>hare</th>\n",
              "      <th>lynx</th>\n",
              "      <th>carrot</th>\n",
              "    </tr>\n",
              "  </thead>\n",
              "  <tbody>\n",
              "    <tr>\n",
              "      <th>3</th>\n",
              "      <td>77400</td>\n",
              "      <td>35200</td>\n",
              "      <td>38200</td>\n",
              "    </tr>\n",
              "    <tr>\n",
              "      <th>5</th>\n",
              "      <td>20600</td>\n",
              "      <td>41700</td>\n",
              "      <td>39800</td>\n",
              "    </tr>\n",
              "    <tr>\n",
              "      <th>6</th>\n",
              "      <td>18100</td>\n",
              "      <td>19000</td>\n",
              "      <td>38600</td>\n",
              "    </tr>\n",
              "    <tr>\n",
              "      <th>14</th>\n",
              "      <td>52300</td>\n",
              "      <td>45700</td>\n",
              "      <td>39400</td>\n",
              "    </tr>\n",
              "    <tr>\n",
              "      <th>15</th>\n",
              "      <td>19500</td>\n",
              "      <td>51100</td>\n",
              "      <td>39000</td>\n",
              "    </tr>\n",
              "    <tr>\n",
              "      <th>16</th>\n",
              "      <td>11200</td>\n",
              "      <td>29700</td>\n",
              "      <td>36700</td>\n",
              "    </tr>\n",
              "  </tbody>\n",
              "</table>\n",
              "</div>\n",
              "      <button class=\"colab-df-convert\" onclick=\"convertToInteractive('df-a042f3fd-9adf-4d60-b880-6b8efcf44026')\"\n",
              "              title=\"Convert this dataframe to an interactive table.\"\n",
              "              style=\"display:none;\">\n",
              "        \n",
              "  <svg xmlns=\"http://www.w3.org/2000/svg\" height=\"24px\"viewBox=\"0 0 24 24\"\n",
              "       width=\"24px\">\n",
              "    <path d=\"M0 0h24v24H0V0z\" fill=\"none\"/>\n",
              "    <path d=\"M18.56 5.44l.94 2.06.94-2.06 2.06-.94-2.06-.94-.94-2.06-.94 2.06-2.06.94zm-11 1L8.5 8.5l.94-2.06 2.06-.94-2.06-.94L8.5 2.5l-.94 2.06-2.06.94zm10 10l.94 2.06.94-2.06 2.06-.94-2.06-.94-.94-2.06-.94 2.06-2.06.94z\"/><path d=\"M17.41 7.96l-1.37-1.37c-.4-.4-.92-.59-1.43-.59-.52 0-1.04.2-1.43.59L10.3 9.45l-7.72 7.72c-.78.78-.78 2.05 0 2.83L4 21.41c.39.39.9.59 1.41.59.51 0 1.02-.2 1.41-.59l7.78-7.78 2.81-2.81c.8-.78.8-2.07 0-2.86zM5.41 20L4 18.59l7.72-7.72 1.47 1.35L5.41 20z\"/>\n",
              "  </svg>\n",
              "      </button>\n",
              "      \n",
              "  <style>\n",
              "    .colab-df-container {\n",
              "      display:flex;\n",
              "      flex-wrap:wrap;\n",
              "      gap: 12px;\n",
              "    }\n",
              "\n",
              "    .colab-df-convert {\n",
              "      background-color: #E8F0FE;\n",
              "      border: none;\n",
              "      border-radius: 50%;\n",
              "      cursor: pointer;\n",
              "      display: none;\n",
              "      fill: #1967D2;\n",
              "      height: 32px;\n",
              "      padding: 0 0 0 0;\n",
              "      width: 32px;\n",
              "    }\n",
              "\n",
              "    .colab-df-convert:hover {\n",
              "      background-color: #E2EBFA;\n",
              "      box-shadow: 0px 1px 2px rgba(60, 64, 67, 0.3), 0px 1px 3px 1px rgba(60, 64, 67, 0.15);\n",
              "      fill: #174EA6;\n",
              "    }\n",
              "\n",
              "    [theme=dark] .colab-df-convert {\n",
              "      background-color: #3B4455;\n",
              "      fill: #D2E3FC;\n",
              "    }\n",
              "\n",
              "    [theme=dark] .colab-df-convert:hover {\n",
              "      background-color: #434B5C;\n",
              "      box-shadow: 0px 1px 3px 1px rgba(0, 0, 0, 0.15);\n",
              "      filter: drop-shadow(0px 1px 2px rgba(0, 0, 0, 0.3));\n",
              "      fill: #FFFFFF;\n",
              "    }\n",
              "  </style>\n",
              "\n",
              "      <script>\n",
              "        const buttonEl =\n",
              "          document.querySelector('#df-a042f3fd-9adf-4d60-b880-6b8efcf44026 button.colab-df-convert');\n",
              "        buttonEl.style.display =\n",
              "          google.colab.kernel.accessAllowed ? 'block' : 'none';\n",
              "\n",
              "        async function convertToInteractive(key) {\n",
              "          const element = document.querySelector('#df-a042f3fd-9adf-4d60-b880-6b8efcf44026');\n",
              "          const dataTable =\n",
              "            await google.colab.kernel.invokeFunction('convertToInteractive',\n",
              "                                                     [key], {});\n",
              "          if (!dataTable) return;\n",
              "\n",
              "          const docLinkHtml = 'Like what you see? Visit the ' +\n",
              "            '<a target=\"_blank\" href=https://colab.research.google.com/notebooks/data_table.ipynb>data table notebook</a>'\n",
              "            + ' to learn more about interactive tables.';\n",
              "          element.innerHTML = '';\n",
              "          dataTable['output_type'] = 'display_data';\n",
              "          await google.colab.output.renderOutput(dataTable, element);\n",
              "          const docLink = document.createElement('div');\n",
              "          docLink.innerHTML = docLinkHtml;\n",
              "          element.appendChild(docLink);\n",
              "        }\n",
              "      </script>\n",
              "    </div>\n",
              "  </div>\n",
              "  "
            ],
            "text/plain": [
              "     hare   lynx  carrot\n",
              "3   77400  35200   38200\n",
              "5   20600  41700   39800\n",
              "6   18100  19000   38600\n",
              "14  52300  45700   39400\n",
              "15  19500  51100   39000\n",
              "16  11200  29700   36700"
            ]
          },
          "metadata": {},
          "execution_count": 18
        }
      ]
    },
    {
      "cell_type": "markdown",
      "metadata": {
        "id": "OxbxuTIK7y5b"
      },
      "source": [
        "#### When necessary, we can convert a dataframe (or a series) into a Numpy array:"
      ]
    },
    {
      "cell_type": "code",
      "metadata": {
        "colab": {
          "base_uri": "https://localhost:8080/"
        },
        "id": "GwLtM8Jo7y5b",
        "outputId": "81d01a69-e7c8-4f50-8e8c-d91667300eeb"
      },
      "source": [
        "poptable = pop2.values\n",
        "poptable"
      ],
      "execution_count": 19,
      "outputs": [
        {
          "output_type": "execute_result",
          "data": {
            "text/plain": [
              "array([[77400, 35200, 38200],\n",
              "       [20600, 41700, 39800],\n",
              "       [18100, 19000, 38600],\n",
              "       [52300, 45700, 39400],\n",
              "       [19500, 51100, 39000],\n",
              "       [11200, 29700, 36700]])"
            ]
          },
          "metadata": {},
          "execution_count": 19
        }
      ]
    },
    {
      "cell_type": "markdown",
      "metadata": {
        "id": "jM5IO8767y5c"
      },
      "source": [
        "## Examples of basic visualization using Pandas and with Matplotlib:"
      ]
    },
    {
      "cell_type": "code",
      "metadata": {
        "id": "YdzAIJbm7y5c"
      },
      "source": [
        "import matplotlib.pyplot as plt"
      ],
      "execution_count": 20,
      "outputs": []
    },
    {
      "cell_type": "code",
      "metadata": {
        "colab": {
          "base_uri": "https://localhost:8080/",
          "height": 267
        },
        "id": "kimrq0a97y5c",
        "outputId": "b60aa591-a497-4e1b-e096-f5655d5f83c3"
      },
      "source": [
        "plt.plot(pop_df[\"year\"], pop_df[\"hare\"])\n",
        "plt.show()"
      ],
      "execution_count": 21,
      "outputs": [
        {
          "output_type": "display_data",
          "data": {
            "image/png": "[encoded data removed]",
            "text/plain": [
              "<Figure size 432x288 with 1 Axes>"
            ]
          },
          "metadata": {
            "needs_background": "light"
          }
        }
      ]
    },
    {
      "cell_type": "code",
      "metadata": {
        "colab": {
          "base_uri": "https://localhost:8080/",
          "height": 545
        },
        "id": "Zj3zFGbtIDNW",
        "outputId": "dd396586-40bb-4d85-a7a7-97c8b1c64a35"
      },
      "source": [
        "# Note that tick labels are floats by default.\n",
        "# For nicer looking labels:\n",
        "\n",
        "# Option 1 - force labels to be integers\n",
        "plt.plot(pop_df[\"year\"], pop_df[\"hare\"])\n",
        "ax = plt.gca()\n",
        "ax.locator_params(integer=True)\n",
        "plt.title('Option 1')\n",
        "\n",
        "# Option 2 - cast years to dates and then format as string\n",
        "years = pd.to_datetime(pop_df[\"year\"].astype(str), format=\"%Y\")\n",
        "plt.figure()\n",
        "plt.plot(years, pop_df[\"hare\"])\n",
        "plt.title('Option 2')\n",
        "\n",
        "plt.show()"
      ],
      "execution_count": 22,
      "outputs": [
        {
          "output_type": "display_data",
          "data": {
            "image/png": "[encoded data removed]",
            "text/plain": [
              "<Figure size 432x288 with 1 Axes>"
            ]
          },
          "metadata": {
            "needs_background": "light"
          }
        },
        {
          "output_type": "display_data",
          "data": {
            "image/png": "[encoded data removed]",
            "text/plain": [
              "<Figure size 432x288 with 1 Axes>"
            ]
          },
          "metadata": {
            "needs_background": "light"
          }
        }
      ]
    },
    {
      "cell_type": "code",
      "metadata": {
        "colab": {
          "base_uri": "https://localhost:8080/",
          "height": 295
        },
        "id": "pLzxlCWD7y5c",
        "outputId": "4e7b825c-68ab-464b-dcbd-d7c802330d44"
      },
      "source": [
        "# We can plot multiple series\n",
        "years = pd.to_datetime(pop_df[\"year\"].astype(str), format=\"%Y\")\n",
        "plt.plot(years, pop_df[\"hare\"], label='Hares')\n",
        "plt.plot(years, pop_df[\"lynx\"], label='Lynxes')\n",
        "plt.plot(years, pop_df[\"carrot\"], label='Carrots')\n",
        "plt.legend()\n",
        "plt.ylabel('Population')\n",
        "plt.xlabel('Year')\n",
        "plt.title('Population of Hares, Lynxes, and Carrots over time')\n",
        "plt.show()"
      ],
      "execution_count": 23,
      "outputs": [
        {
          "output_type": "display_data",
          "data": {
            "image/png": "[encoded data removed]",
            "text/plain": [
              "<Figure size 432x288 with 1 Axes>"
            ]
          },
          "metadata": {
            "needs_background": "light"
          }
        }
      ]
    },
    {
      "cell_type": "code",
      "metadata": {
        "colab": {
          "base_uri": "https://localhost:8080/",
          "height": 295
        },
        "id": "Ey4Bqix37y5c",
        "outputId": "42661565-23ed-4109-8d74-666c31daab62"
      },
      "source": [
        "# We can easily plot histograms.\n",
        "# Pandas dataframes include plotting functions that wrap matplotlib functions.\n",
        "\n",
        "# plt.hist(pop_df[\"carrot\"], bins=8, alpha=0.5)\n",
        "pop_df.hist(column=['carrot'], bins=8, alpha=0.5)\n",
        "\n",
        "plt.xlabel('Carrots')\n",
        "plt.ylabel('Count')\n",
        "plt.title('Histogram of Carrot Populaions')\n",
        "\n",
        "# For ease of viewing, we can set the bounds of the x and y axes\n",
        "plt.axis([36000, 49000, 0, 6])\n",
        "plt.grid(True)"
      ],
      "execution_count": 24,
      "outputs": [
        {
          "output_type": "display_data",
          "data": {
            "image/png": "[encoded data removed]",
            "text/plain": [
              "<Figure size 432x288 with 1 Axes>"
            ]
          },
          "metadata": {
            "needs_background": "light"
          }
        }
      ]
    },
    {
      "cell_type": "markdown",
      "metadata": {
        "id": "KfSwBVK87y5d"
      },
      "source": [
        "#### Pandas has its own versatile \"plot\" method that can handle most types of charts:"
      ]
    },
    {
      "cell_type": "code",
      "metadata": {
        "colab": {
          "base_uri": "https://localhost:8080/",
          "height": 295
        },
        "id": "jLSyU7H37y5d",
        "outputId": "96840875-94fe-466a-9c1e-6a3a16344883"
      },
      "source": [
        "pop_df.plot(x=\"year\", title=\"Populations\")\n",
        "plt.show()"
      ],
      "execution_count": 25,
      "outputs": [
        {
          "output_type": "display_data",
          "data": {
            "image/png": "[encoded data removed]",
            "text/plain": [
              "<Figure size 432x288 with 1 Axes>"
            ]
          },
          "metadata": {
            "needs_background": "light"
          }
        }
      ]
    },
    {
      "cell_type": "code",
      "metadata": {
        "colab": {
          "base_uri": "https://localhost:8080/",
          "height": 279
        },
        "id": "kotoEqfX7y5d",
        "outputId": "3a769049-bdb3-4314-9670-4ec784409358"
      },
      "source": [
        "fig = plt.figure(figsize=(10,4))\n",
        "ax = fig.add_subplot(111)\n",
        "pop_df.plot(x=\"hare\", y=\"lynx\", kind=\"scatter\", c='r', alpha=0.7, label='lynx', ax=ax)\n",
        "plt.ylabel('Lynx Population')\n",
        "plt.xlabel('Hare Population')\n",
        "plt.legend()\n",
        "plt.show()"
      ],
      "execution_count": 26,
      "outputs": [
        {
          "output_type": "display_data",
          "data": {
            "image/png": "[encoded data removed]",
            "text/plain": [
              "<Figure size 720x288 with 1 Axes>"
            ]
          },
          "metadata": {
            "needs_background": "light"
          }
        }
      ]
    },
    {
      "cell_type": "code",
      "metadata": {
        "colab": {
          "base_uri": "https://localhost:8080/",
          "height": 266
        },
        "id": "ojsSPTaK7y5d",
        "outputId": "d31967ea-179d-4f61-c48b-061d30b10f82"
      },
      "source": [
        "pop_df.boxplot(column=[\"hare\",\"lynx\",\"carrot\"])\n",
        "plt.show()"
      ],
      "execution_count": 27,
      "outputs": [
        {
          "output_type": "display_data",
          "data": {
            "image/png": "[encoded data removed]",
            "text/plain": [
              "<Figure size 432x288 with 1 Axes>"
            ]
          },
          "metadata": {
            "needs_background": "light"
          }
        }
      ]
    },
    {
      "cell_type": "markdown",
      "metadata": {
        "id": "_b5pgFPy7y5e"
      },
      "source": [
        "## We can add new columns to a dataframe"
      ]
    },
    {
      "cell_type": "code",
      "metadata": {
        "colab": {
          "base_uri": "https://localhost:8080/"
        },
        "id": "RC1af13c7y5e",
        "outputId": "22a5a74f-178b-4035-d22a-715bcf5ae04c"
      },
      "source": [
        "num_rows = pop_df.shape[0]\n",
        "fox_col = np.random.randint(low=5000, high=20000, size=num_rows)\n",
        "fox_col"
      ],
      "execution_count": 28,
      "outputs": [
        {
          "output_type": "execute_result",
          "data": {
            "text/plain": [
              "array([ 7523, 12754,  6211, 15879, 19384, 17613, 13656,  7447, 13028,\n",
              "        5064, 18851, 15906, 13163, 12652, 13799, 15874, 10897,  8705,\n",
              "       17308, 19406,  9264])"
            ]
          },
          "metadata": {},
          "execution_count": 28
        }
      ]
    },
    {
      "cell_type": "code",
      "metadata": {
        "colab": {
          "base_uri": "https://localhost:8080/",
          "height": 708
        },
        "id": "97JVsZ-f7y5e",
        "outputId": "324d9b77-37bb-4de4-c72c-8d85982b723c"
      },
      "source": [
        "pop_df[\"fox\"] = pd.Series(fox_col)\n",
        "pop_df"
      ],
      "execution_count": 29,
      "outputs": [
        {
          "output_type": "execute_result",
          "data": {
            "text/html": [
              "\n",
              "  <div id=\"df-de430e05-e9fb-478e-94a9-43100bd21414\">\n",
              "    <div class=\"colab-df-container\">\n",
              "      <div>\n",
              "<style scoped>\n",
              "    .dataframe tbody tr th:only-of-type {\n",
              "        vertical-align: middle;\n",
              "    }\n",
              "\n",
              "    .dataframe tbody tr th {\n",
              "        vertical-align: top;\n",
              "    }\n",
              "\n",
              "    .dataframe thead th {\n",
              "        text-align: right;\n",
              "    }\n",
              "</style>\n",
              "<table border=\"1\" class=\"dataframe\">\n",
              "  <thead>\n",
              "    <tr style=\"text-align: right;\">\n",
              "      <th></th>\n",
              "      <th>year</th>\n",
              "      <th>hare</th>\n",
              "      <th>lynx</th>\n",
              "      <th>carrot</th>\n",
              "      <th>fox</th>\n",
              "    </tr>\n",
              "  </thead>\n",
              "  <tbody>\n",
              "    <tr>\n",
              "      <th>0</th>\n",
              "      <td>1900</td>\n",
              "      <td>30000</td>\n",
              "      <td>4000</td>\n",
              "      <td>48300</td>\n",
              "      <td>7523</td>\n",
              "    </tr>\n",
              "    <tr>\n",
              "      <th>1</th>\n",
              "      <td>1901</td>\n",
              "      <td>47200</td>\n",
              "      <td>6100</td>\n",
              "      <td>48200</td>\n",
              "      <td>12754</td>\n",
              "    </tr>\n",
              "    <tr>\n",
              "      <th>2</th>\n",
              "      <td>1902</td>\n",
              "      <td>70200</td>\n",
              "      <td>9800</td>\n",
              "      <td>41500</td>\n",
              "      <td>6211</td>\n",
              "    </tr>\n",
              "    <tr>\n",
              "      <th>3</th>\n",
              "      <td>1903</td>\n",
              "      <td>77400</td>\n",
              "      <td>35200</td>\n",
              "      <td>38200</td>\n",
              "      <td>15879</td>\n",
              "    </tr>\n",
              "    <tr>\n",
              "      <th>4</th>\n",
              "      <td>1904</td>\n",
              "      <td>36300</td>\n",
              "      <td>59400</td>\n",
              "      <td>40600</td>\n",
              "      <td>19384</td>\n",
              "    </tr>\n",
              "    <tr>\n",
              "      <th>5</th>\n",
              "      <td>1905</td>\n",
              "      <td>20600</td>\n",
              "      <td>41700</td>\n",
              "      <td>39800</td>\n",
              "      <td>17613</td>\n",
              "    </tr>\n",
              "    <tr>\n",
              "      <th>6</th>\n",
              "      <td>1906</td>\n",
              "      <td>18100</td>\n",
              "      <td>19000</td>\n",
              "      <td>38600</td>\n",
              "      <td>13656</td>\n",
              "    </tr>\n",
              "    <tr>\n",
              "      <th>7</th>\n",
              "      <td>1907</td>\n",
              "      <td>21400</td>\n",
              "      <td>13000</td>\n",
              "      <td>42300</td>\n",
              "      <td>7447</td>\n",
              "    </tr>\n",
              "    <tr>\n",
              "      <th>8</th>\n",
              "      <td>1908</td>\n",
              "      <td>22000</td>\n",
              "      <td>8300</td>\n",
              "      <td>44500</td>\n",
              "      <td>13028</td>\n",
              "    </tr>\n",
              "    <tr>\n",
              "      <th>9</th>\n",
              "      <td>1909</td>\n",
              "      <td>25400</td>\n",
              "      <td>9100</td>\n",
              "      <td>42100</td>\n",
              "      <td>5064</td>\n",
              "    </tr>\n",
              "    <tr>\n",
              "      <th>10</th>\n",
              "      <td>1910</td>\n",
              "      <td>27100</td>\n",
              "      <td>7400</td>\n",
              "      <td>46000</td>\n",
              "      <td>18851</td>\n",
              "    </tr>\n",
              "    <tr>\n",
              "      <th>11</th>\n",
              "      <td>1911</td>\n",
              "      <td>40300</td>\n",
              "      <td>8000</td>\n",
              "      <td>46800</td>\n",
              "      <td>15906</td>\n",
              "    </tr>\n",
              "    <tr>\n",
              "      <th>12</th>\n",
              "      <td>1912</td>\n",
              "      <td>57000</td>\n",
              "      <td>12300</td>\n",
              "      <td>43800</td>\n",
              "      <td>13163</td>\n",
              "    </tr>\n",
              "    <tr>\n",
              "      <th>13</th>\n",
              "      <td>1913</td>\n",
              "      <td>76600</td>\n",
              "      <td>19500</td>\n",
              "      <td>40900</td>\n",
              "      <td>12652</td>\n",
              "    </tr>\n",
              "    <tr>\n",
              "      <th>14</th>\n",
              "      <td>1914</td>\n",
              "      <td>52300</td>\n",
              "      <td>45700</td>\n",
              "      <td>39400</td>\n",
              "      <td>13799</td>\n",
              "    </tr>\n",
              "    <tr>\n",
              "      <th>15</th>\n",
              "      <td>1915</td>\n",
              "      <td>19500</td>\n",
              "      <td>51100</td>\n",
              "      <td>39000</td>\n",
              "      <td>15874</td>\n",
              "    </tr>\n",
              "    <tr>\n",
              "      <th>16</th>\n",
              "      <td>1916</td>\n",
              "      <td>11200</td>\n",
              "      <td>29700</td>\n",
              "      <td>36700</td>\n",
              "      <td>10897</td>\n",
              "    </tr>\n",
              "    <tr>\n",
              "      <th>17</th>\n",
              "      <td>1917</td>\n",
              "      <td>7600</td>\n",
              "      <td>15800</td>\n",
              "      <td>41800</td>\n",
              "      <td>8705</td>\n",
              "    </tr>\n",
              "    <tr>\n",
              "      <th>18</th>\n",
              "      <td>1918</td>\n",
              "      <td>14600</td>\n",
              "      <td>9700</td>\n",
              "      <td>43300</td>\n",
              "      <td>17308</td>\n",
              "    </tr>\n",
              "    <tr>\n",
              "      <th>19</th>\n",
              "      <td>1919</td>\n",
              "      <td>16200</td>\n",
              "      <td>10100</td>\n",
              "      <td>41300</td>\n",
              "      <td>19406</td>\n",
              "    </tr>\n",
              "    <tr>\n",
              "      <th>20</th>\n",
              "      <td>1920</td>\n",
              "      <td>24700</td>\n",
              "      <td>8600</td>\n",
              "      <td>47300</td>\n",
              "      <td>9264</td>\n",
              "    </tr>\n",
              "  </tbody>\n",
              "</table>\n",
              "</div>\n",
              "      <button class=\"colab-df-convert\" onclick=\"convertToInteractive('df-de430e05-e9fb-478e-94a9-43100bd21414')\"\n",
              "              title=\"Convert this dataframe to an interactive table.\"\n",
              "              style=\"display:none;\">\n",
              "        \n",
              "  <svg xmlns=\"http://www.w3.org/2000/svg\" height=\"24px\"viewBox=\"0 0 24 24\"\n",
              "       width=\"24px\">\n",
              "    <path d=\"M0 0h24v24H0V0z\" fill=\"none\"/>\n",
              "    <path d=\"M18.56 5.44l.94 2.06.94-2.06 2.06-.94-2.06-.94-.94-2.06-.94 2.06-2.06.94zm-11 1L8.5 8.5l.94-2.06 2.06-.94-2.06-.94L8.5 2.5l-.94 2.06-2.06.94zm10 10l.94 2.06.94-2.06 2.06-.94-2.06-.94-.94-2.06-.94 2.06-2.06.94z\"/><path d=\"M17.41 7.96l-1.37-1.37c-.4-.4-.92-.59-1.43-.59-.52 0-1.04.2-1.43.59L10.3 9.45l-7.72 7.72c-.78.78-.78 2.05 0 2.83L4 21.41c.39.39.9.59 1.41.59.51 0 1.02-.2 1.41-.59l7.78-7.78 2.81-2.81c.8-.78.8-2.07 0-2.86zM5.41 20L4 18.59l7.72-7.72 1.47 1.35L5.41 20z\"/>\n",
              "  </svg>\n",
              "      </button>\n",
              "      \n",
              "  <style>\n",
              "    .colab-df-container {\n",
              "      display:flex;\n",
              "      flex-wrap:wrap;\n",
              "      gap: 12px;\n",
              "    }\n",
              "\n",
              "    .colab-df-convert {\n",
              "      background-color: #E8F0FE;\n",
              "      border: none;\n",
              "      border-radius: 50%;\n",
              "      cursor: pointer;\n",
              "      display: none;\n",
              "      fill: #1967D2;\n",
              "      height: 32px;\n",
              "      padding: 0 0 0 0;\n",
              "      width: 32px;\n",
              "    }\n",
              "\n",
              "    .colab-df-convert:hover {\n",
              "      background-color: #E2EBFA;\n",
              "      box-shadow: 0px 1px 2px rgba(60, 64, 67, 0.3), 0px 1px 3px 1px rgba(60, 64, 67, 0.15);\n",
              "      fill: #174EA6;\n",
              "    }\n",
              "\n",
              "    [theme=dark] .colab-df-convert {\n",
              "      background-color: #3B4455;\n",
              "      fill: #D2E3FC;\n",
              "    }\n",
              "\n",
              "    [theme=dark] .colab-df-convert:hover {\n",
              "      background-color: #434B5C;\n",
              "      box-shadow: 0px 1px 3px 1px rgba(0, 0, 0, 0.15);\n",
              "      filter: drop-shadow(0px 1px 2px rgba(0, 0, 0, 0.3));\n",
              "      fill: #FFFFFF;\n",
              "    }\n",
              "  </style>\n",
              "\n",
              "      <script>\n",
              "        const buttonEl =\n",
              "          document.querySelector('#df-de430e05-e9fb-478e-94a9-43100bd21414 button.colab-df-convert');\n",
              "        buttonEl.style.display =\n",
              "          google.colab.kernel.accessAllowed ? 'block' : 'none';\n",
              "\n",
              "        async function convertToInteractive(key) {\n",
              "          const element = document.querySelector('#df-de430e05-e9fb-478e-94a9-43100bd21414');\n",
              "          const dataTable =\n",
              "            await google.colab.kernel.invokeFunction('convertToInteractive',\n",
              "                                                     [key], {});\n",
              "          if (!dataTable) return;\n",
              "\n",
              "          const docLinkHtml = 'Like what you see? Visit the ' +\n",
              "            '<a target=\"_blank\" href=https://colab.research.google.com/notebooks/data_table.ipynb>data table notebook</a>'\n",
              "            + ' to learn more about interactive tables.';\n",
              "          element.innerHTML = '';\n",
              "          dataTable['output_type'] = 'display_data';\n",
              "          await google.colab.output.renderOutput(dataTable, element);\n",
              "          const docLink = document.createElement('div');\n",
              "          docLink.innerHTML = docLinkHtml;\n",
              "          element.appendChild(docLink);\n",
              "        }\n",
              "      </script>\n",
              "    </div>\n",
              "  </div>\n",
              "  "
            ],
            "text/plain": [
              "    year   hare   lynx  carrot    fox\n",
              "0   1900  30000   4000   48300   7523\n",
              "1   1901  47200   6100   48200  12754\n",
              "2   1902  70200   9800   41500   6211\n",
              "3   1903  77400  35200   38200  15879\n",
              "4   1904  36300  59400   40600  19384\n",
              "5   1905  20600  41700   39800  17613\n",
              "6   1906  18100  19000   38600  13656\n",
              "7   1907  21400  13000   42300   7447\n",
              "8   1908  22000   8300   44500  13028\n",
              "9   1909  25400   9100   42100   5064\n",
              "10  1910  27100   7400   46000  18851\n",
              "11  1911  40300   8000   46800  15906\n",
              "12  1912  57000  12300   43800  13163\n",
              "13  1913  76600  19500   40900  12652\n",
              "14  1914  52300  45700   39400  13799\n",
              "15  1915  19500  51100   39000  15874\n",
              "16  1916  11200  29700   36700  10897\n",
              "17  1917   7600  15800   41800   8705\n",
              "18  1918  14600   9700   43300  17308\n",
              "19  1919  16200  10100   41300  19406\n",
              "20  1920  24700   8600   47300   9264"
            ]
          },
          "metadata": {},
          "execution_count": 29
        }
      ]
    },
    {
      "cell_type": "code",
      "metadata": {
        "colab": {
          "base_uri": "https://localhost:8080/",
          "height": 295
        },
        "id": "F2jD9A1L7y5e",
        "outputId": "effe382f-17eb-40da-a3c3-84f82f813e75"
      },
      "source": [
        "pop_df.plot(x=\"year\", y=\"fox\", kind=\"area\", title=\"Fox Population\")\n",
        "plt.show()\n",
        "\n",
        "# Note that pandas includes a legend here by default.\n",
        "# We never want to include a legend with just one series.\n",
        "# Keep it from appearing by including legend=False\n",
        "# Or remove it after using matplotlib:\n",
        "# plt.gca().get_legend().remove()"
      ],
      "execution_count": 30,
      "outputs": [
        {
          "output_type": "display_data",
          "data": {
            "image/png": "[encoded data removed]",
            "text/plain": [
              "<Figure size 432x288 with 1 Axes>"
            ]
          },
          "metadata": {
            "needs_background": "light"
          }
        }
      ]
    },
    {
      "cell_type": "code",
      "metadata": {
        "colab": {
          "base_uri": "https://localhost:8080/",
          "height": 838
        },
        "id": "NNAx81VO7y5e",
        "outputId": "3624f5d5-f263-44ce-fe1c-ac51d5ce6cbe"
      },
      "source": [
        "pd.plotting.scatter_matrix(pop_df[[\"hare\",\"lynx\",\"carrot\"]],\n",
        "                           figsize=(14,14), \n",
        "                           hist_kwds={'bins':8}, \n",
        "                           alpha=.5, \n",
        "                           marker='o', \n",
        "                           s=50)\n",
        "plt.show()"
      ],
      "execution_count": 31,
      "outputs": [
        {
          "output_type": "display_data",
          "data": {
            "image/png": "[encoded data removed]",
            "text/plain": [
              "<Figure size 1008x1008 with 9 Axes>"
            ]
          },
          "metadata": {
            "needs_background": "light"
          }
        }
      ]
    },
    {
      "cell_type": "code",
      "metadata": {
        "id": "mcvSCaca7y5f"
      },
      "source": [
        ""
      ],
      "execution_count": 31,
      "outputs": []
    }
  ]
}